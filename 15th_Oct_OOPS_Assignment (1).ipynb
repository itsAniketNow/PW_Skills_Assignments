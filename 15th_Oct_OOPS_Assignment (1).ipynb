{
  "nbformat": 4,
  "nbformat_minor": 0,
  "metadata": {
    "colab": {
      "provenance": []
    },
    "kernelspec": {
      "name": "python3",
      "display_name": "Python 3"
    },
    "language_info": {
      "name": "python"
    }
  },
  "cells": [
    {
      "cell_type": "markdown",
      "source": [
        "# Constructor\n"
      ],
      "metadata": {
        "id": "LzpSgpyT5Jsg"
      }
    },
    {
      "cell_type": "markdown",
      "source": [
        "##1. What is a constructor in Python? Explain its purpose and usage."
      ],
      "metadata": {
        "id": "yb720H0S5Jr3"
      }
    },
    {
      "cell_type": "markdown",
      "source": [
        "A constructor in Python is a special method used for initializing the attributes of an object when it is created. It has the same name as the class and is invoked automatically when an object is instantiated. The purpose of a constructor is to set up the initial state of the object."
      ],
      "metadata": {
        "id": "pRaakLPW5Ihh"
      }
    },
    {
      "cell_type": "markdown",
      "source": [
        "##2. Differentiate between a parameterless constructor and a parameterized constructor in Python."
      ],
      "metadata": {
        "id": "YAXbP4Vm5XKm"
      }
    },
    {
      "cell_type": "markdown",
      "source": [
        "A parameterless constructor takes no parameters and is defined with the def __init__(self): syntax.\n",
        "A parameterized constructor takes parameters other than self and is used to initialize the object with specific values."
      ],
      "metadata": {
        "id": "pP3VnKOH5ctT"
      }
    },
    {
      "cell_type": "markdown",
      "source": [
        "##3. How do you define a constructor in a Python class? Provide an example."
      ],
      "metadata": {
        "id": "CoPNWdGl5ewX"
      }
    },
    {
      "cell_type": "code",
      "source": [
        "class MyClass:\n",
        "    def __init__(self):\n",
        "        print(\"This is a parameterless constructor.\")\n",
        "\n",
        "# Creating an object of the class invokes the constructor\n",
        "obj = MyClass()"
      ],
      "metadata": {
        "colab": {
          "base_uri": "https://localhost:8080/"
        },
        "id": "QBvTJ-185mlT",
        "outputId": "cfb97afa-4bf6-4bc7-f1bc-fba64fb2b887"
      },
      "execution_count": null,
      "outputs": [
        {
          "output_type": "stream",
          "name": "stdout",
          "text": [
            "This is a parameterless constructor.\n"
          ]
        }
      ]
    },
    {
      "cell_type": "markdown",
      "source": [
        "##4. Explain the `__init__` method in Python and its role in constructors."
      ],
      "metadata": {
        "id": "KfywebNU5v8a"
      }
    },
    {
      "cell_type": "markdown",
      "source": [
        "The __init__ method is a special method in Python classes that serves as the constructor. It is called automatically when an object is created and is used to initialize the object's attributes."
      ],
      "metadata": {
        "id": "obXnNCL-5v2p"
      }
    },
    {
      "cell_type": "markdown",
      "source": [
        "##5. In a class named `Person`, create a constructor that initializes the `name` and `age` attributes. Provide an example of creating an object of this class."
      ],
      "metadata": {
        "id": "wCfx_sLJ53u0"
      }
    },
    {
      "cell_type": "code",
      "source": [
        "class Person:\n",
        "    def __init__(self, name, age):\n",
        "        self.name = name\n",
        "        self.age = age\n",
        "\n",
        "# Creating an object of the class and initializing attributes\n",
        "person_obj = Person(\"John\", 25)\n",
        "person_obj"
      ],
      "metadata": {
        "colab": {
          "base_uri": "https://localhost:8080/"
        },
        "id": "KdjevWFX59JD",
        "outputId": "ebc673c1-12fb-4168-aa88-adc6b9daae19"
      },
      "execution_count": null,
      "outputs": [
        {
          "output_type": "execute_result",
          "data": {
            "text/plain": [
              "<__main__.Person at 0x7f1689f5ca90>"
            ]
          },
          "metadata": {},
          "execution_count": 4
        }
      ]
    },
    {
      "cell_type": "markdown",
      "source": [
        "##6. How can you call a constructor explicitly in Python? Give an example."
      ],
      "metadata": {
        "id": "_rj-avJB585M"
      }
    },
    {
      "cell_type": "markdown",
      "source": [
        "Constructors are called implicitly when an object is created. They are not typically called explicitly. However, you can use the class name to call the constructor."
      ],
      "metadata": {
        "id": "R6rDh_Ov57bc"
      }
    },
    {
      "cell_type": "code",
      "source": [
        "class MyClass:\n",
        "    def __init__(self):\n",
        "        print(\"Constructor called.\")\n",
        "\n",
        "# Calling the constructor explicitly\n",
        "obj = MyClass\n",
        "obj"
      ],
      "metadata": {
        "colab": {
          "base_uri": "https://localhost:8080/"
        },
        "id": "4Xw34wNI5osB",
        "outputId": "95523113-c773-43fd-9db0-95c457c6cb8e"
      },
      "execution_count": null,
      "outputs": [
        {
          "output_type": "execute_result",
          "data": {
            "text/plain": [
              "__main__.MyClass"
            ]
          },
          "metadata": {},
          "execution_count": 8
        }
      ]
    },
    {
      "cell_type": "markdown",
      "source": [
        "##7. What is the significance of the `self` parameter in Python constructors? Explain with an example."
      ],
      "metadata": {
        "id": "stg87b0z6boy"
      }
    },
    {
      "cell_type": "markdown",
      "source": [
        "The self parameter refers to the instance of the class and is used to access and modify instance variables. It must be the first parameter in the constructor"
      ],
      "metadata": {
        "id": "BAQC85Y16giJ"
      }
    },
    {
      "cell_type": "code",
      "source": [
        "class Person:\n",
        "    def __init__(self, name, age):\n",
        "        self.name = name\n",
        "        self.age = age\n",
        "\n",
        "person_obj = Person(\"John\", 25)\n",
        "print(person_obj.name)  # Accessing attribute using self"
      ],
      "metadata": {
        "colab": {
          "base_uri": "https://localhost:8080/"
        },
        "id": "lDi6Ul-96Hmb",
        "outputId": "8c979b53-8348-47cb-aeca-9a4698e42649"
      },
      "execution_count": null,
      "outputs": [
        {
          "output_type": "stream",
          "name": "stdout",
          "text": [
            "John\n"
          ]
        }
      ]
    },
    {
      "cell_type": "markdown",
      "source": [
        "##8. Discuss the concept of default constructors in Python. When are they used?"
      ],
      "metadata": {
        "id": "pr5wf92S6pkm"
      }
    },
    {
      "cell_type": "markdown",
      "source": [
        "In Python, constructors are not mandatory. If a class does not have a constructor, Python provides a default constructor that takes no parameters. Default constructors are used when an object is created, even if not explicitly defined in the class."
      ],
      "metadata": {
        "id": "eNm4lQnS6sug"
      }
    },
    {
      "cell_type": "markdown",
      "source": [
        "##9. Create a Python class called `Rectangle` with a constructor that initializes the `width` and `height`attributes. Provide a method to calculate the area of the rectangle."
      ],
      "metadata": {
        "id": "c8ml291R6tZY"
      }
    },
    {
      "cell_type": "code",
      "source": [
        "class Rectangle:\n",
        "    def __init__(self, width, height):\n",
        "        self.width = width\n",
        "        self.height = height\n",
        "\n",
        "    def calculate_area(self):\n",
        "        return self.width * self.height\n",
        "\n",
        "# Creating an object of the class\n",
        "rectangle_obj = Rectangle(4, 5)\n",
        "print(rectangle_obj.calculate_area())"
      ],
      "metadata": {
        "colab": {
          "base_uri": "https://localhost:8080/"
        },
        "id": "cE2UVTrm6ft0",
        "outputId": "53da7785-d9ea-495f-909b-eabea2909b1d"
      },
      "execution_count": null,
      "outputs": [
        {
          "output_type": "stream",
          "name": "stdout",
          "text": [
            "20\n"
          ]
        }
      ]
    },
    {
      "cell_type": "markdown",
      "source": [
        "##10. How can you have multiple constructors in a Python class? Explain with an example."
      ],
      "metadata": {
        "id": "MJ4aJELE603J"
      }
    },
    {
      "cell_type": "markdown",
      "source": [
        "In Python, you can't have multiple constructors like some other languages, but you can achieve similar functionality using default parameter values."
      ],
      "metadata": {
        "id": "5v-Jti2G627X"
      }
    },
    {
      "cell_type": "code",
      "source": [
        "class MyClass:\n",
        "    def __init__(self, param1=None, param2=None):\n",
        "        if param1 is None:\n",
        "            print('constructor logic for param2 only')\n",
        "        else:\n",
        "            print('constructor logic for both param1 and param2')"
      ],
      "metadata": {
        "id": "DW3mcXLj6zGY"
      },
      "execution_count": null,
      "outputs": []
    },
    {
      "cell_type": "markdown",
      "source": [
        "##11. What is method overloading, and how is it related to constructors in Python?"
      ],
      "metadata": {
        "id": "2EgWuTSR7I5Y"
      }
    },
    {
      "cell_type": "markdown",
      "source": [
        "Method overloading refers to the ability of a class to define multiple methods with the same name but different parameters. Python does not support traditional method overloading. However, you can achieve similar behavior by using default parameter values in methods, including constructors."
      ],
      "metadata": {
        "id": "1RgVHldf7MD6"
      }
    },
    {
      "cell_type": "markdown",
      "source": [
        "##12. Explain the use of the `super()` function in Python constructors. Provide an example"
      ],
      "metadata": {
        "id": "RE0VZrJJ7My4"
      }
    },
    {
      "cell_type": "markdown",
      "source": [
        "The super() function is used to call the constructor of the parent class. It is often used in the child class constructor to invoke the parent class constructor and initialize the parent class attributes."
      ],
      "metadata": {
        "id": "RUzax6xE7aRQ"
      }
    },
    {
      "cell_type": "code",
      "source": [
        "class Parent:\n",
        "    def __init__(self, name):\n",
        "        self.name = name\n",
        "\n",
        "class Child(Parent):\n",
        "    def __init__(self, name, age):\n",
        "        super().__init__(name)  # Calling the constructor of the parent class\n",
        "        self.age = age\n",
        "\n",
        "# Creating an object of the child class\n",
        "child_obj = Child(\"John\", 25)"
      ],
      "metadata": {
        "id": "10_9FI577BPT"
      },
      "execution_count": null,
      "outputs": []
    },
    {
      "cell_type": "markdown",
      "source": [
        "##13. Create a class called `Book` with a constructor that initializes the `title`, `author`, and `published_year` attributes. Provide a method to display book details."
      ],
      "metadata": {
        "id": "ccKotBeH7cWl"
      }
    },
    {
      "cell_type": "code",
      "source": [
        "class Book:\n",
        "    def __init__(self, title, author, published_year):\n",
        "        self.title = title\n",
        "        self.author = author\n",
        "        self.published_year = published_year\n",
        "\n",
        "    def display_details(self):\n",
        "        print(f\"Title: {self.title}, Author: {self.author}, Published Year: {self.published_year}\")\n",
        "\n",
        "# Creating an object of the class\n",
        "book_obj = Book(\"Python Basics\", \"John Doe\", 2020)\n",
        "book_obj.display_details()"
      ],
      "metadata": {
        "colab": {
          "base_uri": "https://localhost:8080/"
        },
        "id": "rvL0yQa07ZQH",
        "outputId": "01dd15c1-2b63-4c9b-ccf6-f5f19da5574e"
      },
      "execution_count": null,
      "outputs": [
        {
          "output_type": "stream",
          "name": "stdout",
          "text": [
            "Title: Python Basics, Author: John Doe, Published Year: 2020\n"
          ]
        }
      ]
    },
    {
      "cell_type": "markdown",
      "source": [
        "##14. Discuss the differences between constructors and regular methods in Python classes."
      ],
      "metadata": {
        "id": "DrGDLv0l7lHl"
      }
    },
    {
      "cell_type": "markdown",
      "source": [
        "Constructors are special methods used for initializing objects and are called automatically when an object is created. Regular methods are called explicitly.\n",
        "Constructors have the name __init__ and are used to set up the initial state of the object. Regular methods can have any name and perform specific actions on the object.\n",
        "Constructors are defined with def __init__(self, ...), while regular methods are defined with def method_name(self, ...)."
      ],
      "metadata": {
        "id": "k9DYq8nr7ksH"
      }
    },
    {
      "cell_type": "markdown",
      "source": [
        "##15. Explain the role of the `self` parameter in instance variable initialization within a constructor."
      ],
      "metadata": {
        "id": "5nVE7-ci7pEn"
      }
    },
    {
      "cell_type": "markdown",
      "source": [
        "The self parameter refers to the instance of the class being created. Within the constructor, it is used to reference and initialize instance variables. It allows access to the attributes of the instance throughout the class."
      ],
      "metadata": {
        "id": "vmoz8qdQ7sGK"
      }
    },
    {
      "cell_type": "markdown",
      "source": [
        "##16. How do you prevent a class from having multiple instances by using constructors in Python? Provide an example."
      ],
      "metadata": {
        "id": "f-uB3lLV7s3e"
      }
    },
    {
      "cell_type": "markdown",
      "source": [
        "You can use a class variable to track whether an instance has been created and raise an exception if an attempt is made to create another instance."
      ],
      "metadata": {
        "id": "FqGB99bv7xtH"
      }
    },
    {
      "cell_type": "code",
      "source": [
        "class SingletonClass:\n",
        "    _instance_created = False\n",
        "\n",
        "    def __new__(cls):\n",
        "        if cls._instance_created:\n",
        "            raise Exception(\"Instance already created. Use getInstance() method.\")\n",
        "        cls._instance_created = True\n",
        "        return super(SingletonClass, cls).__new__(cls)\n",
        "\n",
        "# Creating an object of the class\n",
        "obj1 = SingletonClass()"
      ],
      "metadata": {
        "id": "wmINYJQx7jz8"
      },
      "execution_count": null,
      "outputs": []
    },
    {
      "cell_type": "markdown",
      "source": [
        "##17. Create a Python class called `Student` with a constructor that takes a list of subjects as a parameter and initializes the `subjects` attribute."
      ],
      "metadata": {
        "id": "7lqbW_Hk7z5j"
      }
    },
    {
      "cell_type": "code",
      "source": [
        "class Student:\n",
        "    def __init__(self, subjects):\n",
        "        self.subjects = subjects\n",
        "\n",
        "# Creating an object of the class\n",
        "student_obj = Student([\"Math\", \"Science\", \"English\"])"
      ],
      "metadata": {
        "id": "soXWt7jC7zIm"
      },
      "execution_count": null,
      "outputs": []
    },
    {
      "cell_type": "markdown",
      "source": [
        "##18. What is the purpose of the `__del__` method in Python classes, and how does it relate to constructors?"
      ],
      "metadata": {
        "id": "7_gqM5dM79PA"
      }
    },
    {
      "cell_type": "markdown",
      "source": [
        "The __del__ method is called when an object is about to be destroyed. It is the opposite of the constructor (__init__). While the constructor is called when an object is created, __del__ is called just before it is destroyed. It can be used to perform cleanup operations."
      ],
      "metadata": {
        "id": "CeA0spJG79DY"
      }
    },
    {
      "cell_type": "markdown",
      "source": [
        "##19. Explain the use of constructor chaining in Python. Provide a practical example."
      ],
      "metadata": {
        "id": "wlSMLalX79Ai"
      }
    },
    {
      "cell_type": "markdown",
      "source": [
        "Constructor chaining refers to calling one constructor from another within the same class. It allows reusing code and ensures that common initialization logic is executed."
      ],
      "metadata": {
        "id": "pwgsUDxp8EQ2"
      }
    },
    {
      "cell_type": "code",
      "source": [
        "class MyClass:\n",
        "    def __init__(self, param1):\n",
        "        self.param1 = param1\n",
        "\n",
        "    def __init__(self, param1, param2):\n",
        "        self.param1 = param1\n",
        "        self.param2 = param2\n",
        "        super().__init__(param1)  # Constructor chaining\n",
        "\n",
        "# Creating an object of the class\n",
        "obj = MyClass(\"value1\", \"value2\")"
      ],
      "metadata": {
        "id": "1g_c-8gV78WP"
      },
      "execution_count": null,
      "outputs": []
    },
    {
      "cell_type": "markdown",
      "source": [
        "##20. Create a Python class called `Car` with a default constructor that initializes the `make` and `model` attributes. Provide a method to display car information."
      ],
      "metadata": {
        "id": "xAHkSYFH8K1S"
      }
    },
    {
      "cell_type": "code",
      "source": [
        "class Car:\n",
        "    def __init__(self):\n",
        "        self.make = \"Unknown\"\n",
        "        self.model = \"Unknown\"\n",
        "\n",
        "    def display_info(self):\n",
        "        print(f\"Make: {self.make}, Model: {self.model}\")\n",
        "\n",
        "# Creating an object of the class\n",
        "car_obj = Car()\n",
        "car_obj.display_info()"
      ],
      "metadata": {
        "colab": {
          "base_uri": "https://localhost:8080/"
        },
        "id": "8x2J0Lgq8Uig",
        "outputId": "80a6fd2d-6310-46b5-9550-7b9f2c57a4bf"
      },
      "execution_count": null,
      "outputs": [
        {
          "output_type": "stream",
          "name": "stdout",
          "text": [
            "Make: Unknown, Model: Unknown\n"
          ]
        }
      ]
    },
    {
      "cell_type": "markdown",
      "source": [
        "#Inheritance:"
      ],
      "metadata": {
        "id": "JSis6mzVLUx6"
      }
    },
    {
      "cell_type": "markdown",
      "source": [
        "##1. What is inheritance in Python? Explain its significance in object-oriented programming."
      ],
      "metadata": {
        "id": "9JrWlmITLUtL"
      }
    },
    {
      "cell_type": "markdown",
      "source": [
        "Inheritance in Python is a mechanism where a new class, called the child class, can inherit attributes and methods from an existing class, known as the parent class. The child class can then extend or modify the behavior of the parent class. This promotes code reuse and helps in organizing code in a hierarchical structure."
      ],
      "metadata": {
        "id": "16ARcITRLUm8"
      }
    },
    {
      "cell_type": "markdown",
      "source": [
        "##2. Differentiate between single inheritance and multiple inheritance in Python. Provide examples for each."
      ],
      "metadata": {
        "id": "4XF8Px_pLgfG"
      }
    },
    {
      "cell_type": "markdown",
      "source": [
        "Single Inheritance: A class inherits from only one parent class."
      ],
      "metadata": {
        "id": "CofNjqjkLldv"
      }
    },
    {
      "cell_type": "code",
      "source": [
        "class Animal:\n",
        "    def speak(self):\n",
        "        print(\"Animal speaks\")\n",
        "\n",
        "class Dog(Animal):\n",
        "    def bark(self):\n",
        "        print(\"Dog barks\")\n",
        "\n",
        "# Usage\n",
        "dog = Dog()\n",
        "dog.speak()  # Inherited from Animal\n",
        "dog.bark()   # Defined in Dog"
      ],
      "metadata": {
        "id": "LdcIDLNi8VFs",
        "colab": {
          "base_uri": "https://localhost:8080/"
        },
        "outputId": "16e7b7f4-7751-4326-86a5-843caf8041ec"
      },
      "execution_count": null,
      "outputs": [
        {
          "output_type": "stream",
          "name": "stdout",
          "text": [
            "Animal speaks\n",
            "Dog barks\n"
          ]
        }
      ]
    },
    {
      "cell_type": "markdown",
      "source": [
        "Multiple Inheritance: A class can inherit from multiple parent classes."
      ],
      "metadata": {
        "id": "xyA1IbfKLwRG"
      }
    },
    {
      "cell_type": "code",
      "source": [
        "class Flyable:\n",
        "    def fly(self):\n",
        "        print(\"Can fly\")\n",
        "\n",
        "class Bird(Animal, Flyable):\n",
        "    pass\n",
        "\n",
        "# Usage\n",
        "bird = Bird()\n",
        "bird.speak()  # Inherited from Animal\n",
        "bird.fly()    # Inherited from Flyable"
      ],
      "metadata": {
        "colab": {
          "base_uri": "https://localhost:8080/"
        },
        "id": "JQB8rfFtLnPC",
        "outputId": "30d5eaf4-6235-47b1-88c5-3d1d02b82649"
      },
      "execution_count": null,
      "outputs": [
        {
          "output_type": "stream",
          "name": "stdout",
          "text": [
            "Animal speaks\n",
            "Can fly\n"
          ]
        }
      ]
    },
    {
      "cell_type": "markdown",
      "source": [
        "##3. Create a Python class called `Vehicle` with attributes `color` and `speed`. Then, create a child class called `Car` that inherits from `Vehicle` and adds a `brand` attribute. Provide an example of creating a `Car` object."
      ],
      "metadata": {
        "id": "RZRsTU98LzDJ"
      }
    },
    {
      "cell_type": "code",
      "source": [
        "class Vehicle:\n",
        "    def __init__(self, color, speed):\n",
        "        self.color = color\n",
        "        self.speed = speed\n",
        "\n",
        "class Car(Vehicle):\n",
        "    def __init__(self, color, speed, brand):\n",
        "        super().__init__(color, speed)\n",
        "        self.brand = brand\n",
        "\n",
        "# Example\n",
        "car = Car(\"Blue\", 60, \"Toyota\")\n",
        "print(car.color)  # Blue\n",
        "print(car.speed)  # 60\n",
        "print(car.brand)  # Toyota"
      ],
      "metadata": {
        "colab": {
          "base_uri": "https://localhost:8080/"
        },
        "id": "lRtSs6vKLyaC",
        "outputId": "0a4be22a-6bc9-472b-a00b-907f3d92bccf"
      },
      "execution_count": null,
      "outputs": [
        {
          "output_type": "stream",
          "name": "stdout",
          "text": [
            "Blue\n",
            "60\n",
            "Toyota\n"
          ]
        }
      ]
    },
    {
      "cell_type": "markdown",
      "source": [
        "##4. Explain the concept of method overriding in inheritance. Provide a practical example."
      ],
      "metadata": {
        "id": "6J9cBnOqL87r"
      }
    },
    {
      "cell_type": "markdown",
      "source": [
        "Method overriding occurs when a child class provides a specific implementation for a method that is already defined in its parent class. This allows the child class to customize the behavior of the inherited method."
      ],
      "metadata": {
        "id": "rUR1BP0zMBEY"
      }
    },
    {
      "cell_type": "code",
      "source": [
        "class Animal:\n",
        "    def speak(self):\n",
        "        print(\"Animal speaks\")\n",
        "\n",
        "class Dog(Animal):\n",
        "    def speak(self):  # Method overriding\n",
        "        print(\"Dog barks\")\n",
        "\n",
        "# Example\n",
        "dog = Dog()\n",
        "dog.speak()  # Dog barks"
      ],
      "metadata": {
        "colab": {
          "base_uri": "https://localhost:8080/"
        },
        "id": "qKC7w5k4L5zg",
        "outputId": "6c987321-952a-4846-8d03-895808603e6f"
      },
      "execution_count": null,
      "outputs": [
        {
          "output_type": "stream",
          "name": "stdout",
          "text": [
            "Dog barks\n"
          ]
        }
      ]
    },
    {
      "cell_type": "markdown",
      "source": [
        "##5. How can you access the methods and attributes of a parent class from a child class in Python? Give an example."
      ],
      "metadata": {
        "id": "7VxwNdwfME2l"
      }
    },
    {
      "cell_type": "code",
      "source": [
        "class Animal:\n",
        "    def speak(self):\n",
        "        print(\"Animal speaks\")\n",
        "\n",
        "class Dog(Animal):\n",
        "    def speak(self):\n",
        "        super().speak()  # Accessing parent method\n",
        "        print(\"Dog barks\")\n",
        "\n",
        "# Example\n",
        "dog = Dog()\n",
        "dog.speak()"
      ],
      "metadata": {
        "colab": {
          "base_uri": "https://localhost:8080/"
        },
        "id": "Fv3vc8_QMAo6",
        "outputId": "b316356a-82c5-41ab-ba6d-33555d600458"
      },
      "execution_count": null,
      "outputs": [
        {
          "output_type": "stream",
          "name": "stdout",
          "text": [
            "Animal speaks\n",
            "Dog barks\n"
          ]
        }
      ]
    },
    {
      "cell_type": "markdown",
      "source": [
        "##6. Discuss the use of the super() function in Python inheritance. When and why is it used? Provide an example.\n",
        "\n",
        "The super() function is used to call methods and access attributes of a parent class from a child class. It is often used in the child class constructor to initialize the attributes inherited from the parent class."
      ],
      "metadata": {
        "id": "tOrNt1m6MQjY"
      }
    },
    {
      "cell_type": "code",
      "source": [
        "class Animal:\n",
        "    def __init__(self, species):\n",
        "        self.species = species\n",
        "\n",
        "class Dog(Animal):\n",
        "    def __init__(self, species, breed):\n",
        "        super().__init__(species)  # Using super() to call the parent constructor\n",
        "        self.breed = breed\n",
        "\n",
        "# Example\n",
        "dog = Dog(\"Canine\", \"Labrador\")\n",
        "print(dog.species)  # Canine\n",
        "print(dog.breed)    # Labrador"
      ],
      "metadata": {
        "colab": {
          "base_uri": "https://localhost:8080/"
        },
        "id": "MaSIpvFaMKuK",
        "outputId": "acc53a35-20cf-4f39-907b-5f6a3fd05c39"
      },
      "execution_count": null,
      "outputs": [
        {
          "output_type": "stream",
          "name": "stdout",
          "text": [
            "Canine\n",
            "Labrador\n"
          ]
        }
      ]
    },
    {
      "cell_type": "markdown",
      "source": [
        "##7. Create a Python class called Animal with a method speak(). Then, create child classes Dog and Cat that inherit from Animal and override the speak() method. Provide an example of using these classes."
      ],
      "metadata": {
        "id": "KCnSs_pZMcDK"
      }
    },
    {
      "cell_type": "code",
      "source": [
        "class Animal:\n",
        "    def speak(self):\n",
        "        print(\"Animal speaks\")\n",
        "\n",
        "class Dog(Animal):\n",
        "    def speak(self):\n",
        "        print(\"Dog barks\")\n",
        "\n",
        "class Cat(Animal):\n",
        "    def speak(self):\n",
        "        print(\"Cat meows\")\n",
        "\n",
        "# Example\n",
        "dog = Dog()\n",
        "cat = Cat()\n",
        "\n",
        "dog.speak()  # Dog barks\n",
        "cat.speak()  # Cat meows"
      ],
      "metadata": {
        "colab": {
          "base_uri": "https://localhost:8080/"
        },
        "id": "723sXzV0MYor",
        "outputId": "0ce376c9-a5a0-455e-ad7a-2a86f8abfccf"
      },
      "execution_count": null,
      "outputs": [
        {
          "output_type": "stream",
          "name": "stdout",
          "text": [
            "Dog barks\n",
            "Cat meows\n"
          ]
        }
      ]
    },
    {
      "cell_type": "markdown",
      "source": [
        "##8. Explain the role of the isinstance() function in Python and how it relates to inheritance."
      ],
      "metadata": {
        "id": "6tv4KTFbMhHt"
      }
    },
    {
      "cell_type": "markdown",
      "source": [
        "The isinstance() function is used to check if an object belongs to a particular class or a tuple of classes. It helps in determining the type of an object, and it relates to inheritance by allowing you to check if an object is an instance of a specific class or its subclasses."
      ],
      "metadata": {
        "id": "D89EtAA2Mj8l"
      }
    },
    {
      "cell_type": "code",
      "source": [
        "animal = Animal()\n",
        "print(isinstance(animal, Animal))  # True\n",
        "print(isinstance(animal, Dog))     # False"
      ],
      "metadata": {
        "colab": {
          "base_uri": "https://localhost:8080/"
        },
        "id": "kDzaiJhZMlfO",
        "outputId": "8d8da1b2-c1c9-4f12-c6a1-8e2f6706c336"
      },
      "execution_count": null,
      "outputs": [
        {
          "output_type": "stream",
          "name": "stdout",
          "text": [
            "True\n",
            "False\n"
          ]
        }
      ]
    },
    {
      "cell_type": "markdown",
      "source": [
        "##9. What is the purpose of the issubclass() function in Python? Provide an example.\n",
        "\n",
        "The issubclass() function is used to check if a class is a subclass of another class. It helps in verifying the inheritance relationship between classes."
      ],
      "metadata": {
        "id": "Bub22Pj9MokN"
      }
    },
    {
      "cell_type": "code",
      "source": [
        "print(issubclass(Dog, Animal))  # True\n",
        "print(issubclass(Cat, Animal))  # True\n",
        "print(issubclass(Cat, Dog))     # False"
      ],
      "metadata": {
        "colab": {
          "base_uri": "https://localhost:8080/"
        },
        "id": "yauPwRFdMmo9",
        "outputId": "436767b6-5307-42a8-bbc6-c34ae0a8c070"
      },
      "execution_count": null,
      "outputs": [
        {
          "output_type": "stream",
          "name": "stdout",
          "text": [
            "True\n",
            "True\n",
            "False\n"
          ]
        }
      ]
    },
    {
      "cell_type": "markdown",
      "source": [
        "##10. Discuss the concept of constructor inheritance in Python. How are constructors inherited in child classes?\n",
        "\n",
        "In Python, when a child class is created, it can either have its own constructor or inherit the constructor from the parent class using super().__init__(). If the child class defines its constructor, it needs to explicitly call the constructor of the parent class using super() to ensure proper initialization of inherited attributes."
      ],
      "metadata": {
        "id": "8-1GxBppMsaf"
      }
    },
    {
      "cell_type": "code",
      "source": [
        "class Parent:\n",
        "    def __init__(self, name):\n",
        "        self.name = name\n",
        "\n",
        "class Child(Parent):\n",
        "    def __init__(self, name, age):\n",
        "        super().__init__(name)  # Inheriting constructor from Parent\n",
        "        self.age = age\n",
        "\n",
        "# Example\n",
        "child = Child(\"Alice\", 25)\n",
        "print(child.name)  # Alice\n",
        "print(child.age)   # 25"
      ],
      "metadata": {
        "colab": {
          "base_uri": "https://localhost:8080/"
        },
        "id": "gOlGJa3rMrDl",
        "outputId": "0970d5a0-3d81-4fe1-a812-eee889828b35"
      },
      "execution_count": null,
      "outputs": [
        {
          "output_type": "stream",
          "name": "stdout",
          "text": [
            "Alice\n",
            "25\n"
          ]
        }
      ]
    },
    {
      "cell_type": "markdown",
      "source": [
        "##11. Create a Python class called Shape with a method area() that calculates the area of a shape. Then, create child classes Circle and Rectangle that inherit from Shape and implement the area() method accordingly. Provide an example."
      ],
      "metadata": {
        "id": "0VAjfpU4M0Ez"
      }
    },
    {
      "cell_type": "code",
      "source": [
        "class Shape:\n",
        "    def area(self):\n",
        "        pass  # To be implemented by child classes\n",
        "\n",
        "class Circle(Shape):\n",
        "    def __init__(self, radius):\n",
        "        self.radius = radius\n",
        "\n",
        "    def area(self):\n",
        "        return 3.14 * self.radius**2\n",
        "\n",
        "class Rectangle(Shape):\n",
        "    def __init__(self, length, width):\n",
        "        self.length = length\n",
        "        self.width = width\n",
        "\n",
        "    def area(self):\n",
        "        return self.length * self.width\n",
        "\n",
        "\n",
        "# Example\n",
        "circle = Circle(5)\n",
        "rectangle = Rectangle(4, 6)\n",
        "\n",
        "print(circle.area())\n",
        "print(rectangle.area())"
      ],
      "metadata": {
        "colab": {
          "base_uri": "https://localhost:8080/"
        },
        "id": "G0fzAFHEMxln",
        "outputId": "cf158f7d-af88-483a-fbb5-dd3932dbc971"
      },
      "execution_count": null,
      "outputs": [
        {
          "output_type": "stream",
          "name": "stdout",
          "text": [
            "78.5\n",
            "24\n"
          ]
        }
      ]
    },
    {
      "cell_type": "markdown",
      "source": [
        "##12. Explain the use of abstract base classes (ABCs) in Python and how they relate to inheritance. Provide an example using the abc module.\n",
        "\n",
        "Abstract base classes are classes that cannot be instantiated and are meant to be subclassed. They define a common interface for a group of related classes. In Python, the abc module is used to create abstract base classes."
      ],
      "metadata": {
        "id": "aKs49EefNA9F"
      }
    },
    {
      "cell_type": "code",
      "source": [
        "from abc import ABC, abstractmethod\n",
        "\n",
        "class Shape(ABC):\n",
        "    @abstractmethod\n",
        "    def area(self):\n",
        "        pass  # To be implemented by child classes\n",
        "\n",
        "class Circle(Shape):\n",
        "    def __init__(self, radius):\n",
        "        self.radius = radius\n",
        "\n",
        "    def area(self):\n",
        "        return 3.14 * self.radius**2\n",
        "\n",
        "# Example\n",
        "# This will raise an error as an abstract method is not implemented in Rectangle\n",
        "# rectangle = Rectangle(4, 6)\n",
        "\n",
        "circle = Circle(5)\n",
        "print(circle.area())"
      ],
      "metadata": {
        "colab": {
          "base_uri": "https://localhost:8080/"
        },
        "id": "17P5sSYsM4Dk",
        "outputId": "11ef2046-6ed1-48ec-b811-5286d71aea0b"
      },
      "execution_count": null,
      "outputs": [
        {
          "output_type": "stream",
          "name": "stdout",
          "text": [
            "78.5\n"
          ]
        }
      ]
    },
    {
      "cell_type": "markdown",
      "source": [
        "##13. How can you prevent a child class from modifying certain attributes or methods inherited from a parent class in Python?\n",
        "\n",
        "You can use encapsulation and make attributes or methods private by prefixing them with double underscores. This prevents direct access or modification by the child class."
      ],
      "metadata": {
        "id": "t5vbreB9NIT0"
      }
    },
    {
      "cell_type": "code",
      "source": [
        "class Parent:\n",
        "    def __init__(self):\n",
        "        self.__private_attribute = 10\n",
        "\n",
        "    def get_private_attribute(self):\n",
        "        return self.__private_attribute\n",
        "\n",
        "class Child(Parent):\n",
        "    def modify_attribute(self):\n",
        "        # This will raise an error, preventing modification\n",
        "        # self.__private_attribute = 20\n",
        "        pass\n",
        "\n",
        "# Example\n",
        "child = Child()\n",
        "print(child.get_private_attribute())"
      ],
      "metadata": {
        "colab": {
          "base_uri": "https://localhost:8080/"
        },
        "id": "W_Ih3RD7NGvo",
        "outputId": "fb00255c-018a-437e-8f47-84ab8d38027f"
      },
      "execution_count": null,
      "outputs": [
        {
          "output_type": "stream",
          "name": "stdout",
          "text": [
            "10\n"
          ]
        }
      ]
    },
    {
      "cell_type": "markdown",
      "source": [
        "##14. Create a Python class called Employee with attributes name and salary. Then, create a child class Manager that inherits from Employee and adds an attribute department. Provide an example."
      ],
      "metadata": {
        "id": "xDfUZ1DxNR4M"
      }
    },
    {
      "cell_type": "code",
      "source": [
        "class Employee:\n",
        "    def __init__(self, name, salary):\n",
        "        self.name = name\n",
        "        self.salary = salary\n",
        "\n",
        "class Manager(Employee):\n",
        "    def __init__(self, name, salary, department):\n",
        "        super().__init__(name, salary)\n",
        "        self.department = department\n",
        "\n",
        "# Example\n",
        "manager = Manager(\"Alice\", 50000, \"HR\")\n",
        "print(manager.name)\n",
        "print(manager.salary)\n",
        "print(manager.department)"
      ],
      "metadata": {
        "colab": {
          "base_uri": "https://localhost:8080/"
        },
        "id": "PL1ZWVTINPqA",
        "outputId": "dccc3cfd-e77b-4513-aae0-85ec5d3de052"
      },
      "execution_count": null,
      "outputs": [
        {
          "output_type": "stream",
          "name": "stdout",
          "text": [
            "Alice\n",
            "50000\n",
            "HR\n"
          ]
        }
      ]
    },
    {
      "cell_type": "markdown",
      "source": [
        "##15. Discuss the concept of method overloading in Python inheritance. How does it differ from method overriding?\n",
        "\n",
        "Method overloading refers to defining multiple methods in the same class with the same name but different parameters. Python does not support traditional method overloading. Instead, it allows method overloading using default values and variable-length argument lists.\n",
        "\n",
        "Method overriding, on the other hand, occurs when a child class provides a specific implementation for a method that is already defined in its parent class.\n",
        "\n",
        "##16. Explain the purpose of the __init__() method in Python inheritance and how it is utilized in child classes.\n",
        "\n",
        "The __init__() method is a constructor in Python, used for initializing the attributes of an object when it is created. In inheritance, the __init__() method of the parent class can be called using super().__init__() in the child class to ensure proper initialization of inherited attributes."
      ],
      "metadata": {
        "id": "fN5IPna9Nf7R"
      }
    },
    {
      "cell_type": "code",
      "source": [
        "class Parent:\n",
        "    def __init__(self, name):\n",
        "        self.name = name\n",
        "\n",
        "class Child(Parent):\n",
        "    def __init__(self, name, age):\n",
        "        super().__init__(name)\n",
        "        self.age = age\n",
        "\n",
        "# Example\n",
        "child = Child(\"Bob\", 30)\n",
        "print(child.name)\n",
        "print(child.age)"
      ],
      "metadata": {
        "colab": {
          "base_uri": "https://localhost:8080/"
        },
        "id": "2Ap5FQ9SNe6E",
        "outputId": "7dd1ab6b-ef17-46e1-d0f0-5c6f6f71bd75"
      },
      "execution_count": null,
      "outputs": [
        {
          "output_type": "stream",
          "name": "stdout",
          "text": [
            "Bob\n",
            "30\n"
          ]
        }
      ]
    },
    {
      "cell_type": "markdown",
      "source": [
        "##17. Create a Python class called Bird with a method fly(). Then, create child classes Eagle and Sparrow that inherit from Bird and implement the fly() method differently. Provide an example of using these classes."
      ],
      "metadata": {
        "id": "kwTPsP0XNpv2"
      }
    },
    {
      "cell_type": "code",
      "source": [
        "class Bird:\n",
        "    def fly(self):\n",
        "        print(\"Bird can fly\")\n",
        "\n",
        "class Eagle(Bird):\n",
        "    def fly(self):\n",
        "        print(\"Eagle soars high\")\n",
        "\n",
        "class Sparrow(Bird):\n",
        "    def fly(self):\n",
        "        print(\"Sparrow flutters swiftly\")\n",
        "\n",
        "# Example\n",
        "eagle = Eagle()\n",
        "sparrow = Sparrow()\n",
        "\n",
        "eagle.fly()\n",
        "sparrow.fly()"
      ],
      "metadata": {
        "colab": {
          "base_uri": "https://localhost:8080/"
        },
        "id": "CaJhEoxnNobW",
        "outputId": "645d60cc-1c77-4640-d700-4b958610be05"
      },
      "execution_count": null,
      "outputs": [
        {
          "output_type": "stream",
          "name": "stdout",
          "text": [
            "Eagle soars high\n",
            "Sparrow flutters swiftly\n"
          ]
        }
      ]
    },
    {
      "cell_type": "markdown",
      "source": [
        "##18. What is the \"diamond problem\" in multiple inheritance, and how does Python address it?\n",
        "\n",
        "The \"diamond problem\" occurs in multiple inheritance when a class inherits from two classes that have a common ancestor. This can lead to ambiguity in the method resolution order (MRO) and result in unexpected behavior.\n",
        "\n",
        "In Python, the C3 linearization algorithm is used to address the diamond problem. It calculates a consistent and predictable order in which base classes are considered during method resolution. The super() function also follows the MRO, ensuring that methods are called in a well-defined order.\n",
        "\n",
        "##19. Discuss the concept of \"is-a\" and \"has-a\" relationships in inheritance, and provide examples of each.\n",
        "\n",
        "\"Is-a\" relationship: This refers to a situation where one class is a subtype of another class. It implies that an object of the subclass can be used wherever an object of the superclass is expected.\n",
        "\n",
        "Example: Dog is a subclass of Animal, so we can say, \"A Dog is an Animal.\""
      ],
      "metadata": {
        "id": "rKcapulsNzBY"
      }
    },
    {
      "cell_type": "code",
      "source": [
        "class Animal:\n",
        "    pass\n",
        "\n",
        "class Dog(Animal):\n",
        "    pass"
      ],
      "metadata": {
        "id": "osX2eJ0dNwfw"
      },
      "execution_count": null,
      "outputs": []
    },
    {
      "cell_type": "markdown",
      "source": [
        "\"Has-a\" relationship: This refers to a situation where one class contains an instance of another class, representing a composition or aggregation.\n",
        "\n",
        "Example: Car has an engine, so we can say, \"A Car has an Engine.\""
      ],
      "metadata": {
        "id": "ilqlEfqzN5GB"
      }
    },
    {
      "cell_type": "code",
      "source": [
        "class Engine:\n",
        "    pass\n",
        "\n",
        "class Car:\n",
        "    def __init__(self):\n",
        "        self.engine = Engine()"
      ],
      "metadata": {
        "id": "XeWO09ZjN27F"
      },
      "execution_count": null,
      "outputs": []
    },
    {
      "cell_type": "markdown",
      "source": [
        "##20. Create a Python class hierarchy for a university system. Start with a base class Person and create child classes Student and Professor, each with their own attributes and methods. Provide an example of using these classes in a university context."
      ],
      "metadata": {
        "id": "D0MHKkICN7c5"
      }
    },
    {
      "cell_type": "code",
      "source": [
        "class Person:\n",
        "    def __init__(self, name, age):\n",
        "        self.name = name\n",
        "        self.age = age\n",
        "\n",
        "    def display_info(self):\n",
        "        print(f\"Name: {self.name}, Age: {self.age}\")\n",
        "\n",
        "class Student(Person):\n",
        "    def __init__(self, name, age, student_id):\n",
        "        super().__init__(name, age)\n",
        "        self.student_id = student_id\n",
        "\n",
        "    def display_info(self):\n",
        "        super().display_info()\n",
        "        print(f\"Student ID: {self.student_id}\")\n",
        "\n",
        "class Professor(Person):\n",
        "    def __init__(self, name, age, employee_id):\n",
        "        super().__init__(name, age)\n",
        "        self.employee_id = employee_id\n",
        "\n",
        "    def display_info(self):\n",
        "        super().display_info()\n",
        "        print(f\"Employee ID: {self.employee_id}\")\n",
        "\n",
        "# Example\n",
        "student = Student(\"Alice\", 20, \"S12345\")\n",
        "professor = Professor(\"Dr. Smith\", 45, \"P98765\")\n",
        "\n",
        "student"
      ],
      "metadata": {
        "id": "sAKRDS5CN7BW",
        "outputId": "91a9a82c-e160-4c2f-fec6-b5e15800d14d",
        "colab": {
          "base_uri": "https://localhost:8080/"
        }
      },
      "execution_count": null,
      "outputs": [
        {
          "output_type": "execute_result",
          "data": {
            "text/plain": [
              "<__main__.Student at 0x7b7649acbfd0>"
            ]
          },
          "metadata": {},
          "execution_count": 20
        }
      ]
    },
    {
      "cell_type": "markdown",
      "source": [
        "#Encapsulation:"
      ],
      "metadata": {
        "id": "yb-S2TEAt147"
      }
    },
    {
      "cell_type": "markdown",
      "source": [
        "##1. Explain the concept of encapsulation in Python. What is its role in object-oriented programming?"
      ],
      "metadata": {
        "id": "_VBKJmxFt11h"
      }
    },
    {
      "cell_type": "markdown",
      "source": [
        "Encapsulation is a fundamental concept in object-oriented programming (OOP) that involves bundling data (attributes) and the methods (functions) that operate on the data into a single unit known as a class. The primary goal is to restrict direct access to certain components of the object and to hide the internal implementation details, providing a clear and organized interface for interacting with the object."
      ],
      "metadata": {
        "id": "rZGLQa9SutV0"
      }
    },
    {
      "cell_type": "markdown",
      "source": [
        "##2. Describe the key principles of encapsulation, including access control and data hiding."
      ],
      "metadata": {
        "id": "XSEz8dETuuCv"
      }
    },
    {
      "cell_type": "markdown",
      "source": [
        "Access Control: This principle involves restricting access to the internal components of a class. In Python, access control is achieved through access modifiers like public, private, and protected.\n",
        "Data Hiding: Data hiding is the practice of concealing the internal state of the object and restricting direct access to the object's attributes. It is crucial for maintaining the integrity of the object's data."
      ],
      "metadata": {
        "id": "l8pI8G4NuxOV"
      }
    },
    {
      "cell_type": "markdown",
      "source": [
        "##3. How can you achieve encapsulation in Python classes? Provide an example"
      ],
      "metadata": {
        "id": "klkk3-5RuyP1"
      }
    },
    {
      "cell_type": "markdown",
      "source": [
        "Encapsulation in Python is achieved by using access modifiers and providing getter and setter methods."
      ],
      "metadata": {
        "id": "QvHpbQC7u2Wx"
      }
    },
    {
      "cell_type": "code",
      "source": [
        "class Example:\n",
        "    def __init__(self):\n",
        "        self.__private_attribute = 42\n",
        "\n",
        "    def get_private_attribute(self):\n",
        "        return self.__private_attribute\n",
        "\n",
        "    def set_private_attribute(self, value):\n",
        "        self.__private_attribute = value"
      ],
      "metadata": {
        "id": "Edp3IHFFOApn"
      },
      "execution_count": null,
      "outputs": []
    },
    {
      "cell_type": "markdown",
      "source": [
        "##4. Discuss the difference between public, private, and protected access modifiers in Python."
      ],
      "metadata": {
        "id": "cB7b33tiu5Hr"
      }
    },
    {
      "cell_type": "markdown",
      "source": [
        "Access Modifiers in Python:\n",
        "\n",
        "*   Public (default): Accessible from anywhere.\n",
        "*   Private (double underscore): Accessible only within the class.\n",
        "*   Protected (single underscore): Accessible within the class and its subclasses."
      ],
      "metadata": {
        "id": "GoHE_HIeu5Eg"
      }
    },
    {
      "cell_type": "markdown",
      "source": [
        "##5. Create a Python class called `Person` with a private attribute `__name`. Provide methods to get and set the name attribute."
      ],
      "metadata": {
        "id": "ug2MtWm1vTPC"
      }
    },
    {
      "cell_type": "code",
      "source": [
        "class Person:\n",
        "    def __init__(self):\n",
        "        self.__name = \"\"\n",
        "\n",
        "    def get_name(self):\n",
        "        return self.__name\n",
        "\n",
        "    def set_name(self, name):\n",
        "        self.__name = name"
      ],
      "metadata": {
        "id": "oA6jBNVlu4V1"
      },
      "execution_count": null,
      "outputs": []
    },
    {
      "cell_type": "markdown",
      "source": [
        "##6. Explain the purpose of getter and setter methods in encapsulation. Provide examples"
      ],
      "metadata": {
        "id": "Mzm0uxwyvYyx"
      }
    },
    {
      "cell_type": "markdown",
      "source": [
        "Getter methods retrieve the value of a private attribute, and setter methods modify it. They provide controlled access to the internal state of the object."
      ],
      "metadata": {
        "id": "RXJjhxwEvbMN"
      }
    },
    {
      "cell_type": "code",
      "source": [
        "person = Person()\n",
        "person.set_name(\"John\")\n",
        "print(person.get_name())"
      ],
      "metadata": {
        "colab": {
          "base_uri": "https://localhost:8080/"
        },
        "id": "bcVDZChxvYGQ",
        "outputId": "11420e8c-0f0f-438a-bda8-fa59609560aa"
      },
      "execution_count": null,
      "outputs": [
        {
          "output_type": "stream",
          "name": "stdout",
          "text": [
            "John\n"
          ]
        }
      ]
    },
    {
      "cell_type": "markdown",
      "source": [
        "##7. What is name mangling in Python, and how does it affect encapsulation?"
      ],
      "metadata": {
        "id": "pKRGlDptvjXf"
      }
    },
    {
      "cell_type": "markdown",
      "source": [
        "Name Mangling:\n",
        "\n",
        "Name mangling is a mechanism in Python that adds a prefix to attribute names to make them less accessible outside the class. It is a form of pseudo-encapsulation."
      ],
      "metadata": {
        "id": "9NjPgvF6vi2Q"
      }
    },
    {
      "cell_type": "markdown",
      "source": [
        "##8. Create a Python class called `BankAccount` with private attributes for the account balance (`__balance`) and account number (`__account_number`). Provide methods for depositing and withdrawing money"
      ],
      "metadata": {
        "id": "HTPUzwduvr8Y"
      }
    },
    {
      "cell_type": "code",
      "source": [
        "class BankAccount:\n",
        "    def __init__(self):\n",
        "        self.__balance = 0\n",
        "        self.__account_number = \"\"\n",
        "\n",
        "    def deposit(self, amount):\n",
        "        self.__balance += amount\n",
        "\n",
        "    def withdraw(self, amount):\n",
        "        self.__balance -= amount"
      ],
      "metadata": {
        "id": "AoKlcXP2vvpd"
      },
      "execution_count": null,
      "outputs": []
    },
    {
      "cell_type": "markdown",
      "source": [
        "##9. Discuss the advantages of encapsulation in terms of code maintainability and security."
      ],
      "metadata": {
        "id": "T-0hGdaWvtr4"
      }
    },
    {
      "cell_type": "markdown",
      "source": [
        "Advantages of Encapsulation:\n",
        "\n",
        "Code Maintainability: Encapsulation promotes modular design, making it easier to update or extend individual components without affecting the entire codebase.\n",
        "Security: By hiding the internal implementation details, encapsulation helps protect the integrity of data and prevents unintended modifications."
      ],
      "metadata": {
        "id": "uCRR4-i8v1UR"
      }
    },
    {
      "cell_type": "markdown",
      "source": [
        "##10. How can you access private attributes in Python? Provide an example demonstrating the use of name mangling."
      ],
      "metadata": {
        "id": "smwOExjMv2xn"
      }
    },
    {
      "cell_type": "markdown",
      "source": [
        "Private attributes can be accessed using name mangling, but this practice is discouraged as it goes against the principles of encapsulation."
      ],
      "metadata": {
        "id": "tS59H6bFv9Ac"
      }
    },
    {
      "cell_type": "code",
      "source": [
        "print(person._Person__name)"
      ],
      "metadata": {
        "colab": {
          "base_uri": "https://localhost:8080/"
        },
        "id": "3OjGz6qPvh5b",
        "outputId": "ab2a4ba1-cca3-4fc8-bde8-e45b25aad4cc"
      },
      "execution_count": null,
      "outputs": [
        {
          "output_type": "stream",
          "name": "stdout",
          "text": [
            "John\n"
          ]
        }
      ]
    },
    {
      "cell_type": "markdown",
      "source": [
        "##11. Create a Python class hierarchy for a school system, including classes for students, teachers, and courses, and implement encapsulation principles to protect sensitive information."
      ],
      "metadata": {
        "id": "chlHDMwnwApp"
      }
    },
    {
      "cell_type": "code",
      "source": [
        "class Person:\n",
        "    def __init__(self, name, age):\n",
        "        self.__name = name\n",
        "        self.__age = age\n",
        "\n",
        "    def get_name(self):\n",
        "        return self.__name\n",
        "\n",
        "    def set_name(self, name):\n",
        "        self.__name = name\n",
        "\n",
        "    def get_age(self):\n",
        "        return self.__age\n",
        "\n",
        "    def set_age(self, age):\n",
        "        self.__age = age\n",
        "\n",
        "\n",
        "class Student(Person):\n",
        "    def __init__(self, name, age, student_id):\n",
        "        super().__init__(name, age)\n",
        "        self.__student_id = student_id\n",
        "        self.__courses = []\n",
        "\n",
        "    def get_student_id(self):\n",
        "        return self.__student_id\n",
        "\n",
        "    def set_student_id(self, student_id):\n",
        "        self.__student_id = student_id\n",
        "\n",
        "    def enroll_course(self, course):\n",
        "        self.__courses.append(course)\n",
        "\n",
        "    def get_courses(self):\n",
        "        return self.__courses\n",
        "\n",
        "\n",
        "class Teacher(Person):\n",
        "    def __init__(self, name, age, employee_id):\n",
        "        super().__init__(name, age)\n",
        "        self.__employee_id = employee_id\n",
        "        self.__courses_taught = []\n",
        "\n",
        "    def get_employee_id(self):\n",
        "        return self.__employee_id\n",
        "\n",
        "    def set_employee_id(self, employee_id):\n",
        "        self.__employee_id = employee_id\n",
        "\n",
        "    def assign_course(self, course):\n",
        "        self.__courses_taught.append(course)\n",
        "\n",
        "    def get_courses_taught(self):\n",
        "        return self.__courses_taught\n",
        "\n",
        "\n",
        "class Course:\n",
        "    def __init__(self, course_code, course_name):\n",
        "        self.__course_code = course_code\n",
        "        self.__course_name = course_name\n",
        "\n",
        "    def get_course_code(self):\n",
        "        return self.__course_code\n",
        "\n",
        "    def set_course_code(self, course_code):\n",
        "        self.__course_code = course_code\n",
        "\n",
        "    def get_course_name(self):\n",
        "        return self.__course_name\n",
        "\n",
        "    def set_course_name(self, course_name):\n",
        "        self.__course_name = course_name\n",
        "\n",
        "\n",
        "# Example usage:\n",
        "student1 = Student(\"Rajesh\", 18, \"S12345\")\n",
        "teacher1 = Teacher(\"Mr. Sitaraman\", 35, \"T98765\")\n",
        "course1 = Course(\"CS101\", \"Introduction to Computer Science\")\n",
        "\n",
        "student1.enroll_course(course1)\n",
        "teacher1.assign_course(course1)\n",
        "\n",
        "print(f\"{student1.get_name()} is enrolled in {student1.get_courses()[0].get_course_name()}\")\n",
        "print(f\"{teacher1.get_name()} is teaching {teacher1.get_courses_taught()[0].get_course_name()}\")"
      ],
      "metadata": {
        "colab": {
          "base_uri": "https://localhost:8080/"
        },
        "id": "DKAZqwXpv_wX",
        "outputId": "ab95ced3-22bc-40e9-c6ea-3f0dfd7f544c"
      },
      "execution_count": null,
      "outputs": [
        {
          "output_type": "stream",
          "name": "stdout",
          "text": [
            "Rajesh is enrolled in Introduction to Computer Science\n",
            "Mr. Sitaraman is teaching Introduction to Computer Science\n"
          ]
        }
      ]
    },
    {
      "cell_type": "markdown",
      "source": [
        "##12. Explain the concept of property decorators in Python and how they relate to encapsulation."
      ],
      "metadata": {
        "id": "V4ma-Hb8wNyg"
      }
    },
    {
      "cell_type": "markdown",
      "source": [
        "Property decorators provide a more concise way to create getter and setter methods. They enhance code readability and maintainability."
      ],
      "metadata": {
        "id": "tvjFwfowwRI7"
      }
    },
    {
      "cell_type": "code",
      "source": [
        "class Example:\n",
        "    def __init__(self):\n",
        "        self._private_attribute = 42\n",
        "\n",
        "    @property\n",
        "    def private_attribute(self):\n",
        "        return self._private_attribute\n",
        "\n",
        "    @private_attribute.setter\n",
        "    def private_attribute(self, value):\n",
        "        self._private_attribute = value"
      ],
      "metadata": {
        "id": "bf1Xz1RZwPHs"
      },
      "execution_count": null,
      "outputs": []
    },
    {
      "cell_type": "markdown",
      "source": [
        "##13. What is data hiding, and why is it important in encapsulation? Provide examples"
      ],
      "metadata": {
        "id": "pzrzLWQnwWwH"
      }
    },
    {
      "cell_type": "markdown",
      "source": [
        "Data Hiding:\n",
        "\n",
        "Data hiding is the practice of restricting access to the internal details of a class, preventing direct manipulation of attributes. It is important for maintaining the consistency and integrity of the object's state.*italicized text*"
      ],
      "metadata": {
        "id": "4Hj8GYhlwZzK"
      }
    },
    {
      "cell_type": "markdown",
      "source": [
        "##14. Create a Python class called `Employee` with private attributes for salary (`__salary`) and employee ID (`__employee_id`). Provide a method to calculate yearly bonuses."
      ],
      "metadata": {
        "id": "RNF4LVqhwdye"
      }
    },
    {
      "cell_type": "code",
      "source": [
        "class Employee:\n",
        "    def __init__(self, employee_id, salary):\n",
        "        self.__employee_id = employee_id\n",
        "        self.__salary = salary\n",
        "\n",
        "    def get_employee_id(self):\n",
        "        return self.__employee_id\n",
        "\n",
        "    def set_employee_id(self, employee_id):\n",
        "        self.__employee_id = employee_id\n",
        "\n",
        "    def get_salary(self):\n",
        "        return self.__salary\n",
        "\n",
        "    def set_salary(self, salary):\n",
        "        self.__salary = salary\n",
        "\n",
        "    def calculate_yearly_bonus(self, bonus_percentage):\n",
        "        if bonus_percentage < 0 or bonus_percentage > 100:\n",
        "            raise ValueError(\"Bonus percentage must be between 0 and 100\")\n",
        "        bonus_amount = (bonus_percentage / 100) * self.__salary\n",
        "        return bonus_amount\n",
        "\n",
        "\n",
        "# Example usage:\n",
        "employee1 = Employee(\"E12345\", 50000)\n",
        "\n",
        "print(f\"Employee ID: {employee1.get_employee_id()}\")\n",
        "print(f\"Current Salary: ${employee1.get_salary()}\")\n",
        "\n",
        "# Set a new salary\n",
        "employee1.set_salary(60000)\n",
        "print(f\"New Salary: ${employee1.get_salary()}\")\n",
        "\n",
        "# Calculate yearly bonus\n",
        "bonus_percentage = 10  # 10% bonus\n",
        "yearly_bonus = employee1.calculate_yearly_bonus(bonus_percentage)\n",
        "print(f\"Yearly Bonus ({bonus_percentage}%): ${yearly_bonus}\")"
      ],
      "metadata": {
        "colab": {
          "base_uri": "https://localhost:8080/"
        },
        "id": "ks7HCQ1VwevX",
        "outputId": "044597eb-9297-4c55-bb91-1e4fa338167f"
      },
      "execution_count": null,
      "outputs": [
        {
          "output_type": "stream",
          "name": "stdout",
          "text": [
            "Employee ID: E12345\n",
            "Current Salary: $50000\n",
            "New Salary: $60000\n",
            "Yearly Bonus (10%): $6000.0\n"
          ]
        }
      ]
    },
    {
      "cell_type": "markdown",
      "source": [
        "##15. Discuss the use of accessors and mutators in encapsulation. How do they help maintain control over attribute access?"
      ],
      "metadata": {
        "id": "jzZi9HvWw4F3"
      }
    },
    {
      "cell_type": "markdown",
      "source": [
        "Accessors and Mutators:\n",
        "\n",
        "Accessors (getters) provide read access to the attributes, and mutators (setters) provide write access. They enable controlled interaction with the object's internal state, preventing unrestricted access."
      ],
      "metadata": {
        "id": "F0mY2j4lw9HY"
      }
    },
    {
      "cell_type": "markdown",
      "source": [
        "##16. What are the potential drawbacks or disadvantages of using encapsulation in Python?"
      ],
      "metadata": {
        "id": "HVKzRi4fw_WE"
      }
    },
    {
      "cell_type": "markdown",
      "source": [
        "Drawbacks of Encapsulation:\n",
        "\n",
        "Increased Complexity: Encapsulation can lead to increased complexity, especially if not used judiciously.\n",
        "Overuse of Access Modifiers: Overuse of access modifiers can result in unnecessary restrictions, hindering flexibility."
      ],
      "metadata": {
        "id": "8tTeMuTbxE3T"
      }
    },
    {
      "cell_type": "markdown",
      "source": [
        "##17. Create a Python class for a library system that encapsulates book information, including titles, authors, and availability status."
      ],
      "metadata": {
        "id": "A8e7qiDWxGGh"
      }
    },
    {
      "cell_type": "code",
      "source": [
        "class Book:\n",
        "    def __init__(self, title, author):\n",
        "        self.__title = title\n",
        "        self.__author = author\n",
        "        self.__available = True\n",
        "\n",
        "    def get_title(self):\n",
        "        return self.__title\n",
        "\n",
        "    def set_title(self, title):\n",
        "        self.__title = title\n",
        "\n",
        "    def get_author(self):\n",
        "        return self.__author\n",
        "\n",
        "    def set_author(self, author):\n",
        "        self.__author = author\n",
        "\n",
        "    def is_available(self):\n",
        "        return self.__available\n",
        "\n",
        "    def check_out(self):\n",
        "        if self.__available:\n",
        "            self.__available = False\n",
        "            print(f\"Book '{self.__title}' by {self.__author} checked out successfully.\")\n",
        "        else:\n",
        "            print(f\"Book '{self.__title}' by {self.__author} is not available for checkout.\")\n",
        "\n",
        "    def return_book(self):\n",
        "        if not self.__available:\n",
        "            self.__available = True\n",
        "            print(f\"Book '{self.__title}' by {self.__author} returned successfully.\")\n",
        "        else:\n",
        "            print(f\"Book '{self.__title}' by {self.__author} is already available.\")\n",
        "\n",
        "\n",
        "# Example usage:\n",
        "book1 = Book(\"The Great Gatsby\", \"F. Scott Fitzgerald\")\n",
        "book2 = Book(\"To Kill a Mockingbird\", \"Harper Lee\")\n",
        "\n",
        "# Display book information\n",
        "print(f\"Book 1 - Title: {book1.get_title()}, Author: {book1.get_author()}, Available: {book1.is_available()}\")\n",
        "print(f\"Book 2 - Title: {book2.get_title()}, Author: {book2.get_author()}, Available: {book2.is_available()}\")\n",
        "\n",
        "# Check out and return books\n",
        "book1.check_out()\n",
        "book2.check_out()\n",
        "\n",
        "book1.return_book()\n",
        "book2.return_book()"
      ],
      "metadata": {
        "colab": {
          "base_uri": "https://localhost:8080/"
        },
        "id": "mHIilSLgxL0Q",
        "outputId": "e8404e3e-a0d8-4bbf-9fdf-c9841f1025ff"
      },
      "execution_count": null,
      "outputs": [
        {
          "output_type": "stream",
          "name": "stdout",
          "text": [
            "Book 1 - Title: The Great Gatsby, Author: F. Scott Fitzgerald, Available: True\n",
            "Book 2 - Title: To Kill a Mockingbird, Author: Harper Lee, Available: True\n",
            "Book 'The Great Gatsby' by F. Scott Fitzgerald checked out successfully.\n",
            "Book 'To Kill a Mockingbird' by Harper Lee checked out successfully.\n",
            "Book 'The Great Gatsby' by F. Scott Fitzgerald returned successfully.\n",
            "Book 'To Kill a Mockingbird' by Harper Lee returned successfully.\n"
          ]
        }
      ]
    },
    {
      "cell_type": "markdown",
      "source": [
        "##18. Explain how encapsulation enhances code reusability and modularity in Python programs."
      ],
      "metadata": {
        "id": "Tn8M9ymXxLZY"
      }
    },
    {
      "cell_type": "markdown",
      "source": [
        "Code Reusability and Modularity:\n",
        "\n",
        "Encapsulation promotes code reusability by encapsulating functionalities within classes, making it easier to reuse and share components. It also enhances modularity by isolating different parts of the code."
      ],
      "metadata": {
        "id": "7poxQuIwxb99"
      }
    },
    {
      "cell_type": "markdown",
      "source": [
        "##19. Describe the concept of information hiding in encapsulation. Why is it essential in software development?"
      ],
      "metadata": {
        "id": "oXM6emB5xdWJ"
      }
    },
    {
      "cell_type": "markdown",
      "source": [
        "Information Hiding:\n",
        "\n",
        "Information hiding is a crucial aspect of encapsulation, ensuring that the internal workings of a class are hidden from external entities. This reduces dependencies and allows for easier maintenance and updates."
      ],
      "metadata": {
        "id": "vWhEhfGGxgel"
      }
    },
    {
      "cell_type": "markdown",
      "source": [
        "##20. Create a Python class called `Customer` with private attributes for customer details like name, address, and contact information. Implement encapsulation to ensure data integrity and security."
      ],
      "metadata": {
        "id": "pr9zjpaMxicA"
      }
    },
    {
      "cell_type": "code",
      "source": [
        "class Customer:\n",
        "    def __init__(self, name, address, contact_info):\n",
        "        self.__name = name\n",
        "        self.__address = address\n",
        "        self.__contact_info = contact_info\n",
        "\n",
        "    def get_name(self):\n",
        "        return self.__name\n",
        "\n",
        "    def set_name(self, name):\n",
        "        self.__name = name\n",
        "\n",
        "    def get_address(self):\n",
        "        return self.__address\n",
        "\n",
        "    def set_address(self, address):\n",
        "        self.__address = address\n",
        "\n",
        "    def get_contact_info(self):\n",
        "        return self.__contact_info\n",
        "\n",
        "    def set_contact_info(self, contact_info):\n",
        "        self.__contact_info = contact_info\n",
        "\n",
        "    def display_customer_info(self):\n",
        "        print(f\"Customer Name: {self.__name}\")\n",
        "        print(f\"Address: {self.__address}\")\n",
        "        print(f\"Contact Information: {self.__contact_info}\")\n",
        "\n",
        "\n",
        "# Example usage:\n",
        "customer1 = Customer(\"Rajesh Kumar\", \"123 Pune Maharashtra\", \"Rajesh.kumar@email.com, (555) 123-4567\")\n",
        "\n",
        "# Display customer information\n",
        "print(\"Customer Information:\")\n",
        "customer1.display_customer_info()\n",
        "\n",
        "# Update customer details\n",
        "customer1.set_address(\"456 Mumabi\")\n",
        "customer1.set_contact_info(\"Rajesh.Kumar@newemail.com, (555) 987-6543\")\n",
        "\n",
        "# Display updated information\n",
        "print(\"\\nUpdated Customer Information:\")\n",
        "customer1.display_customer_info()"
      ],
      "metadata": {
        "colab": {
          "base_uri": "https://localhost:8080/"
        },
        "id": "MmRl5cwxxBhd",
        "outputId": "f02c75de-b912-455e-ecad-42f170793303"
      },
      "execution_count": null,
      "outputs": [
        {
          "output_type": "stream",
          "name": "stdout",
          "text": [
            "Customer Information:\n",
            "Customer Name: Rajesh Kumar\n",
            "Address: 123 Pune Maharashtra\n",
            "Contact Information: Rajesh.kumar@email.com, (555) 123-4567\n",
            "\n",
            "Updated Customer Information:\n",
            "Customer Name: Rajesh Kumar\n",
            "Address: 456 Mumabi\n",
            "Contact Information: Rajesh.Kumar@newemail.com, (555) 987-6543\n"
          ]
        }
      ]
    },
    {
      "cell_type": "markdown",
      "source": [
        "#Polymorphism:\n"
      ],
      "metadata": {
        "id": "Qnhuyv2kilqv"
      }
    },
    {
      "cell_type": "markdown",
      "source": [
        "##1. What is polymorphism in Python? Explain how it is related to object-oriented programming."
      ],
      "metadata": {
        "id": "_uWp6iazilnh"
      }
    },
    {
      "cell_type": "markdown",
      "source": [
        "Polymorphism in Python:\n",
        "Polymorphism is a key concept in object-oriented programming (OOP) that allows objects of different types to be treated as objects of a common type. In Python, polymorphism is related to the ability of different classes to provide a common interface for their methods, allowing them to be used interchangeably."
      ],
      "metadata": {
        "id": "_1GBe6Qjilf6"
      }
    },
    {
      "cell_type": "markdown",
      "source": [
        "##2. Describe the difference between compile-time polymorphism and runtime polymorphism in Python."
      ],
      "metadata": {
        "id": "J0PL1w1PxdHZ"
      }
    },
    {
      "cell_type": "markdown",
      "source": [
        "Compile-time Polymorphism vs. Runtime Polymorphism:\n",
        "\n",
        "Compile-time Polymorphism: Also known as method overloading, it occurs during the compilation phase. Multiple methods with the same name are defined in the same class, but with different parameters.\n",
        "\n",
        "\n",
        "Runtime Polymorphism: Also known as method overriding, it occurs during runtime. It involves the use of a common interface and allows a subclass to provide a specific implementation of a method already defined in its superclass."
      ],
      "metadata": {
        "id": "OgFM6-5GxdCb"
      }
    },
    {
      "cell_type": "markdown",
      "source": [
        "##3. Create a Python class hierarchy for shapes (e.g., circle, square, triangle) and demonstrate polymorphism through a common method, such as `calculate_area()`."
      ],
      "metadata": {
        "id": "yMxRml90xkn_"
      }
    },
    {
      "cell_type": "code",
      "source": [
        "class Shape:\n",
        "    def calculate_area(self):\n",
        "        pass\n",
        "\n",
        "class Circle(Shape):\n",
        "    def calculate_area(self):\n",
        "        # Implementation for calculating the area of a circle\n",
        "        pass\n",
        "\n",
        "class Square(Shape):\n",
        "    def calculate_area(self):\n",
        "        # Implementation for calculating the area of a square\n",
        "        pass\n",
        "\n",
        "class Triangle(Shape):\n",
        "    def calculate_area(self):\n",
        "        # Implementation for calculating the area of a triangle\n",
        "        pass"
      ],
      "metadata": {
        "id": "hp9LzYzCxca8"
      },
      "execution_count": null,
      "outputs": []
    },
    {
      "cell_type": "markdown",
      "source": [
        "##4. Explain the concept of method overriding in polymorphism. Provide an example.\n",
        "\n",
        "\n",
        "Method Overriding in Polymorphism:\n",
        "Method overriding occurs when a subclass provides a specific implementation for a method already defined in its superclass."
      ],
      "metadata": {
        "id": "F9bxAH38xrH1"
      }
    },
    {
      "cell_type": "code",
      "source": [
        "class Animal:\n",
        "    def speak(self):\n",
        "        print(\"Generic animal sound\")\n",
        "\n",
        "class Dog(Animal):\n",
        "    def speak(self):\n",
        "        print(\"Woof!\")\n",
        "\n",
        "class Cat(Animal):\n",
        "    def speak(self):\n",
        "        print(\"Meow!\")\n",
        "\n",
        "class Bird(Animal):\n",
        "    def speak(self):\n",
        "        print(\"Tweet!\")"
      ],
      "metadata": {
        "id": "Brk_RdHXxpNt"
      },
      "execution_count": null,
      "outputs": []
    },
    {
      "cell_type": "markdown",
      "source": [
        "##5. How is polymorphism different from method overloading in Python? Provide examples for both.\n",
        "\n",
        "\n",
        "Polymorphism vs. Method Overloading:\n",
        "\n",
        "Polymorphism: Refers to the ability of different classes to provide a common interface for their methods.\n",
        "Method Overloading: Involves defining multiple methods with the same name but different parameters within the same class."
      ],
      "metadata": {
        "id": "fLCrFDF3xyBO"
      }
    },
    {
      "cell_type": "code",
      "source": [
        "# Polymorphism\n",
        "animal = Animal()\n",
        "dog = Dog()\n",
        "cat = Cat()\n",
        "bird = Bird()\n",
        "for animal_obj in [animal, dog, cat, bird]:\n",
        "    animal_obj.speak()\n",
        "\n",
        "# Method Overloading\n",
        "class Example:\n",
        "    def add(self, a, b):\n",
        "        return a + b\n",
        "\n",
        "    def add(self, a, b, c):\n",
        "        return a + b + c"
      ],
      "metadata": {
        "colab": {
          "base_uri": "https://localhost:8080/"
        },
        "id": "MBpzLeZIxxiB",
        "outputId": "79a761f4-f1a0-4f02-9778-e75b35a4656f"
      },
      "execution_count": null,
      "outputs": [
        {
          "output_type": "stream",
          "name": "stdout",
          "text": [
            "Generic animal sound\n",
            "Woof!\n",
            "Meow!\n",
            "Tweet!\n"
          ]
        }
      ]
    },
    {
      "cell_type": "markdown",
      "source": [
        "##6. Create a Python class called `Animal` with a method `speak()`. Then, create child classes like `Dog`, `Cat`, and `Bird`, each with their own `speak()` method. Demonstrate polymorphism by calling the `speak()` method on objects of different subclasses."
      ],
      "metadata": {
        "id": "Deb8e7Tqx9vp"
      }
    },
    {
      "cell_type": "code",
      "source": [
        "class Animal:\n",
        "    def speak(self):\n",
        "        print(\"Generic animal sound\")\n",
        "\n",
        "class Dog(Animal):\n",
        "    def speak(self):\n",
        "        print(\"Woof!\")\n",
        "\n",
        "class Cat(Animal):\n",
        "    def speak(self):\n",
        "        print(\"Meow!\")\n",
        "\n",
        "class Bird(Animal):\n",
        "    def speak(self):\n",
        "        print(\"Tweet!\")\n",
        "\n",
        "# Demonstrate polymorphism\n",
        "animals = [Dog(), Cat(), Bird()]\n",
        "for animal in animals:\n",
        "    animal.speak()\n"
      ],
      "metadata": {
        "colab": {
          "base_uri": "https://localhost:8080/"
        },
        "id": "3vNvYzNmx5-f",
        "outputId": "f239f472-bfad-410a-f67b-ffaf6e47d514"
      },
      "execution_count": null,
      "outputs": [
        {
          "output_type": "stream",
          "name": "stdout",
          "text": [
            "Woof!\n",
            "Meow!\n",
            "Tweet!\n"
          ]
        }
      ]
    },
    {
      "cell_type": "markdown",
      "source": [
        "##7. Discuss the use of abstract methods and classes in achieving polymorphism in Python. Provide an example using the `abc` module.\n",
        "\n",
        "Abstract Methods and Classes:\n",
        "Using the abc module to create abstract methods and classes to achieve polymorphism."
      ],
      "metadata": {
        "id": "gXpjEL1dyFR2"
      }
    },
    {
      "cell_type": "code",
      "source": [
        "from abc import ABC, abstractmethod\n",
        "\n",
        "class Shape(ABC):\n",
        "    @abstractmethod\n",
        "    def calculate_area(self):\n",
        "        pass\n",
        "\n",
        "class Circle(Shape):\n",
        "    def calculate_area(self):\n",
        "        # Implementation for calculating the area of a circle\n",
        "        pass"
      ],
      "metadata": {
        "id": "2IEN6dEsyDdL"
      },
      "execution_count": null,
      "outputs": []
    },
    {
      "cell_type": "markdown",
      "source": [
        "##8. Create a Python class hierarchy for a vehicle system (e.g., car, bicycle, boat) and implement a polymorphic `start()` method that prints a message specific to each vehicle type."
      ],
      "metadata": {
        "id": "uMdQuEb6yMgD"
      }
    },
    {
      "cell_type": "code",
      "source": [
        "class Vehicle:\n",
        "    def start(self):\n",
        "        pass\n",
        "\n",
        "class Car(Vehicle):\n",
        "    def start(self):\n",
        "        print(\"Car engine started\")\n",
        "\n",
        "class Bicycle(Vehicle):\n",
        "    def start(self):\n",
        "        print(\"Pedaling the bicycle\")\n",
        "\n",
        "class Boat(Vehicle):\n",
        "    def start(self):\n",
        "        print(\"Boat engine started\")\n",
        "\n",
        "# Demonstrate polymorphism\n",
        "vehicles = [Car(), Bicycle(), Boat()]\n",
        "for vehicle in vehicles:\n",
        "    vehicle.start()"
      ],
      "metadata": {
        "colab": {
          "base_uri": "https://localhost:8080/"
        },
        "id": "uKCmHu1_yJd5",
        "outputId": "98f8bc53-223e-43e2-ded9-e7c74dfafd03"
      },
      "execution_count": null,
      "outputs": [
        {
          "output_type": "stream",
          "name": "stdout",
          "text": [
            "Car engine started\n",
            "Pedaling the bicycle\n",
            "Boat engine started\n"
          ]
        }
      ]
    },
    {
      "cell_type": "markdown",
      "source": [
        "##9. Explain the significance of the `isinstance()` and `issubclass()` functions in Python polymorphism.\n",
        "\n",
        "isinstance() and issubclass() in Python Polymorphism:\n",
        "These functions are used to check if an object is an instance of a particular class or if a class is a subclass of another class."
      ],
      "metadata": {
        "id": "UNeeqagmyS0p"
      }
    },
    {
      "cell_type": "code",
      "source": [
        "car = Car()\n",
        "\n",
        "print(isinstance(car, Vehicle))\n",
        "print(issubclass(Car, Vehicle))"
      ],
      "metadata": {
        "colab": {
          "base_uri": "https://localhost:8080/"
        },
        "id": "2MZKA04ByQ4d",
        "outputId": "cf70342b-ba9e-422f-f64c-2cbb1621e5b1"
      },
      "execution_count": null,
      "outputs": [
        {
          "output_type": "stream",
          "name": "stdout",
          "text": [
            "True\n",
            "True\n"
          ]
        }
      ]
    },
    {
      "cell_type": "markdown",
      "source": [
        "##10. What is the role of the `@abstractmethod` decorator in achieving polymorphism in Python? Provide an\n",
        "\n",
        "\n",
        "\n",
        "@abstractmethod Decorator:\n",
        "The @abstractmethod decorator is used to define abstract methods in abstract classes, enforcing that subclasses provide a specific implementation."
      ],
      "metadata": {
        "id": "ujPfuYjuybSu"
      }
    },
    {
      "cell_type": "code",
      "source": [
        "from abc import ABC, abstractmethod\n",
        "\n",
        "class Example(ABC):\n",
        "    @abstractmethod\n",
        "    def example_method(self):\n",
        "        pass"
      ],
      "metadata": {
        "id": "b8FBQA7EyXdU"
      },
      "execution_count": null,
      "outputs": []
    },
    {
      "cell_type": "markdown",
      "source": [
        "##11. Create a Python class called `Shape` with a polymorphic method `area()` that calculates the area of different shapes (e.g., circle, rectangle, triangle)."
      ],
      "metadata": {
        "id": "NWudhQLtyhiD"
      }
    },
    {
      "cell_type": "code",
      "source": [
        "class Shape:\n",
        "    def area(self):\n",
        "        pass\n",
        "\n",
        "class Circle(Shape):\n",
        "    def area(self):\n",
        "        # Implementation for calculating the area of a circle\n",
        "        pass\n",
        "\n",
        "class Rectangle(Shape):\n",
        "    def area(self):\n",
        "        # Implementation for calculating the area of a rectangle\n",
        "        pass\n",
        "\n",
        "class Triangle(Shape):\n",
        "    def area(self):\n",
        "        # Implementation for calculating the area of a triangle\n",
        "        pass"
      ],
      "metadata": {
        "id": "ZdAh1mKFyfv0"
      },
      "execution_count": null,
      "outputs": []
    },
    {
      "cell_type": "markdown",
      "source": [
        "##12. Discuss the benefits of polymorphism in terms of code reusability and flexibility in Python programs.\n",
        "\n",
        "\n",
        "Benefits of Polymorphism:\n",
        "\n",
        "Code Reusability: Polymorphism allows code to be reused for different objects that share a common interface.\n",
        "Flexibility: It provides flexibility by allowing the same operation to be performed on different types of objects."
      ],
      "metadata": {
        "id": "Io236ElbKt6d"
      }
    },
    {
      "cell_type": "markdown",
      "source": [
        "##13. Explain the use of the `super()` function in Python polymorphism. How does it help call methods of parent classes?"
      ],
      "metadata": {
        "id": "eLe5DpTrK2UL"
      }
    },
    {
      "cell_type": "markdown",
      "source": [
        "super() Function in Python Polymorphism:\n",
        "The super() function is used to call methods of a parent class."
      ],
      "metadata": {
        "id": "2RGVtWBbK6Ya"
      }
    },
    {
      "cell_type": "code",
      "source": [
        "class Parent:\n",
        "    def speak(self):\n",
        "        print(\"Parent speaking\")\n",
        "\n",
        "class Child(Parent):\n",
        "    def speak(self):\n",
        "        super().speak()\n",
        "        print(\"Child speaking\")\n",
        "\n",
        "child = Child()\n",
        "child.speak()"
      ],
      "metadata": {
        "colab": {
          "base_uri": "https://localhost:8080/"
        },
        "id": "AVKb4VYzKtZ_",
        "outputId": "1823c4fe-b9fb-4af0-cd9f-aa009ab4fa77"
      },
      "execution_count": null,
      "outputs": [
        {
          "output_type": "stream",
          "name": "stdout",
          "text": [
            "Parent speaking\n",
            "Child speaking\n"
          ]
        }
      ]
    },
    {
      "cell_type": "markdown",
      "source": [
        "##14. Create a Python class hierarchy for a banking system with various account types (e.g., savings, checking, credit card) and demonstrate polymorphism by implementing a common `withdraw()` method."
      ],
      "metadata": {
        "id": "V31-YAdLLBVF"
      }
    },
    {
      "cell_type": "code",
      "source": [
        "class Account:\n",
        "    def withdraw(self, amount):\n",
        "        pass\n",
        "\n",
        "class SavingsAccount(Account):\n",
        "    def withdraw(self, amount):\n",
        "        # Implementation for withdrawing from a savings account\n",
        "        pass\n",
        "\n",
        "class CheckingAccount(Account):\n",
        "    def withdraw(self, amount):\n",
        "        # Implementation for withdrawing from a checking account\n",
        "        pass\n",
        "\n",
        "class CreditCardAccount(Account):\n",
        "    def withdraw(self, amount):\n",
        "        # Implementation for withdrawing from a credit card account\n",
        "        pass"
      ],
      "metadata": {
        "id": "GTW2jZmaK-Re"
      },
      "execution_count": null,
      "outputs": []
    },
    {
      "cell_type": "markdown",
      "source": [
        "##15. Describe the concept of operator overloading in Python and how it relates to polymorphism. Provide examples using operators like `+` and `*`.\n",
        "\n",
        "Operator Overloading and Polymorphism:\n",
        "\n",
        "Operator overloading allows the same operator to behave differently for different types of objects."
      ],
      "metadata": {
        "id": "9-Ah1uKcLJ0s"
      }
    },
    {
      "cell_type": "code",
      "source": [
        "class Example:\n",
        "    def __init__(self, value):\n",
        "        self.value = value\n",
        "\n",
        "    def __add__(self, other):\n",
        "        return self.value + other.value\n",
        "\n",
        "obj1 = Example(5)\n",
        "obj2 = Example(10)\n",
        "result = obj1 + obj2\n",
        "print(result)"
      ],
      "metadata": {
        "colab": {
          "base_uri": "https://localhost:8080/"
        },
        "id": "2L4vEeNsLHSL",
        "outputId": "5c843d83-12a0-4d0a-dfc4-58615721be6e"
      },
      "execution_count": null,
      "outputs": [
        {
          "output_type": "stream",
          "name": "stdout",
          "text": [
            "15\n"
          ]
        }
      ]
    },
    {
      "cell_type": "markdown",
      "source": [
        "##16. What is dynamic polymorphism, and how is it achieved in Python?\n",
        "\n",
        "Dynamic Polymorphism in Python:\n",
        "\n",
        "\n",
        "Dynamic polymorphism refers to the ability of a method to do different things based on the object it is acting upon. In Python, it is achieved through method overriding and the dynamic nature of the language."
      ],
      "metadata": {
        "id": "esmZLy3XLZVp"
      }
    },
    {
      "cell_type": "markdown",
      "source": [
        "##17. Create a Python class hierarchy for employees in a company (e.g., manager, developer, designer) and implement polymorphism through a common `calculate_salary()` method."
      ],
      "metadata": {
        "id": "TISD_EMRLl9U"
      }
    },
    {
      "cell_type": "code",
      "source": [
        "class Employee:\n",
        "    def calculate_salary(self):\n",
        "        pass\n",
        "\n",
        "class Manager(Employee):\n",
        "    def calculate_salary(self):\n",
        "        # Implementation for calculating manager's salary\n",
        "        pass\n",
        "\n",
        "class Developer(Employee):\n",
        "    def calculate_salary(self):\n",
        "        # Implementation for calculating developer's salary\n",
        "        pass\n",
        "\n",
        "class Designer(Employee):\n",
        "    def calculate_salary(self):\n",
        "        # Implementation for calculating designer's salary\n",
        "        pass"
      ],
      "metadata": {
        "id": "Z9tW6WHcLWqI"
      },
      "execution_count": null,
      "outputs": []
    },
    {
      "cell_type": "markdown",
      "source": [
        "##18. Discuss the concept of function pointers and how they can be used to achieve polymorphism in Python\n",
        "\n",
        "Function Pointers and Polymorphism:\n",
        "\n",
        "In Python, function pointers are not explicitly used, but polymorphism is achieved through the dynamic nature of the language, allowing functions to be assigned to variables and passed as arguments."
      ],
      "metadata": {
        "id": "C6eMJsIOLqGs"
      }
    },
    {
      "cell_type": "markdown",
      "source": [
        "##19. Explain the role of interfaces and abstract classes in polymorphism, drawing comparisons between them\n",
        "\n",
        "\n",
        "Interfaces and Abstract Classes in Polymorphism:\n",
        "\n",
        "Abstract Classes: Abstract classes can have abstract methods, providing a common interface. Subclasses must implement these methods.\n",
        "Interfaces: Python doesn't have a built-in interface construct, but the concept is achieved using abstract classes."
      ],
      "metadata": {
        "id": "KN1PaqQrLynl"
      }
    },
    {
      "cell_type": "code",
      "source": [
        "from abc import ABC, abstractmethod\n",
        "\n",
        "class InterfaceExample(ABC):\n",
        "    @abstractmethod\n",
        "    def interface_method(self):\n",
        "        pass"
      ],
      "metadata": {
        "id": "SS3Bz0T9LoNA"
      },
      "execution_count": null,
      "outputs": []
    },
    {
      "cell_type": "markdown",
      "source": [
        "##20. Create a Python class for a zoo simulation, demonstrating polymorphism with different animal types (e.g., mammals, birds, reptiles) and their behavior (e.g., eating, sleeping, making sounds)."
      ],
      "metadata": {
        "id": "4_dQb7IZL6rW"
      }
    },
    {
      "cell_type": "code",
      "source": [
        "class Animal:\n",
        "    def make_sound(self):\n",
        "        pass\n",
        "\n",
        "class Mammal(Animal):\n",
        "    def make_sound(self):\n",
        "        print(\"Mammal sound\")\n",
        "\n",
        "class Bird(Animal):\n",
        "    def make_sound(self):\n",
        "        print(\"Bird sound\")\n",
        "\n",
        "class Reptile(Animal):\n",
        "    def make_sound(self):\n",
        "        print(\"Reptile sound\")\n",
        "\n",
        "# Demonstrate polymorphism\n",
        "zoo = [Mammal(), Bird(), Reptile()]\n",
        "for animal in zoo:\n",
        "    animal.make_sound()"
      ],
      "metadata": {
        "colab": {
          "base_uri": "https://localhost:8080/"
        },
        "id": "rOa6R_6SL3kF",
        "outputId": "67648c52-247d-4feb-c00f-3cc39ba7922f"
      },
      "execution_count": null,
      "outputs": [
        {
          "output_type": "stream",
          "name": "stdout",
          "text": [
            "Mammal sound\n",
            "Bird sound\n",
            "Reptile sound\n"
          ]
        }
      ]
    }
  ]
}