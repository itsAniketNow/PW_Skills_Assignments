{
  "nbformat": 4,
  "nbformat_minor": 0,
  "metadata": {
    "colab": {
      "provenance": []
    },
    "kernelspec": {
      "name": "python3",
      "display_name": "Python 3"
    },
    "language_info": {
      "name": "python"
    }
  },
  "cells": [
    {
      "cell_type": "markdown",
      "source": [
        "#Recurssion releation."
      ],
      "metadata": {
        "id": "o9qN9q9Qd9mh"
      }
    },
    {
      "cell_type": "markdown",
      "source": [
        "##Find the val%e of T(2) for the rec%rrence relation T(n) = 3T(n-1) + 12n, given that T(0)=5."
      ],
      "metadata": {
        "id": "S_cPNgtVd9jo"
      }
    },
    {
      "cell_type": "markdown",
      "source": [
        "To find T(2), we have:\n",
        "\n",
        "Given: T(0) = 5\n",
        "\n",
        "Using the recurrence relation:\n",
        "T(1) = 3T(0) + 12(1) = 3(5) + 12 = 15 + 12 = 27\n",
        "T(2) = 3T(1) + 12(2) = 3(27) + 12(2) = 81 + 24 = 105\n",
        "\n",
        "So, the value of T(2) is 105."
      ],
      "metadata": {
        "id": "O9PFZptOeGIQ"
      }
    },
    {
      "cell_type": "markdown",
      "source": [
        "##2. Given a rec%rrence relation, solve it %sing the s%bstit%tion method:\n",
        "a. T(n) = T(n-1) + c\n",
        "\n",
        "b. T(n) = 2T(n/2) + n\n",
        "\n",
        "c. T(n) = 2T(n/2) + c\n",
        "\n",
        "d. T(n) = T(n/2) + c"
      ],
      "metadata": {
        "id": "mXci396ieSw7"
      }
    },
    {
      "cell_type": "markdown",
      "source": [
        "##Answer\n",
        "\n",
        "***a. T(n) = T(n-1) + c***\n",
        "\n",
        "=> The solution for this recurrence relation using the substitution method would be linear:\n",
        "T(n) = O(n)\n",
        "\n",
        "***b. T(n) = 2T(n/2) + n***\n",
        "\n",
        "=> This recurrence relation represents the time complexity of the divide and conquer algorithm, such as merge sort.\n",
        "The solution using the Master Theorem is:\n",
        "T(n) = O(n log n)\n",
        "\n",
        "***c. T(n) = 2T(n/2) + c***\n",
        "**bold text**\n",
        "\n",
        "=> Similar to the previous one, this recurrence relation also represents the divide and conquer algorithm.\n",
        "The solution using the Master Theorem is:\n",
        "T(n) = O(n)\n",
        "\n",
        "***d. T(n) = T(n/2) + c***\n",
        "\n",
        "=> This recurrence relation represents algorithms that divide the problem size by a constant factor at each step, like binary search.\n",
        "The solution is:\n",
        "T(n) = O(log n)"
      ],
      "metadata": {
        "id": "tlSkhIt1ehES"
      }
    },
    {
      "cell_type": "markdown",
      "source": [
        "## 3. Given a rec%rrence relation, solve it %sing the rec%rsive tree approach:\n",
        "a. T(n) = 2T(n-1) +1\n",
        "\n",
        "b. T(n) = 2T(n/2) + n"
      ],
      "metadata": {
        "id": "fUAIAK58e5cj"
      }
    },
    {
      "cell_type": "markdown",
      "source": [
        "## Answer\n",
        "***a. T(n) = 2T(n-1) + 1***\n",
        "\n",
        "This recurrence relation represents a linear increase in time complexity.\n",
        "The solution is:\n",
        "T(n) = O(2^n)\n",
        "\n",
        "***b. T(n) = 2T(n/2) + n***\n",
        "\n",
        "This recurrence relation represents the time complexity of the divide and conquer algorithm, such as quicksort.\n",
        "The solution using the Master Theorem is:\n",
        "T(n) = O(n log n)"
      ],
      "metadata": {
        "id": "kwO66zpxe9uD"
      }
    }
  ]
}