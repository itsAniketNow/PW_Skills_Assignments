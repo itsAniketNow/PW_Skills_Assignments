{
  "cells": [
    {
      "cell_type": "markdown",
      "source": [
        "#Array\n"
      ],
      "metadata": {
        "id": "hXaio54oL8I2"
      }
    },
    {
      "cell_type": "markdown",
      "source": [
        "###1. Given an array, check if it contains any duplicates or not.\n",
        "\n",
        "\n",
        "arr = [1, 2, 4, 2, 5, 9]\n",
        "\n",
        "\n",
        "Output = True:"
      ],
      "metadata": {
        "id": "HIpSboIaL8Fh"
      }
    },
    {
      "cell_type": "code",
      "source": [
        "# Given an array, check if it contains any duplicates or not.\n",
        "def containsDuplicate(nums):\n",
        "    # Create a set to store unique elements\n",
        "    num_set = set()\n",
        "    for num in nums:\n",
        "        # If the element is already in the set, return True\n",
        "        if num in num_set:\n",
        "            return True\n",
        "        # Otherwise, add it to the set\n",
        "        num_set.add(num)\n",
        "    # If no duplicates are found, return False\n",
        "    return False\n",
        "\n",
        "arr1 = [1, 2, 4, 2, 5, 9]\n",
        "print(containsDuplicate(arr1))"
      ],
      "metadata": {
        "colab": {
          "base_uri": "https://localhost:8080/"
        },
        "id": "QONHUKw3L7Z5",
        "outputId": "de3b00c8-4a48-4099-cdac-38e12d1ee2ac"
      },
      "execution_count": 1,
      "outputs": [
        {
          "output_type": "stream",
          "name": "stdout",
          "text": [
            "True\n"
          ]
        }
      ]
    },
    {
      "cell_type": "markdown",
      "source": [
        "###2. Given an array and an integer k, rotate the array to the right by k steps.\n",
        "\n",
        "\n",
        "arr = [1, 2, 3, 4, 5, 6, 7] k = 3\n",
        "\n",
        "\n",
        "Output = [5, 6, 7, 1, 2, 3, 4]"
      ],
      "metadata": {
        "id": "7WrcgubsL7jB"
      }
    },
    {
      "cell_type": "code",
      "source": [
        "# Given an array and an integer k, rotate the array to the right by k steps.\n",
        "def rotateArray(nums, k):\n",
        "    # Handle cases where k is greater than the length of the array\n",
        "    k %= len(nums)\n",
        "    # Perform rotation using slicing\n",
        "    nums[:] = nums[-k:] + nums[:-k]\n",
        "\n",
        "arr2 = [1, 2, 3, 4, 5, 6, 7]\n",
        "rotateArray(arr2, 3)\n",
        "print(arr2)"
      ],
      "metadata": {
        "colab": {
          "base_uri": "https://localhost:8080/"
        },
        "id": "bHZBuuUxMK-c",
        "outputId": "5f9c4c8f-69b3-4110-8eb1-392644d4e638"
      },
      "execution_count": 2,
      "outputs": [
        {
          "output_type": "stream",
          "name": "stdout",
          "text": [
            "[5, 6, 7, 1, 2, 3, 4]\n"
          ]
        }
      ]
    },
    {
      "cell_type": "markdown",
      "source": [
        "###3. Reverse the given array in-place, means without using any extra data structure.\n",
        "\n",
        "\n",
        "arr = [2, 4, 5, 7, 9, 12]\n",
        "\n",
        "\n",
        "Output = [12, 9, 7, 5, 4, 2]"
      ],
      "metadata": {
        "id": "yUZU6PM6MLy4"
      }
    },
    {
      "cell_type": "code",
      "source": [
        "# Reverse the given array in-place, means without using any extra data structure.\n",
        "def reverseArray(nums):\n",
        "    # Use two pointers approach to reverse the array in-place\n",
        "    left, right = 0, len(nums) - 1\n",
        "    while left < right:\n",
        "        nums[left], nums[right] = nums[right], nums[left]\n",
        "        left += 1\n",
        "        right -= 1\n",
        "\n",
        "arr3 = [2, 4, 5, 7, 9, 12]\n",
        "reverseArray(arr3)\n",
        "print(arr3)"
      ],
      "metadata": {
        "colab": {
          "base_uri": "https://localhost:8080/"
        },
        "id": "3vjuku08MZnk",
        "outputId": "700f5e58-f9e1-4742-bbfa-3c9aae2381fd"
      },
      "execution_count": 3,
      "outputs": [
        {
          "output_type": "stream",
          "name": "stdout",
          "text": [
            "[12, 9, 7, 5, 4, 2]\n"
          ]
        }
      ]
    },
    {
      "cell_type": "markdown",
      "source": [
        "###4. Given an array of integers, find the maximum element in an array\n",
        "\n",
        "\n",
        "arr = [10, 5, 20, 8, 15]\n",
        "\n",
        "\n",
        "Output = 20"
      ],
      "metadata": {
        "id": "8kH1OafSMLv0"
      }
    },
    {
      "cell_type": "code",
      "source": [
        "# Given an array of integers, find the maximum element in the array\n",
        "def findMax(nums):\n",
        "    # Initialize max_val to the first element of the array\n",
        "    max_val = nums[0]\n",
        "    # Iterate through the array to find the maximum element\n",
        "    for num in nums[1:]:\n",
        "        if num > max_val:\n",
        "            max_val = num\n",
        "    return max_val\n",
        "\n",
        "arr4 = [10, 5, 20, 8, 15]\n",
        "print(findMax(arr4))"
      ],
      "metadata": {
        "colab": {
          "base_uri": "https://localhost:8080/"
        },
        "id": "aZZ5EyOQMTty",
        "outputId": "548c8001-b293-4fc3-fb90-da66ae1b5681"
      },
      "execution_count": 4,
      "outputs": [
        {
          "output_type": "stream",
          "name": "stdout",
          "text": [
            "20\n"
          ]
        }
      ]
    },
    {
      "cell_type": "markdown",
      "source": [
        "###5. Given a sorted array, remove the duplicate element without using any extra data structure.\n",
        "\n",
        "\n",
        "arr = [1, 1, 2, 2, 2, 3, 3, 4, 4, 4, 5, 5]\n",
        "\n",
        "\n",
        "Output = [1, 2, 3, 4, 5]"
      ],
      "metadata": {
        "id": "vFUWjXVeMUoc"
      }
    },
    {
      "cell_type": "code",
      "source": [
        "# Given a sorted array, remove the duplicate elements without using any extra data structure.\n",
        "def removeDuplicates(nums):\n",
        "    # Initialize a pointer to track the position where non-duplicate elements should be placed\n",
        "    pos = 1\n",
        "    for i in range(1, len(nums)):\n",
        "        # If the current element is different from the previous one, move it to the next position\n",
        "        if nums[i] != nums[i - 1]:\n",
        "            nums[pos] = nums[i]\n",
        "            pos += 1\n",
        "    # Truncate the array to remove duplicate elements\n",
        "    nums = nums[:pos]\n",
        "\n",
        "arr5 = [1, 1, 2, 2, 2, 3, 3, 4, 4, 4, 5, 5]\n",
        "removeDuplicates(arr5)\n",
        "print(arr5)"
      ],
      "metadata": {
        "colab": {
          "base_uri": "https://localhost:8080/"
        },
        "id": "r2VrX7HBMYPS",
        "outputId": "2d31f7a4-e342-49bb-9320-b82d16fd3251"
      },
      "execution_count": 5,
      "outputs": [
        {
          "output_type": "stream",
          "name": "stdout",
          "text": [
            "[1, 2, 3, 4, 5, 3, 3, 4, 4, 4, 5, 5]\n"
          ]
        }
      ]
    }
  ],
  "metadata": {
    "colab": {
      "provenance": []
    },
    "kernelspec": {
      "display_name": "Python 3",
      "name": "python3"
    },
    "language_info": {
      "name": "python"
    }
  },
  "nbformat": 4,
  "nbformat_minor": 0
}