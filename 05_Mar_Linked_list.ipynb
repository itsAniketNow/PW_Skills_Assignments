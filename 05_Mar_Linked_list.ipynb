{
  "nbformat": 4,
  "nbformat_minor": 0,
  "metadata": {
    "colab": {
      "provenance": []
    },
    "kernelspec": {
      "name": "python3",
      "display_name": "Python 3"
    },
    "language_info": {
      "name": "python"
    }
  },
  "cells": [
    {
      "cell_type": "markdown",
      "source": [
        "## Linked List Assignment."
      ],
      "metadata": {
        "id": "nRerm5PGg1kC"
      }
    },
    {
      "cell_type": "markdown",
      "source": [
        "###1. Define a Doubly Linked List\n",
        "\n",
        "Answer : A Doubly Linked List is a type of linked list in which each node contains three parts:\n",
        "\n",
        "A data field to store the data.\n",
        "\n",
        "A pointer to the next node in the list (called next).\n",
        "\n",
        "A pointer to the previous node in the list (called prev).\n",
        "\n",
        "This allows traversal of the list in both directions: forward and backward.\n",
        "\n"
      ],
      "metadata": {
        "id": "9XzjpLGng1sB"
      }
    },
    {
      "cell_type": "markdown",
      "source": [],
      "metadata": {
        "id": "ip6TNWQziAeF"
      }
    },
    {
      "cell_type": "markdown",
      "source": [
        "###2. Write a function to reverse a Linked List in-place"
      ],
      "metadata": {
        "id": "9l2XQZFniCc6"
      }
    },
    {
      "cell_type": "code",
      "source": [
        "class LinkedList:\n",
        "    def __init__(self):\n",
        "        self.head = None\n",
        "\n",
        "    def reverse(self):\n",
        "        current = self.head\n",
        "        prev_node = None\n",
        "        while current:\n",
        "            next_node = current.next\n",
        "            current.next = prev_node\n",
        "            prev_node = current\n",
        "            current = next_node\n",
        "        self.head = prev_node"
      ],
      "metadata": {
        "id": "LKmi8L64iLMx"
      },
      "execution_count": 1,
      "outputs": []
    },
    {
      "cell_type": "markdown",
      "source": [
        "###3. Detect a Cycle in a Linked List\n",
        "\n",
        "To detect a cycle in a linked list, you can use Floyd's Cycle Detection Algorithm, also known as the Tortoise and Hare algorithm. This algorithm uses two pointers:\n",
        "\n",
        "A slow pointer (slow), which moves one step at a time.\n",
        "A fast pointer (fast), which moves two steps at a time.\n",
        "If there is a cycle in the linked list, the fast pointer will eventually meet the slow pointer. If there is no cycle, the fast pointer will reach the end of the list (i.e., None).\n",
        "\n"
      ],
      "metadata": {
        "id": "b01Wq8jQiUF2"
      }
    },
    {
      "cell_type": "code",
      "source": [
        "def detect_cycle(head):\n",
        "    slow = head\n",
        "    fast = head\n",
        "    while fast and fast.next:\n",
        "        slow = slow.next\n",
        "        fast = fast.next.next\n",
        "        if slow == fast:\n",
        "            return True\n",
        "    return False"
      ],
      "metadata": {
        "id": "83q18lD5iMrg"
      },
      "execution_count": 2,
      "outputs": []
    },
    {
      "cell_type": "markdown",
      "source": [
        "###4. Merge Two Sorted Linked Lists into One"
      ],
      "metadata": {
        "id": "1FHLaPg7ptYe"
      }
    },
    {
      "cell_type": "code",
      "source": [
        "def merge_sorted_lists(l1, l2):\n",
        "    dummy = Node(0)\n",
        "    tail = dummy\n",
        "    while l1 and l2:\n",
        "        if l1.data < l2.data:\n",
        "            tail.next = l1\n",
        "            l1 = l1.next\n",
        "        else:\n",
        "            tail.next = l2\n",
        "            l2 = l2.next\n",
        "        tail = tail.next\n",
        "    tail.next = l1 if l1 else l2\n",
        "    return dummy.next"
      ],
      "metadata": {
        "id": "T2mcLLQfiXW4"
      },
      "execution_count": 2,
      "outputs": []
    },
    {
      "cell_type": "markdown",
      "source": [
        "###5. Remove the N-th Node from the End of a Linked List"
      ],
      "metadata": {
        "id": "TULH6EImpzDy"
      }
    },
    {
      "cell_type": "code",
      "source": [
        "def remove_nth_from_end(head, n):\n",
        "    dummy = Node(0)\n",
        "    dummy.next = head\n",
        "    fast = slow = dummy\n",
        "    for _ in range(n + 1):\n",
        "        fast = fast.next\n",
        "    while fast:\n",
        "        fast = fast.next\n",
        "        slow = slow.next\n",
        "    slow.next = slow.next.next\n",
        "    return dummy.next\n"
      ],
      "metadata": {
        "id": "MDM1mVFApwuz"
      },
      "execution_count": 3,
      "outputs": []
    },
    {
      "cell_type": "markdown",
      "source": [
        "###6. Remove Duplicates from a Sorted Linked List"
      ],
      "metadata": {
        "id": "Vtt1kDk2p6Xa"
      }
    },
    {
      "cell_type": "code",
      "source": [
        "def remove_duplicates(head):\n",
        "    current = head\n",
        "    while current and current.next:\n",
        "        if current.data == current.next.data:\n",
        "            current.next = current.next.next\n",
        "        else:\n",
        "            current = current.next\n",
        "    return head"
      ],
      "metadata": {
        "id": "1YgYWETUp365"
      },
      "execution_count": 4,
      "outputs": []
    },
    {
      "cell_type": "markdown",
      "source": [
        "###7. Find the Intersection of Two Linked Lists"
      ],
      "metadata": {
        "id": "m92VI6Jrp-F7"
      }
    },
    {
      "cell_type": "code",
      "source": [
        "def find_intersection(headA, headB):\n",
        "    lenA, lenB = 0, 0\n",
        "    tempA, tempB = headA, headB\n",
        "\n",
        "    while tempA:\n",
        "        lenA += 1\n",
        "        tempA = tempA.next\n",
        "\n",
        "    while tempB:\n",
        "        lenB += 1\n",
        "        tempB = tempB.next\n",
        "\n",
        "    tempA, tempB = headA, headB\n",
        "    if lenA > lenB:\n",
        "        for _ in range(lenA - lenB):\n",
        "            tempA = tempA.next\n",
        "    else:\n",
        "        for _ in range(lenB - lenA):\n",
        "            tempB = tempB.next\n",
        "\n",
        "    while tempA != tempB:\n",
        "        tempA = tempA.next\n",
        "        tempB = tempB.next\n",
        "\n",
        "    return tempA"
      ],
      "metadata": {
        "id": "WRO6uVsUqEzH"
      },
      "execution_count": 5,
      "outputs": []
    },
    {
      "cell_type": "markdown",
      "source": [
        "###8. Rotate a Linked List by K Positions to the Right"
      ],
      "metadata": {
        "id": "H2Mi4_XBp_2S"
      }
    },
    {
      "cell_type": "code",
      "source": [
        "def rotate_right(head, k):\n",
        "    if not head:\n",
        "        return None\n",
        "\n",
        "    last_node = head\n",
        "    length = 1\n",
        "    while last_node.next:\n",
        "        last_node = last_node.next\n",
        "        length += 1\n",
        "\n",
        "    k %= length\n",
        "    if k == 0:\n",
        "        return head\n",
        "\n",
        "    last_node.next = head\n",
        "    temp = head\n",
        "    for _ in range(length - k - 1):\n",
        "        temp = temp.next\n",
        "\n",
        "    new_head = temp.next\n",
        "    temp.next = None\n",
        "    return new_head"
      ],
      "metadata": {
        "id": "fzcQqn61qIry"
      },
      "execution_count": 6,
      "outputs": []
    },
    {
      "cell_type": "markdown",
      "source": [
        "###9. Add Two Numbers Represented by Linked Lists"
      ],
      "metadata": {
        "id": "GKUxy0soqMLU"
      }
    },
    {
      "cell_type": "code",
      "source": [
        "class ListNode:\n",
        "    def __init__(self, val=0, next=None):\n",
        "        self.val = val\n",
        "        self.next = next\n",
        "\n",
        "def add_two_numbers(l1, l2):\n",
        "    dummy = ListNode(0)\n",
        "    p, q, current = l1, l2, dummy\n",
        "    carry = 0\n",
        "    while p or q:\n",
        "        x = p.val if p else 0\n",
        "        y = q.val if q else 0\n",
        "        total = carry + x + y\n",
        "        carry = total // 10\n",
        "        current.next = ListNode(total % 10)\n",
        "        current = current.next\n",
        "        if p:\n",
        "            p = p.next\n",
        "        if q:\n",
        "            q = q.next\n",
        "    if carry > 0:\n",
        "        current.next = ListNode(carry)\n",
        "    return dummy.next"
      ],
      "metadata": {
        "id": "SVtZpaEdqKKO"
      },
      "execution_count": 7,
      "outputs": []
    },
    {
      "cell_type": "markdown",
      "source": [
        "###10. Clone a Linked List with Next and Random Pointer"
      ],
      "metadata": {
        "id": "4Nqt8ETQqRxA"
      }
    },
    {
      "cell_type": "code",
      "source": [
        "class Node:\n",
        "    def __init__(self, val=0, next=None, random=None):\n",
        "        self.val = val\n",
        "        self.next = next\n",
        "        self.random = random\n",
        "\n",
        "def copy_random_list(head):\n",
        "    if not head:\n",
        "        return None\n",
        "\n",
        "    # Step 1: Create a copy of each node and place it next to the original node\n",
        "    current = head\n",
        "    while current:\n",
        "        new_node = Node(current.val)\n",
        "        new_node.next = current.next\n",
        "        current.next = new_node\n",
        "        current = new_node.next\n",
        "\n",
        "    # Step 2: Assign random pointers for the copy nodes\n",
        "    current = head\n",
        "    while current:\n",
        "        if current.random:\n",
        "            current.next.random = current.random.next\n",
        "        current = current.next.next\n",
        "\n",
        "    # Step 3: Separate the original and copied list\n",
        "    original = head\n",
        "    copy = head.next\n",
        "    copy_head = copy\n",
        "\n",
        "    while original:\n",
        "        original.next = original.next.next\n",
        "        if copy.next:\n",
        "            copy.next = copy.next.next\n",
        "        original = original.next\n",
        "        copy = copy.next\n",
        "\n",
        "    return copy_head"
      ],
      "metadata": {
        "id": "XQFCUDi6qPdM"
      },
      "execution_count": 8,
      "outputs": []
    },
    {
      "cell_type": "code",
      "source": [],
      "metadata": {
        "id": "ELCiFie2qUjT"
      },
      "execution_count": null,
      "outputs": []
    }
  ]
}