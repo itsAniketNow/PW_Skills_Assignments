{
  "cells": [
    {
      "cell_type": "markdown",
      "source": [
        "#Time Complexity + Recurssion"
      ],
      "metadata": {
        "id": "oywMR2jSTlol"
      }
    },
    {
      "cell_type": "markdown",
      "source": [
        "##Time Complexity"
      ],
      "metadata": {
        "id": "v0Gpy9aeTls7"
      }
    },
    {
      "cell_type": "markdown",
      "source": [
        "Problem 1 :\n",
        "\n",
        "\n",
        "---\n",
        "\n",
        "\n",
        "\n",
        "```\n",
        "def quicksort(arr):\n",
        "if len(arr) <= 1:\n",
        "return arr\n",
        "pivot = arr[len(arr) // 2]\n",
        "left = [x for x in arr if x < pivot]\n",
        "middle = [x for x in arr if x == pivot]\n",
        "right = [x for x in arr if x > pivot]\n",
        "return quicksort(left) + middle + quicksort(right)\n",
        "```\n",
        "\n",
        "\n",
        "\n",
        "---\n",
        "\n",
        "\n",
        "###Answer -:-  \n",
        "**O(nLogn) average case, O(n^2) worst case**"
      ],
      "metadata": {
        "id": "EJIQGWG4Tywm"
      }
    },
    {
      "cell_type": "markdown",
      "source": [
        "Problem 2 :\n",
        "\n",
        "\n",
        "---\n",
        "\n",
        "```\n",
        "def nested_loop_example(matrix):\n",
        "\n",
        "      rows, cols = len(matrix), len(matrix[0])\n",
        "\n",
        "      total = 0\n",
        "\n",
        "      for i in range(rows):\n",
        "\n",
        "          for j in range(cols):\n",
        "\n",
        "          total += matrix[i][j]\n",
        "\n",
        "return total\n",
        "```\n",
        "\n",
        "\n",
        "\n",
        "\n",
        "---\n",
        "###Answer -:-\n",
        "**O(n⋅m) where n is the number of rows and m is the number of columns.**\n",
        "\n"
      ],
      "metadata": {
        "id": "BebYijHDTylX"
      }
    },
    {
      "cell_type": "markdown",
      "source": [
        "Problem 3 :\n",
        "\n",
        "\n",
        "---\n",
        "\n",
        "\n",
        "\n",
        "```\n",
        "def example_function(arr):\n",
        "    result = 0\n",
        "    for element in arr:\n",
        "        result += element\n",
        "    return result\n",
        "```\n",
        "\n",
        "\n",
        "---\n",
        "\n",
        "\n",
        "\n",
        "###Answer -:-\n",
        "**Example Function - O(n) where n is the size of the input array.**"
      ],
      "metadata": {
        "id": "sSxqXKsxV2WQ"
      }
    },
    {
      "cell_type": "markdown",
      "source": [
        "Problem 4 :\n",
        "\n",
        "\n",
        "---\n",
        "\n",
        "\n",
        "```\n",
        "def longest_increasing_subsequence(nums):\n",
        "      n = len(nums)\n",
        "      lis = [1] * n\n",
        "      for i in range(1, n):\n",
        "          for j in range(0, i):\n",
        "              if nums[i] > nums[j] and lis[i] < lis[j] + 1:\n",
        "              lis[i] = lis[j] + 1\n",
        "      return max(lis)\n",
        "```\n",
        "\n",
        "\n",
        "\n",
        "---\n",
        "\n",
        "###Answer -:-\n",
        " **Longest Increasing Subsequence - O(n^2) where n is the length of the input array**"
      ],
      "metadata": {
        "id": "CBTzBlv9V2Ox"
      }
    },
    {
      "cell_type": "markdown",
      "source": [
        "Problem 5 :\n",
        "\n",
        "\n",
        "---\n",
        "\n",
        "\n",
        "```\n",
        "def mysterious_function(arr):\n",
        "    n = len(arr)\n",
        "    result = 0\n",
        "    for i in range(n):\n",
        "        for j in range(i, n):\n",
        "            result += arr[i] * arr[j]\n",
        "    return result\n",
        "```\n",
        "\n",
        "\n",
        "\n",
        "---\n",
        "\n",
        "###Answer -:-\n",
        "**Mysterious Function - O(n^2) where n is the length of the input array**"
      ],
      "metadata": {
        "id": "qPsvRtLCVNnV"
      }
    },
    {
      "cell_type": "markdown",
      "source": [
        "##problems on recursion"
      ],
      "metadata": {
        "id": "VfTl4ZugXppv"
      }
    },
    {
      "cell_type": "markdown",
      "source": [
        "###Problem 6 : Sum of Digits\n",
        "Write a recursive function to calculate the sum of digits of a given positive integer.\n",
        "sum_of_digits(123) -> 6"
      ],
      "metadata": {
        "id": "JSldVMUVXuZn"
      }
    },
    {
      "cell_type": "code",
      "source": [
        "def sum_of_digits(n):\n",
        "    if n == 0:\n",
        "        return 0\n",
        "    return n % 10 + sum_of_digits(n // 10)\n",
        "\n",
        "# Test\n",
        "print(sum_of_digits(123))"
      ],
      "metadata": {
        "colab": {
          "base_uri": "https://localhost:8080/"
        },
        "id": "YI8ab97EXpkf",
        "outputId": "9223e34d-aac5-4b7f-df39-29007bb156f0"
      },
      "execution_count": 1,
      "outputs": [
        {
          "output_type": "stream",
          "name": "stdout",
          "text": [
            "6\n"
          ]
        }
      ]
    },
    {
      "cell_type": "markdown",
      "source": [
        "###Problem 7: Fibonacci Series\n",
        "Write a recursive function to generate the first n numbers of the Fibonacci series.\n",
        "fibonacci_series(6) -> [0, 1, 1, 2, 3, 5]"
      ],
      "metadata": {
        "id": "p5LcBZ40XpFU"
      }
    },
    {
      "cell_type": "code",
      "source": [
        "def fibonacci_series(n):\n",
        "    if n <= 0:\n",
        "        return []\n",
        "    if n == 1:\n",
        "        return [0]\n",
        "    if n == 2:\n",
        "        return [0, 1]\n",
        "\n",
        "    fib_series = fibonacci_series(n - 1)\n",
        "    fib_series.append(fib_series[-1] + fib_series[-2])\n",
        "    return fib_series\n",
        "\n",
        "# Test\n",
        "print(fibonacci_series(6))"
      ],
      "metadata": {
        "colab": {
          "base_uri": "https://localhost:8080/"
        },
        "id": "OCHD_4m2Xo-o",
        "outputId": "ccf1e5e5-53bc-43b2-e54e-bc42eb3f12ea"
      },
      "execution_count": 2,
      "outputs": [
        {
          "output_type": "stream",
          "name": "stdout",
          "text": [
            "[0, 1, 1, 2, 3, 5]\n"
          ]
        }
      ]
    },
    {
      "cell_type": "markdown",
      "source": [
        "###Problem 8 : Subset Sum\n",
        "Given a set of positive integers and a target sum, write a recursive function to determine if there exists a subset\n",
        "of the integers that adds up to the target sum.\n",
        "subset_sum([3, 34, 4, 12, 5, 2], 9) -> True"
      ],
      "metadata": {
        "id": "BKzST0XjXo2_"
      }
    },
    {
      "cell_type": "code",
      "source": [
        "def subset_sum(nums, target):\n",
        "    if target == 0:\n",
        "        return True\n",
        "    if not nums or target < 0:\n",
        "        return False\n",
        "\n",
        "    return subset_sum(nums[:-1], target - nums[-1]) or subset_sum(nums[:-1], target)\n",
        "\n",
        "# Test\n",
        "print(subset_sum([3, 34, 4, 12, 5, 2], 9))"
      ],
      "metadata": {
        "colab": {
          "base_uri": "https://localhost:8080/"
        },
        "id": "gDQV3VJbXoup",
        "outputId": "247e485e-6a36-44b5-adc2-4c1f168861c3"
      },
      "execution_count": 3,
      "outputs": [
        {
          "output_type": "stream",
          "name": "stdout",
          "text": [
            "True\n"
          ]
        }
      ]
    },
    {
      "cell_type": "markdown",
      "source": [
        "###Problem 9: Word Break\n",
        "Given a non-empty string and a dictionary of words, write a recursive function to determine if the string can be\n",
        "segmented into a space-separated sequence of dictionary words.\n",
        "word_break( leetcode , [ leet , code ]) -> True"
      ],
      "metadata": {
        "id": "NZALQ_-cXomZ"
      }
    },
    {
      "cell_type": "code",
      "source": [
        "def word_break(s, word_dict):\n",
        "    if not s:\n",
        "        return True\n",
        "\n",
        "    for word in word_dict:\n",
        "        if s.startswith(word):\n",
        "            if word_break(s[len(word):], word_dict):\n",
        "                return True\n",
        "\n",
        "    return False\n",
        "\n",
        "# Test\n",
        "print(word_break(\"leetcode\", [\"leet\", \"code\"]))"
      ],
      "metadata": {
        "colab": {
          "base_uri": "https://localhost:8080/"
        },
        "id": "wF6snIYYXodY",
        "outputId": "2701f985-76e3-48a8-bc55-f2a0d3ea4657"
      },
      "execution_count": 4,
      "outputs": [
        {
          "output_type": "stream",
          "name": "stdout",
          "text": [
            "True\n"
          ]
        }
      ]
    },
    {
      "cell_type": "markdown",
      "source": [
        "###Problem 10 : N-Queens\n",
        "Implement a recursive function to solve the N Queens problem, where you have to place N queens on an N×N\n",
        "chessboard in such a way that no two queens threaten each other.\n",
        "n_queens(4)\n",
        "\n",
        "\n",
        "[\n",
        "[\".Q..\",\n",
        "\"...Q\",\n",
        "\"Q...\",\n",
        "\"..Q.\"],\n",
        "[\"..Q.\",\n",
        "\"Q...\",\n",
        "\"...Q\",\n",
        "\".Q..\"]\n",
        "]"
      ],
      "metadata": {
        "id": "qL9APMvFXn_M"
      }
    },
    {
      "cell_type": "code",
      "source": [
        "def is_safe(board, row, col, n):\n",
        "    # Check if there is a queen in the same column\n",
        "    for i in range(row):\n",
        "        if board[i][col] == 'Q':\n",
        "            return False\n",
        "\n",
        "    # Check upper diagonal on left side\n",
        "    for i, j in zip(range(row, -1, -1), range(col, -1, -1)):\n",
        "        if board[i][j] == 'Q':\n",
        "            return False\n",
        "\n",
        "    # Check upper diagonal on right side\n",
        "    for i, j in zip(range(row, -1, -1), range(col, n)):\n",
        "        if board[i][j] == 'Q':\n",
        "            return False\n",
        "\n",
        "    return True\n",
        "\n",
        "def solve_n_queens(n, board, row, result):\n",
        "    if row == n:\n",
        "        result.append([\"\".join(row) for row in board])\n",
        "        return\n",
        "\n",
        "    for col in range(n):\n",
        "        if is_safe(board, row, col, n):\n",
        "            board[row][col] = 'Q'\n",
        "            solve_n_queens(n, board, row + 1, result)\n",
        "            board[row][col] = '.'\n",
        "\n",
        "def n_queens(n):\n",
        "    board = [['.' for _ in range(n)] for _ in range(n)]\n",
        "    result = []\n",
        "    solve_n_queens(n, board, 0, result)\n",
        "    return result\n",
        "\n",
        "# Test\n",
        "print(n_queens(4))"
      ],
      "metadata": {
        "id": "aWcOBLY0YLTd",
        "outputId": "c7d0840d-578b-471e-891a-1f0f2cb2b538",
        "colab": {
          "base_uri": "https://localhost:8080/"
        }
      },
      "execution_count": 5,
      "outputs": [
        {
          "output_type": "stream",
          "name": "stdout",
          "text": [
            "[['.Q..', '...Q', 'Q...', '..Q.'], ['..Q.', 'Q...', '...Q', '.Q..']]\n"
          ]
        }
      ]
    },
    {
      "cell_type": "code",
      "source": [],
      "metadata": {
        "id": "f_wzL8iYYPew"
      },
      "execution_count": null,
      "outputs": []
    }
  ],
  "metadata": {
    "colab": {
      "provenance": []
    },
    "kernelspec": {
      "display_name": "Python 3",
      "name": "python3"
    },
    "language_info": {
      "name": "python"
    }
  },
  "nbformat": 4,
  "nbformat_minor": 0
}