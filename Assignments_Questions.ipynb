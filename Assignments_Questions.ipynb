{
  "nbformat": 4,
  "nbformat_minor": 0,
  "metadata": {
    "colab": {
      "provenance": []
    },
    "kernelspec": {
      "name": "python3",
      "display_name": "Python 3"
    },
    "language_info": {
      "name": "python"
    }
  },
  "cells": [
    {
      "cell_type": "markdown",
      "source": [
        "# Question 1.1: Answers"
      ],
      "metadata": {
        "id": "vFqQSyxUVJQf"
      }
    },
    {
      "cell_type": "code",
      "source": [
        "# 1. Difference Between Static and Dynamic Variables in Python\n",
        "class MyClass:\n",
        "    static_var = \"I am static\"  # Static variable\n",
        "\n",
        "    def __init__(self, dynamic_var):\n",
        "        self.dynamic_var = dynamic_var  # Dynamic variable\n",
        "\n",
        "# Static variable example\n",
        "obj1 = MyClass(\"Instance 1\")\n",
        "obj2 = MyClass(\"Instance 2\")\n",
        "print(obj1.static_var)\n",
        "print(obj2.static_var)\n",
        "\n",
        "# Dynamic variable example\n",
        "print(obj1.dynamic_var)\n",
        "print(obj2.dynamic_var)"
      ],
      "metadata": {
        "colab": {
          "base_uri": "https://localhost:8080/"
        },
        "id": "7hcCQk1zVv5J",
        "outputId": "37df1457-6049-4d1b-ab46-e057a42d5c78"
      },
      "execution_count": 43,
      "outputs": [
        {
          "output_type": "stream",
          "name": "stdout",
          "text": [
            "I am static\n",
            "I am static\n",
            "Instance 1\n",
            "Instance 2\n"
          ]
        }
      ]
    },
    {
      "cell_type": "code",
      "source": [
        "# 2. Purpose of \"pop\", \"popitem\", and \"clear()\" in a Dictionary\n",
        "my_dict = {\"a\": 1, \"b\": 2}\n",
        "\n",
        "# pop() example\n",
        "my_dict.pop(\"a\")\n",
        "print(my_dict)\n",
        "\n",
        "# popitem() example\n",
        "print(my_dict.popitem())\n",
        "\n",
        "# clear() example\n",
        "my_dict.clear()\n",
        "print(my_dict)"
      ],
      "metadata": {
        "colab": {
          "base_uri": "https://localhost:8080/"
        },
        "id": "987EKGMaV5sq",
        "outputId": "8220b4c5-8002-413c-d884-e1c8225056f6"
      },
      "execution_count": 44,
      "outputs": [
        {
          "output_type": "stream",
          "name": "stdout",
          "text": [
            "{'b': 2}\n",
            "('b', 2)\n",
            "{}\n"
          ]
        }
      ]
    },
    {
      "cell_type": "code",
      "source": [
        "# 3. FrozenSet in Python\n",
        "my_set = frozenset([1, 2, 3])\n",
        "print(my_set)  # Output: frozenset({1, 2, 3})\n",
        "# my_set.add(4) -> Error: FrozenSet is immutable"
      ],
      "metadata": {
        "colab": {
          "base_uri": "https://localhost:8080/"
        },
        "id": "QL6-Kxd6V8uO",
        "outputId": "bf754789-6e09-416c-bbaa-8b7b4eb98c9d"
      },
      "execution_count": 45,
      "outputs": [
        {
          "output_type": "stream",
          "name": "stdout",
          "text": [
            "frozenset({1, 2, 3})\n"
          ]
        }
      ]
    },
    {
      "cell_type": "code",
      "source": [
        "# 4. Difference Between Mutable and Immutable Data Types\n",
        "# Mutable example\n",
        "my_list = [1, 2, 3]\n",
        "my_list.append(4)\n",
        "print(my_list)  # Output: [1, 2, 3, 4]\n",
        "\n",
        "# Immutable example\n",
        "my_tuple = (1, 2, 3)\n",
        "# my_tuple[0] = 4 -> Error: Tuple is immutable"
      ],
      "metadata": {
        "colab": {
          "base_uri": "https://localhost:8080/"
        },
        "id": "BniBtkNyV-_b",
        "outputId": "64e56c74-d386-4f6f-b391-556ffdf5de42"
      },
      "execution_count": 46,
      "outputs": [
        {
          "output_type": "stream",
          "name": "stdout",
          "text": [
            "[1, 2, 3, 4]\n"
          ]
        }
      ]
    },
    {
      "cell_type": "code",
      "source": [
        "# 5. __init__ in Python\n",
        "class MyClass:\n",
        "    def __init__(self, name):\n",
        "        self.name = name\n",
        "\n",
        "obj = MyClass(\"Python\")\n",
        "print(obj.name)  # Output: Python"
      ],
      "metadata": {
        "colab": {
          "base_uri": "https://localhost:8080/"
        },
        "id": "9KfTF4DJWA4n",
        "outputId": "f36a2230-45c1-48ec-8e29-1dd7a65099b8"
      },
      "execution_count": 47,
      "outputs": [
        {
          "output_type": "stream",
          "name": "stdout",
          "text": [
            "Python\n"
          ]
        }
      ]
    },
    {
      "cell_type": "code",
      "source": [
        "# 6. Docstring in Python\n",
        "def my_function():\n",
        "    \"\"\"This function does nothing.\"\"\"\n",
        "    pass\n",
        "\n",
        "print(my_function.__doc__)  # Output: This function does nothing."
      ],
      "metadata": {
        "colab": {
          "base_uri": "https://localhost:8080/"
        },
        "id": "IoqNZkydWCWr",
        "outputId": "a58dfe29-fa04-42c7-fd1a-222cec8749d2"
      },
      "execution_count": 48,
      "outputs": [
        {
          "output_type": "stream",
          "name": "stdout",
          "text": [
            "This function does nothing.\n"
          ]
        }
      ]
    },
    {
      "cell_type": "code",
      "source": [
        "# 7. Unit Tests in Python\n",
        "import unittest\n",
        "\n",
        "def add(a, b):\n",
        "    return a + b\n",
        "\n",
        "class TestAdd(unittest.TestCase):\n",
        "    def test_add(self):\n",
        "        self.assertEqual(add(2, 3), 5)\n",
        "\n",
        "# Uncomment the following line to run tests in Google Colab\n",
        "# unittest.main(argv=[''], exit=False)"
      ],
      "metadata": {
        "id": "W-u_oCpCWEEB"
      },
      "execution_count": 49,
      "outputs": []
    },
    {
      "cell_type": "code",
      "source": [
        "# 8. break, continue, and pass\n",
        "for i in range(5):\n",
        "    if i == 2:\n",
        "        continue\n",
        "    elif i == 4:\n",
        "        break\n",
        "    print(i)  # Output: 0, 1, 3"
      ],
      "metadata": {
        "colab": {
          "base_uri": "https://localhost:8080/"
        },
        "id": "27eYEISvWGGR",
        "outputId": "90185fc1-57f6-4b55-995c-4f12a70602c2"
      },
      "execution_count": 50,
      "outputs": [
        {
          "output_type": "stream",
          "name": "stdout",
          "text": [
            "0\n",
            "1\n",
            "3\n"
          ]
        }
      ]
    },
    {
      "cell_type": "code",
      "source": [
        "# 9. Use of self in Python\n",
        "class MyClass:\n",
        "    def display(self):\n",
        "        print(\"Instance method called\")\n",
        "\n",
        "obj = MyClass()\n",
        "obj.display()  # Output: Instance method called"
      ],
      "metadata": {
        "colab": {
          "base_uri": "https://localhost:8080/"
        },
        "id": "hOFN9TuYWHcv",
        "outputId": "7a6d5c3a-62d8-4b45-c9eb-ad3ac75476bf"
      },
      "execution_count": 51,
      "outputs": [
        {
          "output_type": "stream",
          "name": "stdout",
          "text": [
            "Instance method called\n"
          ]
        }
      ]
    },
    {
      "cell_type": "code",
      "source": [
        "# 10. Global, Protected, and Private Attributes\n",
        "class Example:\n",
        "    public = \"I am public\"\n",
        "    _protected = \"I am protected\"\n",
        "    __private = \"I am private\"\n"
      ],
      "metadata": {
        "id": "rO0OxgUBWI-d"
      },
      "execution_count": 52,
      "outputs": []
    },
    {
      "cell_type": "markdown",
      "source": [
        "## 11. Modules and Packages\n",
        "## Module example: import math\n",
        "## Package example: import numpy\n"
      ],
      "metadata": {
        "id": "rndjN8slWMJq"
      }
    },
    {
      "cell_type": "code",
      "source": [
        "# 12. Lists and Tuples\n",
        "my_list = [1, 2, 3]  # Mutable\n",
        "my_tuple = (1, 2, 3)  # Immutable"
      ],
      "metadata": {
        "id": "ejHiRxLxWLjk"
      },
      "execution_count": 53,
      "outputs": []
    },
    {
      "cell_type": "markdown",
      "source": [
        "## 13. Interpreted and Dynamically Typed Language\n",
        "1. Interpreted language executes line by line.\n",
        "2. Dynamically typed languages don’t require type declarations."
      ],
      "metadata": {
        "id": "dP90kMTaWSKO"
      }
    },
    {
      "cell_type": "code",
      "source": [
        "# 14. Dict and List Comprehensions\n",
        "# List comprehension example\n",
        "squared = [x ** 2 for x in range(5)]\n",
        "print(squared)  # Output: [0, 1, 4, 9, 16]\n",
        "\n",
        "# Dict comprehension example\n",
        "squared_dict = {x: x ** 2 for x in range(5)}\n",
        "print(squared_dict)  # Output: {0: 0, 1: 1, 2: 4, 3: 9, 4: 16}"
      ],
      "metadata": {
        "colab": {
          "base_uri": "https://localhost:8080/"
        },
        "id": "5cP4X6OgWRwX",
        "outputId": "7bdf485c-68ed-4456-b31e-7445352fbe1e"
      },
      "execution_count": 54,
      "outputs": [
        {
          "output_type": "stream",
          "name": "stdout",
          "text": [
            "[0, 1, 4, 9, 16]\n",
            "{0: 0, 1: 1, 2: 4, 3: 9, 4: 16}\n"
          ]
        }
      ]
    },
    {
      "cell_type": "code",
      "source": [
        "# 15. Decorators\n",
        "def decorator(func):\n",
        "    def wrapper():\n",
        "        print(\"Before\")\n",
        "        func()\n",
        "        print(\"After\")\n",
        "    return wrapper\n",
        "\n",
        "@decorator\n",
        "def say_hello():\n",
        "    print(\"Hello\")\n",
        "\n",
        "say_hello()  # Output: Before Hello After"
      ],
      "metadata": {
        "colab": {
          "base_uri": "https://localhost:8080/"
        },
        "id": "PzCJiA79WYnT",
        "outputId": "41d25ccc-6a31-48d0-9f72-977dfc295a19"
      },
      "execution_count": 55,
      "outputs": [
        {
          "output_type": "stream",
          "name": "stdout",
          "text": [
            "Before\n",
            "Hello\n",
            "After\n"
          ]
        }
      ]
    },
    {
      "cell_type": "markdown",
      "source": [
        "# 16. Memory Management in Python\n",
        "* Managed through garbage collection and reference counting."
      ],
      "metadata": {
        "id": "hx5Dh9OoWcip"
      }
    },
    {
      "cell_type": "code",
      "source": [
        "# 17. Lambda in Python\n",
        "add = lambda x, y: x + y\n",
        "print(add(2, 3))  # Output: 5"
      ],
      "metadata": {
        "colab": {
          "base_uri": "https://localhost:8080/"
        },
        "id": "hJbhfEWXWa_C",
        "outputId": "ce66fc2f-03f2-435d-f2f0-02298724d8fe"
      },
      "execution_count": 56,
      "outputs": [
        {
          "output_type": "stream",
          "name": "stdout",
          "text": [
            "5\n"
          ]
        }
      ]
    },
    {
      "cell_type": "code",
      "source": [
        "# 18. split() and join() Functions\n",
        "text = \"Python is fun\"\n",
        "words = text.split()  # Splits string into a list\n",
        "print(words)  # Output: ['Python', 'is', 'fun']\n",
        "\n",
        "joined_text = \" \".join(words)  # Joins list into a string\n",
        "print(joined_text)  # Output: Python is fun"
      ],
      "metadata": {
        "colab": {
          "base_uri": "https://localhost:8080/"
        },
        "id": "iSlh29GtWe-X",
        "outputId": "0377c9c7-972b-4723-8543-83ff052c62d5"
      },
      "execution_count": 57,
      "outputs": [
        {
          "output_type": "stream",
          "name": "stdout",
          "text": [
            "['Python', 'is', 'fun']\n",
            "Python is fun\n"
          ]
        }
      ]
    },
    {
      "cell_type": "code",
      "source": [
        "# 19. Iterators, Iterables, and Generators\n",
        "# Iterable example\n",
        "my_list = [1, 2, 3]\n",
        "my_iter = iter(my_list)  # Iterator\n",
        "print(next(my_iter))  # Output: 1\n",
        "\n",
        "# Generator example\n",
        "def my_generator():\n",
        "    yield 1\n",
        "    yield 2\n",
        "\n",
        "gen = my_generator()\n",
        "print(next(gen))  # Output: 1"
      ],
      "metadata": {
        "colab": {
          "base_uri": "https://localhost:8080/"
        },
        "id": "Q4ig9Gj0Wg7n",
        "outputId": "58a9b217-9656-4153-9b40-dea737d6c807"
      },
      "execution_count": 58,
      "outputs": [
        {
          "output_type": "stream",
          "name": "stdout",
          "text": [
            "1\n",
            "1\n"
          ]
        }
      ]
    },
    {
      "cell_type": "markdown",
      "source": [
        "## 20. Difference Between xrange and range\n",
        "* xrange is only available in Python 2. In Python 3, use range().\n",
        "\n",
        "\n",
        "## 21. OOP Pillars\n",
        "1. Encapsulation\n",
        "2. Inheritance\n",
        "3. Polymorphism\n",
        "4. Abstraction"
      ],
      "metadata": {
        "id": "5t2pn98CWkCs"
      }
    },
    {
      "cell_type": "code",
      "source": [
        "# 22. Check if a Class is a Child\n",
        "class Parent:\n",
        "    pass\n",
        "\n",
        "class Child(Parent):\n",
        "    pass\n",
        "\n",
        "print(issubclass(Child, Parent))  # Output: True\n"
      ],
      "metadata": {
        "colab": {
          "base_uri": "https://localhost:8080/"
        },
        "id": "XkA8J4GeWjHG",
        "outputId": "0863341d-e62e-4ed8-9e6f-e6a30910bb36"
      },
      "execution_count": 59,
      "outputs": [
        {
          "output_type": "stream",
          "name": "stdout",
          "text": [
            "True\n"
          ]
        }
      ]
    },
    {
      "cell_type": "markdown",
      "source": [
        "## 23. Types of Inheritance\n",
        "* Single, Multiple, Multilevel, Hierarchical, Hybrid\n"
      ],
      "metadata": {
        "id": "zdf2tokwWuD6"
      }
    },
    {
      "cell_type": "code",
      "source": [
        "# 24. Encapsulation\n",
        "class MyClass:\n",
        "    __private = \"Private\"  # Private variable"
      ],
      "metadata": {
        "id": "xUzUtCuaWsgg"
      },
      "execution_count": 60,
      "outputs": []
    },
    {
      "cell_type": "code",
      "source": [
        "# 25. Polymorphism\n",
        "def add(a, b):\n",
        "    return a + b\n",
        "\n",
        "print(add(2, 3))  # Output: 5\n",
        "print(add(\"Hello, \", \"World!\"))  # Output: Hello, World!"
      ],
      "metadata": {
        "colab": {
          "base_uri": "https://localhost:8080/"
        },
        "id": "cEK3WrHnWxP-",
        "outputId": "97365b4f-952c-417e-f055-614b5e2b4409"
      },
      "execution_count": 61,
      "outputs": [
        {
          "output_type": "stream",
          "name": "stdout",
          "text": [
            "5\n",
            "Hello, World!\n"
          ]
        }
      ]
    },
    {
      "cell_type": "markdown",
      "source": [
        "# Question 1.2: Which identifier names are invalid and why?\n",
        "## Invalid identifiers and reasons:\n",
        "1. `1st_Room` - Invalid because identifiers cannot start with a number.\n",
        "2. `total-Marks` - Invalid because hyphens `-` are not allowed in identifiers.\n",
        "3. `Total Marks` - Invalid because spaces are not allowed in identifiers.\n",
        "4. `True` - Invalid because it is a reserved keyword in Python.\n",
        "\n",
        "## Valid identifiers:\n",
        "* `Serial_no`, `Hundred$`, `Total_Marks`, `_Percentag`"
      ],
      "metadata": {
        "id": "X1JB_Xb-XPVg"
      }
    },
    {
      "cell_type": "code",
      "source": [
        "# Question 1.3: List operations\n",
        "name = [\"Mohan\", \"dash\", \"karam\", \"chandra\", \"gandhi\", \"Bapu\"]"
      ],
      "metadata": {
        "id": "bryApnsyWy5P"
      },
      "execution_count": 62,
      "outputs": []
    },
    {
      "cell_type": "code",
      "source": [
        "# a) Add an element at the 0th index\n",
        "name.insert(0, \"freedom_fighter\")\n",
        "print(name)"
      ],
      "metadata": {
        "colab": {
          "base_uri": "https://localhost:8080/"
        },
        "id": "5abQ0JEIXZOS",
        "outputId": "99a0168c-81b6-482f-aebb-0a11dbf2dfa9"
      },
      "execution_count": 63,
      "outputs": [
        {
          "output_type": "stream",
          "name": "stdout",
          "text": [
            "['freedom_fighter', 'Mohan', 'dash', 'karam', 'chandra', 'gandhi', 'Bapu']\n"
          ]
        }
      ]
    },
    {
      "cell_type": "markdown",
      "source": [
        "##  b) Explanation for list indexing operations\n",
        "* Indexing and slicing will follow normal list slicing principles."
      ],
      "metadata": {
        "id": "-9cZTriCXc4F"
      }
    },
    {
      "cell_type": "code",
      "source": [
        "# c) Add [\"NetaJi\", \"Bose\"] at the end of the list\n",
        "name.extend([\"NetaJi\", \"Bose\"])\n",
        "print(name)"
      ],
      "metadata": {
        "colab": {
          "base_uri": "https://localhost:8080/"
        },
        "id": "Qgr3nuxeXbL6",
        "outputId": "4d082aab-89fb-4e28-941e-a5c01514c9dd"
      },
      "execution_count": 64,
      "outputs": [
        {
          "output_type": "stream",
          "name": "stdout",
          "text": [
            "['freedom_fighter', 'Mohan', 'dash', 'karam', 'chandra', 'gandhi', 'Bapu', 'NetaJi', 'Bose']\n"
          ]
        }
      ]
    },
    {
      "cell_type": "code",
      "source": [
        "# d) Swap the first and last elements in the list\n",
        "name = [\"Bapuji\", \"dash\", \"karam\", \"chandra\", \"gandi\", \"Mohan\"]\n",
        "temp = name[-1]\n",
        "name[-1] = name[0]\n",
        "name[0] = temp\n",
        "print(name)"
      ],
      "metadata": {
        "colab": {
          "base_uri": "https://localhost:8080/"
        },
        "id": "3laOgVgZXgaa",
        "outputId": "78e1a894-e41c-4f2d-a12a-f8493917dc1c"
      },
      "execution_count": 65,
      "outputs": [
        {
          "output_type": "stream",
          "name": "stdout",
          "text": [
            "['Mohan', 'dash', 'karam', 'chandra', 'gandi', 'Bapuji']\n"
          ]
        }
      ]
    },
    {
      "cell_type": "markdown",
      "source": [
        "# Question 1.4"
      ],
      "metadata": {
        "id": "gdBO_wyaXlxg"
      }
    },
    {
      "cell_type": "code",
      "source": [
        "# Question 1.4: List operations\n",
        "animal = ['Human', 'cat', 'mat', 'cat', 'rat', 'Human', 'Lion']"
      ],
      "metadata": {
        "id": "rCwrRrKYXiCm"
      },
      "execution_count": 66,
      "outputs": []
    },
    {
      "cell_type": "code",
      "source": [
        "# Count occurrences of 'Human'\n",
        "print(animal.count('Human'))\n",
        "\n",
        "# Index of 'rat'\n",
        "print(animal.index('rat'))\n",
        "\n",
        "# Length of the list\n",
        "print(len(animal))\n",
        "\n",
        "# Slicing operations\n",
        "name = [\"freedomFighter\", \"Bapuji\", \"MOhan\", \"dash\", \"karam\", \"chandra\", \"gandhi\"]\n",
        "length1 = len(name[-len(name)+1:-1:2])\n",
        "length2 = len(name[-len(name)+1:-1])\n",
        "print(length1 + length2)"
      ],
      "metadata": {
        "colab": {
          "base_uri": "https://localhost:8080/"
        },
        "id": "J7rCql_PXmXX",
        "outputId": "52093e8c-0042-4466-de07-587a7500f4a0"
      },
      "execution_count": 68,
      "outputs": [
        {
          "output_type": "stream",
          "name": "stdout",
          "text": [
            "2\n",
            "4\n",
            "7\n",
            "8\n"
          ]
        }
      ]
    },
    {
      "cell_type": "markdown",
      "source": [
        "# Question 1.5"
      ],
      "metadata": {
        "id": "I0lk5FDjXu2Y"
      }
    },
    {
      "cell_type": "code",
      "source": [
        "# Question 1.5: Tuple operations\n",
        "tuple1 = (\n",
        "    10, 20, \"Apple\", 3.4, 'a', [\"master\", \"ji\"],\n",
        "    (\"sita\", \"geeta\", 22), [{\"roll_no\": 1}, {\"name\": \"Navneet\"}])"
      ],
      "metadata": {
        "id": "NbOIaMvcXoyF"
      },
      "execution_count": 69,
      "outputs": []
    },
    {
      "cell_type": "code",
      "source": [
        "# a) Length of the tuple\n",
        "print(len(tuple1))\n",
        "\n",
        "# b) Fetch the \"name\" value from the nested dictionary\n",
        "print(tuple1[-1][-1][\"name\"])\n",
        "\n",
        "# c) Fetch the roll_no value\n",
        "print(tuple1[-1][0][\"roll_no\"])\n",
        "\n",
        "# d) Print the second element from the nested tuple\n",
        "print(tuple1[-3][1])\n"
      ],
      "metadata": {
        "colab": {
          "base_uri": "https://localhost:8080/"
        },
        "id": "StcJ_0mBXyFF",
        "outputId": "54ad2001-f3a7-41a0-fbdf-c7fb63915fd7"
      },
      "execution_count": 71,
      "outputs": [
        {
          "output_type": "stream",
          "name": "stdout",
          "text": [
            "8\n",
            "Navneet\n",
            "1\n",
            "ji\n"
          ]
        }
      ]
    },
    {
      "cell_type": "markdown",
      "source": [
        "# Question 1.6"
      ],
      "metadata": {
        "id": "r7ymuMPVX7za"
      }
    },
    {
      "cell_type": "code",
      "source": [
        "# Question 1.6: Traffic signal program\n",
        "signal = input(\"Enter signal color (RED, Yellow, Green): \").strip().upper()\n",
        "if signal == \"RED\":\n",
        "    print(\"Stop\")\n",
        "elif signal == \"YELLOW\":\n",
        "    print(\"Stay\")\n",
        "elif signal == \"GREEN\":\n",
        "    print(\"Go\")\n",
        "else:\n",
        "    print(\"Invalid input!\")\n"
      ],
      "metadata": {
        "colab": {
          "base_uri": "https://localhost:8080/"
        },
        "id": "EruQLHchX0My",
        "outputId": "8483bfa5-4d21-4f5e-8fe8-3d2537b0d3d6"
      },
      "execution_count": 72,
      "outputs": [
        {
          "output_type": "stream",
          "name": "stdout",
          "text": [
            "Enter signal color (RED, Yellow, Green): RED\n",
            "Stop\n"
          ]
        }
      ]
    },
    {
      "cell_type": "markdown",
      "source": [
        "# Question 1.7"
      ],
      "metadata": {
        "id": "9cckHrJeYBGp"
      }
    },
    {
      "cell_type": "code",
      "source": [
        "# Question 1.7: Simple calculator\n",
        "def calculator():\n",
        "    num1 = float(input(\"Enter first number: \"))\n",
        "    num2 = float(input(\"Enter second number: \"))\n",
        "    operation = input(\"Enter operation (+, -, *, /): \")\n",
        "\n",
        "    if operation == \"+\":\n",
        "        print(\"Result:\", num1 + num2)\n",
        "    elif operation == \"-\":\n",
        "        print(\"Result:\", num1 - num2)\n",
        "    elif operation == \"*\":\n",
        "        print(\"Result:\", num1 * num2)\n",
        "    elif operation == \"/\":\n",
        "        if num2 != 0:\n",
        "            print(\"Result:\", num1 / num2)\n",
        "        else:\n",
        "            print(\"Error: Division by zero!\")\n",
        "    else:\n",
        "        print(\"Invalid operation!\")\n",
        "\n",
        "calculator()"
      ],
      "metadata": {
        "colab": {
          "base_uri": "https://localhost:8080/"
        },
        "id": "bbbLzWOQX8Ou",
        "outputId": "923b3e7a-3130-4284-b7bd-dd197f2752ad"
      },
      "execution_count": 73,
      "outputs": [
        {
          "output_type": "stream",
          "name": "stdout",
          "text": [
            "Enter first number: 12\n",
            "Enter second number: 6\n",
            "Enter operation (+, -, *, /): -\n",
            "Result: 6.0\n"
          ]
        }
      ]
    },
    {
      "cell_type": "markdown",
      "source": [
        "# Question 1.8"
      ],
      "metadata": {
        "id": "nKEo5HlHYGjV"
      }
    },
    {
      "cell_type": "code",
      "source": [
        "# Question 1.8: Larger number using ternary operator\n",
        "a, b, c = 10, 20, 30\n",
        "largest = a if a > b and a > c else (b if b > c else c)\n",
        "print(\"Largest number:\", largest)"
      ],
      "metadata": {
        "colab": {
          "base_uri": "https://localhost:8080/"
        },
        "id": "6G4cnoBiYBeU",
        "outputId": "0de6e2b6-f908-4491-8d80-2958505e2d7a"
      },
      "execution_count": 74,
      "outputs": [
        {
          "output_type": "stream",
          "name": "stdout",
          "text": [
            "Largest number: 30\n"
          ]
        }
      ]
    },
    {
      "cell_type": "markdown",
      "source": [
        "# Question 1.9"
      ],
      "metadata": {
        "id": "VyFnKVjQYKa3"
      }
    },
    {
      "cell_type": "code",
      "source": [
        "# Question 1.9: Factors of a number\n",
        "num = int(input(\"Enter a number: \"))\n",
        "i = 1\n",
        "while i <= num:\n",
        "    if num % i == 0:\n",
        "        print(i, end=\" \")\n",
        "    i += 1\n",
        "print()\n"
      ],
      "metadata": {
        "colab": {
          "base_uri": "https://localhost:8080/"
        },
        "id": "NQtydlaZYH5g",
        "outputId": "f1a13cba-77e1-4e54-8d78-262d69da2761"
      },
      "execution_count": 75,
      "outputs": [
        {
          "output_type": "stream",
          "name": "stdout",
          "text": [
            "Enter a number: 12\n",
            "1 2 3 4 6 12 \n"
          ]
        }
      ]
    },
    {
      "cell_type": "markdown",
      "source": [
        "# Question 1.10"
      ],
      "metadata": {
        "id": "e-F892G9YONf"
      }
    },
    {
      "cell_type": "code",
      "source": [
        "# Question 1.10: Sum of positive numbers\n",
        "total = 0\n",
        "while True:\n",
        "    num = int(input(\"Enter a number (negative to stop): \"))\n",
        "    if num < 0:\n",
        "        break\n",
        "    total += num\n",
        "print(\"Sum of positive numbers:\", total)"
      ],
      "metadata": {
        "colab": {
          "base_uri": "https://localhost:8080/"
        },
        "id": "S74EylEXYKxN",
        "outputId": "84a5e188-834a-4a5f-914a-9c3671016c81"
      },
      "execution_count": 76,
      "outputs": [
        {
          "output_type": "stream",
          "name": "stdout",
          "text": [
            "Enter a number (negative to stop): 65\n",
            "Enter a number (negative to stop): 45\n",
            "Enter a number (negative to stop): -2\n",
            "Sum of positive numbers: 110\n"
          ]
        }
      ]
    },
    {
      "cell_type": "markdown",
      "source": [
        "# Question 1.11"
      ],
      "metadata": {
        "id": "U5OJgAZiYVW6"
      }
    },
    {
      "cell_type": "code",
      "source": [
        "# Question 1.11: Prime numbers between 2 and 100\n",
        "for num in range(2, 101):\n",
        "    is_prime = True\n",
        "    for i in range(2, int(num ** 0.5) + 1):\n",
        "        if num % i == 0:\n",
        "            is_prime = False\n",
        "            break\n",
        "    if is_prime:\n",
        "        print(num, end=\" \")\n",
        "print()\n"
      ],
      "metadata": {
        "colab": {
          "base_uri": "https://localhost:8080/"
        },
        "id": "86CmNDFRYP2z",
        "outputId": "ec25da67-a0f6-4dd9-fb44-5b272adc862e"
      },
      "execution_count": 77,
      "outputs": [
        {
          "output_type": "stream",
          "name": "stdout",
          "text": [
            "2 3 5 7 11 13 17 19 23 29 31 37 41 43 47 53 59 61 67 71 73 79 83 89 97 \n"
          ]
        }
      ]
    },
    {
      "cell_type": "markdown",
      "source": [
        "# Question 1.12"
      ],
      "metadata": {
        "id": "PURiMMqLYY2C"
      }
    },
    {
      "cell_type": "code",
      "source": [
        "# Question 1.12: Marks and percentage\n",
        "# a) Accept marks\n",
        "marks = []\n",
        "for i in range(5):\n",
        "    marks.append(int(input(f\"Enter marks for subject {i+1}: \")))\n",
        "\n",
        "# b) Calculate and display the total and percentage\n",
        "total_marks = sum(marks)\n",
        "percentage = total_marks / 5\n",
        "print(\"Total Marks:\", total_marks)\n",
        "print(\"Percentage:\", percentage)"
      ],
      "metadata": {
        "colab": {
          "base_uri": "https://localhost:8080/"
        },
        "id": "WNleopzeYVz5",
        "outputId": "b84fb7e3-2d27-4f35-e7bb-1fbbfe64adab"
      },
      "execution_count": 78,
      "outputs": [
        {
          "output_type": "stream",
          "name": "stdout",
          "text": [
            "Enter marks for subject 1: 26\n",
            "Enter marks for subject 2: 35\n",
            "Enter marks for subject 3: 82\n",
            "Enter marks for subject 4: 55\n",
            "Enter marks for subject 5: 45\n",
            "Total Marks: 243\n",
            "Percentage: 48.6\n"
          ]
        }
      ]
    },
    {
      "cell_type": "markdown",
      "source": [
        "# 1.14. Gravitational Interactions"
      ],
      "metadata": {
        "id": "evKrwJsNY3rG"
      }
    },
    {
      "cell_type": "code",
      "source": [
        "# Given Data\n",
        "G = 6.67430e-11  # Gravitational constant in N·m²/kg²\n",
        "mass_earth = 5.972e24  # kg\n",
        "mass_moon = 7.34767309e22  # kg\n",
        "mass_sun = 1.989e30  # kg\n",
        "distance_earth_sun = 1.496e11  # meters\n",
        "distance_moon_earth = 3.844e8  # meters\n",
        "\n",
        "# Gravitational Force Calculations\n",
        "force_earth_sun = G * (mass_earth * mass_sun) / (distance_earth_sun ** 2)\n",
        "force_moon_earth = G * (mass_moon * mass_earth) / (distance_moon_earth ** 2)\n",
        "\n",
        "# Output\n",
        "print(\"Gravitational force between Earth and Sun:\", force_earth_sun, \"N\")\n",
        "print(\"Gravitational force between Moon and Earth:\", force_moon_earth, \"N\")\n",
        "\n",
        "# Comparison\n",
        "if force_earth_sun > force_moon_earth:\n",
        "    print(\"Earth is more strongly attracted to the Sun than the Moon.\")\n",
        "else:\n",
        "    print(\"Moon is more strongly attracted to the Earth than the Sun.\")"
      ],
      "metadata": {
        "colab": {
          "base_uri": "https://localhost:8080/"
        },
        "id": "3AwwTjl2YZP0",
        "outputId": "aa53ed27-603b-4b48-9a49-dd0d228d840a"
      },
      "execution_count": 79,
      "outputs": [
        {
          "output_type": "stream",
          "name": "stdout",
          "text": [
            "Gravitational force between Earth and Sun: 3.5423960813684973e+22 N\n",
            "Gravitational force between Moon and Earth: 1.9820225456526813e+20 N\n",
            "Earth is more strongly attracted to the Sun than the Moon.\n"
          ]
        }
      ]
    },
    {
      "cell_type": "markdown",
      "source": [
        "2. Student Information Management System"
      ],
      "metadata": {
        "id": "g_Ff0JLSY-r-"
      }
    },
    {
      "cell_type": "code",
      "source": [
        "class Student:\n",
        "    def __init__(self, name, age, roll_number):\n",
        "        self.__name = name\n",
        "        self.__age = age\n",
        "        self.__roll_number = roll_number\n",
        "\n",
        "    # Getters\n",
        "    def get_name(self):\n",
        "        return self.__name\n",
        "\n",
        "    def get_age(self):\n",
        "        return self.__age\n",
        "\n",
        "    def get_roll_number(self):\n",
        "        return self.__roll_number\n",
        "\n",
        "    # Setters\n",
        "    def set_name(self, name):\n",
        "        self.__name = name\n",
        "\n",
        "    def set_age(self, age):\n",
        "        self.__age = age\n",
        "\n",
        "    def set_roll_number(self, roll_number):\n",
        "        self.__roll_number = roll_number\n",
        "\n",
        "    # Display student info\n",
        "    def display_info(self):\n",
        "        print(f\"Name: {self.__name}, Age: {self.__age}, Roll Number: {self.__roll_number}\")\n",
        "\n",
        "\n",
        "# Testing\n",
        "student1 = Student(\"John\", 20, \"A123\")\n",
        "student1.display_info()\n",
        "\n",
        "student1.set_name(\"Jane\")\n",
        "student1.display_info()"
      ],
      "metadata": {
        "colab": {
          "base_uri": "https://localhost:8080/"
        },
        "id": "vg_FEVphY58-",
        "outputId": "05ba36dd-623c-4260-97bf-f82ee95c09e9"
      },
      "execution_count": 80,
      "outputs": [
        {
          "output_type": "stream",
          "name": "stdout",
          "text": [
            "Name: John, Age: 20, Roll Number: A123\n",
            "Name: Jane, Age: 20, Roll Number: A123\n"
          ]
        }
      ]
    },
    {
      "cell_type": "markdown",
      "source": [
        "3. Library Resource Management"
      ],
      "metadata": {
        "id": "S-U_JK56ZEWq"
      }
    },
    {
      "cell_type": "code",
      "source": [
        "class LibraryBook:\n",
        "    def __init__(self, book_name, author):\n",
        "        self.__book_name = book_name\n",
        "        self.__author = author\n",
        "        self.__available = True\n",
        "\n",
        "    # Borrow book\n",
        "    def borrow_book(self):\n",
        "        if self.__available:\n",
        "            self.__available = False\n",
        "            print(f\"Book '{self.__book_name}' borrowed.\")\n",
        "        else:\n",
        "            print(f\"Book '{self.__book_name}' is not available.\")\n",
        "\n",
        "    # Return book\n",
        "    def return_book(self):\n",
        "        self.__available = True\n",
        "        print(f\"Book '{self.__book_name}' returned.\")\n",
        "\n",
        "    # Display info\n",
        "    def display_info(self):\n",
        "        status = \"Available\" if self.__available else \"Not Available\"\n",
        "        print(f\"Book: {self.__book_name}, Author: {self.__author}, Status: {status}\")\n",
        "\n",
        "\n",
        "# Testing\n",
        "book = LibraryBook(\"1984\", \"George Orwell\")\n",
        "book.display_info()\n",
        "book.borrow_book()\n",
        "book.display_info()\n",
        "book.return_book()\n",
        "book.display_info()"
      ],
      "metadata": {
        "colab": {
          "base_uri": "https://localhost:8080/"
        },
        "id": "sboaaF0yZASh",
        "outputId": "dcff7747-1b8a-4007-baeb-d41876a108b7"
      },
      "execution_count": 81,
      "outputs": [
        {
          "output_type": "stream",
          "name": "stdout",
          "text": [
            "Book: 1984, Author: George Orwell, Status: Available\n",
            "Book '1984' borrowed.\n",
            "Book: 1984, Author: George Orwell, Status: Not Available\n",
            "Book '1984' returned.\n",
            "Book: 1984, Author: George Orwell, Status: Available\n"
          ]
        }
      ]
    },
    {
      "cell_type": "markdown",
      "source": [
        "4. Banking System"
      ],
      "metadata": {
        "id": "ZtLrvnm8ZICE"
      }
    },
    {
      "cell_type": "code",
      "source": [
        "class BankAccount:\n",
        "    def __init__(self, account_number, balance):\n",
        "        self.account_number = account_number\n",
        "        self.balance = balance\n",
        "\n",
        "    def deposit(self, amount):\n",
        "        self.balance += amount\n",
        "        print(f\"Deposited: {amount}. New balance: {self.balance}\")\n",
        "\n",
        "    def withdraw(self, amount):\n",
        "        if amount > self.balance:\n",
        "            print(\"Insufficient balance!\")\n",
        "        else:\n",
        "            self.balance -= amount\n",
        "            print(f\"Withdrawn: {amount}. New balance: {self.balance}\")\n",
        "\n",
        "    def check_balance(self):\n",
        "        print(f\"Balance: {self.balance}\")\n",
        "\n",
        "\n",
        "class SavingsAccount(BankAccount):\n",
        "    def __init__(self, account_number, balance, interest_rate):\n",
        "        super().__init__(account_number, balance)\n",
        "        self.interest_rate = interest_rate\n",
        "\n",
        "\n",
        "class CheckingAccount(BankAccount):\n",
        "    pass\n",
        "\n",
        "\n",
        "# Testing\n",
        "savings = SavingsAccount(\"SA123\", 5000, 2.5)\n",
        "savings.deposit(2000)\n",
        "savings.withdraw(1000)\n",
        "savings.check_balance()"
      ],
      "metadata": {
        "colab": {
          "base_uri": "https://localhost:8080/"
        },
        "id": "2meSFk5NZFh0",
        "outputId": "e109dce3-c291-4c76-9b83-fb3d86dd7a25"
      },
      "execution_count": 82,
      "outputs": [
        {
          "output_type": "stream",
          "name": "stdout",
          "text": [
            "Deposited: 2000. New balance: 7000\n",
            "Withdrawn: 1000. New balance: 6000\n",
            "Balance: 6000\n"
          ]
        }
      ]
    },
    {
      "cell_type": "markdown",
      "source": [
        "5. Animal and Their Sounds"
      ],
      "metadata": {
        "id": "QQvaFwa7ZLqB"
      }
    },
    {
      "cell_type": "code",
      "source": [
        "class Animal:\n",
        "    def make_sound(self):\n",
        "        pass\n",
        "\n",
        "\n",
        "class Dog(Animal):\n",
        "    def make_sound(self):\n",
        "        print(\"Woof! Woof!\")\n",
        "\n",
        "\n",
        "class Cat(Animal):\n",
        "    def make_sound(self):\n",
        "        print(\"Meow!\")\n",
        "\n",
        "\n",
        "# Testing\n",
        "dog = Dog()\n",
        "cat = Cat()\n",
        "dog.make_sound()\n",
        "cat.make_sound()"
      ],
      "metadata": {
        "colab": {
          "base_uri": "https://localhost:8080/"
        },
        "id": "r2hL21w2ZJfK",
        "outputId": "ad8619c3-dc11-46ac-cd57-139a09682a4f"
      },
      "execution_count": 83,
      "outputs": [
        {
          "output_type": "stream",
          "name": "stdout",
          "text": [
            "Woof! Woof!\n",
            "Meow!\n"
          ]
        }
      ]
    },
    {
      "cell_type": "markdown",
      "source": [
        "6. Restaurant Management System"
      ],
      "metadata": {
        "id": "6gaZD6wCZe_f"
      }
    },
    {
      "cell_type": "code",
      "source": [
        "class MenuItem:\n",
        "    def __init__(self, name, description, price, category):\n",
        "        self.__id = id(self)  # Unique identifier\n",
        "        self.name = name\n",
        "        self.description = description\n",
        "        self.price = price\n",
        "        self.category = category\n",
        "\n",
        "    def display_item(self):\n",
        "        print(f\"ID: {self.__id}, Name: {self.name}, Description: {self.description}, Price: {self.price}, Category: {self.category}\")\n",
        "\n",
        "\n",
        "class FoodItem(MenuItem):\n",
        "    def __init__(self, name, description, price, category, cuisine_type):\n",
        "        super().__init__(name, description, price, category)\n",
        "        self.cuisine_type = cuisine_type\n",
        "\n",
        "\n",
        "class BeverageItem(MenuItem):\n",
        "    def __init__(self, name, description, price, category, is_alcoholic):\n",
        "        super().__init__(name, description, price, category)\n",
        "        self.is_alcoholic = is_alcoholic\n",
        "\n",
        "\n",
        "# Testing\n",
        "food = FoodItem(\"Pasta\", \"Creamy Alfredo Pasta\", 10.99, \"Main Course\", \"Italian\")\n",
        "beverage = BeverageItem(\"Coke\", \"Chilled Coca-Cola\", 2.99, \"Beverage\", False)\n",
        "\n",
        "food.display_item()\n",
        "beverage.display_item()"
      ],
      "metadata": {
        "colab": {
          "base_uri": "https://localhost:8080/"
        },
        "id": "3_hkQduvZM7R",
        "outputId": "8df3b64d-f6fe-4a2c-bfde-a928dcafa2d8"
      },
      "execution_count": 84,
      "outputs": [
        {
          "output_type": "stream",
          "name": "stdout",
          "text": [
            "ID: 133712709936208, Name: Pasta, Description: Creamy Alfredo Pasta, Price: 10.99, Category: Main Course\n",
            "ID: 133712709936976, Name: Coke, Description: Chilled Coca-Cola, Price: 2.99, Category: Beverage\n"
          ]
        }
      ]
    },
    {
      "cell_type": "markdown",
      "source": [
        "7. Hotel Management System"
      ],
      "metadata": {
        "id": "0yTQpEM9ZogB"
      }
    },
    {
      "cell_type": "code",
      "source": [
        "class Room:\n",
        "    def __init__(self, room_number, room_type, rate, availability=True):\n",
        "        self.__id = id(self)  # Unique identifier\n",
        "        self.room_number = room_number\n",
        "        self.room_type = room_type\n",
        "        self.rate = rate\n",
        "        self.__availability = availability\n",
        "\n",
        "    def book_room(self):\n",
        "        if self.__availability:\n",
        "            self.__availability = False\n",
        "            print(f\"Room {self.room_number} booked.\")\n",
        "        else:\n",
        "            print(f\"Room {self.room_number} is not available.\")\n",
        "\n",
        "    def check_in(self):\n",
        "        if self.__availability:\n",
        "            self.__availability = False\n",
        "            print(f\"Guest checked into room {self.room_number}.\")\n",
        "        else:\n",
        "            print(f\"Room {self.room_number} is already occupied.\")\n",
        "\n",
        "    def check_out(self):\n",
        "        self.__availability = True\n",
        "        print(f\"Room {self.room_number} is now available.\")\n",
        "\n",
        "\n",
        "class SuiteRoom(Room):\n",
        "    def __init__(self, room_number, rate, additional_services):\n",
        "        super().__init__(room_number, \"Suite\", rate)\n",
        "        self.additional_services = additional_services\n",
        "\n",
        "\n",
        "class StandardRoom(Room):\n",
        "    def __init__(self, room_number, rate):\n",
        "        super().__init__(room_number, \"Standard\", rate)\n",
        "\n",
        "\n",
        "# Testing\n",
        "suite = SuiteRoom(101, 200, [\"Room Service\", \"Laundry\"])\n",
        "standard = StandardRoom(102, 100)\n",
        "\n",
        "suite.book_room()\n",
        "standard.check_in()\n",
        "standard.check_out()"
      ],
      "metadata": {
        "colab": {
          "base_uri": "https://localhost:8080/"
        },
        "id": "m5bh1atYZmgx",
        "outputId": "d60d15cc-5eec-46e0-964c-84f5bc888d85"
      },
      "execution_count": 85,
      "outputs": [
        {
          "output_type": "stream",
          "name": "stdout",
          "text": [
            "Room 101 booked.\n",
            "Guest checked into room 102.\n",
            "Room 102 is now available.\n"
          ]
        }
      ]
    },
    {
      "cell_type": "markdown",
      "source": [
        "8. Fitness Club Management System"
      ],
      "metadata": {
        "id": "2F8N30UHZrjE"
      }
    },
    {
      "cell_type": "code",
      "source": [
        "class Member:\n",
        "    def __init__(self, name, age, membership_type):\n",
        "        self.__id = id(self)  # Unique identifier\n",
        "        self.name = name\n",
        "        self.age = age\n",
        "        self.membership_type = membership_type\n",
        "        self.__status = \"Active\"\n",
        "\n",
        "    def register(self):\n",
        "        print(f\"Member {self.name} registered with {self.membership_type} membership.\")\n",
        "\n",
        "    def renew_membership(self):\n",
        "        self.__status = \"Active\"\n",
        "        print(f\"Membership for {self.name} renewed.\")\n",
        "\n",
        "    def cancel_membership(self):\n",
        "        self.__status = \"Cancelled\"\n",
        "        print(f\"Membership for {self.name} cancelled.\")\n",
        "\n",
        "\n",
        "class FamilyMember(Member):\n",
        "    pass\n",
        "\n",
        "\n",
        "class IndividualMember(Member):\n",
        "    pass\n",
        "\n",
        "\n",
        "# Testing\n",
        "family_member = FamilyMember(\"John\", 35, \"Family\")\n",
        "individual_member = IndividualMember(\"Alice\", 28, \"Individual\")\n",
        "\n",
        "family_member.register()\n",
        "individual_member.renew_membership()\n",
        "individual_member.cancel_membership()"
      ],
      "metadata": {
        "colab": {
          "base_uri": "https://localhost:8080/"
        },
        "id": "uQ-BJEHwZp2y",
        "outputId": "ddeb6b64-920a-490b-ea44-fb7b1a547385"
      },
      "execution_count": 86,
      "outputs": [
        {
          "output_type": "stream",
          "name": "stdout",
          "text": [
            "Member John registered with Family membership.\n",
            "Membership for Alice renewed.\n",
            "Membership for Alice cancelled.\n"
          ]
        }
      ]
    },
    {
      "cell_type": "markdown",
      "source": [
        "9. Event Management System"
      ],
      "metadata": {
        "id": "-PyTLhS5Zunv"
      }
    },
    {
      "cell_type": "code",
      "source": [
        "class Event:\n",
        "    def __init__(self, name, date, time, location):\n",
        "        self.__id = id(self)  # Unique identifier\n",
        "        self.name = name\n",
        "        self.date = date\n",
        "        self.time = time\n",
        "        self.location = location\n",
        "        self.__attendees = []\n",
        "\n",
        "    def add_attendee(self, attendee):\n",
        "        self.__attendees.append(attendee)\n",
        "        print(f\"Attendee {attendee} added to event {self.name}.\")\n",
        "\n",
        "    def remove_attendee(self, attendee):\n",
        "        if attendee in self.__attendees:\n",
        "            self.__attendees.remove(attendee)\n",
        "            print(f\"Attendee {attendee} removed from event {self.name}.\")\n",
        "        else:\n",
        "            print(f\"Attendee {attendee} not found in event {self.name}.\")\n",
        "\n",
        "    def total_attendees(self):\n",
        "        return len(self.__attendees)\n",
        "\n",
        "\n",
        "class PrivateEvent(Event):\n",
        "    pass\n",
        "\n",
        "\n",
        "class PublicEvent(Event):\n",
        "    pass\n",
        "\n",
        "\n",
        "# Testing\n",
        "event = PublicEvent(\"Music Festival\", \"2025-01-30\", \"18:00\", \"Central Park\")\n",
        "event.add_attendee(\"John\")\n",
        "event.add_attendee(\"Alice\")\n",
        "print(\"Total attendees:\", event.total_attendees())\n",
        "event.remove_attendee(\"Alice\")\n",
        "print(\"Total attendees:\", event.total_attendees())\n"
      ],
      "metadata": {
        "colab": {
          "base_uri": "https://localhost:8080/"
        },
        "id": "1JxISGe8ZtAR",
        "outputId": "83d17a6f-8b05-4ff3-d449-58a3e0af2bc7"
      },
      "execution_count": 87,
      "outputs": [
        {
          "output_type": "stream",
          "name": "stdout",
          "text": [
            "Attendee John added to event Music Festival.\n",
            "Attendee Alice added to event Music Festival.\n",
            "Total attendees: 2\n",
            "Attendee Alice removed from event Music Festival.\n",
            "Total attendees: 1\n"
          ]
        }
      ]
    },
    {
      "cell_type": "markdown",
      "source": [
        "10. Airline Reservation System"
      ],
      "metadata": {
        "id": "lDeg5V0xZxpX"
      }
    },
    {
      "cell_type": "code",
      "source": [
        "class Flight:\n",
        "    def __init__(self, flight_number, departure, arrival, departure_time, arrival_time, available_seats):\n",
        "        self.__id = id(self)  # Unique identifier\n",
        "        self.flight_number = flight_number\n",
        "        self.departure = departure\n",
        "        self.arrival = arrival\n",
        "        self.departure_time = departure_time\n",
        "        self.arrival_time = arrival_time\n",
        "        self.__available_seats = available_seats\n",
        "\n",
        "    def book_seat(self):\n",
        "        if self.__available_seats > 0:\n",
        "            self.__available_seats -= 1\n",
        "            print(f\"Seat booked on flight {self.flight_number}. Remaining seats: {self.__available_seats}\")\n",
        "        else:\n",
        "            print(\"No seats available.\")\n",
        "\n",
        "    def cancel_reservation(self):\n",
        "        self.__available_seats += 1\n",
        "        print(f\"Reservation cancelled. Remaining seats: {self.__available_seats}\")\n",
        "\n",
        "    def get_available_seats(self):\n",
        "        return self.__available_seats\n",
        "\n",
        "\n",
        "class DomesticFlight(Flight):\n",
        "    pass\n",
        "\n",
        "\n",
        "class InternationalFlight(Flight):\n",
        "    pass\n",
        "\n",
        "\n",
        "# Testing\n",
        "domestic_flight = DomesticFlight(\"DF101\", \"Mumbai\", \"Delhi\", \"10:00\", \"12:00\", 50)\n",
        "international_flight = InternationalFlight(\"IF202\", \"NYC\", \"London\", \"14:00\", \"22:00\", 100)\n",
        "\n",
        "domestic_flight.book_seat()\n",
        "international_flight.book_seat()\n",
        "domestic_flight.cancel_reservation()\n",
        "print(\"Remaining seats on domestic flight:\", domestic_flight.get_available_seats())"
      ],
      "metadata": {
        "colab": {
          "base_uri": "https://localhost:8080/"
        },
        "id": "k6ckriURZvtB",
        "outputId": "52df40a7-3ff2-47ba-a273-b4180e60eeae"
      },
      "execution_count": 88,
      "outputs": [
        {
          "output_type": "stream",
          "name": "stdout",
          "text": [
            "Seat booked on flight DF101. Remaining seats: 49\n",
            "Seat booked on flight IF202. Remaining seats: 99\n",
            "Reservation cancelled. Remaining seats: 50\n",
            "Remaining seats on domestic flight: 50\n"
          ]
        }
      ]
    },
    {
      "cell_type": "markdown",
      "source": [
        "11. Define a Python module named constants.py"
      ],
      "metadata": {
        "id": "ZmrWH4hnaCn-"
      }
    },
    {
      "cell_type": "code",
      "source": [
        "# constants.py\n",
        "PI = 3.14159\n",
        "SPEED_OF_LIGHT = 299792458  # in m/s"
      ],
      "metadata": {
        "id": "JSC6G8jOZ0WG"
      },
      "execution_count": 89,
      "outputs": []
    },
    {
      "cell_type": "markdown",
      "source": [
        "12. Write a Python module named calculator.py"
      ],
      "metadata": {
        "id": "ARmiZ6o2aIFN"
      }
    },
    {
      "cell_type": "code",
      "source": [
        "# calculator.py\n",
        "def add(a, b):\n",
        "    return a + b\n",
        "\n",
        "def subtract(a, b):\n",
        "    return a - b\n",
        "\n",
        "def multiply(a, b):\n",
        "    return a * b\n",
        "\n",
        "def divide(a, b):\n",
        "    if b != 0:\n",
        "        return a / b\n",
        "    else:\n",
        "        return \"Division by zero is not allowed.\""
      ],
      "metadata": {
        "id": "wTzBDIKraEGc"
      },
      "execution_count": 90,
      "outputs": []
    },
    {
      "cell_type": "markdown",
      "source": [
        "13. Implement a Python package structure for a project named ecommerce\n",
        "\n",
        "\n",
        "```\n",
        "ecommerce/\n",
        "    __init__.py\n",
        "    product_management.py\n",
        "    order_processing.py\n",
        "\n",
        "```\n",
        "\n"
      ],
      "metadata": {
        "id": "-DDcT5WNaRQg"
      }
    },
    {
      "cell_type": "code",
      "source": [
        "# product_management.py\n",
        "products = []\n",
        "\n",
        "def add_product(name, price):\n",
        "    products.append({\"name\": name, \"price\": price})\n",
        "\n",
        "def list_products():\n",
        "    return products\n",
        "\n",
        "\n",
        "\n",
        "# order_processing.py\n",
        "orders = []\n",
        "\n",
        "def place_order(product_name, quantity):\n",
        "    orders.append({\"product\": product_name, \"quantity\": quantity})\n",
        "\n",
        "def list_orders():\n",
        "    return orders\n"
      ],
      "metadata": {
        "id": "LFvjw42yaKsU"
      },
      "execution_count": 91,
      "outputs": []
    },
    {
      "cell_type": "markdown",
      "source": [
        "14. Python module named string_utils.py"
      ],
      "metadata": {
        "id": "zQWFpgTQaf9N"
      }
    },
    {
      "cell_type": "code",
      "source": [
        "# string_utils.py\n",
        "def reverse_string(s):\n",
        "    return s[::-1]\n",
        "\n",
        "def capitalize_string(s):\n",
        "    return s.capitalize()\n"
      ],
      "metadata": {
        "id": "MnEklQRHaYcT"
      },
      "execution_count": 92,
      "outputs": []
    },
    {
      "cell_type": "markdown",
      "source": [
        "15. Python module named file_operations.py"
      ],
      "metadata": {
        "id": "jOJVw1v1ajNm"
      }
    },
    {
      "cell_type": "code",
      "source": [
        "# file_operations.py\n",
        "def read_file(file_name):\n",
        "    with open(file_name, \"r\") as file:\n",
        "        return file.read()\n",
        "\n",
        "def write_file(file_name, content):\n",
        "    with open(file_name, \"w\") as file:\n",
        "        file.write(content)\n",
        "\n",
        "def append_file(file_name, content):\n",
        "    with open(file_name, \"a\") as file:\n",
        "        file.write(content)\n"
      ],
      "metadata": {
        "id": "1iArD1jYah8V"
      },
      "execution_count": 93,
      "outputs": []
    },
    {
      "cell_type": "markdown",
      "source": [
        "16. Write a Python program to create a text file named employees.txt"
      ],
      "metadata": {
        "id": "9RYwBZm2amr0"
      }
    },
    {
      "cell_type": "code",
      "source": [
        "with open(\"employees.txt\", \"w\") as file:\n",
        "    employees = [\n",
        "        {\"name\": \"John\", \"age\": 30, \"salary\": 50000},\n",
        "        {\"name\": \"Alice\", \"age\": 28, \"salary\": 55000},\n",
        "        {\"name\": \"Bob\", \"age\": 35, \"salary\": 60000}\n",
        "    ]\n",
        "    for employee in employees:\n",
        "        file.write(f\"{employee['name']}, {employee['age']}, {employee['salary']}\\n\")\n"
      ],
      "metadata": {
        "id": "1zuD3K67akjZ"
      },
      "execution_count": 94,
      "outputs": []
    },
    {
      "cell_type": "markdown",
      "source": [
        "17. Python script to display contents of inventory.txt line by line"
      ],
      "metadata": {
        "id": "Gh6pUSO5apvP"
      }
    },
    {
      "cell_type": "code",
      "source": [
        "with open(\"inventory.txt\", \"r\") as file:\n",
        "    for line in file:\n",
        "        print(line.strip())"
      ],
      "metadata": {
        "collapsed": true,
        "id": "koAxUToeaoMX"
      },
      "execution_count": null,
      "outputs": []
    },
    {
      "cell_type": "markdown",
      "source": [
        "18. Python script to calculate total expenses from expenses.txt"
      ],
      "metadata": {
        "id": "pqRXZ_4Cauiq"
      }
    },
    {
      "cell_type": "code",
      "source": [
        "total_expenses = 0\n",
        "with open(\"expenses.txt\", \"r\") as file:\n",
        "    for line in file:\n",
        "        total_expenses += float(line.strip())\n",
        "print(f\"Total Expenses: {total_expenses}\")\n"
      ],
      "metadata": {
        "collapsed": true,
        "id": "wigdx9hFarKt"
      },
      "execution_count": null,
      "outputs": []
    },
    {
      "cell_type": "markdown",
      "source": [
        "19. Python program to count word occurrences in paragraph.txt\n",
        "python\n",
        "Copy\n",
        "Edit\n"
      ],
      "metadata": {
        "id": "C1OSlNkwaxp-"
      }
    },
    {
      "cell_type": "code",
      "source": [
        "from collections import Counter\n",
        "\n",
        "with open(\"paragraph.txt\", \"r\") as file:\n",
        "    words = file.read().split()\n",
        "\n",
        "word_count = Counter(words)\n",
        "\n",
        "for word in sorted(word_count):\n",
        "    print(f\"{word}: {word_count[word]}\")"
      ],
      "metadata": {
        "id": "MfDwK5zDaxFH"
      },
      "execution_count": null,
      "outputs": []
    },
    {
      "cell_type": "markdown",
      "source": [
        "20. Measure of Central Tendency and Dispersion\n",
        "* Measure of Central Tendency: A statistical measure to determine a single  score that defines the center of the distribution. Common measures include:\n",
        "    - Mean\n",
        "    - Median\n",
        "    - Mode\n",
        "* Measures of Dispersion: These describe the spread of data around the central value. Common measures include:\n",
        "    - Range\n",
        "    - Variance\n",
        "    - Standard Deviation"
      ],
      "metadata": {
        "id": "f8vRj1xwa5np"
      }
    },
    {
      "cell_type": "markdown",
      "source": [
        "21. Skewness\n",
        "* Definition: Skewness refers to the degree of asymmetry in the distribution of data.\n",
        "    - Positive Skew: Tail on the right.\n",
        "    - Negative Skew: Tail on the left.\n",
        "    - Symmetric: No skewness."
      ],
      "metadata": {
        "id": "uSdyTgD5bS5j"
      }
    },
    {
      "cell_type": "code",
      "source": [
        "import matplotlib.pyplot as plt\n",
        "import numpy as np\n",
        "\n",
        "data = [1, 2, 3, 4, 5, 10]  # Positive skew example\n",
        "plt.hist(data, bins=5, edgecolor='black')\n",
        "plt.title(\"Positive Skew\")\n",
        "plt.show()"
      ],
      "metadata": {
        "colab": {
          "base_uri": "https://localhost:8080/",
          "height": 452
        },
        "id": "QYUftSoca3oI",
        "outputId": "9af7d131-3838-40d5-8f41-729a54bdb399"
      },
      "execution_count": 98,
      "outputs": [
        {
          "output_type": "display_data",
          "data": {
            "text/plain": [
              "<Figure size 640x480 with 1 Axes>"
            ],
            "image/png": "[encoded data removed]"
          },
          "metadata": {}
        }
      ]
    },
    {
      "cell_type": "markdown",
      "source": [
        "22. PMF and PDF\n",
        "* PMF: Probability Mass Function applies to discrete data.\n",
        "* PDF: Probability Density Function applies to continuous data."
      ],
      "metadata": {
        "id": "r85poP2rbeEH"
      }
    },
    {
      "cell_type": "markdown",
      "source": [
        "23. Correlation\n",
        "* Definition: Correlation measures the relationship between two variables. Types:\n",
        "    - Positive\n",
        "    - Negative\n",
        "    - Zero\n",
        "* Methods:\n",
        "    - Pearson\n",
        "    - Spearman\n",
        "    - Kendall"
      ],
      "metadata": {
        "id": "dnsD0chLbh6e"
      }
    },
    {
      "cell_type": "markdown",
      "source": [
        "24. Calculate Pearson's Coefficient"
      ],
      "metadata": {
        "id": "7pDiDh69bwJU"
      }
    },
    {
      "cell_type": "code",
      "source": [
        "import numpy as np\n",
        "\n",
        "accountancy = [50, 60, 70, 80, 90, 40, 50, 60, 70, 80]\n",
        "statistics = [45, 55, 65, 75, 85, 35, 45, 55, 65, 75]\n",
        "\n",
        "correlation = np.corrcoef(accountancy, statistics)[0, 1]\n",
        "print(\"Pearson's Correlation Coefficient:\", correlation)\n"
      ],
      "metadata": {
        "colab": {
          "base_uri": "https://localhost:8080/"
        },
        "id": "eK_ew0ahbbas",
        "outputId": "235768c2-b3e8-4b56-cec0-4f93b696e816"
      },
      "execution_count": 99,
      "outputs": [
        {
          "output_type": "stream",
          "name": "stdout",
          "text": [
            "Pearson's Correlation Coefficient: 1.0\n"
          ]
        }
      ]
    },
    {
      "cell_type": "markdown",
      "source": [
        "#### 25. Differences between Correlation and Regression\n",
        "1. Definition:\n",
        "\n",
        "* Correlation measures the strength and direction of the relationship between two variables.\n",
        "* Regression predicts the value of a dependent variable based on the value of an independent variable.\n",
        "2. Dependency:\n",
        "\n",
        "* Correlation does not distinguish between dependent and independent variables.\n",
        "* Regression assumes one variable is dependent on the other.\n",
        "3. Units:\n",
        "\n",
        "* Correlation is unitless.\n",
        "* Regression results depend on the units of the variables.\n",
        "4. Purpose:\n",
        "\n",
        "* Correlation quantifies the relationship.\n",
        "* Regression explains and predicts the relationship."
      ],
      "metadata": {
        "id": "jqUJvTdQcAW9"
      }
    },
    {
      "cell_type": "markdown",
      "source": [
        "26. Most likely price at Delhi corresponding to price of Rs. 70 at Agra"
      ],
      "metadata": {
        "id": "5rcYYaeOcUZu"
      }
    },
    {
      "cell_type": "code",
      "source": [
        "mean_agra = 65\n",
        "mean_delhi = 68\n",
        "std_agra = 5\n",
        "std_delhi = 4\n",
        "correlation = 0.8\n",
        "\n",
        "# Regression Equation\n",
        "price_delhi = mean_delhi + correlation * (std_delhi / std_agra) * (70 - mean_agra)\n",
        "print(f\"Most likely price at Delhi: Rs. {price_delhi}\")\n"
      ],
      "metadata": {
        "colab": {
          "base_uri": "https://localhost:8080/"
        },
        "id": "NjM7_QNXbx7v",
        "outputId": "717b6615-cb73-4854-e64e-9904f5027ef1"
      },
      "execution_count": 100,
      "outputs": [
        {
          "output_type": "stream",
          "name": "stdout",
          "text": [
            "Most likely price at Delhi: Rs. 71.2\n"
          ]
        }
      ]
    },
    {
      "cell_type": "markdown",
      "source": [
        "27. Solve regression equations to find mean values and correlation coefficient"
      ],
      "metadata": {
        "id": "1EoKnx4LcXO-"
      }
    },
    {
      "cell_type": "code",
      "source": [
        "import numpy as np\n",
        "\n",
        "# Regression equations\n",
        "# (i) 8x − 10y = −66\n",
        "# (ii) 40x − 18y = 214\n",
        "\n",
        "# Solve for mean values of x and y\n",
        "A = np.array([[8, -10], [40, -18]])\n",
        "B = np.array([-66, 214])\n",
        "mean_values = np.linalg.solve(A, B)\n",
        "mean_x, mean_y = mean_values\n",
        "print(f\"Mean of x: {mean_x}, Mean of y: {mean_y}\")\n",
        "\n",
        "# Variance of x and coefficients for regression\n",
        "variance_x = 9\n",
        "b_xy = 8 / 10\n",
        "b_yx = 18 / 40\n",
        "\n",
        "# Coefficient of correlation (r)\n",
        "correlation = (b_xy * b_yx) ** 0.5\n",
        "print(f\"Coefficient of Correlation: {correlation}\")\n",
        "\n",
        "# Standard deviation of y (σy)\n",
        "std_y = (variance_x * b_yx / b_xy) ** 0.5\n",
        "print(f\"Standard Deviation of y: {std_y}\")"
      ],
      "metadata": {
        "colab": {
          "base_uri": "https://localhost:8080/"
        },
        "id": "1sEM7kpZcVc6",
        "outputId": "90a2340d-c63d-4a4b-8b50-c935d0f31371"
      },
      "execution_count": 101,
      "outputs": [
        {
          "output_type": "stream",
          "name": "stdout",
          "text": [
            "Mean of x: 13.0, Mean of y: 17.0\n",
            "Coefficient of Correlation: 0.6000000000000001\n",
            "Standard Deviation of y: 2.25\n"
          ]
        }
      ]
    },
    {
      "cell_type": "markdown",
      "source": [
        "28. Normal Distribution and Assumptions\n",
        "* Definition: Normal distribution is a symmetric, bell-shaped curve where the mean, median, and mode are equal.\n",
        "\n",
        "Assumptions:\n",
        "\n",
        "* Data is continuous.\n",
        "* Data is symmetrically distributed.\n",
        "* No extreme outliers.\n",
        "* The total area under the curve equals 1."
      ],
      "metadata": {
        "id": "KJiRFAytcbkV"
      }
    },
    {
      "cell_type": "markdown",
      "source": [
        "#### 29. Characteristics/Properties of Normal Distribution\n",
        "1. Symmetrical bell-shaped curve.\n",
        "2. Mean, median, and mode are equal.\n",
        "3. Total area under the curve = 1.\n",
        "4. Defined by two parameters: mean (μ) and standard deviation (σ).\n",
        "5. 68.26% of data lies within 1σ, 95.45% within 2σ, and 99.73% within 3σ.\n",
        "\n",
        "\n",
        "\n",
        "\n",
        "#### 30. Options for Normal Distribution\n",
        "Correct options: (a), (b), (c), (d), (e).\n",
        "\n"
      ],
      "metadata": {
        "id": "BKug9vlMcmhS"
      }
    },
    {
      "cell_type": "markdown",
      "source": [
        "31. Percentage of items for a normal distribution"
      ],
      "metadata": {
        "id": "Z7bAenjFc3Ma"
      }
    },
    {
      "cell_type": "code",
      "source": [
        "from scipy.stats import norm\n",
        "\n",
        "mean = 60\n",
        "std_dev = 10\n",
        "\n",
        "# (i) Between 60 and 72\n",
        "p1 = norm.cdf(72, mean, std_dev) - norm.cdf(60, mean, std_dev)\n",
        "\n",
        "# (ii) Between 50 and 60\n",
        "p2 = norm.cdf(60, mean, std_dev) - norm.cdf(50, mean, std_dev)\n",
        "\n",
        "# (iii) Beyond 72\n",
        "p3 = 1 - norm.cdf(72, mean, std_dev)\n",
        "\n",
        "# (iv) Between 70 and 80\n",
        "p4 = norm.cdf(80, mean, std_dev) - norm.cdf(70, mean, std_dev)\n",
        "\n",
        "print(f\"(i) {p1*100:.2f}%\")\n",
        "print(f\"(ii) {p2*100:.2f}%\")\n",
        "print(f\"(iii) {p3*100:.2f}%\")\n",
        "print(f\"(iv) {p4*100:.2f}%\")\n"
      ],
      "metadata": {
        "colab": {
          "base_uri": "https://localhost:8080/"
        },
        "id": "nuXy25OBcYjm",
        "outputId": "335d4756-1ef3-4599-98ce-7dc728d35830"
      },
      "execution_count": 102,
      "outputs": [
        {
          "output_type": "stream",
          "name": "stdout",
          "text": [
            "(i) 38.49%\n",
            "(ii) 34.13%\n",
            "(iii) 11.51%\n",
            "(iv) 13.59%\n"
          ]
        }
      ]
    },
    {
      "cell_type": "markdown",
      "source": [
        "32. Proportion of students scoring above 55 and 70 marks"
      ],
      "metadata": {
        "id": "qAs9v_4nc6Wt"
      }
    },
    {
      "cell_type": "code",
      "source": [
        "mean = 49\n",
        "std_dev = 6\n",
        "\n",
        "# (a) More than 55 marks\n",
        "p1 = 1 - norm.cdf(55, mean, std_dev)\n",
        "\n",
        "# (b) More than 70 marks\n",
        "p2 = 1 - norm.cdf(70, mean, std_dev)\n",
        "\n",
        "print(f\"(a) {p1*15000:.0f} students\")\n",
        "print(f\"(b) {p2*15000:.0f} students\")\n"
      ],
      "metadata": {
        "colab": {
          "base_uri": "https://localhost:8080/"
        },
        "id": "0KHuzEgcc4cB",
        "outputId": "000fb1e5-368b-4919-fc74-8749d514c66f"
      },
      "execution_count": 103,
      "outputs": [
        {
          "output_type": "stream",
          "name": "stdout",
          "text": [
            "(a) 2380 students\n",
            "(b) 3 students\n"
          ]
        }
      ]
    },
    {
      "cell_type": "markdown",
      "source": [
        "33. Students with height > 70 inches and between 60-70 inches"
      ],
      "metadata": {
        "id": "IHoMQcrkc85m"
      }
    },
    {
      "cell_type": "code",
      "source": [
        "mean = 65\n",
        "std_dev = 5\n",
        "\n",
        "# (a) Greater than 70 inches\n",
        "p1 = 1 - norm.cdf(70, mean, std_dev)\n",
        "\n",
        "# (b) Between 60 and 70 inches\n",
        "p2 = norm.cdf(70, mean, std_dev) - norm.cdf(60, mean, std_dev)\n",
        "\n",
        "print(f\"(a) {p1*500:.0f} students\")\n",
        "print(f\"(b) {p2*500:.0f} students\")\n"
      ],
      "metadata": {
        "colab": {
          "base_uri": "https://localhost:8080/"
        },
        "id": "DHmF1S5fc7bL",
        "outputId": "558b41df-218a-47cf-a786-daee386fd10d"
      },
      "execution_count": 104,
      "outputs": [
        {
          "output_type": "stream",
          "name": "stdout",
          "text": [
            "(a) 79 students\n",
            "(b) 341 students\n"
          ]
        }
      ]
    },
    {
      "cell_type": "markdown",
      "source": [
        "34. Statistical Hypothesis and Errors in Hypothesis Testing\n",
        "* Statistical Hypothesis: A statement to test a theory.\n",
        "    - Null Hypothesis (H0): No effect or relationship.\n",
        "    - Alternative Hypothesis (H1): Indicates an effect or relationship.\n",
        "* Errors:\n",
        "\n",
        "    - Type I Error: Rejecting H0 when it is true.\n",
        "    - Type II Error: Accepting H0 when it is false.\n"
      ],
      "metadata": {
        "id": "V7yMacvMdAav"
      }
    },
    {
      "cell_type": "markdown",
      "source": [
        "35. Chi-Square Test for Population Standard Deviation"
      ],
      "metadata": {
        "id": "C2HQmHlXdJnk"
      }
    },
    {
      "cell_type": "code",
      "source": [
        "import scipy.stats as stats\n",
        "\n",
        "n = 25\n",
        "sample_std_dev = 9.0\n",
        "population_std_dev = 10.5\n",
        "\n",
        "chi_square = (n - 1) * (sample_std_dev ** 2) / (population_std_dev ** 2)\n",
        "critical_value = stats.chi2.ppf(0.95, n - 1)\n",
        "\n",
        "print(f\"Chi-Square: {chi_square}\")\n",
        "print(f\"Critical Value: {critical_value}\")\n",
        "\n",
        "if chi_square < critical_value:\n",
        "    print(\"Fail to reject the null hypothesis.\")\n",
        "else:\n",
        "    print(\"Reject the null hypothesis.\")\n"
      ],
      "metadata": {
        "colab": {
          "base_uri": "https://localhost:8080/"
        },
        "id": "iwEDwKa8c-Op",
        "outputId": "4ae93e09-0773-4039-9813-fa5655852dc8"
      },
      "execution_count": 105,
      "outputs": [
        {
          "output_type": "stream",
          "name": "stdout",
          "text": [
            "Chi-Square: 17.632653061224488\n",
            "Critical Value: 36.41502850180731\n",
            "Fail to reject the null hypothesis.\n"
          ]
        }
      ]
    },
    {
      "cell_type": "markdown",
      "source": [
        "37. Chi-Square Test for Uniform Distribution of Grades"
      ],
      "metadata": {
        "id": "MHd95tnGdM4M"
      }
    },
    {
      "cell_type": "code",
      "source": [
        "observed = [15, 17, 30, 22, 16]\n",
        "expected = [20, 20, 20, 20, 20]  # Uniform distribution\n",
        "chi_square = sum((o - e) ** 2 / e for o, e in zip(observed, expected))\n",
        "critical_value = stats.chi2.ppf(0.95, len(observed) - 1)\n",
        "\n",
        "print(f\"Chi-Square: {chi_square}\")\n",
        "print(f\"Critical Value: {critical_value}\")\n",
        "\n",
        "if chi_square < critical_value:\n",
        "    print(\"Fail to reject the null hypothesis. The distribution is uniform.\")\n",
        "else:\n",
        "    print(\"Reject the null hypothesis. The distribution is not uniform.\")"
      ],
      "metadata": {
        "colab": {
          "base_uri": "https://localhost:8080/"
        },
        "id": "PJhDnIkndK8y",
        "outputId": "9cd04031-bec7-49c1-ef5a-c3ed976fec84"
      },
      "execution_count": 106,
      "outputs": [
        {
          "output_type": "stream",
          "name": "stdout",
          "text": [
            "Chi-Square: 7.7\n",
            "Critical Value: 9.487729036781154\n",
            "Fail to reject the null hypothesis. The distribution is uniform.\n"
          ]
        }
      ]
    },
    {
      "cell_type": "code",
      "source": [],
      "metadata": {
        "id": "ZaV5pgNwdO-7"
      },
      "execution_count": null,
      "outputs": []
    }
  ]
}