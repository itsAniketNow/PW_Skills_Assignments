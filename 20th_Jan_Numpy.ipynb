{
  "nbformat": 4,
  "nbformat_minor": 0,
  "metadata": {
    "colab": {
      "provenance": []
    },
    "kernelspec": {
      "name": "python3",
      "display_name": "Python 3"
    },
    "language_info": {
      "name": "python"
    }
  },
  "cells": [
    {
      "cell_type": "markdown",
      "source": [
        "##Numpy Assignement.\n"
      ],
      "metadata": {
        "id": "DNoxlPNXcigl"
      }
    },
    {
      "cell_type": "markdown",
      "source": [
        "###1. What is a Python library? Why do we use Python libraries?"
      ],
      "metadata": {
        "id": "muQ4ywvtcsfT"
      }
    },
    {
      "cell_type": "markdown",
      "source": [
        "A Python library is a collection of pre-written code that you can import and use in your programs. It provides functions and classes that help you avoid writing code from scratch for common tasks, such as math operations, data manipulation, web requests, etc.\n",
        "\n",
        "We use Python libraries because:\n",
        "\n",
        "\n",
        "They save time and effort.\n",
        "\n",
        "They ensure code reusability.\n",
        "\n",
        "They offer tested and optimized functions.\n",
        "\n",
        "They simplify complex tasks (e.g., data analysis, machine learning).\n",
        "\n",
        "\n"
      ],
      "metadata": {
        "id": "NkIOVlblcwY8"
      }
    },
    {
      "cell_type": "markdown",
      "source": [
        "###2.2. What is the difference between a NumPy array and a Python list?\n",
        "\n",
        "\n",
        "\n",
        "1. NumPy Array :\n",
        "Homogeneous: All elements must be of the same type.\n",
        "\n",
        "Supports multi-dimensional arrays.\n",
        "\n",
        "Supports element-wise operations.\n",
        "\n",
        "Requires less memory and is faster.\n",
        "\n",
        "2.Python List :\n",
        "\n",
        "Heterogeneous: Elements can be of different types.\n",
        "\n",
        "Only supports 1D lists (nested lists can simulate 2D)\n",
        "\n",
        "No built-in support for element-wise operations.\n",
        "\n",
        "Requires more memory and is slower.\n"
      ],
      "metadata": {
        "id": "LGiZdEjPdA-o"
      }
    },
    {
      "cell_type": "markdown",
      "source": [
        "### 3. Find the shape, size, and dimension of the following array?"
      ],
      "metadata": {
        "id": "lqCgNL7ed6Ze"
      }
    },
    {
      "cell_type": "code",
      "execution_count": 2,
      "metadata": {
        "colab": {
          "base_uri": "https://localhost:8080/"
        },
        "id": "iBitNmRAb5s8",
        "outputId": "7d350c0f-75cb-4979-8884-b24b555261a2"
      },
      "outputs": [
        {
          "output_type": "execute_result",
          "data": {
            "text/plain": [
              "((3, 4), 12, 2)"
            ]
          },
          "metadata": {},
          "execution_count": 2
        }
      ],
      "source": [
        "import numpy as np\n",
        "array = np.array([[1, 2, 3, 4], [5, 6, 7, 8], [9, 10, 11, 12]])\n",
        "shape = array.shape\n",
        "size = array.size\n",
        "dimension = array.ndim\n",
        "shape, size, dimension"
      ]
    },
    {
      "cell_type": "markdown",
      "source": [
        "###4.4. Write Python code to access the first row of the following array:"
      ],
      "metadata": {
        "id": "mMkhgs-2eFFE"
      }
    },
    {
      "cell_type": "code",
      "source": [
        "array = np.array([[1, 2, 3, 4], [5, 6, 7, 8], [9, 10, 11, 12]])\n",
        "first_row = array[0]\n",
        "first_row"
      ],
      "metadata": {
        "colab": {
          "base_uri": "https://localhost:8080/"
        },
        "id": "Nj55aOsYeDNw",
        "outputId": "ce0eba32-c4cb-49cf-f6cf-9deae22a6d52"
      },
      "execution_count": 3,
      "outputs": [
        {
          "output_type": "execute_result",
          "data": {
            "text/plain": [
              "array([1, 2, 3, 4])"
            ]
          },
          "metadata": {},
          "execution_count": 3
        }
      ]
    },
    {
      "cell_type": "markdown",
      "source": [
        "###5. How do you access the element at the third row and fourth column from the given numpy array?"
      ],
      "metadata": {
        "id": "K6ddyBK2eUtE"
      }
    },
    {
      "cell_type": "code",
      "source": [
        "array = np.array([[1, 2, 3, 4], [5, 6, 7, 8], [9, 10, 11, 12]])\n",
        "element = array[2, 3]\n",
        "element"
      ],
      "metadata": {
        "colab": {
          "base_uri": "https://localhost:8080/"
        },
        "id": "WbpRHUcQeTEO",
        "outputId": "9a1ec921-6c5e-4f23-a173-a020f3276b4c"
      },
      "execution_count": 4,
      "outputs": [
        {
          "output_type": "execute_result",
          "data": {
            "text/plain": [
              "12"
            ]
          },
          "metadata": {},
          "execution_count": 4
        }
      ]
    },
    {
      "cell_type": "markdown",
      "source": [
        "###6. Write code to extract all odd-indexed elements from the given numpy array:"
      ],
      "metadata": {
        "id": "hNIMKF3ueorZ"
      }
    },
    {
      "cell_type": "code",
      "source": [
        "array = np.array([[1, 2, 3, 4], [5, 6, 7, 8], [9, 10, 11, 12]])\n",
        "odd_indexed_elements = array[:, 1::2]\n",
        "odd_indexed_elements"
      ],
      "metadata": {
        "colab": {
          "base_uri": "https://localhost:8080/"
        },
        "id": "nstTXlOpenK-",
        "outputId": "4aaed9e6-1b7c-461d-dfad-5effd89c0ff2"
      },
      "execution_count": 5,
      "outputs": [
        {
          "output_type": "execute_result",
          "data": {
            "text/plain": [
              "array([[ 2,  4],\n",
              "       [ 6,  8],\n",
              "       [10, 12]])"
            ]
          },
          "metadata": {},
          "execution_count": 5
        }
      ]
    },
    {
      "cell_type": "markdown",
      "source": [
        "###7. How can you generate a random 3x3 matrix with values between 0 and 1?"
      ],
      "metadata": {
        "id": "I4_CewI3etMJ"
      }
    },
    {
      "cell_type": "code",
      "source": [
        "random_matrix = np.random.rand(3, 3)\n",
        "random_matrix"
      ],
      "metadata": {
        "colab": {
          "base_uri": "https://localhost:8080/"
        },
        "id": "AROrXPIterVu",
        "outputId": "b5a1c804-436e-4be3-85b5-4a61bc6798f9"
      },
      "execution_count": 6,
      "outputs": [
        {
          "output_type": "execute_result",
          "data": {
            "text/plain": [
              "array([[0.92127795, 0.88492557, 0.98882546],\n",
              "       [0.50053191, 0.85292848, 0.28384178],\n",
              "       [0.9079622 , 0.40558929, 0.00257562]])"
            ]
          },
          "metadata": {},
          "execution_count": 6
        }
      ]
    },
    {
      "cell_type": "markdown",
      "source": [
        "###8. Difference between np.random.rand and np.random.randn\n",
        "\n",
        "Answer :\n",
        "np.random.rand(): Generates random numbers from a uniform distribution between 0 and 1.\n",
        "\n",
        "np.random.randn(): Generates random numbers from a normal (Gaussian) distribution with mean 0 and standard deviation 1."
      ],
      "metadata": {
        "id": "oNCNBZfWeyEI"
      }
    },
    {
      "cell_type": "markdown",
      "source": [
        "###9. Write code to increase the dimension of the following array:"
      ],
      "metadata": {
        "id": "_MCGnM0Qe6fA"
      }
    },
    {
      "cell_type": "code",
      "source": [
        "array = np.array([[1, 2, 3, 4], [5, 6, 7, 8], [9, 10, 11, 12]])\n",
        "new_array = np.expand_dims(array, axis=0)  # Adding a new axis\n",
        "new_array.shape"
      ],
      "metadata": {
        "colab": {
          "base_uri": "https://localhost:8080/"
        },
        "id": "CtlVWWAkevgV",
        "outputId": "de0e72ef-38a5-4f50-bc4e-3ddabf4cea24"
      },
      "execution_count": 7,
      "outputs": [
        {
          "output_type": "execute_result",
          "data": {
            "text/plain": [
              "(1, 3, 4)"
            ]
          },
          "metadata": {},
          "execution_count": 7
        }
      ]
    },
    {
      "cell_type": "markdown",
      "source": [
        "###10. How to transpose the following array in NumPy?\n"
      ],
      "metadata": {
        "id": "JAzcFVnRfgq6"
      }
    },
    {
      "cell_type": "code",
      "source": [
        "array = np.array([[1, 2, 3, 4], [5, 6, 7, 8], [9, 10, 11, 12]])\n",
        "transposed_array = np.transpose(array)\n",
        "transposed_array"
      ],
      "metadata": {
        "colab": {
          "base_uri": "https://localhost:8080/"
        },
        "id": "mrwRZsyqe8fl",
        "outputId": "6c10d0f1-c02f-4f94-90b3-6da78d47a6a7"
      },
      "execution_count": 8,
      "outputs": [
        {
          "output_type": "execute_result",
          "data": {
            "text/plain": [
              "array([[ 1,  5,  9],\n",
              "       [ 2,  6, 10],\n",
              "       [ 3,  7, 11],\n",
              "       [ 4,  8, 12]])"
            ]
          },
          "metadata": {},
          "execution_count": 8
        }
      ]
    },
    {
      "cell_type": "markdown",
      "source": [
        "###11. Perform the following operations on matrices A and B:"
      ],
      "metadata": {
        "id": "TRUKzaghfpGT"
      }
    },
    {
      "cell_type": "code",
      "source": [
        "A = np.array([[1, 2, 3, 4], [5, 6, 7, 8], [9, 10, 11, 12]])\n",
        "B = np.array([[1, 2, 3, 4], [5, 6, 7, 8], [9, 10, 11, 12]])\n",
        "\n",
        "# Index-wise multiplication\n",
        "index_wise_multiplication = A * B\n",
        "\n",
        "# Matrix multiplication\n",
        "matrix_multiplication = np.dot(A, B.T)\n",
        "\n",
        "# Add both matrices\n",
        "matrix_addition = A + B\n",
        "\n",
        "# Subtract matrix B from A\n",
        "matrix_subtraction = A - B\n",
        "\n",
        "# Divide Matrix B by A\n",
        "matrix_division = B / A\n",
        "\n",
        "index_wise_multiplication, matrix_multiplication, matrix_addition, matrix_subtraction, matrix_division"
      ],
      "metadata": {
        "colab": {
          "base_uri": "https://localhost:8080/"
        },
        "id": "GcRKEi4Rflv9",
        "outputId": "d141b699-9a85-4b9b-91b7-98378df12312"
      },
      "execution_count": 9,
      "outputs": [
        {
          "output_type": "execute_result",
          "data": {
            "text/plain": [
              "(array([[  1,   4,   9,  16],\n",
              "        [ 25,  36,  49,  64],\n",
              "        [ 81, 100, 121, 144]]),\n",
              " array([[ 30,  70, 110],\n",
              "        [ 70, 174, 278],\n",
              "        [110, 278, 446]]),\n",
              " array([[ 2,  4,  6,  8],\n",
              "        [10, 12, 14, 16],\n",
              "        [18, 20, 22, 24]]),\n",
              " array([[0, 0, 0, 0],\n",
              "        [0, 0, 0, 0],\n",
              "        [0, 0, 0, 0]]),\n",
              " array([[1., 1., 1., 1.],\n",
              "        [1., 1., 1., 1.],\n",
              "        [1., 1., 1., 1.]]))"
            ]
          },
          "metadata": {},
          "execution_count": 9
        }
      ]
    },
    {
      "cell_type": "markdown",
      "source": [
        "###12. Which function in Numpy can be used to swap the byte order of an array?\n",
        "\n",
        "Answer : Function: np.ndarray.byteswap() can be used to swap the byte order of an array"
      ],
      "metadata": {
        "id": "8KFHauelf7nf"
      }
    },
    {
      "cell_type": "markdown",
      "source": [
        "###13. What is the significance of the np.linalg.inv function?\n",
        "Function: np.linalg.inv() computes the inverse of a square matrix. The inverse is useful in solving systems of linear equations, among other applications.\n"
      ],
      "metadata": {
        "id": "-KqMr2EvgDYH"
      }
    },
    {
      "cell_type": "markdown",
      "source": [
        "###14. What does the np.reshape function do, and how is it used?\n",
        "Function: np.reshape() changes the shape of an array without modifying its data. You can use it to rearrange the elements of an array into a specified shape."
      ],
      "metadata": {
        "id": "qGfpiMjEgGiW"
      }
    },
    {
      "cell_type": "code",
      "source": [
        "array = np.array([1, 2, 3, 4, 5, 6])\n",
        "reshaped_array = np.reshape(array, (2, 3))\n",
        "reshaped_array"
      ],
      "metadata": {
        "colab": {
          "base_uri": "https://localhost:8080/"
        },
        "id": "ZXnVU-yef9ll",
        "outputId": "14f1d359-8f8d-4659-8fd5-86905c684db2"
      },
      "execution_count": 10,
      "outputs": [
        {
          "output_type": "execute_result",
          "data": {
            "text/plain": [
              "array([[1, 2, 3],\n",
              "       [4, 5, 6]])"
            ]
          },
          "metadata": {},
          "execution_count": 10
        }
      ]
    },
    {
      "cell_type": "markdown",
      "source": [
        "###15. What is broadcasting in NumPy?\n",
        "Broadcasting allows NumPy to perform operations on arrays of different shapes. It automatically expands the dimensions of smaller arrays to match the larger ones without needing to create a full-size array."
      ],
      "metadata": {
        "id": "0thXxEncgLOn"
      }
    },
    {
      "cell_type": "code",
      "source": [
        "a = np.array([1, 2, 3])\n",
        "b = np.array([[1], [2], [3]])\n",
        "result = a + b  # Broadcasting makes the dimensions compatible"
      ],
      "metadata": {
        "id": "DsycnLKVgJRP"
      },
      "execution_count": 11,
      "outputs": []
    },
    {
      "cell_type": "code",
      "source": [],
      "metadata": {
        "id": "bVmeDib0gN3X"
      },
      "execution_count": null,
      "outputs": []
    }
  ]
}