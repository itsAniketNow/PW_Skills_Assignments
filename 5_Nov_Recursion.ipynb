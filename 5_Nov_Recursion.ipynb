{
  "cells": [
    {
      "cell_type": "markdown",
      "source": [
        "#Recursion"
      ],
      "metadata": {
        "id": "Wz7cZUzKaq75"
      }
    },
    {
      "cell_type": "markdown",
      "source": [
        "Q.1 Can you explain the logic and working of the Tower of Hanoi algorithm by writing a Java program?, How does the recursion work, and how are the movements of disks between rods accomplished?"
      ],
      "metadata": {
        "id": "td3-AXEpat3D"
      }
    },
    {
      "cell_type": "markdown",
      "source": [
        "The Tower of Hanoi is a classic problem that involves moving a stack of disks from one rod to another, adhering to certain rules:\n",
        "\n",
        "Only one disk can be moved at a time.\n",
        "Each move consists of taking the top disk from one stack and placing it on top of another stack.\n",
        "No disk may be placed on top of a smaller disk.\n",
        "The problem can be solved recursively using the following approach:\n",
        "\n",
        "Move the top n-1 disks from the source rod to an auxiliary rod, using the destination rod as a temporary rod.\n",
        "Move the nth disk from the source rod to the destination rod.\n",
        "Move the n-1 disks from the auxiliary rod to the destination rod, using the source rod as a temporary rod.\n",
        "Here's a Java program implementing the Tower of Hanoi algorithm:"
      ],
      "metadata": {
        "id": "nDH5aiE5a6Vd"
      }
    },
    {
      "cell_type": "code",
      "source": [
        "public class TowerOfHanoi {\n",
        "    public static void towerOfHanoi(int n, char source, char auxiliary, char destination) {\n",
        "        if (n == 1) {\n",
        "            System.out.println(\"Move disk 1 from rod \" + source + \" to rod \" + destination);\n",
        "            return;\n",
        "        }\n",
        "\n",
        "        towerOfHanoi(n - 1, source, destination, auxiliary);\n",
        "        System.out.println(\"Move disk \" + n + \" from rod \" + source + \" to rod \" + destination);\n",
        "        towerOfHanoi(n - 1, auxiliary, source, destination);\n",
        "    }\n",
        "\n",
        "    public static void main(String[] args) {\n",
        "        int n = 3; // Number of disks\n",
        "        towerOfHanoi(n, 'A', 'B', 'C');\n",
        "    }\n",
        "}"
      ],
      "metadata": {
        "id": "JVqtaD2paqSy"
      },
      "execution_count": null,
      "outputs": []
    },
    {
      "cell_type": "markdown",
      "source": [
        "## Q.2 Given two strings word1 and word2, return the minimum number of operations required to convert word1\n",
        "to word2.\n",
        "Example 1:\n",
        "Input: word1 = \"horse\", word2 = \"ros\"\n",
        "Output: 3\n",
        "Explanation:\n",
        "horse -> rorse (replace 'h' with 'r')\n",
        "rorse -> rose (remove 'r')\n",
        "rose -> ros (remove 'e')\n",
        "Example 2:\n",
        "Input: word1 = \"intention\", word2 = \"execution\"\n",
        "Output: 5\n",
        "Explanation:\n",
        "intention -> inention (remove 't')\n",
        "inention -> enention (replace 'i' with 'e')\n",
        "enention -> exention (replace 'n' with 'x')\n",
        "exention -> exection (replace 'n' with 'c')\n",
        "exection -> execution (insert 'u')"
      ],
      "metadata": {
        "id": "CLhaMWLMbAUV"
      }
    },
    {
      "cell_type": "markdown",
      "source": [
        "##**Answer:**\n",
        "To solve this problem, we can use dynamic programming. We'll create a 2D array to store the minimum number of operations required to convert substrings of word1 to substrings of word2. We'll iterate through both strings and fill in the array based on the following rules:\n",
        "\n",
        "If the characters at the current positions in both strings are the same, we don't need any operation, so we take the value from the previous positions.\n",
        "If the characters are different, we have three options: insertion, deletion, or replacement. We choose the minimum among these options and add 1 to it."
      ],
      "metadata": {
        "id": "n6FFz9dsbpKf"
      }
    },
    {
      "cell_type": "markdown",
      "source": [
        "##Q. 3 Print the max value of the array [ 13, 1, -3, 22, 5]."
      ],
      "metadata": {
        "id": "dKGUk-bMb5DV"
      }
    },
    {
      "cell_type": "code",
      "source": [
        "array = [13, 1, -3, 22, 5]\n",
        "max_value = max(array)\n",
        "print(\"Max value of the array:\", max_value)"
      ],
      "metadata": {
        "colab": {
          "base_uri": "https://localhost:8080/"
        },
        "id": "oZK7ATpWa84x",
        "outputId": "62d1b64f-6bf0-4718-85af-4caccf9cf3f8"
      },
      "execution_count": 2,
      "outputs": [
        {
          "output_type": "stream",
          "name": "stdout",
          "text": [
            "Max value of the array: 22\n"
          ]
        }
      ]
    },
    {
      "cell_type": "markdown",
      "source": [
        "##Q.4 Find the sum of the values of the array [92, 23, 15, -20, 10]."
      ],
      "metadata": {
        "id": "MWfkv0P9cCEl"
      }
    },
    {
      "cell_type": "code",
      "source": [
        "array = [92, 23, 15, -20, 10]\n",
        "sum_value = sum(array)\n",
        "print(\"Sum of the values of the array:\", sum_value)"
      ],
      "metadata": {
        "colab": {
          "base_uri": "https://localhost:8080/"
        },
        "id": "egeMS5I1cB6u",
        "outputId": "97de9096-bbe9-45d5-f935-4ca6f02c9c03"
      },
      "execution_count": 3,
      "outputs": [
        {
          "output_type": "stream",
          "name": "stdout",
          "text": [
            "Sum of the values of the array: 120\n"
          ]
        }
      ]
    },
    {
      "cell_type": "markdown",
      "source": [
        "##Q.5 Given a number n. Print if it is an armstrong number or not.An armstrong number is a number if the sum of every digit in that number raised to the power of total digits in that number is equal to the number.\n",
        "Example : 153 = 1^3 + 5^3 + 3^3 = 1 + 125 + 27 = 153 hence 153 is an armstrong number. (Easy)\n",
        "Input1 : 153\n",
        "Output1 : Yes\n",
        "Input 2 : 134\n",
        "Output2 : No"
      ],
      "metadata": {
        "id": "KXZ-8pTZcBOX"
      }
    },
    {
      "cell_type": "code",
      "source": [
        "def is_armstrong(number):\n",
        "    # Convert the number to a string to count the digits\n",
        "    num_str = str(number)\n",
        "    # Count the number of digits\n",
        "    num_digits = len(num_str)\n",
        "    # Calculate the sum of each digit raised to the power of total digits\n",
        "    armstrong_sum = sum(int(digit) ** num_digits for digit in num_str)\n",
        "    # Check if the sum is equal to the original number\n",
        "    return armstrong_sum == number\n",
        "\n",
        "# Test cases\n",
        "num1 = 153\n",
        "num2 = 134\n",
        "\n",
        "if is_armstrong(num1):\n",
        "    print(f\"{num1} is an Armstrong number.\")\n",
        "else:\n",
        "    print(f\"{num1} is not an Armstrong number.\")\n",
        "\n",
        "if is_armstrong(num2):\n",
        "    print(f\"{num2} is an Armstrong number.\")\n",
        "else:\n",
        "    print(f\"{num2} is not an Armstrong number.\")"
      ],
      "metadata": {
        "colab": {
          "base_uri": "https://localhost:8080/"
        },
        "id": "f9e4_utwcBhG",
        "outputId": "6a2aa181-a74a-4e5f-cd79-8ce68c91c3e4"
      },
      "execution_count": 4,
      "outputs": [
        {
          "output_type": "stream",
          "name": "stdout",
          "text": [
            "153 is an Armstrong number.\n",
            "134 is not an Armstrong number.\n"
          ]
        }
      ]
    }
  ],
  "metadata": {
    "colab": {
      "provenance": []
    },
    "kernelspec": {
      "display_name": "Python 3",
      "name": "python3"
    },
    "language_info": {
      "name": "python"
    }
  },
  "nbformat": 4,
  "nbformat_minor": 0
}