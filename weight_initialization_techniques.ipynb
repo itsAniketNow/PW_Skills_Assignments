{
  "nbformat": 4,
  "nbformat_minor": 0,
  "metadata": {
    "colab": {
      "provenance": []
    },
    "kernelspec": {
      "name": "python3",
      "display_name": "Python 3"
    },
    "language_info": {
      "name": "python"
    }
  },
  "cells": [
    {
      "cell_type": "markdown",
      "source": [
        "# **weight initialization techniques Assignment Questions**"
      ],
      "metadata": {
        "id": "-Fs0yhWhOedP"
      }
    },
    {
      "cell_type": "markdown",
      "source": [
        "## 7. Implement He initialization in Python using TensorFlow or PyTorch."
      ],
      "metadata": {
        "id": "-vNVTWiwOSIp"
      }
    },
    {
      "cell_type": "markdown",
      "source": [
        "TensorFlow Implementation"
      ],
      "metadata": {
        "id": "OTSnY4JzOVvK"
      }
    },
    {
      "cell_type": "code",
      "source": [
        "import tensorflow as tf\n",
        "\n",
        "# He initialization for a dense layer\n",
        "initializer = tf.keras.initializers.HeNormal()\n",
        "weights = initializer(shape=(256, 128))  # Example shape\n",
        "print(weights.numpy())  # Display initialized weights\n"
      ],
      "metadata": {
        "colab": {
          "base_uri": "https://localhost:8080/"
        },
        "id": "kP1or0t-OTXm",
        "outputId": "3ad74e6d-38d9-4d90-f396-a9f05fd719fd"
      },
      "execution_count": 2,
      "outputs": [
        {
          "output_type": "stream",
          "name": "stdout",
          "text": [
            "[[ 0.01780065 -0.02118368 -0.02556715 ...  0.0640124  -0.01707896\n",
            "   0.03739555]\n",
            " [-0.01496927 -0.09107588 -0.15427355 ...  0.01967376  0.12343383\n",
            "  -0.00392756]\n",
            " [-0.07002869 -0.13428336  0.03001799 ... -0.03090202 -0.04737377\n",
            "   0.02446604]\n",
            " ...\n",
            " [-0.148208   -0.10201875 -0.04226219 ... -0.03180923 -0.02215046\n",
            "  -0.02544411]\n",
            " [-0.05880281 -0.01500275  0.1967282  ...  0.09862208 -0.09707641\n",
            "  -0.09997755]\n",
            " [ 0.15175629  0.03148083 -0.02539265 ... -0.0482201   0.03064291\n",
            "  -0.03158225]]\n"
          ]
        }
      ]
    },
    {
      "cell_type": "markdown",
      "source": [
        "PyTorch Implementation"
      ],
      "metadata": {
        "id": "U560RVUgObJK"
      }
    },
    {
      "cell_type": "code",
      "source": [
        "import torch\n",
        "import torch.nn as nn\n",
        "\n",
        "# Define a layer with He initialization\n",
        "layer = nn.Linear(256, 128)\n",
        "nn.init.kaiming_normal_(layer.weight, nonlinearity='relu')\n",
        "\n",
        "# Print initialized weights\n",
        "print(layer.weight)\n"
      ],
      "metadata": {
        "colab": {
          "base_uri": "https://localhost:8080/"
        },
        "id": "-SEmTKoFOYrA",
        "outputId": "2d7ec7e0-be9e-4c6a-8c16-5732b3271f4b"
      },
      "execution_count": 3,
      "outputs": [
        {
          "output_type": "stream",
          "name": "stdout",
          "text": [
            "Parameter containing:\n",
            "tensor([[-0.0716,  0.0980, -0.0530,  ..., -0.0966, -0.0855, -0.0942],\n",
            "        [ 0.2054, -0.0008,  0.0122,  ..., -0.0244, -0.0516, -0.1403],\n",
            "        [-0.0541, -0.0281, -0.0278,  ...,  0.0010, -0.1524, -0.0662],\n",
            "        ...,\n",
            "        [-0.0314,  0.0536, -0.0179,  ..., -0.1789, -0.0357,  0.0016],\n",
            "        [-0.0369,  0.0212,  0.0387,  ...,  0.0225,  0.0171, -0.0228],\n",
            "        [ 0.0216,  0.0853,  0.0117,  ..., -0.1034,  0.1249, -0.0201]],\n",
            "       requires_grad=True)\n"
          ]
        }
      ]
    },
    {
      "cell_type": "code",
      "source": [],
      "metadata": {
        "id": "9YwDRi4JOdL_"
      },
      "execution_count": null,
      "outputs": []
    }
  ]
}