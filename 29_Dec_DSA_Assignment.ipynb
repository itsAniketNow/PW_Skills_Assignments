{
  "cells": [
    {
      "cell_type": "markdown",
      "source": [
        "# Data Structure and Algorithms."
      ],
      "metadata": {
        "id": "GDW13um035jG"
      }
    },
    {
      "cell_type": "markdown",
      "source": [
        "1.Problem 1: Reverse a singly linked list.\n"
      ],
      "metadata": {
        "id": "7-X5x1b535fZ"
      }
    },
    {
      "cell_type": "code",
      "source": [
        "class ListNode:\n",
        "    def __init__(self, val=0, next=None):\n",
        "        self.val = val\n",
        "        self.next = next\n",
        "\n",
        "def reverseLinkedList(head):\n",
        "    prev = None\n",
        "    while head:\n",
        "        temp = head.next\n",
        "        head.next = prev\n",
        "        prev = head\n",
        "        head = temp\n",
        "    return prev"
      ],
      "metadata": {
        "id": "Mthhc1Ti5i8d"
      },
      "execution_count": 1,
      "outputs": []
    },
    {
      "cell_type": "markdown",
      "source": [
        "2.Problem 2: Merge two sorted linked lists into one sorted linked list."
      ],
      "metadata": {
        "id": "rCXJfxRU4INM"
      }
    },
    {
      "cell_type": "code",
      "source": [
        "class ListNode:\n",
        "    def __init__(self, val=0, next=None):\n",
        "        self.val = val\n",
        "        self.next = next\n",
        "\n",
        "def mergeTwoLists(l1, l2):\n",
        "    dummy = ListNode()\n",
        "    current = dummy\n",
        "    while l1 and l2:\n",
        "        if l1.val < l2.val:\n",
        "            current.next = l1\n",
        "            l1 = l1.next\n",
        "        else:\n",
        "            current.next = l2\n",
        "            l2 = l2.next\n",
        "        current = current.next\n",
        "    current.next = l1 or l2\n",
        "    return dummy.next"
      ],
      "metadata": {
        "id": "6--_TJAk59Ho"
      },
      "execution_count": 2,
      "outputs": []
    },
    {
      "cell_type": "markdown",
      "source": [
        "3.Problem 3: Remove the nth node from the end of a linked list.\n",
        "\n"
      ],
      "metadata": {
        "id": "-IQi1sGO4IKK"
      }
    },
    {
      "cell_type": "code",
      "source": [
        "class ListNode:\n",
        "    def __init__(self, val=0, next=None):\n",
        "        self.val = val\n",
        "        self.next = next\n",
        "\n",
        "def removeNthFromEnd(head, n):\n",
        "    dummy = ListNode(0)\n",
        "    dummy.next = head\n",
        "    first = second = dummy\n",
        "    for _ in range(n + 1):\n",
        "        first = first.next\n",
        "    while first:\n",
        "        first = first.next\n",
        "        second = second.next\n",
        "    second.next = second.next.next\n",
        "    return dummy.next"
      ],
      "metadata": {
        "id": "61rgjFK76Bmg"
      },
      "execution_count": 3,
      "outputs": []
    },
    {
      "cell_type": "markdown",
      "source": [
        "4.Problem 4: Find the intersection point of two linked lists.\n"
      ],
      "metadata": {
        "id": "GjeZeHGd4IHE"
      }
    },
    {
      "cell_type": "code",
      "source": [
        "class ListNode:\n",
        "    def __init__(self, val=0, next=None):\n",
        "        self.val = val\n",
        "        self.next = next\n",
        "\n",
        "def getIntersectionNode(headA, headB):\n",
        "    if not headA or not headB:\n",
        "        return None\n",
        "    pa, pb = headA, headB\n",
        "    while pa != pb:\n",
        "        pa = headB if not pa else pa.next\n",
        "        pb = headA if not pb else pb.next\n",
        "    return pa"
      ],
      "metadata": {
        "id": "2j0UkLRW6FgW"
      },
      "execution_count": 4,
      "outputs": []
    },
    {
      "cell_type": "markdown",
      "source": [
        "5.Problem 5: Remove duplicates from a sorted linked list.\n"
      ],
      "metadata": {
        "id": "HasOLV1y4IDq"
      }
    },
    {
      "cell_type": "code",
      "source": [
        "class ListNode:\n",
        "    def __init__(self, val=0, next=None):\n",
        "        self.val = val\n",
        "        self.next = next\n",
        "\n",
        "def deleteDuplicates(head):\n",
        "    current = head\n",
        "    while current and current.next:\n",
        "        if current.val == current.next.val:\n",
        "            current.next = current.next.next\n",
        "        else:\n",
        "            current = current.next\n",
        "    return head"
      ],
      "metadata": {
        "id": "Yqxqvwne6GoY"
      },
      "execution_count": 5,
      "outputs": []
    },
    {
      "cell_type": "markdown",
      "source": [
        "Problem 6: Add two numbers represented by linked lists (where each node contains a single digit).\n",
        "\n"
      ],
      "metadata": {
        "id": "UflmGv-f4IA6"
      }
    },
    {
      "cell_type": "code",
      "source": [
        "class ListNode:\n",
        "    def __init__(self, val=0, next=None):\n",
        "        self.val = val\n",
        "        self.next = next\n",
        "\n",
        "def addTwoNumbers(l1, l2):\n",
        "    dummy = ListNode()\n",
        "    current = dummy\n",
        "    carry = 0\n",
        "    while l1 or l2 or carry:\n",
        "        sum_val = (l1.val if l1 else 0) + (l2.val if l2 else 0) + carry\n",
        "        carry, digit = divmod(sum_val, 10)\n",
        "        current.next = ListNode(digit)\n",
        "        current = current.next\n",
        "        l1 = l1.next if l1 else None\n",
        "        l2 = l2.next if l2 else None\n",
        "    return dummy.next\n"
      ],
      "metadata": {
        "id": "4mr_Pi8G6G-t"
      },
      "execution_count": 6,
      "outputs": []
    },
    {
      "cell_type": "markdown",
      "source": [
        "Problem 7: Swap nodes in pairs in a linked list.\n",
        "\n"
      ],
      "metadata": {
        "id": "rfKnXELu4H98"
      }
    },
    {
      "cell_type": "code",
      "source": [
        "class ListNode:\n",
        "    def __init__(self, val=0, next=None):\n",
        "        self.val = val\n",
        "        self.next = next\n",
        "\n",
        "def swapPairs(head):\n",
        "    dummy = ListNode(0)\n",
        "    dummy.next = head\n",
        "    prev = dummy\n",
        "    while head and head.next:\n",
        "        first = head\n",
        "        second = head.next\n",
        "        prev.next = second\n",
        "        first.next = second.next\n",
        "        second.next = first\n",
        "        prev = first\n",
        "        head = first.next\n",
        "    return dummy.next\n"
      ],
      "metadata": {
        "id": "b_84-sZK6Hjd"
      },
      "execution_count": 7,
      "outputs": []
    },
    {
      "cell_type": "markdown",
      "source": [
        "Problem 8: Reverse nodes in a linked list in groups of k.\n"
      ],
      "metadata": {
        "id": "lr-_rwjD4H7U"
      }
    },
    {
      "cell_type": "code",
      "source": [
        "class ListNode:\n",
        "    def __init__(self, val=0, next=None):\n",
        "        self.val = val\n",
        "        self.next = next\n",
        "\n",
        "def reverseKGroup(head, k):\n",
        "    def reverse(head, k):\n",
        "        prev = None\n",
        "        curr = head\n",
        "        while k > 0:\n",
        "            next_node = curr.next\n",
        "            curr.next = prev\n",
        "            prev = curr\n",
        "            curr = next_node\n",
        "            k -= 1\n",
        "        return prev, curr\n",
        "\n",
        "    dummy = ListNode(0)\n",
        "    dummy.next = head\n",
        "    prev_group_end = dummy\n",
        "    while head:\n",
        "        group_end = head\n",
        "        for _ in range(k - 1):\n",
        "            if not group_end:\n",
        "                return dummy.next\n",
        "            group_end = group_end.next\n",
        "        if not group_end:\n",
        "            return dummy.next\n",
        "        next_group_start = group_end.next\n",
        "        group_end.next = None\n",
        "        reversed_head, reversed_end = reverse(head, k)\n",
        "        prev_group_end.next = reversed_head\n",
        "        reversed_end.next = next_group_start\n",
        "        prev_group_end = reversed_end\n",
        "        head = next_group_start\n",
        "    return dummy.next\n"
      ],
      "metadata": {
        "id": "QFOdH15p6ICn"
      },
      "execution_count": 8,
      "outputs": []
    },
    {
      "cell_type": "markdown",
      "source": [
        "Problem 9: Determine if a linked list is a palindrome.\n",
        "Input: 1 -> 2 -> 3 -> 4 -> 5\n",
        "Output: 5 -> 4 -> 3 -> 2 -> 1"
      ],
      "metadata": {
        "id": "8ZE5Ojc54H4J"
      }
    },
    {
      "cell_type": "code",
      "source": [
        "class ListNode:\n",
        "    def __init__(self, val=0, next=None):\n",
        "        self.val = val\n",
        "        self.next = next\n",
        "\n",
        "def isPalindrome(head):\n",
        "    slow = fast = head\n",
        "    while fast and fast.next:\n",
        "        slow = slow.next\n",
        "        fast = fast.next.next\n",
        "    prev = None\n",
        "    while slow:\n",
        "        next_node = slow.next\n",
        "        slow.next = prev\n",
        "        prev = slow\n",
        "        slow = next_node\n",
        "    while prev:\n",
        "        if prev.val != head.val:\n",
        "            return False\n",
        "        prev = prev.next\n",
        "        head = head.next\n",
        "    return True\n"
      ],
      "metadata": {
        "id": "os9inreI6ImU"
      },
      "execution_count": 9,
      "outputs": []
    },
    {
      "cell_type": "markdown",
      "source": [
        "Problem 10: Rotate a linked list to the right by k places.\n",
        "\n"
      ],
      "metadata": {
        "id": "HqpGMCUz4H1e"
      }
    },
    {
      "cell_type": "code",
      "source": [
        "class ListNode:\n",
        "    def __init__(self, val=0, next=None):\n",
        "        self.val = val\n",
        "        self.next = next\n",
        "\n",
        "def rotateRight(head, k):\n",
        "    if not head:\n",
        "        return None\n",
        "    if k == 0:\n",
        "        return head\n",
        "    n = 1\n",
        "    current = head\n",
        "    while current.next:\n",
        "        current = current.next\n",
        "        n += 1\n",
        "    current.next = head\n",
        "    k %= n\n",
        "    for _ in range(n - k):\n",
        "        current = current.next\n",
        "    new_head = current.next\n",
        "    current.next = None\n",
        "    return new_head\n"
      ],
      "metadata": {
        "id": "1BII20un6JBL"
      },
      "execution_count": 10,
      "outputs": []
    },
    {
      "cell_type": "markdown",
      "source": [
        "Problem 11: Flatten a multilevel doubly linked list.\n",
        "\n"
      ],
      "metadata": {
        "id": "S0k9fwId4HyW"
      }
    },
    {
      "cell_type": "code",
      "source": [
        "class Node:\n",
        "    def __init__(self, val=0, prev=None, next=None, child=None):\n",
        "        self.val = val\n",
        "        self.prev = prev\n",
        "        self.next = next\n",
        "        self.child = child\n",
        "\n",
        "def flatten(head):\n",
        "    if not head:\n",
        "        return None\n",
        "    pseudo_head = Node(0, None, head, None)\n",
        "    prev = pseudo_head\n",
        "    stack = [head]\n",
        "    while stack:\n",
        "        current = stack.pop()\n",
        "        current.prev = prev\n",
        "        prev.next = current\n",
        "        if current.next:\n",
        "            stack.append(current.next)\n",
        "        if current.child:\n",
        "            stack.append(current.child)\n",
        "            current.child = None\n",
        "        prev = current\n",
        "    pseudo_head.next.prev = None\n",
        "    return pseudo_head.next\n"
      ],
      "metadata": {
        "id": "rQbZLs826JjT"
      },
      "execution_count": 11,
      "outputs": []
    },
    {
      "cell_type": "markdown",
      "source": [
        "Problem 12: Rearrange a linked list such that all even positioned nodes are placed at the end.\n",
        "\n"
      ],
      "metadata": {
        "id": "7Pw0f-WR4i-Z"
      }
    },
    {
      "cell_type": "code",
      "source": [
        "class ListNode:\n",
        "    def __init__(self, val=0, next=None):\n",
        "        self.val = val\n",
        "        self.next = next\n",
        "\n",
        "def evenOddList(head):\n",
        "    if not head:\n",
        "        return None\n",
        "    even_head = even = ListNode(0)\n",
        "    odd_head = odd = ListNode(0)\n",
        "    is_even = True\n",
        "    while head:\n",
        "        if is_even:\n",
        "            even.next = head\n",
        "            even = even.next\n",
        "        else:\n",
        "            odd.next = head\n",
        "            odd = odd.next\n",
        "        is_even = not is_even\n",
        "        head = head.next\n",
        "    odd.next = None\n",
        "    even.next = odd_head.next\n",
        "    return even_head.next\n"
      ],
      "metadata": {
        "id": "25iCB0bz6J7Z"
      },
      "execution_count": 12,
      "outputs": []
    },
    {
      "cell_type": "markdown",
      "source": [
        "Problem 13: Given a non-negative number represented as a linked list, add one to it.\n",
        "\n"
      ],
      "metadata": {
        "id": "s8fUsLyg4i7e"
      }
    },
    {
      "cell_type": "code",
      "source": [
        "class ListNode:\n",
        "    def __init__(self, val=0, next=None):\n",
        "        self.val = val\n",
        "        self.next = next\n",
        "\n",
        "def plusOne(head):\n",
        "    dummy = ListNode(0)\n",
        "    dummy.next = head\n",
        "    not_nine = dummy\n",
        "    while head:\n",
        "        if head.val != 9:\n",
        "            not_nine = head\n",
        "        head = head.next\n",
        "    not_nine.val += 1\n",
        "    not_nine = not_nine.next\n",
        "    while not_nine:\n",
        "        not_nine.val = 0\n",
        "        not_nine = not_nine.next\n",
        "    if dummy.val == 0:\n",
        "        return dummy.next\n",
        "    return dummy\n"
      ],
      "metadata": {
        "id": "XHiHIJPf6KXf"
      },
      "execution_count": 13,
      "outputs": []
    },
    {
      "cell_type": "markdown",
      "source": [
        "Problem 14: Given a sorted array and a target value, return the index if the target is found. If not, return the\n",
        "index where it would be inserted.\n",
        "\n",
        "\n"
      ],
      "metadata": {
        "id": "SumDGxmL4i4D"
      }
    },
    {
      "cell_type": "code",
      "source": [
        "def searchInsert(nums, target):\n",
        "    left, right = 0, len(nums) - 1\n",
        "    while left <= right:\n",
        "        mid = (left + right) // 2\n",
        "        if nums[mid] == target:\n",
        "            return mid\n",
        "        elif nums[mid] < target:\n",
        "            left = mid + 1\n",
        "        else:\n",
        "            right = mid - 1\n",
        "    return left\n"
      ],
      "metadata": {
        "id": "qOcT6Gfg6LBG"
      },
      "execution_count": 14,
      "outputs": []
    },
    {
      "cell_type": "markdown",
      "source": [
        "Problem 15: Find the minimum element in a rotated sorted array.\n",
        "\n"
      ],
      "metadata": {
        "id": "SJdYwPrK4i07"
      }
    },
    {
      "cell_type": "code",
      "source": [
        "def findMin(nums):\n",
        "    left, right = 0, len(nums) - 1\n",
        "    while left < right:\n",
        "        mid = left + (right - left) // 2\n",
        "        if nums[mid] > nums[right]:\n",
        "            left = mid + 1\n",
        "        else:\n",
        "            right = mid\n",
        "    return nums[left]\n"
      ],
      "metadata": {
        "id": "ivOFdgbU6Le1"
      },
      "execution_count": 15,
      "outputs": []
    },
    {
      "cell_type": "markdown",
      "source": [
        "Problem 16: Search for a target value in a rotated sorted array.\n",
        "\n"
      ],
      "metadata": {
        "id": "cXA_OlCT4ixz"
      }
    },
    {
      "cell_type": "code",
      "source": [
        "def search(nums, target):\n",
        "    left, right = 0, len(nums) - 1\n",
        "    while left <= right:\n",
        "        mid = left + (right - left) // 2\n",
        "        if nums[mid] == target:\n",
        "            return mid\n",
        "        if nums[left] <= nums[mid]:\n",
        "            if nums[left] <= target <= nums[mid]:\n",
        "                right = mid - 1\n",
        "            else:\n",
        "                left = mid + 1\n",
        "        else:\n",
        "            if nums[mid] <= target <= nums[right]:\n",
        "                left = mid + 1\n",
        "            else:\n",
        "                right = mid - 1\n",
        "    return -1\n"
      ],
      "metadata": {
        "id": "bkRrpLK06L3T"
      },
      "execution_count": 16,
      "outputs": []
    },
    {
      "cell_type": "markdown",
      "source": [
        "Problem 17: Find the peak element in an array. A peak element is greater than its neighbors.\n",
        "\n"
      ],
      "metadata": {
        "id": "YDUgex6Q4iur"
      }
    },
    {
      "cell_type": "code",
      "source": [
        "def findPeakElement(nums):\n",
        "    left, right = 0, len(nums) - 1\n",
        "    while left < right:\n",
        "        mid = left + (right - left) // 2\n",
        "        if nums[mid] < nums[mid + 1]:\n",
        "            left = mid + 1\n",
        "        else:\n",
        "            right = mid\n",
        "    return left\n"
      ],
      "metadata": {
        "id": "7t0jOWXo6MV8"
      },
      "execution_count": 17,
      "outputs": []
    },
    {
      "cell_type": "markdown",
      "source": [
        "Problem 18: Given a m x n matrix where each row and column is sorted in ascending order, count the number\n",
        "of negative numbers.\n"
      ],
      "metadata": {
        "id": "Iir57zQx4irc"
      }
    },
    {
      "cell_type": "code",
      "source": [
        "def countNegatives(grid):\n",
        "    count = 0\n",
        "    for row in grid:\n",
        "        for num in row[::-1]:\n",
        "            if num < 0:\n",
        "                count += 1\n",
        "            else:\n",
        "                break\n",
        "    return count\n"
      ],
      "metadata": {
        "id": "mtjZEb5q6Mrc"
      },
      "execution_count": 18,
      "outputs": []
    },
    {
      "cell_type": "markdown",
      "source": [
        "Problem 19: Given a 2D matrix sorted in ascending order in each row, and the first integer of each row is\n",
        "greater than the last integer of the previous row, determine if a target value is present in the matrix.\n",
        "\n"
      ],
      "metadata": {
        "id": "46fNtZWN4ioj"
      }
    },
    {
      "cell_type": "code",
      "source": [
        "def searchMatrix(matrix, target):\n",
        "    if not matrix:\n",
        "        return False\n",
        "    rows, cols = len(matrix), len(matrix[0])\n",
        "    row, col = 0, cols - 1\n",
        "    while row < rows and col >= 0:\n",
        "        if matrix[row][col] == target:\n",
        "            return True\n",
        "        elif matrix[row][col] < target:\n",
        "            row += 1\n",
        "        else:\n",
        "            col -= 1\n",
        "    return False\n"
      ],
      "metadata": {
        "id": "wkJ4kSyP6Nah"
      },
      "execution_count": 19,
      "outputs": []
    },
    {
      "cell_type": "markdown",
      "source": [
        "Problem 20: Find Median in Two Sorted Arrays\n",
        "Problem: Given two sorted arrays, find the median of the combined sorted array.\n",
        "\n"
      ],
      "metadata": {
        "id": "WqJEtvm64ilb"
      }
    },
    {
      "cell_type": "code",
      "source": [
        "def findMedianSortedArrays(nums1, nums2):\n",
        "    nums = sorted(nums1 + nums2)\n",
        "    n = len(nums)\n",
        "    if n % 2 == 0:\n",
        "        return (nums[n // 2 - 1] + nums[n // 2]) / 2\n",
        "    else:\n",
        "        return nums[n // 2]\n"
      ],
      "metadata": {
        "id": "EkLl0CHa6NzQ"
      },
      "execution_count": 20,
      "outputs": []
    },
    {
      "cell_type": "markdown",
      "source": [
        "Problem 21: Given a sorted character array and a target letter, find the smallest letter in the array that is\n",
        "greater than the target.\n",
        "\n"
      ],
      "metadata": {
        "id": "ZdoZqKJq4iiU"
      }
    },
    {
      "cell_type": "code",
      "source": [
        "def nextGreatestLetter(letters, target):\n",
        "    left, right = 0, len(letters) - 1\n",
        "    while left <= right:\n",
        "        mid = left + (right - left) // 2\n",
        "        if letters[mid] <= target:\n",
        "            left = mid + 1\n",
        "        else:\n",
        "            right = mid - 1\n",
        "    return letters[left % len(letters)]"
      ],
      "metadata": {
        "id": "2iSHyhM06OXX"
      },
      "execution_count": 21,
      "outputs": []
    },
    {
      "cell_type": "markdown",
      "source": [
        "Problem 22: Given an array with n objects colored red, white, or blue, sort them in-place so that objects of\n",
        "the same color are adjacent, with the colors in the order red, white, and blue.\n",
        "\n"
      ],
      "metadata": {
        "id": "VyeZrNaL4iaE"
      }
    },
    {
      "cell_type": "code",
      "source": [
        "def sortColors(nums):\n",
        "    left, right = 0, len(nums) - 1\n",
        "    curr = 0\n",
        "    while curr <= right:\n",
        "        if nums[curr] == 0:\n",
        "            nums[left], nums[curr] = nums[curr], nums[left]\n",
        "            left += 1\n",
        "            curr += 1\n",
        "        elif nums[curr] == 2:\n",
        "            nums[curr], nums[right] = nums[right], nums[curr]\n",
        "            right -= 1\n",
        "        else:\n",
        "            curr += 1"
      ],
      "metadata": {
        "id": "SleNeAtM6Ow5"
      },
      "execution_count": 22,
      "outputs": []
    },
    {
      "cell_type": "markdown",
      "source": [
        "Problem 23: Find the kth largest element in an unsorted array.\n",
        "\n"
      ],
      "metadata": {
        "id": "dMpKhX0R4iW1"
      }
    },
    {
      "cell_type": "code",
      "source": [
        "def findKthLargest(nums, k):\n",
        "    nums.sort(reverse=True)\n",
        "    return nums[k - 1]\n"
      ],
      "metadata": {
        "id": "YsJIpYO-6PQF"
      },
      "execution_count": 23,
      "outputs": []
    },
    {
      "cell_type": "markdown",
      "source": [
        "Problem 24: Given an unsorted array, reorder it in-place such that nums[0] <= nums[1] >= nums[2] <=\n",
        "nums[3]...\n",
        "\n"
      ],
      "metadata": {
        "id": "30vImxMH4iTq"
      }
    },
    {
      "cell_type": "code",
      "source": [
        "def wiggleSort(nums):\n",
        "    for i in range(1, len(nums)):\n",
        "        if i % 2 == 1 and nums[i] < nums[i - 1] or i % 2 == 0 and nums[i] > nums[i - 1]:\n",
        "            nums[i], nums[i - 1] = nums[i - 1], nums[i]"
      ],
      "metadata": {
        "id": "q1HLHqzC6PvT"
      },
      "execution_count": 24,
      "outputs": []
    },
    {
      "cell_type": "markdown",
      "source": [
        "Problem 25: Given an array of integers, calculate the sum of all its elements.\n",
        "Input: matrix = [[1, 3, 5, 7], [10, 11, 16, 20], [23, 30, 34, 60]], target = 3"
      ],
      "metadata": {
        "id": "o0YzAFjv4iN1"
      }
    },
    {
      "cell_type": "code",
      "source": [
        "def sumArray(nums):\n",
        "    return sum(nums)"
      ],
      "metadata": {
        "id": "koak_3Pq6QR3"
      },
      "execution_count": 25,
      "outputs": []
    },
    {
      "cell_type": "markdown",
      "source": [
        "Problem 26: Find the maximum element in an array of integers."
      ],
      "metadata": {
        "id": "nuQsot7-4iKp"
      }
    },
    {
      "cell_type": "code",
      "source": [
        "def findMax(nums):\n",
        "    if not nums:\n",
        "        return None\n",
        "    max_element = nums[0]\n",
        "    for num in nums:\n",
        "        if num > max_element:\n",
        "            max_element = num\n",
        "    return max_element\n",
        "\n",
        "# Example usage:\n",
        "nums = [3, 7, 2, 9, 4, 1]\n",
        "max_element = findMax(nums)\n",
        "print(\"Maximum element:\", max_element)\n"
      ],
      "metadata": {
        "colab": {
          "base_uri": "https://localhost:8080/"
        },
        "id": "sge-CTcc6Qz7",
        "outputId": "0c14fbdb-0b84-4867-df2d-3ab722d21d8f"
      },
      "execution_count": 33,
      "outputs": [
        {
          "output_type": "stream",
          "name": "stdout",
          "text": [
            "Maximum element: 9\n"
          ]
        }
      ]
    },
    {
      "cell_type": "markdown",
      "source": [
        "Problem 27: Implement linear search to find the index of a target element in an array.\n",
        "\n"
      ],
      "metadata": {
        "id": "fcosgcOM4iH5"
      }
    },
    {
      "cell_type": "code",
      "source": [
        "def linearSearch(nums, target):\n",
        "    for i, num in enumerate(nums):\n",
        "        if num == target:\n",
        "            return i\n",
        "    return -1"
      ],
      "metadata": {
        "id": "pWUagRnj6RYS"
      },
      "execution_count": 27,
      "outputs": []
    },
    {
      "cell_type": "markdown",
      "source": [
        "Problem 28 Calculate the factorial of a given number.\n",
        "\n"
      ],
      "metadata": {
        "id": "fWB1ZlMS4iE1"
      }
    },
    {
      "cell_type": "code",
      "source": [
        "def factorial(n):\n",
        "    if n == 0:\n",
        "        return 1\n",
        "    else:\n",
        "        return n * factorial(n-1)"
      ],
      "metadata": {
        "id": "R6wR6qHu6R6R"
      },
      "execution_count": 28,
      "outputs": []
    },
    {
      "cell_type": "markdown",
      "source": [
        "Problem 29: Check if a given number is a prime number.\n",
        "\n"
      ],
      "metadata": {
        "id": "0x0_TPRU4iBn"
      }
    },
    {
      "cell_type": "code",
      "source": [
        "def isPrime(n):\n",
        "    if n <= 1:\n",
        "        return False\n",
        "    if n <= 3:\n",
        "        return True\n",
        "    if n % 2 == 0 or n % 3 == 0:\n",
        "        return False\n",
        "    i = 5\n",
        "    while i * i <= n:\n",
        "        if n % i == 0 or n % (i + 2) == 0:\n",
        "            return False\n",
        "        i += 6\n",
        "    return True"
      ],
      "metadata": {
        "id": "hZzYDORY6SWS"
      },
      "execution_count": 29,
      "outputs": []
    },
    {
      "cell_type": "markdown",
      "source": [
        "Problem 30: Generate the Fibonacci series up to a given number n.\n",
        "\n"
      ],
      "metadata": {
        "id": "YwcgjfsY4h-8"
      }
    },
    {
      "cell_type": "code",
      "source": [
        "def fibonacci(n):\n",
        "    fib = [0, 1]\n",
        "    while fib[-1] + fib[-2] <= n:\n",
        "        fib.append(fib[-1] + fib[-2])\n",
        "    return fib"
      ],
      "metadata": {
        "id": "MHmPmqch6Su_"
      },
      "execution_count": 30,
      "outputs": []
    },
    {
      "cell_type": "markdown",
      "source": [
        "Problem 31: Calculate the power of a number using recursion.\n",
        "\n"
      ],
      "metadata": {
        "id": "ZRzTcCbC5ctd"
      }
    },
    {
      "cell_type": "code",
      "source": [
        "def power(x, n):\n",
        "    if n == 0:\n",
        "        return 1\n",
        "    elif n % 2 == 0:\n",
        "        return power(x, n//2) * power(x, n//2)\n",
        "    else:\n",
        "        return x * power(x, n//2) * power(x, n//2)\n"
      ],
      "metadata": {
        "id": "ydPl9k7s6Trd"
      },
      "execution_count": 31,
      "outputs": []
    },
    {
      "cell_type": "markdown",
      "source": [
        "Problem 32: Reverse a given string.\n"
      ],
      "metadata": {
        "id": "ruW3uf1j5cp3"
      }
    },
    {
      "cell_type": "code",
      "source": [
        "def reverseString(s):\n",
        "    return s[::-1]"
      ],
      "metadata": {
        "id": "Vvy8KvqH6Uam"
      },
      "execution_count": 32,
      "outputs": []
    },
    {
      "cell_type": "code",
      "source": [],
      "metadata": {
        "id": "eIKVjjnN7_MK"
      },
      "execution_count": null,
      "outputs": []
    }
  ],
  "metadata": {
    "colab": {
      "provenance": []
    },
    "kernelspec": {
      "display_name": "Python 3",
      "name": "python3"
    },
    "language_info": {
      "name": "python"
    }
  },
  "nbformat": 4,
  "nbformat_minor": 0
}