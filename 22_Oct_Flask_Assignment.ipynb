{
  "nbformat": 4,
  "nbformat_minor": 0,
  "metadata": {
    "colab": {
      "provenance": []
    },
    "kernelspec": {
      "name": "python3",
      "display_name": "Python 3"
    },
    "language_info": {
      "name": "python"
    }
  },
  "cells": [
    {
      "cell_type": "markdown",
      "source": [
        "# Basic Flask"
      ],
      "metadata": {
        "id": "7lyXRExM1vSL"
      }
    },
    {
      "cell_type": "markdown",
      "source": [
        "###1. Create a Flask app that displays \"Hello, World!\" on the homepage."
      ],
      "metadata": {
        "id": "lZxxYCVd1vOi"
      }
    },
    {
      "cell_type": "code",
      "execution_count": null,
      "metadata": {
        "id": "XlQa9X8WcO0X",
        "colab": {
          "base_uri": "https://localhost:8080/"
        },
        "outputId": "6c1d612e-4af1-478e-fbb5-7a4cd82b3d6d"
      },
      "outputs": [
        {
          "metadata": {
            "tags": null
          },
          "name": "stdout",
          "output_type": "stream",
          "text": [
            " * Serving Flask app '__main__'\n",
            " * Debug mode: on\n"
          ]
        },
        {
          "metadata": {
            "tags": null
          },
          "name": "stderr",
          "output_type": "stream",
          "text": [
            "INFO:werkzeug:\u001b[31m\u001b[1mWARNING: This is a development server. Do not use it in a production deployment. Use a production WSGI server instead.\u001b[0m\n",
            " * Running on http://127.0.0.1:5000\n",
            "INFO:werkzeug:\u001b[33mPress CTRL+C to quit\u001b[0m\n",
            "INFO:werkzeug: * Restarting with stat\n"
          ]
        }
      ],
      "source": [
        "from flask import Flask\n",
        "\n",
        "app = Flask(__name__)\n",
        "\n",
        "@app.route('/')\n",
        "def hello_world():\n",
        "    return 'Hello, World!'\n",
        "\n",
        "if __name__ == '__main__':\n",
        "    app.run(debug=True)"
      ]
    },
    {
      "cell_type": "markdown",
      "source": [
        "###2. Build a Flask app with static HTML pages and navigate between them."
      ],
      "metadata": {
        "id": "i4mhhXBr2aQj"
      }
    },
    {
      "cell_type": "markdown",
      "source": [
        "# Folder Strucutre:\n",
        "\n",
        "\n",
        "/your_project\n",
        "\n",
        "    /templates\n",
        "        home.html\n",
        "        about.html\n",
        "    app.py"
      ],
      "metadata": {
        "id": "KeT6ULDf2qSf"
      }
    },
    {
      "cell_type": "code",
      "source": [
        "from flask import Flask, render_template\n",
        "\n",
        "app = Flask(__name__)\n",
        "\n",
        "@app.route('/')\n",
        "def home():\n",
        "    return render_template('home.html')\n",
        "\n",
        "@app.route('/about')\n",
        "def about():\n",
        "    return render_template('about.html')\n",
        "\n",
        "if __name__ == '__main__':\n",
        "    app.run(debug=True)"
      ],
      "metadata": {
        "id": "Dzc30RF92hQ-"
      },
      "execution_count": null,
      "outputs": []
    },
    {
      "cell_type": "markdown",
      "source": [
        "###3. Develop a Flask app that uses URL parameters to display dynamic content."
      ],
      "metadata": {
        "id": "ejqzIo-Y3IlE"
      }
    },
    {
      "cell_type": "code",
      "source": [
        "from flask import Flask, render_template\n",
        "\n",
        "app = Flask(__name__)\n",
        "\n",
        "# Define a route that accepts a parameter in the URL\n",
        "@app.route('/user/<username>')\n",
        "def display_user(username):\n",
        "    # The username parameter is captured from the URL\n",
        "    return f'Hello, {username}!'\n",
        "\n",
        "# Another route that accepts multiple parameters\n",
        "@app.route('/post/<int:post_id>')\n",
        "def display_post(post_id):\n",
        "    # The post_id parameter is captured from the URL\n",
        "    return f'Post ID: {post_id}'\n",
        "\n",
        "# Route with multiple parameters\n",
        "@app.route('/profile/<username>/<int:user_id>')\n",
        "def display_profile(username, user_id):\n",
        "    return f'Profile: {username}, User ID: {user_id}'\n",
        "\n",
        "# Route that uses URL parameters to render a template\n",
        "@app.route('/greet/<name>')\n",
        "def greet(name):\n",
        "    # Render a template with dynamic content\n",
        "    return render_template('greet.html', name=name)\n",
        "\n",
        "if __name__ == '__main__':\n",
        "    app.run(debug=True)\n"
      ],
      "metadata": {
        "id": "asge5FVi24rp"
      },
      "execution_count": null,
      "outputs": []
    },
    {
      "cell_type": "code",
      "source": [
        "<!DOCTYPE html>\n",
        "<html lang=\"en\">\n",
        "<head>\n",
        "    <meta charset=\"UTF-8\">\n",
        "    <meta name=\"viewport\" content=\"width=device-width, initial-scale=1.0\">\n",
        "    <title>Greet</title>\n",
        "</head>\n",
        "<body>\n",
        "    <h1>Hello, {{ name }}!</h1>\n",
        "</body>\n",
        "</html>\n"
      ],
      "metadata": {
        "id": "TVJUOwWb3Q1A"
      },
      "execution_count": null,
      "outputs": []
    },
    {
      "cell_type": "code",
      "source": [
        "python app.py"
      ],
      "metadata": {
        "id": "VLon3CWB49j4"
      },
      "execution_count": null,
      "outputs": []
    },
    {
      "cell_type": "markdown",
      "source": [
        "###4. Create a Flask app with a form that accepts user input and displays it."
      ],
      "metadata": {
        "id": "Xea9Sk1y5I-8"
      }
    },
    {
      "cell_type": "code",
      "source": [
        "from flask import Flask, render_template, request\n",
        "from flask_wtf import FlaskForm\n",
        "from wtforms import StringField, SubmitField\n",
        "\n",
        "app = Flask(__name__)\n",
        "app.config['SECRET_KEY'] = 'your_secret_key'\n",
        "\n",
        "# Define a form class using Flask-WTF\n",
        "class InputForm(FlaskForm):\n",
        "    username = StringField('Username')\n",
        "    submit = SubmitField('Submit')\n",
        "\n",
        "# Define a route for the form\n",
        "@app.route('/input', methods=['GET', 'POST'])\n",
        "def user_input():\n",
        "    form = InputForm()\n",
        "\n",
        "    if form.validate_on_submit():\n",
        "        # If the form is submitted, retrieve the username from the form\n",
        "        username = form.username.data\n",
        "        return render_template('display_input.html', username=username)\n",
        "\n",
        "    # If it's a GET request or the form is not submitted yet, render the form\n",
        "    return render_template('input_form.html', form=form)\n",
        "\n",
        "if __name__ == '__main__':\n",
        "    app.run(debug=True)\n"
      ],
      "metadata": {
        "id": "fiAsz6oQ5CEQ"
      },
      "execution_count": null,
      "outputs": []
    },
    {
      "cell_type": "markdown",
      "source": [
        "###inpute_form.html"
      ],
      "metadata": {
        "id": "_ias8un_5O4U"
      }
    },
    {
      "cell_type": "code",
      "source": [
        "<!DOCTYPE html>\n",
        "<html lang=\"en\">\n",
        "<head>\n",
        "    <meta charset=\"UTF-8\">\n",
        "    <meta name=\"viewport\" content=\"width=device-width, initial-scale=1.0\">\n",
        "    <title>User Input Form</title>\n",
        "</head>\n",
        "<body>\n",
        "    <h1>User Input Form</h1>\n",
        "    <form method=\"post\">\n",
        "        {{ form.hidden_tag() }}\n",
        "        <label for=\"username\">Username:</label>\n",
        "        {{ form.username() }}\n",
        "        <br>\n",
        "        {{ form.submit() }}\n",
        "    </form>\n",
        "</body>\n",
        "</html>\n"
      ],
      "metadata": {
        "id": "2cyth5Ah5Lxp"
      },
      "execution_count": null,
      "outputs": []
    },
    {
      "cell_type": "markdown",
      "source": [
        "###5. Implement user sessions in a Flask app to store and display user-specific data"
      ],
      "metadata": {
        "id": "HbHAik_k5lXj"
      }
    },
    {
      "cell_type": "code",
      "source": [
        "!pip install Flask-Session"
      ],
      "metadata": {
        "id": "szM-u63h5TV5"
      },
      "execution_count": null,
      "outputs": []
    },
    {
      "cell_type": "code",
      "source": [
        "from flask import Flask, render_template, request, session, redirect_url, url_for\n",
        "from flask_session import session\n",
        "from flask_wtf import FlaskForm\n",
        "from wtfroms improt Stringfield, SubmitField\n",
        "\n",
        "app = Flask(__name__)\n",
        "app.config[\"SECRETE KEY\"] = \"your secrete key\"\n",
        "app.config[\"SESSION TYPE\"] =\"filesystem\"\n",
        "Session(app)\n",
        "\n",
        "#Define class form using Flask WTF\n",
        "class InputForm(FlaskForm):\n",
        "  username = StringField('username')\n",
        "  submit = SubmitField('submit')\n",
        "\n",
        "# Define route for the form\n",
        "@app.route('/inpute', method = ['Get', 'POST'])\n",
        "def user_input():\n",
        "  form = InputForm()\n",
        "\n",
        "  if form .validate_on_submit():\n",
        "    # if the form is submitted store in the session\n",
        "    session['username'] = form.usename.data\n",
        "    return redirect(url_for('display_input'))\n",
        "\n",
        "  #If it's GET request or the form is not submitted yet, render form\n",
        "  return render_template('input_form.html', form = form)\n",
        "\n",
        "#Route to display user specific data\n",
        "@app.route('/display_input')\n",
        "def display_input():\n",
        "  # Retrive the username from the session\n",
        "  username = session.get('username')\n",
        "\n",
        "  #If the username is not in the session, redirect to the inpute form\n",
        "  if username in None:\n",
        "    return redirect(url_for('user_input'))\n",
        "\n",
        "  return render_template('displal_input.html', username = username)\n",
        "\n",
        "if __name__ = '__main__':\n",
        "  app.run(debug = True)"
      ],
      "metadata": {
        "id": "XniLdpGU5qF1"
      },
      "execution_count": null,
      "outputs": []
    },
    {
      "cell_type": "markdown",
      "source": [
        "#Intermediate Flask Topics:"
      ],
      "metadata": {
        "id": "G6_fsuWq_jnw"
      }
    },
    {
      "cell_type": "markdown",
      "source": [
        "###6. Build a Flask app that allows users to upload files and display them on the website."
      ],
      "metadata": {
        "id": "P4IC4Q8z_jk3"
      }
    },
    {
      "cell_type": "code",
      "source": [
        "from flask import Flas, render_template, request\n",
        "\n",
        "app = Flask(__name__)\n",
        "\n",
        "@app.route('/upload', methods = ['GET', 'POST'])\n",
        "def upload_file():\n",
        "  if request.method == 'POST':\n",
        "    file = request.files['file']\n",
        "    file.save('upload/' + file.filename)\n",
        "    return 'File Uploaded Successfully'\n",
        "  return render_template('upload.html')\n",
        "\n",
        "if __name__ == \"__main__\":\n",
        "  app.run(debug = True)"
      ],
      "metadata": {
        "id": "JTy4uXjF-zbG"
      },
      "execution_count": null,
      "outputs": []
    },
    {
      "cell_type": "markdown",
      "source": [
        "###7. Integrate a SQLite database with Flask to perform CRUD operations on a list of items."
      ],
      "metadata": {
        "id": "y8Rt0_qxEjif"
      }
    },
    {
      "cell_type": "code",
      "source": [
        "from flask import Flask, render_template, request, redirect, url_for\n",
        "from flask_sqlalchemy import SQLAlchemy\n",
        "\n",
        "app = Flask(__name__)\n",
        "app.config['SQLALCHEMY_DATABASE_URI'] = 'sqlite:///items.db'\n",
        "db = SQLAlchemy(app)\n",
        "\n",
        "class Item(db.Model):\n",
        "    id = db.Column(db.Integer, primary_key=True)\n",
        "    name = db.Column(db.String(255), nullable=False)\n",
        "\n",
        "@app.route('/items')\n",
        "def list_items():\n",
        "    items = Item.query.all()\n",
        "    return render_template('items.html', items=items)\n",
        "\n",
        "@app.route('/add_item', methods=['POST'])\n",
        "def add_item():\n",
        "    new_item = Item(name=request.form['item_name'])\n",
        "    db.session.add(new_item)\n",
        "    db.session.commit()\n",
        "    return redirect(url_for('list_items'))\n",
        "\n",
        "if __name__ == '__main__':\n",
        "    db.create_all()\n",
        "    app.run(debug=True)\n"
      ],
      "metadata": {
        "id": "VsN_k2GXEeOj"
      },
      "execution_count": null,
      "outputs": []
    },
    {
      "cell_type": "markdown",
      "source": [
        "###8. Implement user authentication and registration in a Flask app using Flask-Login."
      ],
      "metadata": {
        "id": "dflOLfSLEydI"
      }
    },
    {
      "cell_type": "code",
      "source": [
        "from flask import Flask, render_template, request, redirect, url_for\n",
        "from flask_login import LoginManager, UserMixin, login_user, login_required, logout_user, current_user\n",
        "\n",
        "app = Flask(__name__)\n",
        "app.config['SECRET_KEY'] = 'your_secret_key'\n",
        "login_manager = LoginManager(app)\n",
        "\n",
        "class User(UserMixin):\n",
        "    def __init__(self, id, username, password):\n",
        "        self.id = id\n",
        "        self.username = username\n",
        "        self.password = password\n",
        "\n",
        "users = [\n",
        "    User(1, 'user1', 'password1'),\n",
        "    User(2, 'user2', 'password2')\n",
        "]\n",
        "\n",
        "@login_manager.user_loader\n",
        "def load_user(user_id):\n",
        "    return next((user for user in users if user.id == int(user_id)), None)\n",
        "\n",
        "@app.route('/login', methods=['GET', 'POST'])\n",
        "def login():\n",
        "    if request.method == 'POST':\n",
        "        user = next((user for user in users if user.username == request.form['username']), None)\n",
        "        if user and user.password == request.form['password']:\n",
        "            login_user(user)\n",
        "            return redirect(url_for('protected'))\n",
        "    return render_template('login.html')\n",
        "\n",
        "@app.route('/protected')\n",
        "@login_required\n",
        "def protected():\n",
        "    return f'Hello, {current_user.username}!'\n",
        "\n",
        "@app.route('/logout')\n",
        "@login_required\n",
        "def logout():\n",
        "    logout_user()\n",
        "    return 'Logged out successfully!'\n",
        "\n",
        "if __name__ == '__main__':\n",
        "    app.run(debug=True)"
      ],
      "metadata": {
        "id": "H_c9RpXBE1CO"
      },
      "execution_count": null,
      "outputs": []
    },
    {
      "cell_type": "markdown",
      "source": [
        "###9. Create a RESTful API using Flask to perform CRUD operations on resources like books or movies."
      ],
      "metadata": {
        "id": "1Fg9A9TGE5VQ"
      }
    },
    {
      "cell_type": "code",
      "source": [
        "from flask import Flask\n",
        "from flask_restful import Resource, Api, reqparse\n",
        "\n",
        "app = Flask(__name__)\n",
        "api = Api(app)\n",
        "\n",
        "books = [\n",
        "    {\"id\": 1, \"title\": \"Book1\"},\n",
        "    {\"id\": 2, \"title\": \"Book2\"}\n",
        "]\n",
        "\n",
        "class BookResource(Resource):\n",
        "    def get(self, book_id):\n",
        "        book = next((item for item in books if item[\"id\"] == book_id), None)\n",
        "        return book, 200 if book else 404\n",
        "\n",
        "    def put(self, book_id):\n",
        "        parser = reqparse.RequestParser()\n",
        "        parser.add_argument('title', type=str, help='Title of the book')\n",
        "        args = parser.parse_args()\n",
        "\n",
        "        book = next((item for item in books if item[\"id\"] == book_id), None)\n",
        "        if book:\n",
        "            book[\"title\"] = args['title']\n",
        "            return book, 200\n",
        "        else:\n",
        "            new_book = {\"id\": book_id, \"title\": args['title']}\n",
        "            books.append(new_book)\n",
        "            return new_book, 201\n",
        "\n",
        "    def delete(self, book_id):\n",
        "        global books\n",
        "        books = [item for item in books if item[\"id\"] != book_id]\n",
        "        return '', 204\n",
        "\n",
        "api.add_resource(BookResource, '/books/<int:book_id>')\n",
        "\n",
        "if __name__ == '__main__':\n",
        "    app.run(debug=True)"
      ],
      "metadata": {
        "id": "clzTUOocE4tW"
      },
      "execution_count": null,
      "outputs": []
    },
    {
      "cell_type": "markdown",
      "source": [
        "###10. Design a Flask app with proper error handling for 404 and 500 errors."
      ],
      "metadata": {
        "id": "O0YO4boHFLdb"
      }
    },
    {
      "cell_type": "code",
      "source": [
        "from flask import Flask, render_template\n",
        "\n",
        "app = Flask(__name__)\n",
        "\n",
        "@app.route('/')\n",
        "def home():\n",
        "    return 'Hello, World!'\n",
        "\n",
        "# Custom error handling for 500 Internal Server Error\n",
        "@app.errorhandler(500)\n",
        "def internal_server_error(error):\n",
        "    return render_template('500.html'), 500\n",
        "\n",
        "if __name__ == '__main__':\n",
        "    app.run(debug=True)"
      ],
      "metadata": {
        "id": "ASaB9DIXFKtx"
      },
      "execution_count": null,
      "outputs": []
    },
    {
      "cell_type": "markdown",
      "source": [
        "#Real-time Development:"
      ],
      "metadata": {
        "id": "uQIu0OkgFn04"
      }
    },
    {
      "cell_type": "markdown",
      "source": [
        "###11. Create a real-time chat application using Flask-SocketIO."
      ],
      "metadata": {
        "id": "rkzlrHt3Fjts"
      }
    },
    {
      "cell_type": "code",
      "source": [
        "from flask import Flask, render_template\n",
        "from flask_socketio import SocketIO\n",
        "\n",
        "app = Flask(__name__)\n",
        "socketio = SocketIO(app)\n",
        "\n",
        "@app.route('/')\n",
        "def index():\n",
        "    return render_template('index.html')\n",
        "\n",
        "@socketio.on('message')\n",
        "def handle_message(msg):\n",
        "    print('Message:', msg)\n",
        "    socketio.emit('message', msg)\n",
        "\n",
        "if __name__ == '__main__':\n",
        "    socketio.run(app, debug=True)\n"
      ],
      "metadata": {
        "id": "7jBHxWeMFi4o"
      },
      "execution_count": null,
      "outputs": []
    },
    {
      "cell_type": "markdown",
      "source": [
        "Corresponding HTML template"
      ],
      "metadata": {
        "id": "9yLUgYa-F2VE"
      }
    },
    {
      "cell_type": "code",
      "source": [
        "<!DOCTYPE html>\n",
        "<html lang=\"en\">\n",
        "<head>\n",
        "    <meta charset=\"UTF-8\">\n",
        "    <meta name=\"viewport\" content=\"width=device-width, initial-scale=1.0\">\n",
        "    <title>Flask-SocketIO Chat</title>\n",
        "    <script src=\"https://cdnjs.cloudflare.com/ajax/libs/socket.io/4.1.2/socket.io.js\"></script>\n",
        "</head>\n",
        "<body>\n",
        "    <ul id=\"messages\"></ul>\n",
        "    <form action=\"\" id=\"form\" autocomplete=\"off\">\n",
        "        <input id=\"input\" autocomplete=\"off\" /><button>Send</button>\n",
        "    </form>\n",
        "    <script>\n",
        "        var socket = io.connect('http://' + document.domain + ':' + location.port);\n",
        "\n",
        "        socket.on('message', function(msg){\n",
        "            var ul = document.getElementById('messages');\n",
        "            var li = document.createElement('li');\n",
        "            li.appendChild(document.createTextNode(msg));\n",
        "            ul.appendChild(li);\n",
        "        });\n",
        "\n",
        "        document.getElementById('form').onsubmit = function() {\n",
        "            socket.emit('message', document.getElementById('input').value);\n",
        "            document.getElementById('input').value = '';\n",
        "            return false;\n",
        "        };\n",
        "    </script>\n",
        "</body>\n",
        "</html>\n"
      ],
      "metadata": {
        "id": "5xiSOvrKFuSa"
      },
      "execution_count": null,
      "outputs": []
    },
    {
      "cell_type": "markdown",
      "source": [
        "###13. Implement notifications in a Flask app using websockets to notify users of updates.\n",
        "\n",
        "Implement notifications in a Flask app using websockets to notify users of updates.\n",
        "\n",
        "Modify the chat application example to include notifications when a new message is received. You can extend the handle_message function to emit a notification event to specific users.\n"
      ],
      "metadata": {
        "id": "6RlKsJ7KGBWq"
      }
    },
    {
      "cell_type": "code",
      "source": [
        "@socketio.on('message')\n",
        "def handle_message(msg):\n",
        "    print('Message:', msg)\n",
        "    socketio.emit('message', msg)  # Broadcast the message to all connected clients\n",
        "\n",
        "    # Notify a specific user (replace 'user_to_notify' with the actual username)\n",
        "    user_to_notify = 'user_to_notify'\n",
        "    socketio.emit('notification', f'New message from {current_user.username}: {msg}', room=user_to_notify)\n"
      ],
      "metadata": {
        "id": "eilPw11jGCsn"
      },
      "execution_count": null,
      "outputs": []
    },
    {
      "cell_type": "code",
      "source": [
        "socket.on('notification', function(notification){\n",
        "    // Handle the notification (e.g., display it to the user)\n",
        "    console.log(notification);\n",
        "});\n"
      ],
      "metadata": {
        "id": "shvdzplPGJyi"
      },
      "execution_count": null,
      "outputs": []
    },
    {
      "cell_type": "code",
      "source": [],
      "metadata": {
        "id": "p8wGVCV8GLao"
      },
      "execution_count": null,
      "outputs": []
    }
  ]
}