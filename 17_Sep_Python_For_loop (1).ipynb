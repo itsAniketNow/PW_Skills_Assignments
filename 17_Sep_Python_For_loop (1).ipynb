{
  "nbformat": 4,
  "nbformat_minor": 0,
  "metadata": {
    "colab": {
      "provenance": []
    },
    "kernelspec": {
      "name": "python3",
      "display_name": "Python 3"
    },
    "language_info": {
      "name": "python"
    }
  },
  "cells": [
    {
      "cell_type": "markdown",
      "source": [
        "# For Loop"
      ],
      "metadata": {
        "id": "H6_OENAO1BRB"
      }
    },
    {
      "cell_type": "markdown",
      "source": [
        "##Write a Python program to print numbers from 1 to 10 using a for loop.\n"
      ],
      "metadata": {
        "id": "FyX4c0Yu1BFX"
      }
    },
    {
      "cell_type": "code",
      "execution_count": null,
      "metadata": {
        "id": "9vtnkV569yk4",
        "colab": {
          "base_uri": "https://localhost:8080/"
        },
        "outputId": "f43608cd-d7bb-45b2-a237-8334fef72115"
      },
      "outputs": [
        {
          "output_type": "stream",
          "name": "stdout",
          "text": [
            "1\n",
            "2\n",
            "3\n",
            "4\n",
            "5\n",
            "6\n",
            "7\n",
            "8\n",
            "9\n",
            "10\n"
          ]
        }
      ],
      "source": [
        "for i in range(1, 11):\n",
        "    print(i)"
      ]
    },
    {
      "cell_type": "markdown",
      "source": [
        "##Explain the difference between a for loop and a while loop in Python.\n"
      ],
      "metadata": {
        "id": "c0jtmugM5lkV"
      }
    },
    {
      "cell_type": "markdown",
      "source": [
        "A for loop is used for iterating over a sequence (that is either a list, a tuple, a dictionary, a set, or a string). It executes a block of code for a certain number of times.\n",
        "A while loop is used to repeatedly execute a block of code as long as the given condition is true. It continues looping until the condition becomes false."
      ],
      "metadata": {
        "id": "zL5WwfbA5q4F"
      }
    },
    {
      "cell_type": "markdown",
      "source": [
        "##Calculate the sum of all numbers from 1 to 100 using a for loop:"
      ],
      "metadata": {
        "id": "yxdgGZpR5xFE"
      }
    },
    {
      "cell_type": "code",
      "source": [
        "total = 0\n",
        "for i in range(1, 101):\n",
        "    total += i\n",
        "print(\"Sum:\", total)"
      ],
      "metadata": {
        "colab": {
          "base_uri": "https://localhost:8080/"
        },
        "id": "CRtIhJJP5sd3",
        "outputId": "664412b5-f5e3-427f-ddb1-3bb4a72b9b17"
      },
      "execution_count": null,
      "outputs": [
        {
          "output_type": "stream",
          "name": "stdout",
          "text": [
            "Sum: 5050\n"
          ]
        }
      ]
    },
    {
      "cell_type": "markdown",
      "source": [
        "##Iterate through a list using a for loop in Python:"
      ],
      "metadata": {
        "id": "W_7gcD5p50lr"
      }
    },
    {
      "cell_type": "code",
      "source": [
        "my_list = [1, 2, 3, 4, 5]\n",
        "for item in my_list:\n",
        "    print(item)"
      ],
      "metadata": {
        "colab": {
          "base_uri": "https://localhost:8080/"
        },
        "id": "ooFWTfrI50c3",
        "outputId": "e4a4723a-eca5-4a21-b74e-63f605614b83"
      },
      "execution_count": null,
      "outputs": [
        {
          "output_type": "stream",
          "name": "stdout",
          "text": [
            "1\n",
            "2\n",
            "3\n",
            "4\n",
            "5\n"
          ]
        }
      ]
    },
    {
      "cell_type": "markdown",
      "source": [
        "##Find the product of all elements in a list using a for loop:"
      ],
      "metadata": {
        "id": "4-QwxcQx50Vd"
      }
    },
    {
      "cell_type": "code",
      "source": [
        "my_list = [1, 2, 3, 4, 5]\n",
        "product = 1\n",
        "for item in my_list:\n",
        "    product *= item\n",
        "print(\"Product:\", product)"
      ],
      "metadata": {
        "colab": {
          "base_uri": "https://localhost:8080/"
        },
        "id": "CvcuRvos50Oy",
        "outputId": "9895ee19-d6b5-401e-c0c4-3d4449d6b0e5"
      },
      "execution_count": null,
      "outputs": [
        {
          "output_type": "stream",
          "name": "stdout",
          "text": [
            "Product: 120\n"
          ]
        }
      ]
    },
    {
      "cell_type": "markdown",
      "source": [
        "##Print all even numbers from 1 to 20 using a for loop:"
      ],
      "metadata": {
        "id": "qUJuI4D_50H9"
      }
    },
    {
      "cell_type": "code",
      "source": [
        "for i in range(2, 21, 2):\n",
        "    print(i)"
      ],
      "metadata": {
        "colab": {
          "base_uri": "https://localhost:8080/"
        },
        "id": "-JEBv54i50As",
        "outputId": "d30a64fe-2573-4236-cfda-c360acfaf20c"
      },
      "execution_count": null,
      "outputs": [
        {
          "output_type": "stream",
          "name": "stdout",
          "text": [
            "2\n",
            "4\n",
            "6\n",
            "8\n",
            "10\n",
            "12\n",
            "14\n",
            "16\n",
            "18\n",
            "20\n"
          ]
        }
      ]
    },
    {
      "cell_type": "markdown",
      "source": [
        "##Calculate the factorial of a number using a for loop:"
      ],
      "metadata": {
        "id": "2dImG8GP5z30"
      }
    },
    {
      "cell_type": "code",
      "source": [
        "num = 5\n",
        "factorial = 1\n",
        "for i in range(1, num + 1):\n",
        "    factorial *= i\n",
        "print(\"Factorial:\", factorial)"
      ],
      "metadata": {
        "colab": {
          "base_uri": "https://localhost:8080/"
        },
        "id": "YWr9d7zk5zwm",
        "outputId": "6b868fe8-380b-428f-9c87-1901ecae8987"
      },
      "execution_count": null,
      "outputs": [
        {
          "output_type": "stream",
          "name": "stdout",
          "text": [
            "Factorial: 120\n"
          ]
        }
      ]
    },
    {
      "cell_type": "markdown",
      "source": [
        "##Iterate through the characters of a string using a for loop:"
      ],
      "metadata": {
        "id": "5iaCAARi5zpe"
      }
    },
    {
      "cell_type": "code",
      "source": [
        "my_string = \"Hello\"\n",
        "for char in my_string:\n",
        "    print(char)"
      ],
      "metadata": {
        "colab": {
          "base_uri": "https://localhost:8080/"
        },
        "id": "0xA9zhvZ5zis",
        "outputId": "0e5db42a-840f-47c4-d698-90cb0334d7e4"
      },
      "execution_count": null,
      "outputs": [
        {
          "output_type": "stream",
          "name": "stdout",
          "text": [
            "H\n",
            "e\n",
            "l\n",
            "l\n",
            "o\n"
          ]
        }
      ]
    },
    {
      "cell_type": "markdown",
      "source": [
        "##Find the largest number in a list using a for loop:"
      ],
      "metadata": {
        "id": "W6mZhRyL5zcv"
      }
    },
    {
      "cell_type": "code",
      "source": [
        "my_list = [4, 2, 8, 5, 1]\n",
        "largest = my_list[0]\n",
        "for num in my_list:\n",
        "    if num > largest:\n",
        "        largest = num\n",
        "print(\"Largest:\", largest)"
      ],
      "metadata": {
        "colab": {
          "base_uri": "https://localhost:8080/"
        },
        "id": "FSGRrqxy5zVB",
        "outputId": "b2254c54-8846-4f51-baf5-8d7652adc22d"
      },
      "execution_count": null,
      "outputs": [
        {
          "output_type": "stream",
          "name": "stdout",
          "text": [
            "Largest: 8\n"
          ]
        }
      ]
    },
    {
      "cell_type": "markdown",
      "source": [
        "##Print the Fibonacci sequence up to a specified limit using a for loop:"
      ],
      "metadata": {
        "id": "EzwxQJTo5zOD"
      }
    },
    {
      "cell_type": "code",
      "source": [
        "limit = 10\n",
        "a, b = 0, 1\n",
        "for _ in range(limit):\n",
        "    print(a, end=\" \")\n",
        "    a, b = b, a + b"
      ],
      "metadata": {
        "colab": {
          "base_uri": "https://localhost:8080/"
        },
        "id": "orgisg_a5zHL",
        "outputId": "295ae5cd-7a84-45eb-b067-67e8bb326111"
      },
      "execution_count": null,
      "outputs": [
        {
          "output_type": "stream",
          "name": "stdout",
          "text": [
            "0 1 1 2 3 5 8 13 21 34 "
          ]
        }
      ]
    },
    {
      "cell_type": "markdown",
      "source": [
        "##Count the number of vowels in a given string using a for loop:"
      ],
      "metadata": {
        "id": "Iti7pebk5zAH"
      }
    },
    {
      "cell_type": "code",
      "source": [
        "my_string = \"Hello World\"\n",
        "count = 0\n",
        "for char in my_string:\n",
        "    if char.lower() in \"aeiou\":\n",
        "        count += 1\n",
        "print(\"Number of vowels:\", count)"
      ],
      "metadata": {
        "colab": {
          "base_uri": "https://localhost:8080/"
        },
        "id": "YvsZZ8OZ5y5j",
        "outputId": "e72530b1-bafb-4703-f534-ca0485a8d0ca"
      },
      "execution_count": null,
      "outputs": [
        {
          "output_type": "stream",
          "name": "stdout",
          "text": [
            "Number of vowels: 3\n"
          ]
        }
      ]
    },
    {
      "cell_type": "markdown",
      "source": [
        "##Generate a multiplication table for a given number using a for loop:"
      ],
      "metadata": {
        "id": "7PIdkSIV5yyp"
      }
    },
    {
      "cell_type": "code",
      "source": [
        "num = 5\n",
        "for i in range(1, 11):\n",
        "    print(f\"{num} x {i} = {num * i}\")"
      ],
      "metadata": {
        "colab": {
          "base_uri": "https://localhost:8080/"
        },
        "id": "cjmjIYLJ5yr7",
        "outputId": "7544e51d-92b5-4e21-de9a-5cab3f9a8010"
      },
      "execution_count": null,
      "outputs": [
        {
          "output_type": "stream",
          "name": "stdout",
          "text": [
            "5 x 1 = 5\n",
            "5 x 2 = 10\n",
            "5 x 3 = 15\n",
            "5 x 4 = 20\n",
            "5 x 5 = 25\n",
            "5 x 6 = 30\n",
            "5 x 7 = 35\n",
            "5 x 8 = 40\n",
            "5 x 9 = 45\n",
            "5 x 10 = 50\n"
          ]
        }
      ]
    },
    {
      "cell_type": "markdown",
      "source": [
        "##Reverse a list using a for loop:"
      ],
      "metadata": {
        "id": "aRpCwzBq5yh3"
      }
    },
    {
      "cell_type": "code",
      "source": [
        "my_list = [1, 2, 3, 4, 5]\n",
        "reversed_list = []\n",
        "for item in reversed(my_list):\n",
        "    reversed_list.append(item)\n",
        "print(\"Reversed List:\", reversed_list)"
      ],
      "metadata": {
        "colab": {
          "base_uri": "https://localhost:8080/"
        },
        "id": "y2yidbu05yb3",
        "outputId": "5a4e18d2-4925-4d9f-92ed-9a2d650b78f0"
      },
      "execution_count": null,
      "outputs": [
        {
          "output_type": "stream",
          "name": "stdout",
          "text": [
            "Reversed List: [5, 4, 3, 2, 1]\n"
          ]
        }
      ]
    },
    {
      "cell_type": "markdown",
      "source": [
        "##Find common elements between two lists using a for loop:"
      ],
      "metadata": {
        "id": "1eA1YRqZ5yQY"
      }
    },
    {
      "cell_type": "code",
      "source": [
        "list1 = [1, 2, 3, 4, 5]\n",
        "list2 = [3, 4, 5, 6, 7]\n",
        "common_elements = []\n",
        "for item in list1:\n",
        "    if item in list2:\n",
        "        common_elements.append(item)\n",
        "print(\"Common Elements:\", common_elements)"
      ],
      "metadata": {
        "colab": {
          "base_uri": "https://localhost:8080/"
        },
        "id": "Lh9vleqa5x4I",
        "outputId": "e4ad46d2-3544-4d9c-8bd4-e47b753b0fab"
      },
      "execution_count": null,
      "outputs": [
        {
          "output_type": "stream",
          "name": "stdout",
          "text": [
            "Common Elements: [3, 4, 5]\n"
          ]
        }
      ]
    },
    {
      "cell_type": "markdown",
      "source": [
        "##Iterate through keys and values of a dictionary using a for loop:"
      ],
      "metadata": {
        "id": "kxTWoMzf7Fhj"
      }
    },
    {
      "cell_type": "code",
      "source": [
        "my_dict = {'a': 1, 'b': 2, 'c': 3}\n",
        "for key, value in my_dict.items():\n",
        "    print(f\"Key: {key}, Value: {value}\")"
      ],
      "metadata": {
        "colab": {
          "base_uri": "https://localhost:8080/"
        },
        "id": "9U8BWupE7FaT",
        "outputId": "8fc902f1-1e28-4d9b-8dce-b5cdd1a97fd9"
      },
      "execution_count": null,
      "outputs": [
        {
          "output_type": "stream",
          "name": "stdout",
          "text": [
            "Key: a, Value: 1\n",
            "Key: b, Value: 2\n",
            "Key: c, Value: 3\n"
          ]
        }
      ]
    },
    {
      "cell_type": "markdown",
      "source": [
        "##Find the GCD (Greatest Common Divisor) of two numbers using a for loop:"
      ],
      "metadata": {
        "id": "rAnhAcy37FTW"
      }
    },
    {
      "cell_type": "code",
      "source": [
        "def gcd(a, b):\n",
        "    while b:\n",
        "        a, b = b, a % b\n",
        "    return a\n",
        "\n",
        "num1, num2 = 24, 36\n",
        "print(\"GCD:\", gcd(num1, num2))"
      ],
      "metadata": {
        "colab": {
          "base_uri": "https://localhost:8080/"
        },
        "id": "8M0nzNQK7FMK",
        "outputId": "e07a92c7-b9e2-47ba-f353-f98c26aca04a"
      },
      "execution_count": null,
      "outputs": [
        {
          "output_type": "stream",
          "name": "stdout",
          "text": [
            "GCD: 12\n"
          ]
        }
      ]
    },
    {
      "cell_type": "markdown",
      "source": [
        "##Check if a string is a palindrome using a for loop:"
      ],
      "metadata": {
        "id": "jgubYU8u7FFB"
      }
    },
    {
      "cell_type": "code",
      "source": [
        "my_string = \"level\"\n",
        "is_palindrome = True\n",
        "for i in range(len(my_string)//2):\n",
        "    if my_string[i] != my_string[-1-i]:\n",
        "        is_palindrome = False\n",
        "        break\n",
        "print(\"Is Palindrome:\", is_palindrome)"
      ],
      "metadata": {
        "colab": {
          "base_uri": "https://localhost:8080/"
        },
        "id": "N2CD7A7-7E9_",
        "outputId": "4ec237f5-759d-4b32-ca5e-4cdf8efde84c"
      },
      "execution_count": null,
      "outputs": [
        {
          "output_type": "stream",
          "name": "stdout",
          "text": [
            "Is Palindrome: True\n"
          ]
        }
      ]
    },
    {
      "cell_type": "markdown",
      "source": [
        "##Remove duplicates from a list using a for loop:"
      ],
      "metadata": {
        "id": "4-tUxZxJ7E3F"
      }
    },
    {
      "cell_type": "code",
      "source": [
        "my_list = [1, 2, 2, 3, 4, 4, 5]\n",
        "unique_list = []\n",
        "for item in my_list:\n",
        "    if item not in unique_list:\n",
        "        unique_list.append(item)\n",
        "print(\"Without Duplicates:\", unique_list)"
      ],
      "metadata": {
        "colab": {
          "base_uri": "https://localhost:8080/"
        },
        "id": "sM0ztzFv7EwG",
        "outputId": "dc46341f-79a5-499f-d761-793a4a71af9e"
      },
      "execution_count": null,
      "outputs": [
        {
          "output_type": "stream",
          "name": "stdout",
          "text": [
            "Without Duplicates: [1, 2, 3, 4, 5]\n"
          ]
        }
      ]
    },
    {
      "cell_type": "markdown",
      "source": [
        "##Count the number of words in a sentence using a for loop:"
      ],
      "metadata": {
        "id": "rFp0fejZ7Emz"
      }
    },
    {
      "cell_type": "code",
      "source": [
        "my_sentence = \"This is a sample sentence.\"\n",
        "word_count = 0\n",
        "for word in my_sentence.split():\n",
        "    word_count += 1\n",
        "print(\"Number of words:\", word_count)"
      ],
      "metadata": {
        "colab": {
          "base_uri": "https://localhost:8080/"
        },
        "id": "H9VPJRaV7EgT",
        "outputId": "a9d1afbe-244e-4f87-da4f-f35af5b73072"
      },
      "execution_count": null,
      "outputs": [
        {
          "output_type": "stream",
          "name": "stdout",
          "text": [
            "Number of words: 5\n"
          ]
        }
      ]
    },
    {
      "cell_type": "markdown",
      "source": [
        "##Find the sum of all odd numbers from 1 to 50 using a for loop:"
      ],
      "metadata": {
        "id": "zceGbOZz7EZj"
      }
    },
    {
      "cell_type": "code",
      "source": [
        "total_odd = 0\n",
        "for i in range(1, 51, 2):\n",
        "    total_odd += i\n",
        "print(\"Sum of Odd Numbers:\", total_odd)"
      ],
      "metadata": {
        "colab": {
          "base_uri": "https://localhost:8080/"
        },
        "id": "QLQThWJX7ESb",
        "outputId": "91f8b739-e97d-49cf-b24f-18caf8d0edcb"
      },
      "execution_count": null,
      "outputs": [
        {
          "output_type": "stream",
          "name": "stdout",
          "text": [
            "Sum of Odd Numbers: 625\n"
          ]
        }
      ]
    },
    {
      "cell_type": "markdown",
      "source": [
        "##Check if a given year is a leap year using a for loop:"
      ],
      "metadata": {
        "id": "9YlqRJUO7EMb"
      }
    },
    {
      "cell_type": "code",
      "source": [
        "year = 2024\n",
        "is_leap_year = False\n",
        "if (year % 4 == 0 and year % 100 != 0) or (year % 400 == 0):\n",
        "    is_leap_year = True\n",
        "print(\"Is Leap Year:\", is_leap_year)"
      ],
      "metadata": {
        "colab": {
          "base_uri": "https://localhost:8080/"
        },
        "id": "pAY_T2o_7EFi",
        "outputId": "5104fc3b-1711-4de3-cee4-51c7ec41aa9b"
      },
      "execution_count": null,
      "outputs": [
        {
          "output_type": "stream",
          "name": "stdout",
          "text": [
            "Is Leap Year: True\n"
          ]
        }
      ]
    },
    {
      "cell_type": "markdown",
      "source": [
        "##Calculate the square root of a number using a for loop:"
      ],
      "metadata": {
        "id": "tZ2oxST17D-7"
      }
    },
    {
      "cell_type": "code",
      "source": [
        "num = 16\n",
        "sqrt_guess = num / 2\n",
        "for _ in range(10):  # Adjust the number of iterations for better accuracy\n",
        "    sqrt_guess = (sqrt_guess + num / sqrt_guess) / 2\n",
        "print(\"Square Root:\", sqrt_guess)\n"
      ],
      "metadata": {
        "colab": {
          "base_uri": "https://localhost:8080/"
        },
        "id": "iqfgBNA-7D3W",
        "outputId": "e6f22b19-5146-4716-964e-b43bc70ea7c5"
      },
      "execution_count": null,
      "outputs": [
        {
          "output_type": "stream",
          "name": "stdout",
          "text": [
            "Square Root: 4.0\n"
          ]
        }
      ]
    },
    {
      "cell_type": "markdown",
      "source": [
        "##Find the LCM (Least Common Multiple) of two numbers using a for loop:"
      ],
      "metadata": {
        "id": "Bsbi3ygJ7Dw1"
      }
    },
    {
      "cell_type": "code",
      "source": [
        "def gcd(a, b):\n",
        "    while b:\n",
        "        a, b = b, a % b\n",
        "    return a\n",
        "\n",
        "def lcm(a, b):\n",
        "    return (a * b) // gcd(a, b)\n",
        "\n",
        "num1, num2 = 12, 18\n",
        "print(\"LCM:\", lcm(num1, num2))"
      ],
      "metadata": {
        "colab": {
          "base_uri": "https://localhost:8080/"
        },
        "id": "Gu5m2I957DpG",
        "outputId": "e7f2cde1-f38d-470d-a57b-8f0f10ff8fa9"
      },
      "execution_count": null,
      "outputs": [
        {
          "output_type": "stream",
          "name": "stdout",
          "text": [
            "LCM: 36\n"
          ]
        }
      ]
    },
    {
      "cell_type": "markdown",
      "source": [
        "# IF Else"
      ],
      "metadata": {
        "id": "iGVur3rA8N7i"
      }
    },
    {
      "cell_type": "markdown",
      "source": [
        "##Check if a number is positive, negative, or zero using if-else:"
      ],
      "metadata": {
        "id": "Z46xXVMM7DiY"
      }
    },
    {
      "cell_type": "code",
      "source": [
        "num = 7\n",
        "if num > 0:\n",
        "    print(\"Positive\")\n",
        "elif num < 0:\n",
        "    print(\"Negative\")\n",
        "else:\n",
        "    print(\"Zero\")"
      ],
      "metadata": {
        "colab": {
          "base_uri": "https://localhost:8080/"
        },
        "id": "6q3pjNcA7DaH",
        "outputId": "323d8af4-73ee-4452-ed4f-cc54296d541e"
      },
      "execution_count": null,
      "outputs": [
        {
          "output_type": "stream",
          "name": "stdout",
          "text": [
            "Positive\n"
          ]
        }
      ]
    },
    {
      "cell_type": "markdown",
      "source": [
        "##Check if a given number is even or odd using if-else:"
      ],
      "metadata": {
        "id": "tTVG1BmL7DS_"
      }
    },
    {
      "cell_type": "code",
      "source": [
        "num = 10\n",
        "if num % 2 == 0:\n",
        "    print(\"Even\")\n",
        "else:\n",
        "    print(\"Odd\")"
      ],
      "metadata": {
        "colab": {
          "base_uri": "https://localhost:8080/"
        },
        "id": "V4ubr1tW7DAp",
        "outputId": "6f1e40f6-8ff6-4d68-9763-2884ad77a029"
      },
      "execution_count": null,
      "outputs": [
        {
          "output_type": "stream",
          "name": "stdout",
          "text": [
            "Even\n"
          ]
        }
      ]
    },
    {
      "cell_type": "markdown",
      "source": [
        "##Use nested if-else statements in Python (example checking for positive/negative/zero):"
      ],
      "metadata": {
        "id": "_7zPlux47CjN"
      }
    },
    {
      "cell_type": "code",
      "source": [
        "num = -5\n",
        "if num >= 0:\n",
        "    if num == 0:\n",
        "        print(\"Zero\")\n",
        "    else:\n",
        "        print(\"Positive\")\n",
        "else:\n",
        "    print(\"Negative\")"
      ],
      "metadata": {
        "colab": {
          "base_uri": "https://localhost:8080/"
        },
        "id": "A2EKMObE7CZG",
        "outputId": "1224b54c-6412-4037-ae6f-ff6acd0f92d9"
      },
      "execution_count": null,
      "outputs": [
        {
          "output_type": "stream",
          "name": "stdout",
          "text": [
            "Negative\n"
          ]
        }
      ]
    },
    {
      "cell_type": "markdown",
      "source": [
        "##Determine the largest of three numbers using if-else:"
      ],
      "metadata": {
        "id": "34f0lOtG7COW"
      }
    },
    {
      "cell_type": "code",
      "source": [
        "num1, num2, num3 = 15, 7, 22\n",
        "if num1 >= num2 and num1 >= num3:\n",
        "    print(\"Largest:\", num1)\n",
        "elif num2 >= num1 and num2 >= num3:\n",
        "    print(\"Largest:\", num2)\n",
        "else:\n",
        "    print(\"Largest:\", num3)"
      ],
      "metadata": {
        "colab": {
          "base_uri": "https://localhost:8080/"
        },
        "id": "19Hd0G457CGo",
        "outputId": "a477640f-f3f5-4a54-cb01-ba5e0ca15fa2"
      },
      "execution_count": null,
      "outputs": [
        {
          "output_type": "stream",
          "name": "stdout",
          "text": [
            "Largest: 22\n"
          ]
        }
      ]
    },
    {
      "cell_type": "markdown",
      "source": [
        "##Calculate the absolute value of a number using if-else:"
      ],
      "metadata": {
        "id": "6rWTdu_L7CAI"
      }
    },
    {
      "cell_type": "code",
      "source": [
        "num = -9\n",
        "if num < 0:\n",
        "    abs_value = -num\n",
        "else:\n",
        "    abs_value = num\n",
        "print(\"Absolute Value:\", abs_value)"
      ],
      "metadata": {
        "colab": {
          "base_uri": "https://localhost:8080/"
        },
        "id": "8RY9PmDz7B5l",
        "outputId": "50faf065-12ef-4423-d11a-5da6854aa24d"
      },
      "execution_count": null,
      "outputs": [
        {
          "output_type": "stream",
          "name": "stdout",
          "text": [
            "Absolute Value: 9\n"
          ]
        }
      ]
    },
    {
      "cell_type": "markdown",
      "source": [
        "##Check if a given character is a vowel or consonant using if-else:"
      ],
      "metadata": {
        "id": "uMDc87Ha7Bza"
      }
    },
    {
      "cell_type": "code",
      "source": [
        "char = 'a'\n",
        "if char.lower() in 'aeiou':\n",
        "    print(\"Vowel\")\n",
        "else:\n",
        "    print(\"Consonant\")"
      ],
      "metadata": {
        "colab": {
          "base_uri": "https://localhost:8080/"
        },
        "id": "uGdGwI6E7Bs4",
        "outputId": "2dfd824f-78e8-49e3-af8f-03f8c369d938"
      },
      "execution_count": null,
      "outputs": [
        {
          "output_type": "stream",
          "name": "stdout",
          "text": [
            "Vowel\n"
          ]
        }
      ]
    },
    {
      "cell_type": "markdown",
      "source": [
        "##Determine if a user is eligible to vote based on their age using if-else:"
      ],
      "metadata": {
        "id": "Tok8HLLI7Bmo"
      }
    },
    {
      "cell_type": "code",
      "source": [
        "age = 20\n",
        "if age >= 18:\n",
        "    print(\"Eligible to vote\")\n",
        "else:\n",
        "    print(\"Not eligible to vote\")"
      ],
      "metadata": {
        "colab": {
          "base_uri": "https://localhost:8080/"
        },
        "id": "SzxB4D4o7Bgk",
        "outputId": "6b8383a1-84db-43e4-94f7-0407604022a3"
      },
      "execution_count": null,
      "outputs": [
        {
          "output_type": "stream",
          "name": "stdout",
          "text": [
            "Eligible to vote\n"
          ]
        }
      ]
    },
    {
      "cell_type": "markdown",
      "source": [
        "##Calculate the discount amount based on the purchase amount using if-else:"
      ],
      "metadata": {
        "id": "QeUwaiHr7BaB"
      }
    },
    {
      "cell_type": "code",
      "source": [
        "purchase_amount = 120\n",
        "if purchase_amount > 100:\n",
        "    discount = 0.1 * purchase_amount\n",
        "else:\n",
        "    discount = 0\n",
        "print(\"Discount Amount:\", discount)"
      ],
      "metadata": {
        "colab": {
          "base_uri": "https://localhost:8080/"
        },
        "id": "HsysIAt97BTq",
        "outputId": "7baa7689-3ed9-4829-f6e0-9a1d06a941b3"
      },
      "execution_count": null,
      "outputs": [
        {
          "output_type": "stream",
          "name": "stdout",
          "text": [
            "Discount Amount: 12.0\n"
          ]
        }
      ]
    },
    {
      "cell_type": "markdown",
      "source": [
        "##Check if a number is within a specified range using if-else:"
      ],
      "metadata": {
        "id": "ZMoMBgxa7BMO"
      }
    },
    {
      "cell_type": "code",
      "source": [
        "num = 25\n",
        "if 10 <= num <= 30:\n",
        "    print(\"Within the specified range\")\n",
        "else:\n",
        "    print(\"Outside the specified range\")"
      ],
      "metadata": {
        "colab": {
          "base_uri": "https://localhost:8080/"
        },
        "id": "r3NxI3Wd7BEn",
        "outputId": "9a3f43c6-4d88-4597-8632-28b0199dc078"
      },
      "execution_count": null,
      "outputs": [
        {
          "output_type": "stream",
          "name": "stdout",
          "text": [
            "Within the specified range\n"
          ]
        }
      ]
    },
    {
      "cell_type": "markdown",
      "source": [
        "##Determine the grade of a student based on their score using if-else:"
      ],
      "metadata": {
        "id": "JbN3S8ey7A9k"
      }
    },
    {
      "cell_type": "code",
      "source": [
        "score = 85\n",
        "if score >= 90:\n",
        "    grade = 'A'\n",
        "elif score >= 80:\n",
        "    grade = 'B'\n",
        "elif score >= 70:\n",
        "    grade = 'C'\n",
        "else:\n",
        "    grade = 'D'\n",
        "print(\"Grade:\", grade)"
      ],
      "metadata": {
        "colab": {
          "base_uri": "https://localhost:8080/"
        },
        "id": "cLqZgtou7A2W",
        "outputId": "246bfc0e-42d2-48db-b5f5-e4aa5d2a855d"
      },
      "execution_count": null,
      "outputs": [
        {
          "output_type": "stream",
          "name": "stdout",
          "text": [
            "Grade: B\n"
          ]
        }
      ]
    },
    {
      "cell_type": "markdown",
      "source": [
        "##Check if a string is empty or not using if-else:"
      ],
      "metadata": {
        "id": "Jk7zI5EK7AvD"
      }
    },
    {
      "cell_type": "code",
      "source": [
        "my_string = \"\"\n",
        "if my_string:\n",
        "    print(\"Not empty\")\n",
        "else:\n",
        "    print(\"Empty\")"
      ],
      "metadata": {
        "colab": {
          "base_uri": "https://localhost:8080/"
        },
        "id": "GSC5HXFP7AmH",
        "outputId": "b46a55e3-cfcd-4b42-ac01-5578e60e28fa"
      },
      "execution_count": null,
      "outputs": [
        {
          "output_type": "stream",
          "name": "stdout",
          "text": [
            "Empty\n"
          ]
        }
      ]
    },
    {
      "cell_type": "markdown",
      "source": [
        "##Identify the type of a triangle based on input values using if-else:"
      ],
      "metadata": {
        "id": "Dx3q6_xM7Af6"
      }
    },
    {
      "cell_type": "code",
      "source": [
        "side1, side2, side3 = 3, 4, 5\n",
        "if side1 == side2 == side3:\n",
        "    print(\"Equilateral Triangle\")\n",
        "elif side1 == side2 or side2 == side3 or side1 == side3:\n",
        "    print(\"Isosceles Triangle\")\n",
        "else:\n",
        "    print(\"Scalene Triangle\")"
      ],
      "metadata": {
        "colab": {
          "base_uri": "https://localhost:8080/"
        },
        "id": "_ISKsD6W7AWT",
        "outputId": "fc4a71dc-68e9-4024-e7d0-6b514cc33194"
      },
      "execution_count": null,
      "outputs": [
        {
          "output_type": "stream",
          "name": "stdout",
          "text": [
            "Scalene Triangle\n"
          ]
        }
      ]
    },
    {
      "cell_type": "markdown",
      "source": [
        "##Determine the day of the week based on a user-provided number using if-else:"
      ],
      "metadata": {
        "id": "Dr60hRit6__W"
      }
    },
    {
      "cell_type": "code",
      "source": [
        "day_num = 4\n",
        "if 1 <= day_num <= 7:\n",
        "    days = [\"Monday\", \"Tuesday\", \"Wednesday\", \"Thursday\", \"Friday\", \"Saturday\", \"Sunday\"]\n",
        "    print(\"Day of the week:\", days[day_num - 1])\n",
        "else:\n",
        "    print(\"Invalid day number\")"
      ],
      "metadata": {
        "colab": {
          "base_uri": "https://localhost:8080/"
        },
        "id": "sxE-qn1_6-8d",
        "outputId": "8054d362-f93e-47b3-b12e-775f239f7396"
      },
      "execution_count": null,
      "outputs": [
        {
          "output_type": "stream",
          "name": "stdout",
          "text": [
            "Day of the week: Thursday\n"
          ]
        }
      ]
    },
    {
      "cell_type": "markdown",
      "source": [
        "##Check if a given year is a leap year using if-else and a function:"
      ],
      "metadata": {
        "id": "1ZvnbLDB-MSy"
      }
    },
    {
      "cell_type": "code",
      "source": [
        "def is_leap_year(year):\n",
        "    if (year % 4 == 0 and year % 100 != 0) or (year % 400 == 0):\n",
        "        return True\n",
        "    else:\n",
        "        return False\n",
        "\n",
        "year = 2024\n",
        "if is_leap_year(year):\n",
        "    print(\"Leap Year\")\n",
        "else:\n",
        "    print(\"Not a Leap Year\")"
      ],
      "metadata": {
        "colab": {
          "base_uri": "https://localhost:8080/"
        },
        "id": "dJttcqno-MKW",
        "outputId": "a03f5204-2272-441e-91f3-04d413660140"
      },
      "execution_count": null,
      "outputs": [
        {
          "output_type": "stream",
          "name": "stdout",
          "text": [
            "Leap Year\n"
          ]
        }
      ]
    },
    {
      "cell_type": "markdown",
      "source": [
        "##Use the \"assert\" statement in Python to add debugging checks within if-else blocks:"
      ],
      "metadata": {
        "id": "IElUftoG-MDw"
      }
    },
    {
      "cell_type": "code",
      "source": [
        "num = 15\n",
        "assert num >= 0, \"Number should be non-negative\"\n",
        "if num == 0:\n",
        "    print(\"Zero\")\n",
        "else:\n",
        "    print(\"Positive\")"
      ],
      "metadata": {
        "colab": {
          "base_uri": "https://localhost:8080/"
        },
        "id": "h_LKBPeE-L8E",
        "outputId": "a453c184-b576-4b46-8f50-59d0e193f8f5"
      },
      "execution_count": null,
      "outputs": [
        {
          "output_type": "stream",
          "name": "stdout",
          "text": [
            "Positive\n"
          ]
        }
      ]
    },
    {
      "cell_type": "markdown",
      "source": [
        "##Determine the eligibility of a person for a senior citizen discount based on age using if-else:"
      ],
      "metadata": {
        "id": "Uc68MZQP-L0u"
      }
    },
    {
      "cell_type": "code",
      "source": [
        "age = 65\n",
        "if age >= 60:\n",
        "    print(\"Eligible for senior citizen discount\")\n",
        "else:\n",
        "    print(\"Not eligible for senior citizen discount\")"
      ],
      "metadata": {
        "colab": {
          "base_uri": "https://localhost:8080/"
        },
        "id": "DZdUIoUa-Lqi",
        "outputId": "cadf10d0-c432-42aa-8d87-00b6db40e873"
      },
      "execution_count": null,
      "outputs": [
        {
          "output_type": "stream",
          "name": "stdout",
          "text": [
            "Eligible for senior citizen discount\n"
          ]
        }
      ]
    },
    {
      "cell_type": "markdown",
      "source": [
        "##Categorize a given character as uppercase, lowercase, or neither using if-else:"
      ],
      "metadata": {
        "id": "IcHnIZ8t-LlG"
      }
    },
    {
      "cell_type": "code",
      "source": [
        "char = 'A'\n",
        "if char.isupper():\n",
        "    print(\"Uppercase\")\n",
        "elif char.islower():\n",
        "    print(\"Lowercase\")\n",
        "else:\n",
        "    print(\"Neither uppercase nor lowercase\")"
      ],
      "metadata": {
        "colab": {
          "base_uri": "https://localhost:8080/"
        },
        "id": "E05Ca9Fy-LbS",
        "outputId": "c7ca7378-48d8-4947-8e5e-fbfe20b0619e"
      },
      "execution_count": null,
      "outputs": [
        {
          "output_type": "stream",
          "name": "stdout",
          "text": [
            "Uppercase\n"
          ]
        }
      ]
    },
    {
      "cell_type": "markdown",
      "source": [
        "##Determine the roots of a quadratic equation using if-else:"
      ],
      "metadata": {
        "id": "zjpqxXNb-LVC"
      }
    },
    {
      "cell_type": "code",
      "source": [
        "a, b, c = 1, -3, 2\n",
        "discriminant = b**2 - 4*a*c\n",
        "if discriminant > 0:\n",
        "    root1 = (-b + (discriminant)**0.5) / (2*a)\n",
        "    root2 = (-b - (discriminant)**0.5) / (2*a)\n",
        "    print(\"Two real and distinct roots:\", root1, \"and\", root2)\n",
        "elif discriminant == 0:\n",
        "    root = -b / (2*a)\n",
        "    print(\"One real and equal root:\", root)\n",
        "else:\n",
        "    print(\"No real roots\")"
      ],
      "metadata": {
        "colab": {
          "base_uri": "https://localhost:8080/"
        },
        "id": "PFb9QY2a-LOf",
        "outputId": "05d3b189-bec3-48e1-da9a-b513cf9542a9"
      },
      "execution_count": null,
      "outputs": [
        {
          "output_type": "stream",
          "name": "stdout",
          "text": [
            "Two real and distinct roots: 2.0 and 1.0\n"
          ]
        }
      ]
    },
    {
      "cell_type": "markdown",
      "source": [
        "##Check if a given year is a century year or not using if-else:"
      ],
      "metadata": {
        "id": "oO7XvlpJ-LIS"
      }
    },
    {
      "cell_type": "code",
      "source": [
        "year = 1900\n",
        "if year % 100 == 0:\n",
        "    print(\"Century Year\")\n",
        "else:\n",
        "    print(\"Not a Century Year\")"
      ],
      "metadata": {
        "colab": {
          "base_uri": "https://localhost:8080/"
        },
        "id": "wHDOqMy7-LBJ",
        "outputId": "e6b9d51e-cad7-4986-f32c-88faef8b19d1"
      },
      "execution_count": null,
      "outputs": [
        {
          "output_type": "stream",
          "name": "stdout",
          "text": [
            "Century Year\n"
          ]
        }
      ]
    },
    {
      "cell_type": "markdown",
      "source": [
        "##Determine if a given number is a perfect square using if-else:"
      ],
      "metadata": {
        "id": "5uOeoB7N-K5l"
      }
    },
    {
      "cell_type": "code",
      "source": [
        "num = 16\n",
        "if num > 0 and (num**0.5).is_integer():\n",
        "    print(\"Perfect Square\")\n",
        "else:\n",
        "    print(\"Not a Perfect Square\")"
      ],
      "metadata": {
        "colab": {
          "base_uri": "https://localhost:8080/"
        },
        "id": "RhA6IYAq-Kym",
        "outputId": "f7ba1045-ef24-4024-e65f-5626adf39c74"
      },
      "execution_count": null,
      "outputs": [
        {
          "output_type": "stream",
          "name": "stdout",
          "text": [
            "Perfect Square\n"
          ]
        }
      ]
    },
    {
      "cell_type": "markdown",
      "source": [
        "##Explain the purpose of the \"continue\" and \"break\" statements within if-else loops:"
      ],
      "metadata": {
        "id": "8bDHJzKV-KoZ"
      }
    },
    {
      "cell_type": "markdown",
      "source": [
        "continue is used to skip the rest of the code inside the loop for the current iteration and move to the next iteration.\n",
        "break is used to exit the loop prematurely, skipping any remaining iterations."
      ],
      "metadata": {
        "id": "QpyK7rFD_J49"
      }
    },
    {
      "cell_type": "markdown",
      "source": [
        "##Calculate the BMI (Body Mass Index) of a person based on their weight and height using if-else:"
      ],
      "metadata": {
        "id": "402I77gh_MuL"
      }
    },
    {
      "cell_type": "code",
      "source": [
        "weight = 70\n",
        "height = 1.75\n",
        "bmi = weight / (height**2)\n",
        "if 18.5 <= bmi < 25:\n",
        "    print(\"Normal Weight\")\n",
        "elif 25 <= bmi < 30:\n",
        "    print(\"Overweight\")\n",
        "else:\n",
        "    print(\"Underweight or Obese\")"
      ],
      "metadata": {
        "colab": {
          "base_uri": "https://localhost:8080/"
        },
        "id": "dm9ran-W-KgG",
        "outputId": "0572bc91-de8f-4ac3-9db7-c6d1e518d943"
      },
      "execution_count": null,
      "outputs": [
        {
          "output_type": "stream",
          "name": "stdout",
          "text": [
            "Normal Weight\n"
          ]
        }
      ]
    },
    {
      "cell_type": "markdown",
      "source": [
        "##Use the \"filter()\" function with if-else statements to filter elements from a list:"
      ],
      "metadata": {
        "id": "SSfdvL0M-KZa"
      }
    },
    {
      "cell_type": "code",
      "source": [
        "my_list = [1, 5, 8, 12, 7, 3, 9]\n",
        "filtered_list = list(filter(lambda x: x > 5, my_list))\n",
        "print(\"Filtered List:\", filtered_list)"
      ],
      "metadata": {
        "colab": {
          "base_uri": "https://localhost:8080/"
        },
        "id": "prxGgYKm-KR2",
        "outputId": "70f54420-6636-46e9-8c66-00db90d2d700"
      },
      "execution_count": null,
      "outputs": [
        {
          "output_type": "stream",
          "name": "stdout",
          "text": [
            "Filtered List: [8, 12, 7, 9]\n"
          ]
        }
      ]
    },
    {
      "cell_type": "markdown",
      "source": [
        "##Determine if a given number is prime or not using if-else:"
      ],
      "metadata": {
        "id": "ciJ8vxag-KKE"
      }
    },
    {
      "cell_type": "code",
      "source": [
        "num = 13\n",
        "if num > 1:\n",
        "    for i in range(2, int(num**0.5) + 1):\n",
        "        if num % i == 0:\n",
        "            print(\"Not Prime\")\n",
        "            break\n",
        "    else:\n",
        "        print(\"Prime\")\n",
        "else:\n",
        "    print(\"Not Prime\")"
      ],
      "metadata": {
        "colab": {
          "base_uri": "https://localhost:8080/"
        },
        "id": "tjq6pFw0-KD0",
        "outputId": "38ab0f05-d361-406b-92e3-6a6f8439d6da"
      },
      "execution_count": null,
      "outputs": [
        {
          "output_type": "stream",
          "name": "stdout",
          "text": [
            "Prime\n"
          ]
        }
      ]
    },
    {
      "cell_type": "markdown",
      "source": [
        "# MAP Function"
      ],
      "metadata": {
        "id": "AqKLbkJ6_r_g"
      }
    },
    {
      "cell_type": "markdown",
      "source": [
        "##Explain the purpose of the `map()` function in Python and provide an example of how it can be used to apply a function to each element of an iterable.\n"
      ],
      "metadata": {
        "id": "XUr3pIg8-J-F"
      }
    },
    {
      "cell_type": "markdown",
      "source": [
        "The map() function in Python is used to apply a specified function to all the items in an iterable (e.g., list, tuple, etc.) and return an iterator that produces the results. It takes two arguments: the function to apply and the iterable."
      ],
      "metadata": {
        "id": "BO1ei_hG_0ul"
      }
    },
    {
      "cell_type": "code",
      "source": [
        "# Example of using map() to square each element of a list\n",
        "numbers = [1, 2, 3, 4, 5]\n",
        "squared_numbers = map(lambda x: x**2, numbers)\n",
        "print(list(squared_numbers))"
      ],
      "metadata": {
        "colab": {
          "base_uri": "https://localhost:8080/"
        },
        "id": "5ZuSGjYw-J0w",
        "outputId": "18a3d5f2-4b65-4a65-c637-97f5908e5473"
      },
      "execution_count": null,
      "outputs": [
        {
          "output_type": "stream",
          "name": "stdout",
          "text": [
            "[1, 4, 9, 16, 25]\n"
          ]
        }
      ]
    },
    {
      "cell_type": "markdown",
      "source": [
        "##Python program using map() to square each element of a list:"
      ],
      "metadata": {
        "id": "SMD_2PSa-JWo"
      }
    },
    {
      "cell_type": "code",
      "source": [
        "numbers = [1, 2, 3, 4, 5]\n",
        "squared_numbers = list(map(lambda x: x**2, numbers))\n",
        "print(squared_numbers)"
      ],
      "metadata": {
        "colab": {
          "base_uri": "https://localhost:8080/"
        },
        "id": "o2Kad1YK-JQs",
        "outputId": "0da6157e-ebc2-4102-abae-bc81fe25edb8"
      },
      "execution_count": null,
      "outputs": [
        {
          "output_type": "stream",
          "name": "stdout",
          "text": [
            "[1, 4, 9, 16, 25]\n"
          ]
        }
      ]
    },
    {
      "cell_type": "markdown",
      "source": [
        "##How does the `map()` function differ from a list comprehension in Python, and when would you choose one over the other?\n"
      ],
      "metadata": {
        "id": "NtelmCMp-JJW"
      }
    },
    {
      "cell_type": "markdown",
      "source": [
        "map() is a built-in function that applies a given function to all the items in an iterable and returns an iterator.\n",
        "List comprehension is a concise way to create lists by specifying the elements to include.\n",
        "\n",
        "Choose map() when you want to apply a function to every element in an iterable, especially when the transformation is more complex. Use list comprehension when creating a new list based on a simple expression or condition."
      ],
      "metadata": {
        "id": "ipknsUVNB-Kg"
      }
    },
    {
      "cell_type": "code",
      "source": [
        "# Using list comprehension to square each element of a list\n",
        "numbers = [1, 2, 3, 4, 5]\n",
        "squared_numbers_lc = [x**2 for x in numbers]\n",
        "print(squared_numbers_lc)"
      ],
      "metadata": {
        "colab": {
          "base_uri": "https://localhost:8080/"
        },
        "id": "Gkky-zbC-JB2",
        "outputId": "932b6c18-efc1-46cb-eb7d-b16a3a8f5026"
      },
      "execution_count": null,
      "outputs": [
        {
          "output_type": "stream",
          "name": "stdout",
          "text": [
            "[1, 4, 9, 16, 25]\n"
          ]
        }
      ]
    },
    {
      "cell_type": "markdown",
      "source": [
        "##Create a Python program that uses the `map()` function to convert a list of names to uppercase.\n"
      ],
      "metadata": {
        "id": "wUIE0pJy-I0z"
      }
    },
    {
      "cell_type": "code",
      "source": [
        "names = [\"Alice\", \"Bob\", \"Charlie\"]\n",
        "uppercased_names = list(map(str.upper, names))\n",
        "print(uppercased_names)"
      ],
      "metadata": {
        "colab": {
          "base_uri": "https://localhost:8080/"
        },
        "id": "qQpz0Guc-Itq",
        "outputId": "296b1ce3-f7dd-472c-cd6d-0c2c30ebfa5d"
      },
      "execution_count": null,
      "outputs": [
        {
          "output_type": "stream",
          "name": "stdout",
          "text": [
            "['ALICE', 'BOB', 'CHARLIE']\n"
          ]
        }
      ]
    },
    {
      "cell_type": "markdown",
      "source": [
        "##Write a Python program that uses the `map()` function to calculate the length of each word in a list of strings."
      ],
      "metadata": {
        "id": "qpItEr2C-ImV"
      }
    },
    {
      "cell_type": "code",
      "source": [
        "words = [\"apple\", \"banana\", \"orange\"]\n",
        "word_lengths = list(map(len, words))\n",
        "print(word_lengths)"
      ],
      "metadata": {
        "colab": {
          "base_uri": "https://localhost:8080/"
        },
        "id": "Da3R5D0g-Id_",
        "outputId": "8ac1aff5-2864-4f90-db8d-7b112d30eff6"
      },
      "execution_count": null,
      "outputs": [
        {
          "output_type": "stream",
          "name": "stdout",
          "text": [
            "[5, 6, 6]\n"
          ]
        }
      ]
    },
    {
      "cell_type": "markdown",
      "source": [
        "##How can you use the `map()` function to apply a custom function to elements of multiple lists simultaneously in Python?\n"
      ],
      "metadata": {
        "id": "cC1ELk_z-IW8"
      }
    },
    {
      "cell_type": "code",
      "source": [
        "list1 = [1, 2, 3]\n",
        "list2 = [4, 5, 6]\n",
        "\n",
        "def add_lists(x, y):\n",
        "    return x + y\n",
        "\n",
        "result = list(map(add_lists, list1, list2))\n",
        "print(result)"
      ],
      "metadata": {
        "colab": {
          "base_uri": "https://localhost:8080/"
        },
        "id": "5Sbf9piP-IBz",
        "outputId": "daf229cc-8f12-47d2-aa17-36029a58230a"
      },
      "execution_count": null,
      "outputs": [
        {
          "output_type": "stream",
          "name": "stdout",
          "text": [
            "[5, 7, 9]\n"
          ]
        }
      ]
    },
    {
      "cell_type": "markdown",
      "source": [
        "##Create a Python program that uses `map()` to convert a list of temperatures from Celsius to Fahrenheit.\n"
      ],
      "metadata": {
        "id": "qc4CzdUP9-E6"
      }
    },
    {
      "cell_type": "code",
      "source": [
        "celsius_temps = [0, 10, 20, 30, 40]\n",
        "\n",
        "def celsius_to_fahrenheit(celsius):\n",
        "    return (celsius * 9/5) + 32\n",
        "\n",
        "fahrenheit_temps = list(map(celsius_to_fahrenheit, celsius_temps))\n",
        "print(fahrenheit_temps)"
      ],
      "metadata": {
        "colab": {
          "base_uri": "https://localhost:8080/"
        },
        "id": "YxptX1kT999V",
        "outputId": "7bf226e5-c374-4e50-b8bb-c8fdbfa07b2c"
      },
      "execution_count": null,
      "outputs": [
        {
          "output_type": "stream",
          "name": "stdout",
          "text": [
            "[32.0, 50.0, 68.0, 86.0, 104.0]\n"
          ]
        }
      ]
    },
    {
      "cell_type": "markdown",
      "source": [
        "##Write a Python program that uses the `map()` function to round each element of a list of floating-point numbers to the nearest integer.\n"
      ],
      "metadata": {
        "id": "6iJbNBxd991r"
      }
    },
    {
      "cell_type": "code",
      "source": [
        "float_numbers = [3.14, 2.5, 6.78, 9.0]\n",
        "rounded_integers = list(map(round, float_numbers))\n",
        "print(rounded_integers)"
      ],
      "metadata": {
        "colab": {
          "base_uri": "https://localhost:8080/"
        },
        "id": "fKDoy6il99tv",
        "outputId": "e670c362-7cb4-4b7b-ab78-07a377bdfb39"
      },
      "execution_count": null,
      "outputs": [
        {
          "output_type": "stream",
          "name": "stdout",
          "text": [
            "[3, 2, 7, 9]\n"
          ]
        }
      ]
    },
    {
      "cell_type": "markdown",
      "source": [
        "# Reduce ()"
      ],
      "metadata": {
        "id": "CypijV_NC0Sb"
      }
    },
    {
      "cell_type": "markdown",
      "source": [
        "##What is the `reduce()` function in Python, and what module should you import to use it? Provide an example of its basic usage.\n"
      ],
      "metadata": {
        "id": "Slfl34Io99mZ"
      }
    },
    {
      "cell_type": "code",
      "source": [
        "from functools import reduce\n",
        "\n",
        "# Example of using reduce() to find the sum of a list of numbers\n",
        "numbers = [1, 2, 3, 4, 5]\n",
        "sum_result = reduce(lambda x, y: x + y, numbers)\n",
        "print(sum_result)  # Output: 15"
      ],
      "metadata": {
        "colab": {
          "base_uri": "https://localhost:8080/"
        },
        "id": "uPoeqxqX99f9",
        "outputId": "5c70d0ae-952d-4848-9d73-64d5b723b4f9"
      },
      "execution_count": null,
      "outputs": [
        {
          "output_type": "stream",
          "name": "stdout",
          "text": [
            "15\n"
          ]
        }
      ]
    },
    {
      "cell_type": "markdown",
      "source": [
        "##Write a Python program that uses the `reduce()` function to find the product of all elements in a list.\n"
      ],
      "metadata": {
        "id": "uCzW09X099ZV"
      }
    },
    {
      "cell_type": "code",
      "source": [
        "from functools import reduce\n",
        "\n",
        "numbers = [2, 3, 4, 5]\n",
        "product = reduce(lambda x, y: x * y, numbers)\n",
        "print(product)"
      ],
      "metadata": {
        "colab": {
          "base_uri": "https://localhost:8080/"
        },
        "id": "Mskz42ai99SU",
        "outputId": "331dfbdc-bc7a-4b7b-963a-28f80ab1cd8f"
      },
      "execution_count": null,
      "outputs": [
        {
          "output_type": "stream",
          "name": "stdout",
          "text": [
            "120\n"
          ]
        }
      ]
    },
    {
      "cell_type": "markdown",
      "source": [
        "##Create a Python program that uses `reduce()` to find the maximum element in a list of numbers.\n"
      ],
      "metadata": {
        "id": "FAH_a6ru99II"
      }
    },
    {
      "cell_type": "code",
      "source": [
        "from functools import reduce\n",
        "\n",
        "numbers = [15, 7, 22, 18, 10]\n",
        "max_element = reduce(lambda x, y: x if x > y else y, numbers)\n",
        "print(max_element)"
      ],
      "metadata": {
        "colab": {
          "base_uri": "https://localhost:8080/"
        },
        "id": "xepXE3Sz99BF",
        "outputId": "1c06dcfe-8248-4c29-891a-c55a49f3620c"
      },
      "execution_count": null,
      "outputs": [
        {
          "output_type": "stream",
          "name": "stdout",
          "text": [
            "22\n"
          ]
        }
      ]
    },
    {
      "cell_type": "markdown",
      "source": [
        "##How can you use the `reduce()` function to concatenate a list of strings into a single string?\n"
      ],
      "metadata": {
        "id": "yd--Vew2984F"
      }
    },
    {
      "cell_type": "code",
      "source": [
        "from functools import reduce\n",
        "\n",
        "strings = [\"Hello\", \" \", \"World\", \"!\"]\n",
        "concatenated_string = reduce(lambda x, y: x + y, strings)\n",
        "print(concatenated_string)"
      ],
      "metadata": {
        "colab": {
          "base_uri": "https://localhost:8080/"
        },
        "id": "4K4U_6ee98wr",
        "outputId": "242af926-43be-485d-a20a-a1e3092327da"
      },
      "execution_count": null,
      "outputs": [
        {
          "output_type": "stream",
          "name": "stdout",
          "text": [
            "Hello World!\n"
          ]
        }
      ]
    },
    {
      "cell_type": "markdown",
      "source": [
        "##Write a Python program that calculates the factorial of a number using the `reduce()` function.\n"
      ],
      "metadata": {
        "id": "wU50jW4F98pW"
      }
    },
    {
      "cell_type": "code",
      "source": [
        "from functools import reduce\n",
        "\n",
        "def factorial(n):\n",
        "    return reduce(lambda x, y: x * y, range(1, n + 1))\n",
        "\n",
        "num = 5\n",
        "result = factorial(num)\n",
        "print(result)"
      ],
      "metadata": {
        "colab": {
          "base_uri": "https://localhost:8080/"
        },
        "id": "KaLgFEf-98iW",
        "outputId": "2abb982e-d302-453d-e058-77cc42ac0b2b"
      },
      "execution_count": null,
      "outputs": [
        {
          "output_type": "stream",
          "name": "stdout",
          "text": [
            "120\n"
          ]
        }
      ]
    },
    {
      "cell_type": "markdown",
      "source": [
        "##Create a Python program that uses `reduce()` to find the GCD (Greatest Common Divisor) of a list of numbers.\n"
      ],
      "metadata": {
        "id": "hKzKITgw98aS"
      }
    },
    {
      "cell_type": "code",
      "source": [
        "from functools import reduce\n",
        "from math import gcd\n",
        "\n",
        "numbers = [24, 36, 48, 60]\n",
        "result_gcd = reduce(gcd, numbers)\n",
        "print(result_gcd)"
      ],
      "metadata": {
        "colab": {
          "base_uri": "https://localhost:8080/"
        },
        "id": "FeXegc5J98Th",
        "outputId": "40db5370-46fc-43d9-f87e-fb9accd4f85d"
      },
      "execution_count": null,
      "outputs": [
        {
          "output_type": "stream",
          "name": "stdout",
          "text": [
            "12\n"
          ]
        }
      ]
    },
    {
      "cell_type": "markdown",
      "source": [
        "##Write a Python program that uses the `reduce()` function to find the sum of the digits of a given number.\n"
      ],
      "metadata": {
        "id": "YWnLn0OI98M7"
      }
    },
    {
      "cell_type": "code",
      "source": [
        "from functools import reduce\n",
        "\n",
        "def sum_of_digits(n):\n",
        "    return reduce(lambda x, y: int(x) + int(y), str(n))\n",
        "\n",
        "number = 12345\n",
        "result_sum = sum_of_digits(number)\n",
        "print(result_sum)"
      ],
      "metadata": {
        "colab": {
          "base_uri": "https://localhost:8080/"
        },
        "id": "EiEnuI-U98GF",
        "outputId": "15ddde4a-4913-4ed8-dc19-e3d1d5298242"
      },
      "execution_count": null,
      "outputs": [
        {
          "output_type": "stream",
          "name": "stdout",
          "text": [
            "15\n"
          ]
        }
      ]
    },
    {
      "cell_type": "markdown",
      "source": [
        "#Filter :-\n",
        "\n"
      ],
      "metadata": {
        "id": "MXoJTJI1DzIR"
      }
    },
    {
      "cell_type": "markdown",
      "source": [
        "##Explain the purpose of the `filter()` function in Python and provide an example of how it can be used to filter elements from an iterable.\n"
      ],
      "metadata": {
        "id": "03WgZ2NXDycm"
      }
    },
    {
      "cell_type": "markdown",
      "source": [
        "Purpose of the filter() function in Python:\n",
        "\n",
        "The filter() function is used to construct an iterator from elements of an iterable for which a function returns true. It filters out elements based on the given function, providing a concise and expressive way to create a filtered subset of data."
      ],
      "metadata": {
        "id": "R8Lo9AKmEKWn"
      }
    },
    {
      "cell_type": "code",
      "source": [
        "# Example of using filter() to select even numbers from a list\n",
        "numbers = [1, 2, 3, 4, 5, 6, 7, 8, 9, 10]\n",
        "filtered_numbers = filter(lambda x: x % 2 == 0, numbers)\n",
        "print(list(filtered_numbers))  # Output: [2, 4, 6, 8, 10]"
      ],
      "metadata": {
        "colab": {
          "base_uri": "https://localhost:8080/"
        },
        "id": "Qu0HdXDYENEH",
        "outputId": "cd6bce56-fde8-4c31-912c-2a27bffb29e3"
      },
      "execution_count": null,
      "outputs": [
        {
          "output_type": "stream",
          "name": "stdout",
          "text": [
            "[2, 4, 6, 8, 10]\n"
          ]
        }
      ]
    },
    {
      "cell_type": "markdown",
      "source": [
        "##Write a Python program that uses the `filter()` function to select even numbers from a list of integers.\n"
      ],
      "metadata": {
        "id": "16RQtBrZEJ_Q"
      }
    },
    {
      "cell_type": "code",
      "source": [
        "numbers = [1, 2, 3, 4, 5, 6, 7, 8, 9, 10]\n",
        "even_numbers = list(filter(lambda x: x % 2 == 0, numbers))\n",
        "print(even_numbers)"
      ],
      "metadata": {
        "colab": {
          "base_uri": "https://localhost:8080/"
        },
        "id": "2MfrEtuyDyVt",
        "outputId": "01c76c12-b761-4175-c1f5-0de9613cf8aa"
      },
      "execution_count": null,
      "outputs": [
        {
          "output_type": "stream",
          "name": "stdout",
          "text": [
            "[2, 4, 6, 8, 10]\n"
          ]
        }
      ]
    },
    {
      "cell_type": "markdown",
      "source": [
        "##Create a Python program that uses the `filter()` function to select names that start with a specific letter from a list of strings"
      ],
      "metadata": {
        "id": "pHa9QUzvDyPE"
      }
    },
    {
      "cell_type": "code",
      "source": [
        "names = [\"Alice\", \"Bob\", \"Charlie\", \"David\", \"Emma\"]\n",
        "starts_with_letter = list(filter(lambda name: name.startswith(\"D\"), names))\n",
        "print(starts_with_letter)"
      ],
      "metadata": {
        "colab": {
          "base_uri": "https://localhost:8080/"
        },
        "id": "N5xjGgveDyI0",
        "outputId": "748e8cd1-e709-4d8e-aafd-d68668296ef5"
      },
      "execution_count": null,
      "outputs": [
        {
          "output_type": "stream",
          "name": "stdout",
          "text": [
            "['David']\n"
          ]
        }
      ]
    },
    {
      "cell_type": "markdown",
      "source": [
        "##Write a Python program that uses the `filter()` function to select prime numbers from a list of integers.\n"
      ],
      "metadata": {
        "id": "IVvp5DnoDyBU"
      }
    },
    {
      "cell_type": "code",
      "source": [
        "def is_prime(num):\n",
        "    if num < 2:\n",
        "        return False\n",
        "    for i in range(2, int(num**0.5) + 1):\n",
        "        if num % i == 0:\n",
        "            return False\n",
        "    return True\n",
        "\n",
        "numbers = [7, 14, 19, 22, 23, 29, 31]\n",
        "prime_numbers = list(filter(is_prime, numbers))\n",
        "print(prime_numbers)"
      ],
      "metadata": {
        "colab": {
          "base_uri": "https://localhost:8080/"
        },
        "id": "mU5-b5kgDx7V",
        "outputId": "bbe2f5ab-3be2-4b77-92e8-cc0a564ce927"
      },
      "execution_count": null,
      "outputs": [
        {
          "output_type": "stream",
          "name": "stdout",
          "text": [
            "[7, 19, 23, 29, 31]\n"
          ]
        }
      ]
    },
    {
      "cell_type": "markdown",
      "source": [
        "##How can you use the `filter()` function to remove None values from a list in Python?\n"
      ],
      "metadata": {
        "id": "uySYgPNPDx0N"
      }
    },
    {
      "cell_type": "code",
      "source": [
        "values = [10, None, 30, None, 50, 60, None]\n",
        "non_none_values = list(filter(lambda x: x is not None, values))\n",
        "print(non_none_values)"
      ],
      "metadata": {
        "colab": {
          "base_uri": "https://localhost:8080/"
        },
        "id": "iAssaei9Dxt_",
        "outputId": "9798a605-0f39-407e-cbc8-bfc37b60587f"
      },
      "execution_count": null,
      "outputs": [
        {
          "output_type": "stream",
          "name": "stdout",
          "text": [
            "[10, 30, 50, 60]\n"
          ]
        }
      ]
    },
    {
      "cell_type": "markdown",
      "source": [
        "##Create a Python program that uses `filter()` to select words longer than a certain length from a list of strings.\n"
      ],
      "metadata": {
        "id": "e-geclbDDxmc"
      }
    },
    {
      "cell_type": "code",
      "source": [
        "words = [\"apple\", \"banana\", \"grape\", \"kiwi\", \"orange\"]\n",
        "min_length = 5\n",
        "long_words = list(filter(lambda word: len(word) > min_length, words))\n",
        "print(long_words)\n"
      ],
      "metadata": {
        "colab": {
          "base_uri": "https://localhost:8080/"
        },
        "id": "zh7I-_7qDxgJ",
        "outputId": "8c23c7e1-0303-42e6-d0f7-44cfa996b124"
      },
      "execution_count": null,
      "outputs": [
        {
          "output_type": "stream",
          "name": "stdout",
          "text": [
            "['banana', 'orange']\n"
          ]
        }
      ]
    },
    {
      "cell_type": "markdown",
      "source": [
        "##Write a Python program that uses the `filter()` function to select elements greater than a specified threshold from a list of values.\n"
      ],
      "metadata": {
        "id": "gMxS1Uu1DxUk"
      }
    },
    {
      "cell_type": "code",
      "source": [
        "values = [15, 25, 35, 45, 55, 65]\n",
        "threshold = 40\n",
        "selected_values = list(filter(lambda x: x > threshold, values))\n",
        "print(selected_values)"
      ],
      "metadata": {
        "colab": {
          "base_uri": "https://localhost:8080/"
        },
        "id": "8RjcoeEkDxOB",
        "outputId": "0f53bc4d-d844-4a41-9a9c-0a7013210019"
      },
      "execution_count": null,
      "outputs": [
        {
          "output_type": "stream",
          "name": "stdout",
          "text": [
            "[45, 55, 65]\n"
          ]
        }
      ]
    },
    {
      "cell_type": "markdown",
      "source": [
        "#Recursion:-\n"
      ],
      "metadata": {
        "id": "FweLWNy6GPnQ"
      }
    },
    {
      "cell_type": "markdown",
      "source": [
        "##Explain the concept of recursion in Python. How does it differ from iteration?\n"
      ],
      "metadata": {
        "id": "nSMJz9bGDxHc"
      }
    },
    {
      "cell_type": "markdown",
      "source": [
        "Concept of recursion in Python:\n",
        "\n",
        "Recursion is a programming concept where a function calls itself in order to solve a problem. In a recursive solution, the problem is divided into smaller subproblems, and the function continues to call itself on these subproblems until a base case is reached. The base case provides the termination condition, preventing infinite recursion.\n",
        "\n",
        "Difference from iteration:\n",
        "\n",
        "Iteration involves using loops (e.g., for loop, while loop) to repeatedly execute a set of statements. Recursion, on the other hand, involves a function calling itself to solve smaller instances of the same problem."
      ],
      "metadata": {
        "id": "FK4EvXPoGVfV"
      }
    },
    {
      "cell_type": "markdown",
      "source": [
        "##Write a Python program to calculate the factorial of a number using recursion.\n"
      ],
      "metadata": {
        "id": "cdyh91-9GX5Q"
      }
    },
    {
      "cell_type": "code",
      "source": [
        "def factorial(n):\n",
        "    if n == 0 or n == 1:\n",
        "        return 1\n",
        "    else:\n",
        "        return n * factorial(n - 1)\n",
        "\n",
        "result = factorial(5)\n",
        "print(result)  # Output: 120\n"
      ],
      "metadata": {
        "colab": {
          "base_uri": "https://localhost:8080/"
        },
        "id": "XT4ejVOPDw_8",
        "outputId": "dcef0c09-fb95-4f34-c6c5-49cb62ac493e"
      },
      "execution_count": null,
      "outputs": [
        {
          "output_type": "stream",
          "name": "stdout",
          "text": [
            "120\n"
          ]
        }
      ]
    },
    {
      "cell_type": "markdown",
      "source": [
        "##Create a recursive Python function to find the nth Fibonacci number.\n"
      ],
      "metadata": {
        "id": "19Na1kL_Dwkk"
      }
    },
    {
      "cell_type": "code",
      "source": [
        "def fibonacci(n):\n",
        "    if n <= 1:\n",
        "        return n\n",
        "    else:\n",
        "        return fibonacci(n - 1) + fibonacci(n - 2)\n",
        "\n",
        "result = fibonacci(6)\n",
        "print(result)  # Output: 8"
      ],
      "metadata": {
        "colab": {
          "base_uri": "https://localhost:8080/"
        },
        "id": "Jp_y0gAUDwDG",
        "outputId": "6541ffc6-3b71-4209-d3ab-b94053636dc3"
      },
      "execution_count": null,
      "outputs": [
        {
          "output_type": "stream",
          "name": "stdout",
          "text": [
            "8\n"
          ]
        }
      ]
    },
    {
      "cell_type": "markdown",
      "source": [
        "##Write a recursive Python function to calculate the sum of all elements in a list.\n"
      ],
      "metadata": {
        "id": "YZyraMvd97_8"
      }
    },
    {
      "cell_type": "code",
      "source": [
        "def sum_list(lst):\n",
        "    if not lst:\n",
        "        return 0\n",
        "    else:\n",
        "        return lst[0] + sum_list(lst[1:])\n",
        "\n",
        "numbers = [1, 2, 3, 4, 5]\n",
        "result = sum_list(numbers)\n",
        "print(result)  # Output: 15"
      ],
      "metadata": {
        "colab": {
          "base_uri": "https://localhost:8080/"
        },
        "id": "xdB61cbM976T",
        "outputId": "e013268a-d0d8-4032-a04a-56b23d0c117b"
      },
      "execution_count": null,
      "outputs": [
        {
          "output_type": "stream",
          "name": "stdout",
          "text": [
            "15\n"
          ]
        }
      ]
    },
    {
      "cell_type": "markdown",
      "source": [
        "##How can you prevent a recursive function from running indefinitely, causing a stack overflow error?\n"
      ],
      "metadata": {
        "id": "A3SXZDLW97ty"
      }
    },
    {
      "cell_type": "markdown",
      "source": [
        "To prevent a recursive function from running indefinitely, ensure that there is a base case that is eventually reached. The base case should provide a clear termination condition, stopping the recursion. Without a base case, the function will continue calling itself indefinitely, leading to a stack overflow error."
      ],
      "metadata": {
        "id": "K_etybl_Gtuq"
      }
    },
    {
      "cell_type": "markdown",
      "source": [
        "##Create a recursive Python function to find the greatest common divisor (GCD) of two numbers using the Euclidean algorithm.\n"
      ],
      "metadata": {
        "id": "E3c8WSpLGukh"
      }
    },
    {
      "cell_type": "code",
      "source": [
        "def gcd(a, b):\n",
        "    if b == 0:\n",
        "        return a\n",
        "    else:\n",
        "        return gcd(b, a % b)\n",
        "\n",
        "result = gcd(48, 18)\n",
        "print(result)  # Output: 6\n"
      ],
      "metadata": {
        "colab": {
          "base_uri": "https://localhost:8080/"
        },
        "id": "nejxINaD9sLE",
        "outputId": "a20ac2cf-e408-4d45-a27f-6d3298fe771f"
      },
      "execution_count": null,
      "outputs": [
        {
          "output_type": "stream",
          "name": "stdout",
          "text": [
            "6\n"
          ]
        }
      ]
    },
    {
      "cell_type": "markdown",
      "source": [
        "##Write a recursive Python function to reverse a string.\n"
      ],
      "metadata": {
        "id": "Ou5IhJ8EG1-T"
      }
    },
    {
      "cell_type": "code",
      "source": [
        "def reverse_string(s):\n",
        "    if len(s) == 0:\n",
        "        return s\n",
        "    else:\n",
        "        return reverse_string(s[1:]) + s[0]\n",
        "\n",
        "result = reverse_string(\"hello\")\n",
        "print(result)  # Output: \"olleh\"\n"
      ],
      "metadata": {
        "colab": {
          "base_uri": "https://localhost:8080/"
        },
        "id": "JPpRyamTG14C",
        "outputId": "ae0d7347-da10-4a83-a8b3-e4b3d85a7eb0"
      },
      "execution_count": null,
      "outputs": [
        {
          "output_type": "stream",
          "name": "stdout",
          "text": [
            "olleh\n"
          ]
        }
      ]
    },
    {
      "cell_type": "markdown",
      "source": [
        "##Create a recursive Python function to calculate the power of a number (x^n).\n"
      ],
      "metadata": {
        "id": "N8ySmjPpG1yK"
      }
    },
    {
      "cell_type": "code",
      "source": [
        "def power(x, n):\n",
        "    if n == 0:\n",
        "        return 1\n",
        "    else:\n",
        "        return x * power(x, n - 1)\n",
        "\n",
        "result = power(2, 3)\n",
        "print(result)  # Output: 8\n"
      ],
      "metadata": {
        "colab": {
          "base_uri": "https://localhost:8080/"
        },
        "id": "fQeV_TdcG1sw",
        "outputId": "1a7460b7-891c-4e7e-dd02-16f5e91e05be"
      },
      "execution_count": null,
      "outputs": [
        {
          "output_type": "stream",
          "name": "stdout",
          "text": [
            "8\n"
          ]
        }
      ]
    },
    {
      "cell_type": "markdown",
      "source": [
        "##Write a recursive Python function to find all permutations of a given string.\n"
      ],
      "metadata": {
        "id": "9ZDG8Sp-G1m9"
      }
    },
    {
      "cell_type": "code",
      "source": [
        "def permutations(s):\n",
        "    if len(s) == 1:\n",
        "        return [s]\n",
        "    else:\n",
        "        perms = []\n",
        "        for i in range(len(s)):\n",
        "            remaining_chars = s[:i] + s[i + 1:]\n",
        "            for p in permutations(remaining_chars):\n",
        "                perms.append(s[i] + p)\n",
        "        return perms\n",
        "\n",
        "result = permutations(\"abc\")\n",
        "print(result)  # Output: ['abc', 'acb', 'bac', 'bca', 'cab', 'cba']"
      ],
      "metadata": {
        "colab": {
          "base_uri": "https://localhost:8080/"
        },
        "id": "sG8UcKd3G1he",
        "outputId": "82ee2e82-adf7-445e-df2e-dfc00440841e"
      },
      "execution_count": null,
      "outputs": [
        {
          "output_type": "stream",
          "name": "stdout",
          "text": [
            "['abc', 'acb', 'bac', 'bca', 'cab', 'cba']\n"
          ]
        }
      ]
    },
    {
      "cell_type": "markdown",
      "source": [
        "##Write a recursive Python function to check if a string is a palindrome.\n"
      ],
      "metadata": {
        "id": "ZXrGORjhG1Le"
      }
    },
    {
      "cell_type": "code",
      "source": [
        "def is_palindrome(s):\n",
        "    if len(s) <= 1:\n",
        "        return True\n",
        "    else:\n",
        "        return s[0] == s[-1] and is_palindrome(s[1:-1])\n",
        "\n",
        "result = is_palindrome(\"level\")\n",
        "print(result)  # Output: True"
      ],
      "metadata": {
        "colab": {
          "base_uri": "https://localhost:8080/"
        },
        "id": "Hhk_budXG1FZ",
        "outputId": "c5ec1a5f-e04e-447d-dcec-75755d9005de"
      },
      "execution_count": null,
      "outputs": [
        {
          "output_type": "stream",
          "name": "stdout",
          "text": [
            "True\n"
          ]
        }
      ]
    },
    {
      "cell_type": "markdown",
      "source": [
        "##Create a recursive Python function to generate all possible combinations of a list of elements.\n"
      ],
      "metadata": {
        "id": "1izQt2SgG0_4"
      }
    },
    {
      "cell_type": "code",
      "source": [
        "def combinations(elements):\n",
        "    if not elements:\n",
        "        return [[]]\n",
        "    else:\n",
        "        current_element = elements[0]\n",
        "        rest_combinations = combinations(elements[1:])\n",
        "        return rest_combinations + [ [current_element] + combo for combo in rest_combinations]\n",
        "\n",
        "result = combinations([1, 2, 3])\n",
        "print(result)  # Output: [[], [3], [2], [2, 3], [1], [1, 3], [1, 2], [1, 2, 3]]"
      ],
      "metadata": {
        "colab": {
          "base_uri": "https://localhost:8080/"
        },
        "id": "GOO2CNkSG06L",
        "outputId": "fe3e0de8-7082-40e7-8b06-7012e8b6cc55"
      },
      "execution_count": null,
      "outputs": [
        {
          "output_type": "stream",
          "name": "stdout",
          "text": [
            "[[], [3], [2], [2, 3], [1], [1, 3], [1, 2], [1, 2, 3]]\n"
          ]
        }
      ]
    },
    {
      "cell_type": "markdown",
      "source": [
        "#Basics of Functions:\n"
      ],
      "metadata": {
        "id": "tm-MjpeRHKiG"
      }
    },
    {
      "cell_type": "markdown",
      "source": [
        "##What is a function in Python, and why is it used?\n"
      ],
      "metadata": {
        "id": "vI9T5TmOG00M"
      }
    },
    {
      "cell_type": "markdown",
      "source": [
        "A function in Python is a block of organized, reusable code that performs a specific task. It is used to modularize code, promote code reusability, and improve maintainability. Functions allow you to break down a program into smaller, more manageable pieces, making the code easier to understand and debug."
      ],
      "metadata": {
        "id": "B4v3VkSgfZ44"
      }
    },
    {
      "cell_type": "markdown",
      "source": [],
      "metadata": {
        "id": "dxVnx2aBfbEN"
      }
    },
    {
      "cell_type": "code",
      "source": [],
      "metadata": {
        "id": "qMk46m_Gfax7"
      },
      "execution_count": null,
      "outputs": []
    },
    {
      "cell_type": "markdown",
      "source": [
        "##How do you define a function in Python? Provide an example.\n"
      ],
      "metadata": {
        "id": "5Spk9P_Cfbk_"
      }
    },
    {
      "cell_type": "markdown",
      "source": [
        "A function in Python is defined using the def keyword, followed by the function name, parameters in parentheses, and a colon. The function body is indented."
      ],
      "metadata": {
        "id": "ziTLf2OVfgl9"
      }
    },
    {
      "cell_type": "code",
      "source": [
        "def greet(name):\n",
        "    print(\"Hello, \" + name + \"!\")\n",
        "\n",
        "# Example function call\n",
        "greet(\"Geet\")"
      ],
      "metadata": {
        "id": "TO4YPrfwG0uc",
        "colab": {
          "base_uri": "https://localhost:8080/"
        },
        "outputId": "61beda7c-02c2-4983-b843-a70b3fec5844"
      },
      "execution_count": 3,
      "outputs": [
        {
          "output_type": "stream",
          "name": "stdout",
          "text": [
            "Hello, Geet!\n"
          ]
        }
      ]
    },
    {
      "cell_type": "markdown",
      "source": [
        "##Explain the difference between a function definition and a function call.\n"
      ],
      "metadata": {
        "id": "M_ffZZt4G0om"
      }
    },
    {
      "cell_type": "markdown",
      "source": [
        "A function definition specifies what the function does, its name, and its parameters. It is the blueprint for the function. A function call is the actual execution of the function, using its name and providing values for its parameters."
      ],
      "metadata": {
        "id": "jOS8BwfWfw3W"
      }
    },
    {
      "cell_type": "markdown",
      "source": [
        "##Write a Python program that defines a function to calculate the sum of two numbers and then calls the function.\n"
      ],
      "metadata": {
        "id": "1nr9_RFDfyFe"
      }
    },
    {
      "cell_type": "code",
      "source": [
        "def greet(name):\n",
        "    print(\"Hello, \" + name + \"!\")\n",
        "\n",
        "# Example function call\n",
        "greet(\"Alice\")"
      ],
      "metadata": {
        "id": "AFlBGeHSG0ih",
        "colab": {
          "base_uri": "https://localhost:8080/"
        },
        "outputId": "4f76620a-6e92-4816-af89-4e33676c8e96"
      },
      "execution_count": 2,
      "outputs": [
        {
          "output_type": "stream",
          "name": "stdout",
          "text": [
            "Hello, Alice!\n"
          ]
        }
      ]
    },
    {
      "cell_type": "markdown",
      "source": [
        "##What is a function signature, and what information does it typically include?\n"
      ],
      "metadata": {
        "id": "AOH_wEWdG0cg"
      }
    },
    {
      "cell_type": "markdown",
      "source": [
        "A function signature includes the function name, parameters (with their types, if specified), and the return type. For example, in def add(x: int, y: int) -> int, the function name is add, parameters are x and y of type int, and the return type is int."
      ],
      "metadata": {
        "id": "pN6WYhNugEgO"
      }
    },
    {
      "cell_type": "markdown",
      "source": [
        "##Create a Python function that takes two arguments and returns their product."
      ],
      "metadata": {
        "id": "wCLsM8m7gFgU"
      }
    },
    {
      "cell_type": "code",
      "source": [
        "def add_numbers(x, y):\n",
        "    return x + y\n",
        "\n",
        "result = add_numbers(5, 7)\n",
        "print(result)"
      ],
      "metadata": {
        "id": "Z3nRzMniG0WV",
        "colab": {
          "base_uri": "https://localhost:8080/"
        },
        "outputId": "df355c1e-9211-426c-c78e-48fc500f8548"
      },
      "execution_count": 5,
      "outputs": [
        {
          "output_type": "stream",
          "name": "stdout",
          "text": [
            "12\n"
          ]
        }
      ]
    },
    {
      "cell_type": "markdown",
      "source": [
        "#Function Parameters and Arguments:\n"
      ],
      "metadata": {
        "id": "hC_F98jOgIB3"
      }
    },
    {
      "cell_type": "markdown",
      "source": [
        "##Explain the concepts of formal parameters and actual arguments in Python functions.\n"
      ],
      "metadata": {
        "id": "6nu2BSrfG0QN"
      }
    },
    {
      "cell_type": "markdown",
      "source": [
        "Concepts of formal parameters and actual arguments in Python functions:\n",
        "\n",
        "Formal parameters are the parameters defined in the function signature. Actual arguments are the values passed to the function during a function call. Formal parameters act as placeholders for the actual values."
      ],
      "metadata": {
        "id": "y1WHg5cRgNwS"
      }
    },
    {
      "cell_type": "markdown",
      "source": [
        "##Write a Python program that defines a function with default argument values.\n"
      ],
      "metadata": {
        "id": "Vzzn1PzvgQaG"
      }
    },
    {
      "cell_type": "code",
      "source": [
        "def greet(name, greeting=\"Hello\"):\n",
        "    print(greeting + \", \" + name + \"!\")\n",
        "\n",
        "greet(\"Geet\")\n",
        "greet(\"Raj\", greeting=\"Hi\")"
      ],
      "metadata": {
        "id": "_0Tw1u1IG0KV",
        "colab": {
          "base_uri": "https://localhost:8080/"
        },
        "outputId": "3105d335-c12c-4134-fa2b-a9af78d08f4c"
      },
      "execution_count": 7,
      "outputs": [
        {
          "output_type": "stream",
          "name": "stdout",
          "text": [
            "Hello, Geet!\n",
            "Hi, Raj!\n"
          ]
        }
      ]
    },
    {
      "cell_type": "markdown",
      "source": [
        "##How do you use keyword arguments in Python function calls? Provide an example.\n"
      ],
      "metadata": {
        "id": "ugoSRMPFG0C9"
      }
    },
    {
      "cell_type": "markdown",
      "source": [
        "Keyword arguments allow you to pass values to a function using the parameter names. This can make function calls more readable and allow you to skip default parameters."
      ],
      "metadata": {
        "id": "p35EKoCtgenn"
      }
    },
    {
      "cell_type": "code",
      "source": [
        "def power(base, exponent=2):\n",
        "    return base ** exponent\n",
        "\n",
        "result = power(base=3, exponent=4)\n",
        "print(result)  # Output: 81"
      ],
      "metadata": {
        "id": "AO6Fc9vnGy0W",
        "colab": {
          "base_uri": "https://localhost:8080/"
        },
        "outputId": "bcbb22c1-d522-40df-eca2-8f72f423bf20"
      },
      "execution_count": 8,
      "outputs": [
        {
          "output_type": "stream",
          "name": "stdout",
          "text": [
            "81\n"
          ]
        }
      ]
    },
    {
      "cell_type": "markdown",
      "source": [
        "##Create a Python function that accepts a variable number of arguments and calculates their sum.\n"
      ],
      "metadata": {
        "id": "EqdM6A-Pgiao"
      }
    },
    {
      "cell_type": "code",
      "source": [
        "def sum_all(*args):\n",
        "    return sum(args)\n",
        "\n",
        "result = sum_all(1, 2, 3, 4, 5)\n",
        "print(result)"
      ],
      "metadata": {
        "colab": {
          "base_uri": "https://localhost:8080/"
        },
        "id": "1eucF94pgiL4",
        "outputId": "f8093cf3-4328-4e55-86ba-b285255b42b3"
      },
      "execution_count": 10,
      "outputs": [
        {
          "output_type": "stream",
          "name": "stdout",
          "text": [
            "15\n"
          ]
        }
      ]
    },
    {
      "cell_type": "markdown",
      "source": [
        "##What is the purpose of the `*args` and `**kwargs` syntax in function parameter lists?\n",
        "\n"
      ],
      "metadata": {
        "id": "d_GrCk6FgiBB"
      }
    },
    {
      "cell_type": "markdown",
      "source": [
        "*args allows a function to accept a variable number of positional arguments, while **kwargs allows it to accept a variable number of keyword arguments. They enable flexibility in function calls, allowing users to pass different numbers of arguments."
      ],
      "metadata": {
        "id": "0_hdcJ0DgrJT"
      }
    },
    {
      "cell_type": "markdown",
      "source": [
        "#Return Values and Scoping:\n"
      ],
      "metadata": {
        "id": "mVNuUqQegssO"
      }
    },
    {
      "cell_type": "markdown",
      "source": [
        "##Describe the role of the `return` statement in Python functions and provide examples.\n"
      ],
      "metadata": {
        "id": "Feidck4ngrEG"
      }
    },
    {
      "cell_type": "markdown",
      "source": [
        "Role of the return statement in Python functions and examples:\n",
        "\n",
        "The return statement is used to exit a function and return a value to the caller. It can also be used to indicate the end of a function without returning a value (using return alone)."
      ],
      "metadata": {
        "id": "43vHZO-_g6dz"
      }
    },
    {
      "cell_type": "code",
      "source": [
        "def add_numbers(x, y):\n",
        "    return x + y\n",
        "\n",
        "result = add_numbers(3, 4)\n",
        "print(result)"
      ],
      "metadata": {
        "colab": {
          "base_uri": "https://localhost:8080/"
        },
        "id": "i72nG9uuhAhB",
        "outputId": "f8191bfd-e81f-45a5-9cc4-23c2d6a85d1c"
      },
      "execution_count": 11,
      "outputs": [
        {
          "output_type": "stream",
          "name": "stdout",
          "text": [
            "7\n"
          ]
        }
      ]
    },
    {
      "cell_type": "markdown",
      "source": [
        "##Explain the concept of variable scope in Python, including local and global variables.\n"
      ],
      "metadata": {
        "id": "5k9fQI4Dg7Jx"
      }
    },
    {
      "cell_type": "markdown",
      "source": [
        "Variable scope refers to the region where a variable is accessible. In Python, variables can be local (inside a function) or global (outside any function)."
      ],
      "metadata": {
        "id": "rwtquQ4khELf"
      }
    },
    {
      "cell_type": "markdown",
      "source": [
        "##Write a Python program that demonstrates the use of global variables within functions.\n"
      ],
      "metadata": {
        "id": "dax3NK7UhE25"
      }
    },
    {
      "cell_type": "code",
      "source": [
        "global_variable = 10\n",
        "\n",
        "def multiply_by_global(x):\n",
        "    return x * global_variable\n",
        "\n",
        "result = multiply_by_global(5)\n",
        "print(result)  # Output: 50\n"
      ],
      "metadata": {
        "colab": {
          "base_uri": "https://localhost:8080/"
        },
        "id": "rE3lvJwtgh2R",
        "outputId": "c2d9b72f-0bff-4b5e-e14c-b5510740572c"
      },
      "execution_count": 12,
      "outputs": [
        {
          "output_type": "stream",
          "name": "stdout",
          "text": [
            "50\n"
          ]
        }
      ]
    },
    {
      "cell_type": "markdown",
      "source": [
        "##Create a Python function that calculates the factorial of a number and returns it.\n"
      ],
      "metadata": {
        "id": "_HgYNnNNghtU"
      }
    },
    {
      "cell_type": "code",
      "source": [
        "def factorial(n):\n",
        "    if n == 0 or n == 1:\n",
        "        return 1\n",
        "    else:\n",
        "        return n * factorial(n - 1)\n",
        "\n",
        "result = factorial(5)\n",
        "print(result)"
      ],
      "metadata": {
        "colab": {
          "base_uri": "https://localhost:8080/"
        },
        "id": "HDJwqp-4ghkF",
        "outputId": "b7d28310-14d4-40a9-fc6d-71f87d971aaf"
      },
      "execution_count": 14,
      "outputs": [
        {
          "output_type": "stream",
          "name": "stdout",
          "text": [
            "120\n"
          ]
        }
      ]
    },
    {
      "cell_type": "markdown",
      "source": [
        "##How can you access variables defined outside a function from within the function?\n"
      ],
      "metadata": {
        "id": "E37Teh-jgha9"
      }
    },
    {
      "cell_type": "markdown",
      "source": [
        "Global variables can be accessed directly within a function. However, if you want to modify a global variable from within a function, you need to use the global keyword."
      ],
      "metadata": {
        "id": "_QLa5-_7hSel"
      }
    },
    {
      "cell_type": "code",
      "source": [
        "global_variable = 10\n",
        "\n",
        "def modify_global():\n",
        "    global global_variable\n",
        "    global_variable = 20\n",
        "\n",
        "modify_global()\n",
        "print(global_variable)"
      ],
      "metadata": {
        "colab": {
          "base_uri": "https://localhost:8080/"
        },
        "id": "FJ5dcP2zghTX",
        "outputId": "8e5cadf0-dc21-4a80-df78-3bcfa3ce32dd"
      },
      "execution_count": 15,
      "outputs": [
        {
          "output_type": "stream",
          "name": "stdout",
          "text": [
            "20\n"
          ]
        }
      ]
    },
    {
      "cell_type": "markdown",
      "source": [
        "#Lambda Functions and Higher-Order Functions:"
      ],
      "metadata": {
        "id": "JR-BvPSCghKj"
      }
    },
    {
      "cell_type": "markdown",
      "source": [
        "##What are lambda functions in Python, and when are they typically used?"
      ],
      "metadata": {
        "id": "RnukIbSBhYOr"
      }
    },
    {
      "cell_type": "markdown",
      "source": [
        "Lambda functions in Python and when they are typically used:\n",
        "\n",
        "Lambda functions are anonymous functions defined using the lambda keyword. They are typically used for short-term operations and are often passed as arguments to higher-order functions.\n"
      ],
      "metadata": {
        "id": "t5xsju7whc9R"
      }
    },
    {
      "cell_type": "code",
      "source": [
        "square = lambda x: x**2\n",
        "print(square(3))"
      ],
      "metadata": {
        "colab": {
          "base_uri": "https://localhost:8080/"
        },
        "id": "KiYMUoxyghDt",
        "outputId": "919bb0de-ab6f-4dba-cb0c-6491e1852443"
      },
      "execution_count": 17,
      "outputs": [
        {
          "output_type": "stream",
          "name": "stdout",
          "text": [
            "9\n"
          ]
        }
      ]
    },
    {
      "cell_type": "markdown",
      "source": [
        "##Write a Python program that uses lambda functions to sort a list of tuples based on the second element."
      ],
      "metadata": {
        "id": "O_CZygWogg6Y"
      }
    },
    {
      "cell_type": "code",
      "source": [
        "my_list = [(1, 5), (3, 2), (2, 8)]\n",
        "sorted_list = sorted(my_list, key=lambda x: x[1])\n",
        "print(sorted_list)"
      ],
      "metadata": {
        "colab": {
          "base_uri": "https://localhost:8080/"
        },
        "id": "cGL0BbmhggyG",
        "outputId": "45922596-e5ec-4c1b-f79b-1b854d049c92"
      },
      "execution_count": 18,
      "outputs": [
        {
          "output_type": "stream",
          "name": "stdout",
          "text": [
            "[(3, 2), (1, 5), (2, 8)]\n"
          ]
        }
      ]
    },
    {
      "cell_type": "markdown",
      "source": [
        "##Explain the concept of higher-order functions in Python, and provide an example.\n"
      ],
      "metadata": {
        "id": "2w5SGXcEggqc"
      }
    },
    {
      "cell_type": "markdown",
      "source": [
        "Higher-order functions take one or more functions as arguments or return a function as a result. They enable a functional programming paradigm."
      ],
      "metadata": {
        "id": "R57NAWhWhsdu"
      }
    },
    {
      "cell_type": "code",
      "source": [
        "def apply_operation(operation, x, y):\n",
        "    return operation(x, y)\n",
        "\n",
        "def add(a, b):\n",
        "    return a + b\n",
        "\n",
        "result = apply_operation(add, 3, 4)\n",
        "print(result)"
      ],
      "metadata": {
        "colab": {
          "base_uri": "https://localhost:8080/"
        },
        "id": "3skTxYj4ggi9",
        "outputId": "9c34aaba-15c1-41f9-8bd1-a87315e6d741"
      },
      "execution_count": 19,
      "outputs": [
        {
          "output_type": "stream",
          "name": "stdout",
          "text": [
            "7\n"
          ]
        }
      ]
    },
    {
      "cell_type": "markdown",
      "source": [
        "##Create a Python function that takes a list of numbers and a function as arguments, applying the function to each element in the list.\n"
      ],
      "metadata": {
        "id": "6omtBpTdggXF"
      }
    },
    {
      "cell_type": "code",
      "source": [
        "def apply_function_to_list(numbers, operation):\n",
        "    return [operation(num) for num in numbers]\n",
        "\n",
        "square = lambda x: x**2\n",
        "result = apply_function_to_list([1, 2, 3], square)\n",
        "print(result)"
      ],
      "metadata": {
        "colab": {
          "base_uri": "https://localhost:8080/"
        },
        "id": "JBJLVTQegeDv",
        "outputId": "bebcefcb-a864-45e0-93de-0dc63c91a8af"
      },
      "execution_count": 20,
      "outputs": [
        {
          "output_type": "stream",
          "name": "stdout",
          "text": [
            "[1, 4, 9]\n"
          ]
        }
      ]
    },
    {
      "cell_type": "markdown",
      "source": [
        "#Built-in Functions:\n"
      ],
      "metadata": {
        "id": "F91k8ar6h2_b"
      }
    },
    {
      "cell_type": "markdown",
      "source": [
        "##Describe the role of built-in functions like `len()`, `max()`, and `min()` in Python.\n"
      ],
      "metadata": {
        "id": "VV3gf_hsh1WI"
      }
    },
    {
      "cell_type": "markdown",
      "source": [
        "Role of built-in functions like len(), max(), and min() in Python:\n",
        "\n",
        "len(): Returns the length of an object (e.g., string, list, tuple).\n",
        "max(): Returns the largest item in an iterable or the largest of two or more arguments.\n",
        "min(): Returns the smallest item in an iterable or the smallest of two or more arguments."
      ],
      "metadata": {
        "id": "KJ4VgbKxh_47"
      }
    },
    {
      "cell_type": "code",
      "source": [
        "my_list = [3, 1, 4, 1, 5, 9, 2]\n",
        "print(len(my_list))\n",
        "print(max(my_list))\n",
        "print(min(my_list))"
      ],
      "metadata": {
        "colab": {
          "base_uri": "https://localhost:8080/"
        },
        "id": "b6xw2giJh0gz",
        "outputId": "ce1a31d6-bff2-48ae-cfa6-fd0a38d9e258"
      },
      "execution_count": 21,
      "outputs": [
        {
          "output_type": "stream",
          "name": "stdout",
          "text": [
            "7\n",
            "9\n",
            "1\n"
          ]
        }
      ]
    },
    {
      "cell_type": "markdown",
      "source": [
        "##Write a Python program that uses the `map()` function to apply a function to each element of a list.\n"
      ],
      "metadata": {
        "id": "qi5huMZfiGJx"
      }
    },
    {
      "cell_type": "code",
      "source": [
        "def square(x):\n",
        "    return x**2\n",
        "\n",
        "numbers = [1, 2, 3, 4]\n",
        "squared_numbers = list(map(square, numbers))\n",
        "print(squared_numbers)"
      ],
      "metadata": {
        "colab": {
          "base_uri": "https://localhost:8080/"
        },
        "id": "J3Ms2dpQiGC3",
        "outputId": "9db737ed-47ef-49a5-d28d-925206c93f80"
      },
      "execution_count": 22,
      "outputs": [
        {
          "output_type": "stream",
          "name": "stdout",
          "text": [
            "[1, 4, 9, 16]\n"
          ]
        }
      ]
    },
    {
      "cell_type": "markdown",
      "source": [
        "##How does the `filter()` function work in Python, and when would you use it?\n"
      ],
      "metadata": {
        "id": "wycFOUQkiF7Q"
      }
    },
    {
      "cell_type": "markdown",
      "source": [
        "The filter() function constructs an iterator from elements of an iterable for which a function returns true. It is used to filter elements based on a specified condition."
      ],
      "metadata": {
        "id": "DmxXNOJLiPyu"
      }
    },
    {
      "cell_type": "code",
      "source": [
        "numbers = [1, 2, 3, 4, 5, 6]\n",
        "even_numbers = list(filter(lambda x: x % 2 == 0, numbers))\n",
        "print(even_numbers)"
      ],
      "metadata": {
        "colab": {
          "base_uri": "https://localhost:8080/"
        },
        "id": "hsTOh1N_iF0A",
        "outputId": "7fcc3ac3-04d6-46a8-c262-2ec9fdc6f715"
      },
      "execution_count": 23,
      "outputs": [
        {
          "output_type": "stream",
          "name": "stdout",
          "text": [
            "[2, 4, 6]\n"
          ]
        }
      ]
    },
    {
      "cell_type": "markdown",
      "source": [
        "##Create a Python program that uses the `reduce()` function to find the product of all elements in a list.\n"
      ],
      "metadata": {
        "id": "wGnLgwNFiSwJ"
      }
    },
    {
      "cell_type": "code",
      "source": [
        "from functools import reduce\n",
        "\n",
        "numbers = [2, 3, 4, 5]\n",
        "product = reduce(lambda x, y: x * y, numbers)\n",
        "print(product)"
      ],
      "metadata": {
        "colab": {
          "base_uri": "https://localhost:8080/"
        },
        "id": "qnptnYJKiVxj",
        "outputId": "1caaffa6-b330-4f1d-fd4b-c4d697df8fb4"
      },
      "execution_count": 24,
      "outputs": [
        {
          "output_type": "stream",
          "name": "stdout",
          "text": [
            "120\n"
          ]
        }
      ]
    },
    {
      "cell_type": "markdown",
      "source": [
        "#Function Documentation and Best Practices:\n"
      ],
      "metadata": {
        "id": "1TNGs7Ugia35"
      }
    },
    {
      "cell_type": "markdown",
      "source": [
        "##Explain the purpose of docstrings in Python functions and how to write them."
      ],
      "metadata": {
        "id": "e7f6if1MiFqA"
      }
    },
    {
      "cell_type": "markdown",
      "source": [
        "Purpose of docstrings in Python functions and how to write them:\n",
        "\n",
        "Docstrings are used to document functions, providing information on their purpose, parameters, and return values. They are enclosed in triple quotes."
      ],
      "metadata": {
        "id": "yOb8nclKilkY"
      }
    },
    {
      "cell_type": "code",
      "source": [
        "def add(x, y):\n",
        "    \"\"\"\n",
        "    Adds two numbers.\n",
        "\n",
        "    Parameters:\n",
        "    - x (int): The first number.\n",
        "    - y (int): The second number.\n",
        "\n",
        "    Returns:\n",
        "    int: The sum of x and y.\n",
        "    \"\"\"\n",
        "    return x + y"
      ],
      "metadata": {
        "id": "C_n24uxJiFfa"
      },
      "execution_count": 25,
      "outputs": []
    },
    {
      "cell_type": "markdown",
      "source": [
        "#Describe some best practices for naming functions and variables in Python, including naming conventions and guidelines.\n"
      ],
      "metadata": {
        "id": "UKuA_wNJiFXp"
      }
    },
    {
      "cell_type": "markdown",
      "source": [
        "Use lowercase with underscores for function and variable names (e.g., calculate_sum).\n",
        "Choose descriptive names that convey the purpose of the function or variable.\n",
        "Follow the PEP 8 style guide for Python code.\n",
        "Use verbs for function names (e.g., calculate, get, compute).\n",
        "Avoid single-letter variable names unless used in simple loop constructs."
      ],
      "metadata": {
        "id": "Hj1B7-ixjR8m"
      }
    },
    {
      "cell_type": "code",
      "source": [
        "def calculate_sum(numbers):\n",
        "    total = 0\n",
        "    for num in numbers:\n",
        "        total += num\n",
        "    return total"
      ],
      "metadata": {
        "id": "LBSHGU3hiEcU"
      },
      "execution_count": 30,
      "outputs": []
    },
    {
      "cell_type": "code",
      "source": [],
      "metadata": {
        "id": "Lk3HsrmVjZA1"
      },
      "execution_count": null,
      "outputs": []
    }
  ]
}