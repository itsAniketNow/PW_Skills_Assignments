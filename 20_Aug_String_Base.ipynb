{
  "nbformat": 4,
  "nbformat_minor": 0,
  "metadata": {
    "colab": {
      "provenance": [],
      "authorship_tag": "ABX9TyOU++z80Jy/2wQ9nXXuzu2n",
      "include_colab_link": true
    },
    "kernelspec": {
      "name": "python3",
      "display_name": "Python 3"
    },
    "language_info": {
      "name": "python"
    }
  },
  "cells": [
    {
      "cell_type": "markdown",
      "metadata": {
        "id": "view-in-github",
        "colab_type": "text"
      },
      "source": [
        "<a href=\"https://colab.research.google.com/github/itsAniketNow/PW_Skills_Assignments/blob/main/20_Aug_String_Base.ipynb\" target=\"_parent\"><img src=\"https://colab.research.google.com/assets/colab-badge.svg\" alt=\"Open In Colab\"/></a>"
      ]
    },
    {
      "cell_type": "markdown",
      "source": [
        "# String Based Assignment Problem"
      ],
      "metadata": {
        "id": "1ZOL3N4Dc_sy"
      }
    },
    {
      "cell_type": "markdown",
      "source": [
        "1.Write a program to reverse a string."
      ],
      "metadata": {
        "id": "YFumbpl3dLYd"
      }
    },
    {
      "cell_type": "code",
      "execution_count": null,
      "metadata": {
        "id": "qTL7xWewb3dS"
      },
      "outputs": [],
      "source": [
        "# Defining the function called \"reversed_string\" and returning the output as reversed_string.\n",
        "def reversed_string(string):\n",
        "  return string[::-1]"
      ]
    },
    {
      "cell_type": "code",
      "source": [
        "reversed_string(\"STring\")"
      ],
      "metadata": {
        "colab": {
          "base_uri": "https://localhost:8080/",
          "height": 36
        },
        "id": "oKnlXwVBfnOT",
        "outputId": "6b2af801-25e1-4843-b48b-37a70a53d22c"
      },
      "execution_count": null,
      "outputs": [
        {
          "output_type": "execute_result",
          "data": {
            "text/plain": [
              "'gnirTS'"
            ],
            "application/vnd.google.colaboratory.intrinsic+json": {
              "type": "string"
            }
          },
          "metadata": {},
          "execution_count": 20
        }
      ]
    },
    {
      "cell_type": "markdown",
      "source": [
        "2. Check if a string is a palindrome.\n"
      ],
      "metadata": {
        "id": "KooXlGx2iROS"
      }
    },
    {
      "cell_type": "code",
      "source": [
        "def is_palindrome(input_string):\n",
        "    clean_string = input_string.replace(\" \", \"\").lower()  # Remove spaces and convert to lowercase\n",
        "    return clean_string == clean_string[::-1]"
      ],
      "metadata": {
        "id": "4AsKalM-fsMz"
      },
      "execution_count": null,
      "outputs": []
    },
    {
      "cell_type": "code",
      "source": [
        "is_palindrome(\"tenet\")"
      ],
      "metadata": {
        "colab": {
          "base_uri": "https://localhost:8080/"
        },
        "id": "ZeOwbl3iif_q",
        "outputId": "6bf3b9b1-f056-425b-de78-d9ec5c4479d7"
      },
      "execution_count": null,
      "outputs": [
        {
          "output_type": "execute_result",
          "data": {
            "text/plain": [
              "True"
            ]
          },
          "metadata": {},
          "execution_count": 22
        }
      ]
    },
    {
      "cell_type": "code",
      "source": [
        "is_palindrome(\"Good\")"
      ],
      "metadata": {
        "colab": {
          "base_uri": "https://localhost:8080/"
        },
        "id": "gOEzPx10ikth",
        "outputId": "8c62486d-bc8d-48ed-a344-a23a0ae68e3a"
      },
      "execution_count": null,
      "outputs": [
        {
          "output_type": "execute_result",
          "data": {
            "text/plain": [
              "False"
            ]
          },
          "metadata": {},
          "execution_count": 23
        }
      ]
    },
    {
      "cell_type": "markdown",
      "source": [
        "3. Convert a string to uppercase."
      ],
      "metadata": {
        "id": "PSa2oe7ilLBn"
      }
    },
    {
      "cell_type": "code",
      "source": [
        "def to_uppercase(input_string):\n",
        "    return input_string.upper() # Converting string in uppercase and returning it as a output."
      ],
      "metadata": {
        "id": "A1kPQMSrlJge"
      },
      "execution_count": null,
      "outputs": []
    },
    {
      "cell_type": "code",
      "source": [
        "to_uppercase(\"input_string\")"
      ],
      "metadata": {
        "id": "ewo7d4ualXi3",
        "outputId": "291c364b-d99c-445d-e0b9-85091fc162d6",
        "colab": {
          "base_uri": "https://localhost:8080/",
          "height": 36
        }
      },
      "execution_count": null,
      "outputs": [
        {
          "output_type": "execute_result",
          "data": {
            "text/plain": [
              "'INPUT_STRING'"
            ],
            "application/vnd.google.colaboratory.intrinsic+json": {
              "type": "string"
            }
          },
          "metadata": {},
          "execution_count": 25
        }
      ]
    },
    {
      "cell_type": "markdown",
      "source": [
        "4. Convert a string to lowercase"
      ],
      "metadata": {
        "id": "7VEWGPi6ldvt"
      }
    },
    {
      "cell_type": "code",
      "source": [
        "def to_lowercase(input_string):\n",
        "    return input_string.lower() # Converting string in lowercase and returning it as a ouptput."
      ],
      "metadata": {
        "id": "6VyCQh1qlb9G"
      },
      "execution_count": null,
      "outputs": []
    },
    {
      "cell_type": "code",
      "source": [
        "to_lowercase(\"GOOD NIGHT\")"
      ],
      "metadata": {
        "colab": {
          "base_uri": "https://localhost:8080/",
          "height": 36
        },
        "id": "sahD6zyzmbuO",
        "outputId": "6dd9fafa-ed54-40c6-e556-652b870e9c91"
      },
      "execution_count": null,
      "outputs": [
        {
          "output_type": "execute_result",
          "data": {
            "text/plain": [
              "'good night'"
            ],
            "application/vnd.google.colaboratory.intrinsic+json": {
              "type": "string"
            }
          },
          "metadata": {},
          "execution_count": 27
        }
      ]
    },
    {
      "cell_type": "markdown",
      "source": [
        "### 5. Count the number of vowels in a string\n"
      ],
      "metadata": {
        "id": "jmyJx-BHm8iT"
      }
    },
    {
      "cell_type": "code",
      "source": [
        "def count_vowels(input_string):\n",
        "    vowels = \"AEIOUaeiou\" # Vowels from the alphabet.\n",
        "    return sum(1 for char in input_string if char in vowels) # Counting the number of vowels from string."
      ],
      "metadata": {
        "id": "h4VF0dftoT5Z"
      },
      "execution_count": null,
      "outputs": []
    },
    {
      "cell_type": "markdown",
      "source": [
        "### 6. Count the number of consonants in a string\n"
      ],
      "metadata": {
        "id": "pFAIdSvYosVt"
      }
    },
    {
      "cell_type": "code",
      "source": [
        "def count_consonants(input_string):\n",
        "    consonants = \"BCDFGHJKLMNPQRSTVWXYZbcdfghjklmnpqrstvwxyz\" # Consonants from alphabet.\n",
        "    return sum(1 for char in input_string if char in consonants) # Counting the consonants from the string."
      ],
      "metadata": {
        "id": "Nr-BTNpZoT09"
      },
      "execution_count": null,
      "outputs": []
    },
    {
      "cell_type": "markdown",
      "source": [
        "### 7. Remove all whitespaces from a string\n"
      ],
      "metadata": {
        "id": "mPMySR6So7h0"
      }
    },
    {
      "cell_type": "code",
      "source": [
        "def remove_whitespace(input_string):\n",
        "    return ''.join(input_string.split())"
      ],
      "metadata": {
        "id": "s1MGVmIAo-LY"
      },
      "execution_count": null,
      "outputs": []
    },
    {
      "cell_type": "markdown",
      "source": [
        "### 8. Find the length of a string without using the `len()` function\n"
      ],
      "metadata": {
        "id": "GO9KRiKupCLD"
      }
    },
    {
      "cell_type": "code",
      "source": [
        "def string_length(input_string):\n",
        "    count = 0\n",
        "    for char in input_string:\n",
        "        count += 1\n",
        "    return count"
      ],
      "metadata": {
        "id": "cG_vOPlEpH2y"
      },
      "execution_count": null,
      "outputs": []
    },
    {
      "cell_type": "markdown",
      "source": [
        "### 9. Check if a string contains a specific word\n"
      ],
      "metadata": {
        "id": "jFdNE4JfpMCs"
      }
    },
    {
      "cell_type": "code",
      "source": [
        "def contains_word(input_string, word):\n",
        "    return word in input_string"
      ],
      "metadata": {
        "id": "p04oSQU5pPzt"
      },
      "execution_count": null,
      "outputs": []
    },
    {
      "cell_type": "markdown",
      "source": [
        "### 10. Replace a word in a string with another word\n"
      ],
      "metadata": {
        "id": "7OFjZmDlpTvW"
      }
    },
    {
      "cell_type": "code",
      "source": [
        "def replace_word(input_string, old_word, new_word):\n",
        "    return input_string.replace(old_word, new_word)"
      ],
      "metadata": {
        "id": "Xg6XNqpxpVlO"
      },
      "execution_count": null,
      "outputs": []
    },
    {
      "cell_type": "markdown",
      "source": [
        "### 11. Count the occurrences of a word in a string\n"
      ],
      "metadata": {
        "id": "tWAZyhD8pa1K"
      }
    },
    {
      "cell_type": "code",
      "source": [
        "def count_word_occurrences(input_string, word):\n",
        "    words = input_string.split()\n",
        "    return words.count(word)"
      ],
      "metadata": {
        "id": "53OJ8nHQpeE8"
      },
      "execution_count": null,
      "outputs": []
    },
    {
      "cell_type": "markdown",
      "source": [
        "### 12. Find the first occurrence of a word in a string\n"
      ],
      "metadata": {
        "id": "eDqhMqDgpiIv"
      }
    },
    {
      "cell_type": "code",
      "source": [
        "def find_first_occurrence(input_string, word):\n",
        "    return input_string.find(word)"
      ],
      "metadata": {
        "id": "7MIDRLdnpk1U"
      },
      "execution_count": null,
      "outputs": []
    },
    {
      "cell_type": "markdown",
      "source": [
        "### 13. Find the last occurrence of a word in a string\n",
        "\n"
      ],
      "metadata": {
        "id": "2cn7Wmkppmpl"
      }
    },
    {
      "cell_type": "code",
      "source": [
        "def find_last_occurrence(input_string, word):\n",
        "    return input_string.rfind(word)"
      ],
      "metadata": {
        "id": "iLrbyUuqpp7c"
      },
      "execution_count": null,
      "outputs": []
    },
    {
      "cell_type": "markdown",
      "source": [
        "### 14. Split a string into a list of words\n"
      ],
      "metadata": {
        "id": "5j5TO6TLpuPn"
      }
    },
    {
      "cell_type": "code",
      "source": [
        "def split_string(input_string):\n",
        "    return input_string.split()"
      ],
      "metadata": {
        "id": "IXlsYPtKpxcG"
      },
      "execution_count": null,
      "outputs": []
    },
    {
      "cell_type": "markdown",
      "source": [
        "### 15. Join a list of words into a string\n"
      ],
      "metadata": {
        "id": "4209QxyzpzX8"
      }
    },
    {
      "cell_type": "code",
      "source": [
        "def join_words(word_list):\n",
        "    return ' '.join(word_list)"
      ],
      "metadata": {
        "id": "kxYYptsqp1qR"
      },
      "execution_count": null,
      "outputs": []
    },
    {
      "cell_type": "markdown",
      "source": [
        "### 16. Convert a string with spaces to underscores\n"
      ],
      "metadata": {
        "id": "70L1WEt2tip6"
      }
    },
    {
      "cell_type": "code",
      "source": [
        "def space_to_underscore(input_string):\n",
        "    # Use the replace() method to replace spaces with underscores\n",
        "    return input_string.replace(\" \", \"_\")"
      ],
      "metadata": {
        "id": "PKdJ7rsNJXIX"
      },
      "execution_count": null,
      "outputs": []
    },
    {
      "cell_type": "markdown",
      "source": [
        "### 17. Check if a string starts with a specific word or phrase"
      ],
      "metadata": {
        "id": "NtfD6M-dJayl"
      }
    },
    {
      "cell_type": "code",
      "source": [
        "def starts_with_word(input_string, word):\n",
        "    # Use the startswith() method to check if 'input_string' starts with 'word'\n",
        "    return input_string.startswith(word)"
      ],
      "metadata": {
        "id": "OS6FuCn6Jfn1"
      },
      "execution_count": null,
      "outputs": []
    },
    {
      "cell_type": "markdown",
      "source": [
        "### 18. Check if a string ends with a specific word or phrase"
      ],
      "metadata": {
        "id": "TWGQKrY7JhwZ"
      }
    },
    {
      "cell_type": "code",
      "source": [
        "def ends_with_word(input_string, word):\n",
        "    # Use the endswith() method to check if 'input_string' ends with 'word'\n",
        "    return input_string.endswith(word)"
      ],
      "metadata": {
        "id": "gcBhpdGkJexg"
      },
      "execution_count": null,
      "outputs": []
    },
    {
      "cell_type": "markdown",
      "source": [
        "### 19. Convert a string to title case\n"
      ],
      "metadata": {
        "id": "9XYII7kXJqDR"
      }
    },
    {
      "cell_type": "code",
      "source": [
        "def to_title_case(input_string):\n",
        "    # Use the title() method to convert to title case\n",
        "    return input_string.title()"
      ],
      "metadata": {
        "id": "DqH07hWUJytM"
      },
      "execution_count": null,
      "outputs": []
    },
    {
      "cell_type": "markdown",
      "source": [
        "### 20. Find the longest word in a string\n"
      ],
      "metadata": {
        "id": "h8jffqF7J1_Y"
      }
    },
    {
      "cell_type": "code",
      "source": [
        "def longest_word(input_string):\n",
        "    # Split the string into words and find the longest word using max() and len()\n",
        "    words = input_string.split()\n",
        "    return max(words, key=len)"
      ],
      "metadata": {
        "id": "0EIL4Ps8J4MA"
      },
      "execution_count": null,
      "outputs": []
    },
    {
      "cell_type": "markdown",
      "source": [
        "### 21. Find the shortest word in a string\n"
      ],
      "metadata": {
        "id": "5k0TmEvyJ8tY"
      }
    },
    {
      "cell_type": "code",
      "source": [
        "def shortest_word(input_string):\n",
        "    # Split the string into words and find the shortest word using min() and len()\n",
        "    words = input_string.split()\n",
        "    return min(words, key=len)"
      ],
      "metadata": {
        "id": "IQNkNhKZKE5P"
      },
      "execution_count": null,
      "outputs": []
    },
    {
      "cell_type": "markdown",
      "source": [
        "### 22. Reverse the order of words in a string\n"
      ],
      "metadata": {
        "id": "qJQqe-caKHyu"
      }
    },
    {
      "cell_type": "code",
      "source": [
        "def reverse_word_order(input_string):\n",
        "    # Split the string into words, reverse the list, and join the words back together\n",
        "    words = input_string.split()\n",
        "    return ' '.join(reversed(words))"
      ],
      "metadata": {
        "id": "DrQ6MkXCKNAw"
      },
      "execution_count": null,
      "outputs": []
    },
    {
      "cell_type": "markdown",
      "source": [
        "### 23. Check if a string is alphanumeric\n"
      ],
      "metadata": {
        "id": "f8yBGJeWK5XD"
      }
    },
    {
      "cell_type": "code",
      "source": [
        "def is_alphanumeric(input_string):\n",
        "    # Use the isalnum() method to check if all characters are alphanumeric\n",
        "    return input_string.isalnum()"
      ],
      "metadata": {
        "id": "-P_BsdMMK8mA"
      },
      "execution_count": null,
      "outputs": []
    },
    {
      "cell_type": "markdown",
      "source": [
        "### 24. Extract all digits from a string\n"
      ],
      "metadata": {
        "id": "A8t7j3jeLDOC"
      }
    },
    {
      "cell_type": "code",
      "source": [
        "def extract_digits(input_string):\n",
        "    # Use filter() to extract digits (characters that are digits)\n",
        "    return ''.join(filter(str.isdigit, input_string))"
      ],
      "metadata": {
        "id": "9k5m1-yELICf"
      },
      "execution_count": null,
      "outputs": []
    },
    {
      "cell_type": "markdown",
      "source": [
        "### 25. Extract all alphabets from a string\n"
      ],
      "metadata": {
        "id": "x5sGrRFvLMRO"
      }
    },
    {
      "cell_type": "code",
      "source": [
        "def extract_alphabets(input_string):\n",
        "    # Use filter() to extract alphabetic characters\n",
        "    return ''.join(filter(str.isalpha, input_string))"
      ],
      "metadata": {
        "id": "HVIOXiQALOje"
      },
      "execution_count": null,
      "outputs": []
    },
    {
      "cell_type": "markdown",
      "source": [
        "### 26. Count the number of uppercase letters in a string\n"
      ],
      "metadata": {
        "id": "wgS4AQ9fLS-f"
      }
    },
    {
      "cell_type": "code",
      "source": [
        "def count_uppercase_letters(input_string):\n",
        "    # Use isupper() to check if each character is uppercase and count them\n",
        "    return sum(1 for char in input_string if char.isupper())"
      ],
      "metadata": {
        "id": "n5con4FyLUYU"
      },
      "execution_count": null,
      "outputs": []
    },
    {
      "cell_type": "markdown",
      "source": [
        "### 27. Count the number of lowercase letters in a string\n"
      ],
      "metadata": {
        "id": "MmnR4ZaPLaEb"
      }
    },
    {
      "cell_type": "code",
      "source": [
        "def count_lowercase_letters(input_string):\n",
        "    # Use islower() to check if each character is lowercase and count them\n",
        "    return sum(1 for char in input_string if char.islower())"
      ],
      "metadata": {
        "id": "1CEYYwziLdWG"
      },
      "execution_count": null,
      "outputs": []
    },
    {
      "cell_type": "markdown",
      "source": [
        "### 28. Swap the case of each character in a string\n"
      ],
      "metadata": {
        "id": "ovi87E0CLf_1"
      }
    },
    {
      "cell_type": "code",
      "source": [
        "def swap_case(input_string):\n",
        "    # Use swapcase() to swap the case of each character\n",
        "    return input_string.swapcase()"
      ],
      "metadata": {
        "id": "iruNfveOLhST"
      },
      "execution_count": null,
      "outputs": []
    },
    {
      "cell_type": "markdown",
      "source": [
        "### 29. Remove a specific word from a string\n"
      ],
      "metadata": {
        "id": "UIB6JJrwLlp5"
      }
    },
    {
      "cell_type": "code",
      "source": [
        "def remove_specific_word(input_string, word_to_remove):\n",
        "    # Split the string into words, filter out the word to remove, and join them back\n",
        "    words = input_string.split()\n",
        "    return ' '.join(word for word in words if word != word_to_remove)"
      ],
      "metadata": {
        "id": "r_WvtNChLr1i"
      },
      "execution_count": null,
      "outputs": []
    },
    {
      "cell_type": "markdown",
      "source": [
        "### 30. Check if a string is a valid email address (basic validation)\n"
      ],
      "metadata": {
        "id": "KEBWsRsNLv2R"
      }
    },
    {
      "cell_type": "code",
      "source": [
        "# 30. Check if a string is a valid email address (basic validation)\n",
        "import re\n",
        "\n",
        "def is_valid_email(input_string):\n",
        "    # Basic email validation using regular expression\n",
        "    pattern = r'^\\S+@\\S+\\.\\S+$'\n",
        "    return bool(re.match(pattern, input_string))\n"
      ],
      "metadata": {
        "id": "TDu1kyajv3uk"
      },
      "execution_count": null,
      "outputs": []
    },
    {
      "cell_type": "markdown",
      "source": [
        "##31. Extract the username from an email address string."
      ],
      "metadata": {
        "id": "8cfnjw7gM061"
      }
    },
    {
      "cell_type": "code",
      "source": [
        "# 31. Extract the username from an email address string\n",
        "def extract_username(email):\n",
        "    # Split the email using \"@\" and get the first part as the username\n",
        "    parts = email.split(\"@\")\n",
        "    return parts[0]\n"
      ],
      "metadata": {
        "id": "PCpSASynNA0d"
      },
      "execution_count": null,
      "outputs": []
    },
    {
      "cell_type": "markdown",
      "source": [
        "###Extract the domain name from an email address string\n"
      ],
      "metadata": {
        "id": "rq0jwKQRNFTO"
      }
    },
    {
      "cell_type": "code",
      "source": [
        "def extract_domain(email):\n",
        "    # Split the email using \"@\" and get the second part as the domain\n",
        "    parts = email.split(\"@\")\n",
        "    return parts[1]"
      ],
      "metadata": {
        "id": "aF9jsvE9NQ7s"
      },
      "execution_count": null,
      "outputs": []
    },
    {
      "cell_type": "markdown",
      "source": [
        "### 33. Replace multiple spaces in a string with a single space\n"
      ],
      "metadata": {
        "id": "D287f4waNU_i"
      }
    },
    {
      "cell_type": "code",
      "source": [
        "def replace_multiple_spaces(input_string):\n",
        "    # Use regular expression to replace multiple spaces with a single space\n",
        "    import re\n",
        "    return re.sub(' +', ' ', input_string)"
      ],
      "metadata": {
        "id": "ydeNhzg3NXhh"
      },
      "execution_count": null,
      "outputs": []
    },
    {
      "cell_type": "markdown",
      "source": [
        "### 34. Check if a string is a valid URL"
      ],
      "metadata": {
        "id": "CHa-Dex4P1Ee"
      }
    },
    {
      "cell_type": "code",
      "source": [
        "def is_valid_url(input_string):\n",
        "    # Use regular expression to check if it looks like a URL\n",
        "    import re\n",
        "    pattern = r'^(http|https)://[a-zA-Z0-9.-]+\\.[a-zA-Z]{2,4}(/.*)?$'\n",
        "    return bool(re.match(pattern, input_string))"
      ],
      "metadata": {
        "id": "5p_wjiYbP1r3"
      },
      "execution_count": null,
      "outputs": []
    },
    {
      "cell_type": "markdown",
      "source": [
        "### 35. Extract the protocol (http or https) from a URL string\n"
      ],
      "metadata": {
        "id": "r223cUrXP84B"
      }
    },
    {
      "cell_type": "code",
      "source": [
        "def extract_protocol(url):\n",
        "    # Split the URL using \"://\" and get the first part as the protocol\n",
        "    parts = url.split(\"://\")\n",
        "    return parts[0]"
      ],
      "metadata": {
        "id": "2cSEnGpCP9-k"
      },
      "execution_count": null,
      "outputs": []
    },
    {
      "cell_type": "markdown",
      "source": [
        "### 36. Find the frequency of each character in a string\n"
      ],
      "metadata": {
        "id": "EpR0YINiQDbL"
      }
    },
    {
      "cell_type": "code",
      "source": [
        "def character_frequency(input_string):\n",
        "    # Create a dictionary to store character frequencies\n",
        "    freq_dict = {}\n",
        "    for char in input_string:\n",
        "        if char in freq_dict:\n",
        "            freq_dict[char] += 1\n",
        "        else:\n",
        "            freq_dict[char] = 1\n",
        "    return freq_dict\n",
        "\n"
      ],
      "metadata": {
        "id": "yuTcfdrdQEZi"
      },
      "execution_count": null,
      "outputs": []
    },
    {
      "cell_type": "markdown",
      "source": [
        "### 37. Remove all punctuation from a string\n"
      ],
      "metadata": {
        "id": "2St6mcsAQI5D"
      }
    },
    {
      "cell_type": "code",
      "source": [
        "def remove_punctuation(input_string):\n",
        "    # Use regular expression to remove all punctuation characters\n",
        "    import re\n",
        "    return re.sub(r'[^\\w\\s]', '', input_string)"
      ],
      "metadata": {
        "id": "gcfo_q3FQKRg"
      },
      "execution_count": null,
      "outputs": []
    },
    {
      "cell_type": "markdown",
      "source": [
        "### 38. Check if a string contains only digits\n"
      ],
      "metadata": {
        "id": "1qQWCbfMQPSo"
      }
    },
    {
      "cell_type": "code",
      "source": [
        "# 38. Check if a string contains only digits\n",
        "def contains_only_digits(input_string):\n",
        "    # Check if all characters are digits\n",
        "    return input_string.isdigit()"
      ],
      "metadata": {
        "id": "1eeKI3xpQQb3"
      },
      "execution_count": null,
      "outputs": []
    },
    {
      "cell_type": "markdown",
      "source": [
        "### 39. Check if a string contains only alphabets\n"
      ],
      "metadata": {
        "id": "J5uiZktdQTUv"
      }
    },
    {
      "cell_type": "code",
      "source": [
        "# 39. Check if a string contains only alphabets\n",
        "def contains_only_alphabets(input_string):\n",
        "    # Check if all characters are alphabetic\n",
        "    return input_string.isalpha()"
      ],
      "metadata": {
        "id": "JS9bBplAQUYn"
      },
      "execution_count": null,
      "outputs": []
    },
    {
      "cell_type": "markdown",
      "source": [
        "### 40. Convert a string to a list of characters\n"
      ],
      "metadata": {
        "id": "FG5g39nWQXx-"
      }
    },
    {
      "cell_type": "code",
      "source": [
        "def string_to_list(input_string):\n",
        "    # Use list() to convert the string to a list of characters\n",
        "    return list(input_string)"
      ],
      "metadata": {
        "id": "jDDItJb5QY1p"
      },
      "execution_count": null,
      "outputs": []
    },
    {
      "cell_type": "markdown",
      "source": [
        "### 41. Check if two strings are anagrams\n"
      ],
      "metadata": {
        "id": "ch8XfLv1QbY1"
      }
    },
    {
      "cell_type": "code",
      "source": [
        "def are_anagrams(str1, str2):\n",
        "    # Sort both strings and compare if they are equal\n",
        "    return sorted(str1) == sorted(str2)"
      ],
      "metadata": {
        "id": "x-5Mr5n4QeB8"
      },
      "execution_count": null,
      "outputs": []
    },
    {
      "cell_type": "markdown",
      "source": [
        "### 42. Encode a string using a Caesar cipher\n"
      ],
      "metadata": {
        "id": "oR3clx3UQgX7"
      }
    },
    {
      "cell_type": "code",
      "source": [
        "def caesar_cipher_encode(input_string, shift):\n",
        "    encoded_string = \"\"\n",
        "    for char in input_string:\n",
        "        if char.isalpha():\n",
        "            shifted_char = chr(((ord(char) - ord('a' if char.islower() else 'A') + shift) % 26) + ord('a' if char.islower() else 'A'))\n",
        "            encoded_string += shifted_char\n",
        "        else:\n",
        "            encoded_string += char\n",
        "    return encoded_string\n"
      ],
      "metadata": {
        "id": "KwzAH2iUQiUT"
      },
      "execution_count": null,
      "outputs": []
    },
    {
      "cell_type": "markdown",
      "source": [
        "### 43. Decode a Caesar cipher encoded string\n"
      ],
      "metadata": {
        "id": "m45erFllQk9m"
      }
    },
    {
      "cell_type": "code",
      "source": [
        "def caesar_cipher_decode(encoded_string, shift):\n",
        "    return caesar_cipher_encode(encoded_string, -shift)"
      ],
      "metadata": {
        "id": "QruGuURmQmsF"
      },
      "execution_count": null,
      "outputs": []
    },
    {
      "cell_type": "markdown",
      "source": [
        "### 44. Find the most frequent word in a string\n"
      ],
      "metadata": {
        "id": "kfjLvcukQqE8"
      }
    },
    {
      "cell_type": "code",
      "source": [
        "def most_frequent_word(input_string):\n",
        "    words = input_string.split()\n",
        "    word_count = {}\n",
        "    for word in words:\n",
        "        word_count[word] = word_count.get(word, 0) + 1\n",
        "    max_word = max(word_count, key=word_count.get)\n",
        "    return max_word"
      ],
      "metadata": {
        "id": "jyEotoz8Qst6"
      },
      "execution_count": null,
      "outputs": []
    },
    {
      "cell_type": "markdown",
      "source": [
        "### 45. Find all unique words in a string\n"
      ],
      "metadata": {
        "id": "Aa-nihOiQvCh"
      }
    },
    {
      "cell_type": "code",
      "source": [
        "def unique_words(input_string):\n",
        "    words = input_string.split()\n",
        "    unique_words = list(set(words))\n",
        "    return unique_words\n",
        "\n"
      ],
      "metadata": {
        "id": "K_nUqTyRQxIz"
      },
      "execution_count": null,
      "outputs": []
    },
    {
      "cell_type": "markdown",
      "source": [
        "### 46. Count the number of syllables in a string (basic approximation)\n"
      ],
      "metadata": {
        "id": "G6MctoBkQzCf"
      }
    },
    {
      "cell_type": "code",
      "source": [
        "def count_syllables(input_string):\n",
        "    # This is a basic approximation, counting vowels as syllables\n",
        "    vowels = \"AEIOUaeiou\"\n",
        "    syllable_count = 0\n",
        "    for char in input_string:\n",
        "        if char in vowels:\n",
        "            syllable_count += 1\n",
        "    return syllable_count\n",
        "\n"
      ],
      "metadata": {
        "id": "PAj7sEDcQ1ms"
      },
      "execution_count": null,
      "outputs": []
    },
    {
      "cell_type": "markdown",
      "source": [
        "### 47. Check if a string contains any special characters\n"
      ],
      "metadata": {
        "id": "X1U7uN5CQ4eA"
      }
    },
    {
      "cell_type": "code",
      "source": [
        "def contains_special_characters(input_string):\n",
        "    # Use regular expression to check for special characters\n",
        "    import re\n",
        "    return bool(re.search('[!@#$%^&*()_+{}[\\]:;<>,.?~\\\\|]', input_string))"
      ],
      "metadata": {
        "id": "X5L3TLKOQ8UU"
      },
      "execution_count": null,
      "outputs": []
    },
    {
      "cell_type": "markdown",
      "source": [
        "### 48. Remove the nth word from a string\n"
      ],
      "metadata": {
        "id": "fx0IbCLxRA7i"
      }
    },
    {
      "cell_type": "code",
      "source": [
        "def remove_nth_word(input_string, n):\n",
        "    words = input_string.split()\n",
        "    if 0 <= n < len(words):\n",
        "        del words[n]\n",
        "    return ' '.join(words)"
      ],
      "metadata": {
        "id": "pM77AGrpREt8"
      },
      "execution_count": null,
      "outputs": []
    },
    {
      "cell_type": "markdown",
      "source": [
        "### 49. Insert a word at the nth position in a string\n"
      ],
      "metadata": {
        "id": "LlcflnMJRGUn"
      }
    },
    {
      "cell_type": "code",
      "source": [
        "def insert_word_at_nth_position(input_string, word, n):\n",
        "    words = input_string.split()\n",
        "    if 0 <= n <= len(words):\n",
        "        words.insert(n, word)\n",
        "    return ' '.join(words)"
      ],
      "metadata": {
        "id": "L5QduaiMRIMM"
      },
      "execution_count": null,
      "outputs": []
    },
    {
      "cell_type": "markdown",
      "source": [
        "### 50. Convert a CSV string to a list of lists\n"
      ],
      "metadata": {
        "id": "kIO2BsKzRMAM"
      }
    },
    {
      "cell_type": "code",
      "source": [
        "def csv_string_to_list(input_string):\n",
        "    # Use the csv module to parse the CSV string into a list of lists\n",
        "    import csv\n",
        "    csv_list = list(csv.reader([input_string]))[0]\n",
        "    return csv_list"
      ],
      "metadata": {
        "id": "8Mb0RK6gROF_"
      },
      "execution_count": null,
      "outputs": []
    },
    {
      "cell_type": "markdown",
      "source": [
        "#List Based Practice Problem :"
      ],
      "metadata": {
        "id": "ILrS7hf3Ra00"
      }
    },
    {
      "cell_type": "markdown",
      "source": [
        "##1. Create a list with integers from 1 to 10."
      ],
      "metadata": {
        "id": "qcSE0gWDb4xz"
      }
    },
    {
      "cell_type": "code",
      "source": [
        "my_list = [1, 2, 3, 4, 5, 6, 7, 8, 9, 10]\n"
      ],
      "metadata": {
        "id": "7MVBdcowM0Fv"
      },
      "execution_count": null,
      "outputs": []
    },
    {
      "cell_type": "markdown",
      "source": [
        "###2.Find the Length of a List without Using 'len()'"
      ],
      "metadata": {
        "id": "ZMuET1u8cMBs"
      }
    },
    {
      "cell_type": "code",
      "source": [
        "my_list = [1, 2, 3, 4, 5, 6, 7, 8, 9, 10]\n",
        "length = 0\n",
        "for _ in my_list:\n",
        "    length += 1\n"
      ],
      "metadata": {
        "id": "VMA30lVVcWDV"
      },
      "execution_count": null,
      "outputs": []
    },
    {
      "cell_type": "markdown",
      "source": [
        "###3.Append an element to the end of a list."
      ],
      "metadata": {
        "id": "uO-hPsfecYzw"
      }
    },
    {
      "cell_type": "code",
      "source": [
        "my_list = [1, 2, 3]\n",
        "my_list.append(4)"
      ],
      "metadata": {
        "id": "kTxSFotLch3L"
      },
      "execution_count": null,
      "outputs": []
    },
    {
      "cell_type": "markdown",
      "source": [
        "###4.Insert an element at a specific index of a list."
      ],
      "metadata": {
        "id": "RzVH-2x3cjys"
      }
    },
    {
      "cell_type": "code",
      "source": [
        "my_list = [1, 2, 3]\n",
        "my_list.insert(1, 4)  # Insert 4 at index 1"
      ],
      "metadata": {
        "id": "N-lKcYECci4Q"
      },
      "execution_count": null,
      "outputs": []
    },
    {
      "cell_type": "markdown",
      "source": [
        "###Remove an Element from a List by Its Value:\n",
        "\n"
      ],
      "metadata": {
        "id": "EtKaElNScvFi"
      }
    },
    {
      "cell_type": "code",
      "source": [
        "my_list = [1, 2, 3, 4]\n",
        "my_list.remove(3)  # Removes the value 3"
      ],
      "metadata": {
        "id": "Hp8RQzqwcxsn"
      },
      "execution_count": null,
      "outputs": []
    },
    {
      "cell_type": "markdown",
      "source": [
        "###Remove an Element from a List by Its Index:\n",
        "\n"
      ],
      "metadata": {
        "id": "XBHBWWlycv-0"
      }
    },
    {
      "cell_type": "code",
      "source": [
        "my_list = [1, 2, 3]\n",
        "removed_value = my_list.pop(1)  # Removes the element at index 1 (2 in this case)\n"
      ],
      "metadata": {
        "id": "lTpObBOTcyYy"
      },
      "execution_count": null,
      "outputs": []
    },
    {
      "cell_type": "markdown",
      "source": [
        "###Check if an Element Exists in a List:\n",
        "\n"
      ],
      "metadata": {
        "id": "KCjN_Ajhcwbl"
      }
    },
    {
      "cell_type": "code",
      "source": [
        "my_list = [1, 2, 3, 4, 5]\n",
        "exists = 3 in my_list  # True if 3 exists in the list, otherwise False"
      ],
      "metadata": {
        "id": "kG-QxgEGczLc"
      },
      "execution_count": null,
      "outputs": []
    },
    {
      "cell_type": "markdown",
      "source": [
        "###Find the Index of the First Occurrence of an Element in a List:\n",
        "\n"
      ],
      "metadata": {
        "id": "I11iRLQGczo_"
      }
    },
    {
      "cell_type": "code",
      "source": [
        "my_list = [1, 2, 3, 4, 3]\n",
        "index = my_list.index(3)  # first occurrence of 3 and returns its index (2 in this case)"
      ],
      "metadata": {
        "id": "eH-Iig29cue1"
      },
      "execution_count": null,
      "outputs": []
    },
    {
      "cell_type": "markdown",
      "source": [
        "###Count the Occurrences of an Element in a List:\n",
        "\n"
      ],
      "metadata": {
        "id": "kEh3zjVOc5hw"
      }
    },
    {
      "cell_type": "code",
      "source": [
        "my_list = [1, 2, 3, 4, 3]\n",
        "count = my_list.count(3)  # Counts how many times 3 appears in the list (2 in this case)"
      ],
      "metadata": {
        "id": "I83UtFBxc0h0"
      },
      "execution_count": null,
      "outputs": []
    },
    {
      "cell_type": "markdown",
      "source": [
        "###Reverse the Order of Elements in a List:\n",
        "\n"
      ],
      "metadata": {
        "id": "laxmarZhc4in"
      }
    },
    {
      "cell_type": "code",
      "source": [
        "#reverse the order of elements using the `reverse()` method\n",
        "my_list = [1, 2, 3, 4]\n",
        "my_list.reverse()  # Reverses the list so that it becomes [4, 3, 2, 1]"
      ],
      "metadata": {
        "id": "W0CgXvmnc4Rd"
      },
      "execution_count": null,
      "outputs": []
    },
    {
      "cell_type": "markdown",
      "source": [
        "###Sort a List in Ascending Order:\n"
      ],
      "metadata": {
        "id": "zKbrjWLIc3ru"
      }
    },
    {
      "cell_type": "code",
      "source": [
        "my_list = [3, 1, 4, 1, 5, 9, 2, 6, 5, 3, 5]\n",
        "my_list.sort()"
      ],
      "metadata": {
        "id": "acasOdbqc3L1"
      },
      "execution_count": null,
      "outputs": []
    },
    {
      "cell_type": "markdown",
      "source": [
        "###Sort a List in Descending Order:\n"
      ],
      "metadata": {
        "id": "6ZozSSmbc24Q"
      }
    },
    {
      "cell_type": "code",
      "source": [
        "my_list = [3, 1, 4, 1, 5, 9, 2, 6, 5, 3, 5]\n",
        "my_list.sort(reverse=True)"
      ],
      "metadata": {
        "id": "75kDoWVNc6kW"
      },
      "execution_count": null,
      "outputs": []
    },
    {
      "cell_type": "markdown",
      "source": [
        "###Create a List of Even Numbers from 1 to 20:\n"
      ],
      "metadata": {
        "id": "knhlSWTec20f"
      }
    },
    {
      "cell_type": "code",
      "source": [
        "even_numbers = [i for i in range(1, 21) if i % 2 == 0]"
      ],
      "metadata": {
        "id": "b_zUhN_hc2ad"
      },
      "execution_count": null,
      "outputs": []
    },
    {
      "cell_type": "markdown",
      "source": [
        "###Find the Sum of All Elements in a List:\n"
      ],
      "metadata": {
        "id": "bdbJuOIdc2Ik"
      }
    },
    {
      "cell_type": "code",
      "source": [
        "my_list = [1, 2, 3, 4, 5]\n",
        "total = sum(my_list)"
      ],
      "metadata": {
        "id": "pNNK4cyTc14a"
      },
      "execution_count": null,
      "outputs": []
    },
    {
      "cell_type": "markdown",
      "source": [
        "###Find the Maximum Value in a List:\n"
      ],
      "metadata": {
        "id": "uV56GH79c1nj"
      }
    },
    {
      "cell_type": "code",
      "source": [
        "my_list = [3, 1, 4, 1, 5, 9, 2, 6]\n",
        "max_value = max(my_list)"
      ],
      "metadata": {
        "id": "qxHxZlgKc1Uw"
      },
      "execution_count": null,
      "outputs": []
    },
    {
      "cell_type": "markdown",
      "source": [
        "###Find the Minimum Value in a List:\n"
      ],
      "metadata": {
        "id": "nnBV6gxJc09b"
      }
    },
    {
      "cell_type": "code",
      "source": [
        "my_list = [3, 1, 4, 1, 5, 9, 2, 6]\n",
        "min_value = min(my_list)"
      ],
      "metadata": {
        "id": "HacrumDGc8Ac"
      },
      "execution_count": null,
      "outputs": []
    },
    {
      "cell_type": "markdown",
      "source": [
        "###Create a List of Squares of Numbers from 1 to 10:\n"
      ],
      "metadata": {
        "id": "SH5-_TPc_et4"
      }
    },
    {
      "cell_type": "code",
      "source": [
        "squares = [i**2 for i in range(1, 11)]"
      ],
      "metadata": {
        "id": "6rY55c7d_dwL"
      },
      "execution_count": null,
      "outputs": []
    },
    {
      "cell_type": "code",
      "source": [
        "squares"
      ],
      "metadata": {
        "colab": {
          "base_uri": "https://localhost:8080/"
        },
        "id": "vaAekw4IC5Pm",
        "outputId": "a0dfa6a0-75a1-4e52-a8b2-607df554bad3"
      },
      "execution_count": null,
      "outputs": [
        {
          "output_type": "execute_result",
          "data": {
            "text/plain": [
              "[1, 4, 9, 16, 25, 36, 49, 64, 81, 100]"
            ]
          },
          "metadata": {},
          "execution_count": 17
        }
      ]
    },
    {
      "cell_type": "markdown",
      "source": [
        "###Create a list of random numbers:\n"
      ],
      "metadata": {
        "id": "Ssccx-Gu_f2Y"
      }
    },
    {
      "cell_type": "code",
      "source": [
        "import random\n",
        "random_numbers = [random.randint(1, 100) for _ in range(10)]"
      ],
      "metadata": {
        "id": "11bMAvu__iea"
      },
      "execution_count": null,
      "outputs": []
    },
    {
      "cell_type": "code",
      "source": [
        "random_numbers"
      ],
      "metadata": {
        "colab": {
          "base_uri": "https://localhost:8080/"
        },
        "id": "yg3xW0PLCroR",
        "outputId": "a6592240-2bc3-48a2-fe68-95c665905134"
      },
      "execution_count": null,
      "outputs": [
        {
          "output_type": "execute_result",
          "data": {
            "text/plain": [
              "[42, 14, 44, 53, 86, 24, 57, 22, 30, 41]"
            ]
          },
          "metadata": {},
          "execution_count": 15
        }
      ]
    },
    {
      "cell_type": "markdown",
      "source": [
        "###Remove the duplicates from the list"
      ],
      "metadata": {
        "id": "XcE0RrzL_jv8"
      }
    },
    {
      "cell_type": "code",
      "source": [
        "my_list = [1, 2, 2, 3, 4, 4, 5]\n",
        "clean_list = list[set(my_list)]"
      ],
      "metadata": {
        "id": "Ne5ZlFnU_h_6"
      },
      "execution_count": null,
      "outputs": []
    },
    {
      "cell_type": "code",
      "source": [
        "clean_list"
      ],
      "metadata": {
        "colab": {
          "base_uri": "https://localhost:8080/"
        },
        "id": "PQjOXuq4DbYV",
        "outputId": "7618cbf0-6b88-4873-c99a-83cea02e33d6"
      },
      "execution_count": null,
      "outputs": [
        {
          "output_type": "execute_result",
          "data": {
            "text/plain": [
              "list[{1, 2, 3, 4, 5}]"
            ]
          },
          "metadata": {},
          "execution_count": 20
        }
      ]
    },
    {
      "cell_type": "markdown",
      "source": [
        "###Find the Common Elements Between Two Lists:\n"
      ],
      "metadata": {
        "id": "zxrh_HRM_vZZ"
      }
    },
    {
      "cell_type": "code",
      "source": [
        "from os import remove\n",
        "list_1 = [1, 2, 3, 4, 5]\n",
        "list_2 = [3, 4, 5, 6, 7]\n",
        "common_num_list = [num for num in list_1 if num in list_2]"
      ],
      "metadata": {
        "id": "U5UHmdgW_vFq"
      },
      "execution_count": null,
      "outputs": []
    },
    {
      "cell_type": "code",
      "source": [
        "common_num_list"
      ],
      "metadata": {
        "colab": {
          "base_uri": "https://localhost:8080/"
        },
        "id": "Xq3pYpv9FgTz",
        "outputId": "bf0e47df-b028-4849-fcab-2a9536ac07e9"
      },
      "execution_count": null,
      "outputs": [
        {
          "output_type": "execute_result",
          "data": {
            "text/plain": [
              "[3, 4, 5]"
            ]
          },
          "metadata": {},
          "execution_count": 24
        }
      ]
    },
    {
      "cell_type": "markdown",
      "source": [
        "###Find the difference two list."
      ],
      "metadata": {
        "id": "8S32NXCG_ukO"
      }
    },
    {
      "cell_type": "code",
      "source": [
        "list_1 = [1, 2, 3, 4, 5, 8, 9]\n",
        "list_2 = [3, 4, 5, 6, 7, 7, 9]\n",
        "difference_list = [num for num in list_1 if num not in list_2]\n",
        "difference_list"
      ],
      "metadata": {
        "id": "TInyqHXB_uSL",
        "colab": {
          "base_uri": "https://localhost:8080/"
        },
        "outputId": "c25769e0-a70d-46fa-e234-09b30b0f3daf"
      },
      "execution_count": null,
      "outputs": [
        {
          "output_type": "execute_result",
          "data": {
            "text/plain": [
              "[1, 2, 8]"
            ]
          },
          "metadata": {},
          "execution_count": 3
        }
      ]
    },
    {
      "cell_type": "markdown",
      "source": [
        "###Merge two list."
      ],
      "metadata": {
        "id": "vtjVYXil_t-w"
      }
    },
    {
      "cell_type": "code",
      "source": [
        "list_1 = [1, 2, 3, 4, 5, 8, 9]\n",
        "list_2 = [3, 4, 5, 6, 7, 7, 9]\n",
        "merge_list = list_1 + list_2\n",
        "merge_list"
      ],
      "metadata": {
        "id": "5BwYyXtN_tr-",
        "colab": {
          "base_uri": "https://localhost:8080/"
        },
        "outputId": "577d650f-f0f9-45c1-db8e-954e253b0f12"
      },
      "execution_count": null,
      "outputs": [
        {
          "output_type": "execute_result",
          "data": {
            "text/plain": [
              "[1, 2, 3, 4, 5, 8, 9, 3, 4, 5, 6, 7, 7, 9]"
            ]
          },
          "metadata": {},
          "execution_count": 21
        }
      ]
    },
    {
      "cell_type": "markdown",
      "source": [
        "###Multiply all elements in a list by 2."
      ],
      "metadata": {
        "id": "ybmA6yrS_tbH"
      }
    },
    {
      "cell_type": "code",
      "source": [
        "list1 = [1, 2, 3, 4, 5, 8, 9]\n",
        "result = [num * 2 for num in list1]\n",
        "result"
      ],
      "metadata": {
        "id": "neHGez26_tHQ",
        "colab": {
          "base_uri": "https://localhost:8080/"
        },
        "outputId": "5ffed3de-7555-4db8-e1d0-8b869709489c"
      },
      "execution_count": null,
      "outputs": [
        {
          "output_type": "execute_result",
          "data": {
            "text/plain": [
              "[2, 4, 6, 8, 10, 16, 18]"
            ]
          },
          "metadata": {},
          "execution_count": 23
        }
      ]
    },
    {
      "cell_type": "markdown",
      "source": [
        "###Filter out all the even number from a list."
      ],
      "metadata": {
        "id": "eP6d9iEl_syK"
      }
    },
    {
      "cell_type": "code",
      "source": [
        "list1 = [1, 2, 3, 4, 5, 8, 9]\n",
        "even_num = [num for num in list1 if num%2 == 0]\n",
        "even_num"
      ],
      "metadata": {
        "id": "Afa7OU57_sah",
        "colab": {
          "base_uri": "https://localhost:8080/"
        },
        "outputId": "580746d9-5e81-41c3-c399-f1d328e678db"
      },
      "execution_count": null,
      "outputs": [
        {
          "output_type": "execute_result",
          "data": {
            "text/plain": [
              "[2, 4, 8]"
            ]
          },
          "metadata": {},
          "execution_count": 27
        }
      ]
    },
    {
      "cell_type": "markdown",
      "source": [
        "###Convert a list of strings to a list of integers."
      ],
      "metadata": {
        "id": "QEsV1Qht_sKS"
      }
    },
    {
      "cell_type": "code",
      "source": [
        "string_list = [\"1\", \"2\", \"3\", \"4\", \"5\"]\n",
        "integer_list = list(map(int, string_list))\n",
        "print(integer_list)"
      ],
      "metadata": {
        "id": "M5V20Kq-_r5m",
        "colab": {
          "base_uri": "https://localhost:8080/"
        },
        "outputId": "01358527-e625-4153-b926-2387cb8a62ba"
      },
      "execution_count": null,
      "outputs": [
        {
          "output_type": "stream",
          "name": "stdout",
          "text": [
            "[1, 2, 3, 4, 5]\n"
          ]
        }
      ]
    },
    {
      "cell_type": "markdown",
      "source": [
        "###Convert a list of integers to a list of strings."
      ],
      "metadata": {
        "id": "p4sbRLqF_ro0"
      }
    },
    {
      "cell_type": "code",
      "source": [
        "integer_list = [1, 2, 3, 4, 5]\n",
        "string_list = list(map(str, integer_list))\n",
        "print(string_list)"
      ],
      "metadata": {
        "id": "pTaB-O-Z_rWu",
        "colab": {
          "base_uri": "https://localhost:8080/"
        },
        "outputId": "373444c7-1718-42af-aa97-100b2ef18394"
      },
      "execution_count": null,
      "outputs": [
        {
          "output_type": "stream",
          "name": "stdout",
          "text": [
            "['1', '2', '3', '4', '5']\n"
          ]
        }
      ]
    },
    {
      "cell_type": "markdown",
      "source": [
        "###Flatten a nested list."
      ],
      "metadata": {
        "id": "1SR53Gj6_rCJ"
      }
    },
    {
      "cell_type": "code",
      "source": [
        "nested_list = [[1, 2, 3], [4, 5], [6, 7, 8]]\n",
        "flatten_list = [num for item in nested_list for num in item]\n",
        "flatten_list"
      ],
      "metadata": {
        "id": "4LXSeDz3_qwD",
        "colab": {
          "base_uri": "https://localhost:8080/"
        },
        "outputId": "c4ad3be4-b776-4891-fc13-b8656c459892"
      },
      "execution_count": null,
      "outputs": [
        {
          "output_type": "execute_result",
          "data": {
            "text/plain": [
              "[1, 2, 3, 4, 5, 6, 7, 8]"
            ]
          },
          "metadata": {},
          "execution_count": 35
        }
      ]
    },
    {
      "cell_type": "markdown",
      "source": [
        "###Create a list of the first 10 Fibonacci numbers."
      ],
      "metadata": {
        "id": "-L7mpxFv_qd5"
      }
    },
    {
      "cell_type": "code",
      "source": [
        "def generate_fibonacci(n):\n",
        "    fibonacci_list = [0, 1]\n",
        "    while len(fibonacci_list) < n:\n",
        "        next_fibonacci = fibonacci_list[-1] + fibonacci_list[-2]\n",
        "        fibonacci_list.append(next_fibonacci)\n",
        "    return fibonacci_list[:n]\n",
        "\n",
        "fibonacci_numbers = generate_fibonacci(10)\n",
        "print(fibonacci_numbers)"
      ],
      "metadata": {
        "id": "5ujKX776_qHv",
        "colab": {
          "base_uri": "https://localhost:8080/"
        },
        "outputId": "4f4050fb-751f-4f7e-c9f1-616ec8419ffe"
      },
      "execution_count": null,
      "outputs": [
        {
          "output_type": "stream",
          "name": "stdout",
          "text": [
            "[0, 1, 1, 2, 3, 5, 8, 13, 21, 34]\n"
          ]
        }
      ]
    },
    {
      "cell_type": "markdown",
      "source": [
        "###Check if a list is sorted."
      ],
      "metadata": {
        "id": "y8mW9hy5_pp0"
      }
    },
    {
      "cell_type": "code",
      "source": [
        "def is_sorted(my_list):\n",
        "  [my_list[i] <= my_list[i+1] for i in range(len(my_list)-1)]\n",
        "  return my_list\n",
        "\n",
        "l = [1, 2, 3, 4, 5]\n",
        "print(is_sorted(l))"
      ],
      "metadata": {
        "id": "R9U-0____pYp",
        "colab": {
          "base_uri": "https://localhost:8080/"
        },
        "outputId": "e2f32cb5-d99c-41b7-9ceb-7c25dae59ccc"
      },
      "execution_count": null,
      "outputs": [
        {
          "output_type": "stream",
          "name": "stdout",
          "text": [
            "[1, 2, 3, 4, 5]\n"
          ]
        }
      ]
    },
    {
      "cell_type": "markdown",
      "source": [
        "###31. Rotate a list to the left by `n` positions."
      ],
      "metadata": {
        "id": "9LpP2WMy_o0P"
      }
    },
    {
      "cell_type": "code",
      "source": [
        "def rotate_left(n, lst):\n",
        "  dummy_list = lst[n::1]\n",
        "  rotate = dummy_list[::-1] + lst[:n]\n",
        "  return rotate\n",
        "\n",
        "l = [1, 2, 3, 4, 5]\n",
        "print(rotate_left(3, l))"
      ],
      "metadata": {
        "id": "AVt2XJIf_n4u",
        "colab": {
          "base_uri": "https://localhost:8080/"
        },
        "outputId": "2fd4d9af-ecd9-45ad-fde4-08166aceaf32"
      },
      "execution_count": null,
      "outputs": [
        {
          "output_type": "stream",
          "name": "stdout",
          "text": [
            "[5, 4, 1, 2, 3]\n"
          ]
        }
      ]
    },
    {
      "cell_type": "markdown",
      "source": [
        "###32.Rotate a list to the right by `n` positions."
      ],
      "metadata": {
        "id": "fre35tTZ_m7m"
      }
    },
    {
      "cell_type": "code",
      "source": [
        "def rotate_right(n, lst):\n",
        "  dummy_list = lst[:n]\n",
        "  rotate = dummy_list[::-1] + lst[n::]\n",
        "  return rotate\n",
        "\n",
        "l = [1, 2, 3, 4, 5]\n",
        "print(rotate_right(3, l))"
      ],
      "metadata": {
        "colab": {
          "base_uri": "https://localhost:8080/"
        },
        "id": "jxgN-SD1p7-G",
        "outputId": "15f55bd9-2476-4c1b-a248-257a20ac001e"
      },
      "execution_count": null,
      "outputs": [
        {
          "output_type": "stream",
          "name": "stdout",
          "text": [
            "[3, 2, 1, 4, 5]\n"
          ]
        }
      ]
    },
    {
      "cell_type": "markdown",
      "source": [
        "###33.Create a list of prime numbers up to 50."
      ],
      "metadata": {
        "id": "oq5B7JMY_kfC"
      }
    },
    {
      "cell_type": "code",
      "source": [
        "def is_prime(num):\n",
        "    if num <= 1:\n",
        "        return False\n",
        "    if num == 2:\n",
        "        return True\n",
        "    if num % 2 == 0:\n",
        "        return False\n",
        "    for i in range(3, int(num**0.5) + 1, 2):\n",
        "        if num % i == 0:\n",
        "            return False\n",
        "    return True\n",
        "\n",
        "prime_numbers = [num for num in range(2, 51) if is_prime(num)]\n",
        "print(prime_numbers)"
      ],
      "metadata": {
        "id": "y5MncXPk_hki",
        "colab": {
          "base_uri": "https://localhost:8080/"
        },
        "outputId": "e206198c-309d-4676-e159-9928404e9901"
      },
      "execution_count": null,
      "outputs": [
        {
          "output_type": "stream",
          "name": "stdout",
          "text": [
            "[2, 3, 5, 7, 11, 13, 17, 19, 23, 29, 31, 37, 41, 43, 47]\n"
          ]
        }
      ]
    },
    {
      "cell_type": "markdown",
      "source": [
        "\n",
        "###34. Split a list into chunks of size `n`"
      ],
      "metadata": {
        "id": "UUYqYv3P_hP_"
      }
    },
    {
      "cell_type": "code",
      "source": [
        "def chunk_list(lst, n):\n",
        "    return [lst[i:i + n] for i in range(0, len(lst), n)]\n",
        "\n",
        "my_list = [1, 2, 3, 4, 5, 6, 7, 8]\n",
        "chunks = chunk_list(my_list, 3)\n",
        "print(chunks)"
      ],
      "metadata": {
        "id": "VHKUMfbF_gzV",
        "colab": {
          "base_uri": "https://localhost:8080/"
        },
        "outputId": "77d6a22b-ddc1-4850-d446-6608829a2be2"
      },
      "execution_count": null,
      "outputs": [
        {
          "output_type": "stream",
          "name": "stdout",
          "text": [
            "[[1, 2, 3], [4, 5, 6], [7, 8]]\n"
          ]
        }
      ]
    },
    {
      "cell_type": "markdown",
      "source": [
        "###35. Find the second largest number in a list."
      ],
      "metadata": {
        "id": "5LFojSZVl70B"
      }
    },
    {
      "cell_type": "code",
      "source": [
        "def second_largest(lst):\n",
        "    unique_numbers = list(set(lst))\n",
        "    unique_numbers.sort()\n",
        "    if len(unique_numbers) < 2:\n",
        "        return None\n",
        "    return unique_numbers[-2]\n",
        "\n",
        "my_list = [3, 1, 5, 2, 4]\n",
        "second_max = second_largest(my_list)\n",
        "print(second_max)"
      ],
      "metadata": {
        "colab": {
          "base_uri": "https://localhost:8080/"
        },
        "id": "K_2PoErFl7CZ",
        "outputId": "0b2b333c-5802-46e5-f245-ce49cf2aba3b"
      },
      "execution_count": null,
      "outputs": [
        {
          "output_type": "stream",
          "name": "stdout",
          "text": [
            "4\n"
          ]
        }
      ]
    },
    {
      "cell_type": "markdown",
      "source": [
        "###36. Replace every element in a list with its square."
      ],
      "metadata": {
        "id": "ClH-phJkl6y2"
      }
    },
    {
      "cell_type": "code",
      "source": [
        "my_list = [1, 2, 3, 4, 5]\n",
        "squared_list = [x ** 2 for x in my_list]\n",
        "print(squared_list)"
      ],
      "metadata": {
        "colab": {
          "base_uri": "https://localhost:8080/"
        },
        "id": "9JBoV0WKl6ZM",
        "outputId": "db162213-2144-4365-e156-cfbd08625e7c"
      },
      "execution_count": null,
      "outputs": [
        {
          "output_type": "stream",
          "name": "stdout",
          "text": [
            "[1, 4, 9, 16, 25]\n"
          ]
        }
      ]
    },
    {
      "cell_type": "markdown",
      "source": [
        "###37. Convert a list to a dictionary where list elements become keys and their indices become values."
      ],
      "metadata": {
        "id": "DOIcNcrWl6E0"
      }
    },
    {
      "cell_type": "code",
      "source": [
        "my_list = [\"a\", \"b\", \"c\", \"d\"]\n",
        "dictionary = {value: index for index, value in enumerate(my_list)}\n",
        "print(dictionary)"
      ],
      "metadata": {
        "colab": {
          "base_uri": "https://localhost:8080/"
        },
        "id": "z-k17pjrl5zr",
        "outputId": "656510f1-14a8-4ee0-aa88-ead5e968433f"
      },
      "execution_count": null,
      "outputs": [
        {
          "output_type": "stream",
          "name": "stdout",
          "text": [
            "{'a': 0, 'b': 1, 'c': 2, 'd': 3}\n"
          ]
        }
      ]
    },
    {
      "cell_type": "markdown",
      "source": [
        "###38. Shuffle the elements of a list randomly."
      ],
      "metadata": {
        "id": "HOnUuYmYl5kd"
      }
    },
    {
      "cell_type": "code",
      "source": [
        "import random\n",
        "my_list = [1, 2, 3, 4, 5]\n",
        "random.shuffle(my_list)\n",
        "print(my_list)"
      ],
      "metadata": {
        "colab": {
          "base_uri": "https://localhost:8080/"
        },
        "id": "kxZyA4jWl5OM",
        "outputId": "36cb28ce-317d-46ac-de63-e272911a32c6"
      },
      "execution_count": null,
      "outputs": [
        {
          "output_type": "stream",
          "name": "stdout",
          "text": [
            "[4, 5, 2, 1, 3]\n"
          ]
        }
      ]
    },
    {
      "cell_type": "markdown",
      "source": [
        "###39. Create a list of the first 10 factorial numbers."
      ],
      "metadata": {
        "id": "f1_yRL2hl4_z"
      }
    },
    {
      "cell_type": "code",
      "source": [
        "def factorial(n):\n",
        "    if n == 0:\n",
        "        return 1\n",
        "    else:\n",
        "        return n * factorial(n-1)\n",
        "\n",
        "factorial_numbers = [factorial(i) for i in range(10)]\n",
        "print(factorial_numbers)"
      ],
      "metadata": {
        "colab": {
          "base_uri": "https://localhost:8080/"
        },
        "id": "rNqi_RhQl4vp",
        "outputId": "ca3f365a-77f6-4ec8-e280-9d2023c4178a"
      },
      "execution_count": null,
      "outputs": [
        {
          "output_type": "stream",
          "name": "stdout",
          "text": [
            "[1, 1, 2, 6, 24, 120, 720, 5040, 40320, 362880]\n"
          ]
        }
      ]
    },
    {
      "cell_type": "markdown",
      "source": [
        "###40. Check if two lists have at least one element in common."
      ],
      "metadata": {
        "id": "IxLHcFPbl4hH"
      }
    },
    {
      "cell_type": "code",
      "source": [
        "def have_common_element(list1, list2):\n",
        "    return any(item in list1 for item in list2)\n",
        "\n",
        "list1 = [1, 2, 3, 4, 5]\n",
        "list2 = [4, 5, 6, 7, 8]\n",
        "common = have_common_element(list1, list2)\n",
        "print(common)"
      ],
      "metadata": {
        "colab": {
          "base_uri": "https://localhost:8080/"
        },
        "id": "vMlFerizl4PQ",
        "outputId": "834c5706-ee99-426a-a2df-1b5ce21ade18"
      },
      "execution_count": null,
      "outputs": [
        {
          "output_type": "stream",
          "name": "stdout",
          "text": [
            "True\n"
          ]
        }
      ]
    },
    {
      "cell_type": "markdown",
      "source": [
        "###41. Remove all elements from a list."
      ],
      "metadata": {
        "id": "eaCdiZKbmxDy"
      }
    },
    {
      "cell_type": "code",
      "source": [
        "my_list = [1, -2, 3, -4, 5]\n",
        "my_list = [0 if x < 0 else x for x in my_list]\n",
        "print(my_list)"
      ],
      "metadata": {
        "colab": {
          "base_uri": "https://localhost:8080/"
        },
        "id": "VQWcBqSBl3yj",
        "outputId": "d16dfc86-9a92-4570-d8a6-b8091156278a"
      },
      "execution_count": null,
      "outputs": [
        {
          "output_type": "stream",
          "name": "stdout",
          "text": [
            "[1, 0, 3, 0, 5]\n"
          ]
        }
      ]
    },
    {
      "cell_type": "markdown",
      "source": [
        "###42. Replace negative numbers in a list with 0."
      ],
      "metadata": {
        "id": "5pKaTcjOl3fX"
      }
    },
    {
      "cell_type": "code",
      "source": [
        "my_list = [1, -2, 3, -4, 5]\n",
        "my_list = [0 if x < 0 else x for x in my_list]\n",
        "print(my_list)"
      ],
      "metadata": {
        "colab": {
          "base_uri": "https://localhost:8080/"
        },
        "id": "SCF75wmVl2Hs",
        "outputId": "38352961-9b42-42af-deb5-cb96b0a6b1b5"
      },
      "execution_count": null,
      "outputs": [
        {
          "output_type": "stream",
          "name": "stdout",
          "text": [
            "[1, 0, 3, 0, 5]\n"
          ]
        }
      ]
    },
    {
      "cell_type": "markdown",
      "source": [
        "###43. Convert a string into a list of words."
      ],
      "metadata": {
        "id": "F8S15nNXnCV9"
      }
    },
    {
      "cell_type": "code",
      "source": [
        "my_string = \"This is a sample string.\"\n",
        "word_list = my_string.split()\n",
        "print(word_list)"
      ],
      "metadata": {
        "colab": {
          "base_uri": "https://localhost:8080/"
        },
        "id": "w3YFaKCZnB_F",
        "outputId": "2b6c4f7d-0e72-4965-894c-77a1719924cc"
      },
      "execution_count": null,
      "outputs": [
        {
          "output_type": "stream",
          "name": "stdout",
          "text": [
            "['This', 'is', 'a', 'sample', 'string.']\n"
          ]
        }
      ]
    },
    {
      "cell_type": "markdown",
      "source": [
        "###44. Convert a list of words into a string."
      ],
      "metadata": {
        "id": "C4JaRJBjnBu-"
      }
    },
    {
      "cell_type": "code",
      "source": [
        "word_list = [\"This\", \"is\", \"a\", \"list\"]\n",
        "my_string = \" \".join(word_list)\n",
        "print(my_string)"
      ],
      "metadata": {
        "colab": {
          "base_uri": "https://localhost:8080/"
        },
        "id": "zKP7zOK5nBbJ",
        "outputId": "dfd9e046-0142-4529-d2ed-c0a9acc46bae"
      },
      "execution_count": null,
      "outputs": [
        {
          "output_type": "stream",
          "name": "stdout",
          "text": [
            "This is a list\n"
          ]
        }
      ]
    },
    {
      "cell_type": "markdown",
      "source": [
        "###45. Create a list of the first `n` powers of 2."
      ],
      "metadata": {
        "id": "2bZbP0GWnBJr"
      }
    },
    {
      "cell_type": "code",
      "source": [
        "n = 5\n",
        "powers_of_2 = [2**i for i in range(n)]\n",
        "print(powers_of_2)"
      ],
      "metadata": {
        "colab": {
          "base_uri": "https://localhost:8080/"
        },
        "id": "UFECPs4fnA4K",
        "outputId": "3291bbee-08a7-435b-f958-41ba0d8dcdce"
      },
      "execution_count": null,
      "outputs": [
        {
          "output_type": "stream",
          "name": "stdout",
          "text": [
            "[1, 2, 4, 8, 16]\n"
          ]
        }
      ]
    },
    {
      "cell_type": "markdown",
      "source": [
        "###46. Find the longest string in a list of strings."
      ],
      "metadata": {
        "id": "BiYi_HJpnAme"
      }
    },
    {
      "cell_type": "code",
      "source": [
        "string_list = [\"apple\", \"banana\", \"cherry\", \"date\"]\n",
        "longest_string = max(string_list, key=len)\n",
        "print(longest_string)"
      ],
      "metadata": {
        "colab": {
          "base_uri": "https://localhost:8080/"
        },
        "id": "iB4SVTphnAVU",
        "outputId": "d0f23ede-aed1-4ffa-cfa3-81c813e52b3b"
      },
      "execution_count": null,
      "outputs": [
        {
          "output_type": "stream",
          "name": "stdout",
          "text": [
            "banana\n"
          ]
        }
      ]
    },
    {
      "cell_type": "markdown",
      "source": [
        "###47. Find the shortest string in a list of strings."
      ],
      "metadata": {
        "id": "G1yGX6Lhm_9g"
      }
    },
    {
      "cell_type": "code",
      "source": [
        "string_list = [\"apple\", \"banana\", \"cherry\", \"date\"]\n",
        "shortest_string = min(string_list, key=len)\n",
        "print(shortest_string)"
      ],
      "metadata": {
        "colab": {
          "base_uri": "https://localhost:8080/"
        },
        "id": "qP3aiIbtm-m8",
        "outputId": "14379589-1f6e-43df-9adf-6d7ad8ac8126"
      },
      "execution_count": null,
      "outputs": [
        {
          "output_type": "stream",
          "name": "stdout",
          "text": [
            "date\n"
          ]
        }
      ]
    },
    {
      "cell_type": "markdown",
      "source": [
        "###48. Create a list of the first `n` triangular numbers."
      ],
      "metadata": {
        "id": "dbGWNri5m_Tf"
      }
    },
    {
      "cell_type": "code",
      "source": [
        "def triangular_number(n):\n",
        "    return n * (n + 1) // 2\n",
        "\n",
        "n = 5\n",
        "triangular_numbers = [triangular_number(i) for i in range(1, n + 1)]\n",
        "print(triangular_numbers)\n"
      ],
      "metadata": {
        "colab": {
          "base_uri": "https://localhost:8080/"
        },
        "id": "cH2nTw8Wm-jL",
        "outputId": "2bfd1a54-bd03-4caf-ea15-7a18707407b6"
      },
      "execution_count": null,
      "outputs": [
        {
          "output_type": "stream",
          "name": "stdout",
          "text": [
            "[1, 3, 6, 10, 15]\n"
          ]
        }
      ]
    },
    {
      "cell_type": "markdown",
      "source": [
        "###49. Check if a list contains another list as a subsequence."
      ],
      "metadata": {
        "id": "qXZifNPFm-Qt"
      }
    },
    {
      "cell_type": "code",
      "source": [
        "def is_subsequence(subsequence, sequence):\n",
        "    i, j = 0, 0\n",
        "    while i < len(subsequence) and j < len(sequence):\n",
        "        if subsequence[i] == sequence[j]:\n",
        "            i += 1\n",
        "        j += 1\n",
        "    return i == len(subsequence)\n",
        "\n",
        "list1 = [1, 2, 3, 4, 5, 6]\n",
        "list2 = [2, 4, 6]\n",
        "is_sub = is_subsequence(list2, list1)\n",
        "print(is_sub)\n"
      ],
      "metadata": {
        "colab": {
          "base_uri": "https://localhost:8080/"
        },
        "id": "MCCoKDwEm9-n",
        "outputId": "f55acce3-ae44-4a2b-bcd9-7bf8ed8586d5"
      },
      "execution_count": null,
      "outputs": [
        {
          "output_type": "stream",
          "name": "stdout",
          "text": [
            "True\n"
          ]
        }
      ]
    },
    {
      "cell_type": "markdown",
      "source": [
        "###50. Swap two elements in a list by their indices."
      ],
      "metadata": {
        "id": "0g0CSNAIm9uR"
      }
    },
    {
      "cell_type": "code",
      "source": [
        "def swap_elements(lst, index1, index2):\n",
        "    lst[index1], lst[index2] = lst[index2], lst[index1]\n",
        "\n",
        "my_list = [1, 2, 3, 4, 5]\n",
        "swap_elements(my_list, 1, 3)\n",
        "print(my_list)"
      ],
      "metadata": {
        "colab": {
          "base_uri": "https://localhost:8080/"
        },
        "id": "WnvAqfO4m9K0",
        "outputId": "8c226828-1c61-4610-b91c-3cb88ef37343"
      },
      "execution_count": null,
      "outputs": [
        {
          "output_type": "stream",
          "name": "stdout",
          "text": [
            "[1, 4, 3, 2, 5]\n"
          ]
        }
      ]
    },
    {
      "cell_type": "markdown",
      "source": [
        "#Tuple Based Practice Problem :"
      ],
      "metadata": {
        "id": "C8b_fwK8m85K"
      }
    },
    {
      "cell_type": "markdown",
      "source": [
        "###1. Create a tuple with integers from 1 to 5."
      ],
      "metadata": {
        "id": "Ya_5SlzXndAs"
      }
    },
    {
      "cell_type": "code",
      "source": [
        "my_tuple = (1, 2, 3, 4, 5)\n"
      ],
      "metadata": {
        "id": "yAlMRJHGm8ob"
      },
      "execution_count": null,
      "outputs": []
    },
    {
      "cell_type": "markdown",
      "source": [
        "###2. Access the third element of a tuple."
      ],
      "metadata": {
        "id": "MgA-G0wFm8WG"
      }
    },
    {
      "cell_type": "code",
      "source": [
        "third_element = my_tuple[2]\n",
        "print(third_element)"
      ],
      "metadata": {
        "colab": {
          "base_uri": "https://localhost:8080/"
        },
        "id": "-DeuKaH2m8E6",
        "outputId": "663a63f4-e407-45f1-f78a-99f0658e6b5e"
      },
      "execution_count": null,
      "outputs": [
        {
          "output_type": "stream",
          "name": "stdout",
          "text": [
            "3\n"
          ]
        }
      ]
    },
    {
      "cell_type": "markdown",
      "source": [
        "###3. Find the length of a tuple without using the `len()` function."
      ],
      "metadata": {
        "id": "wDs09uD7m7qT"
      }
    },
    {
      "cell_type": "code",
      "source": [
        "tuple_length = sum(1 for _ in my_tuple)\n",
        "print(tuple_length)\n"
      ],
      "metadata": {
        "colab": {
          "base_uri": "https://localhost:8080/"
        },
        "id": "nXTHgpBZnkLw",
        "outputId": "992950ce-6f84-49b6-c553-dadb1a5f20d6"
      },
      "execution_count": null,
      "outputs": [
        {
          "output_type": "stream",
          "name": "stdout",
          "text": [
            "5\n"
          ]
        }
      ]
    },
    {
      "cell_type": "markdown",
      "source": [
        "###4. Count the occurrences of an element in a tuple."
      ],
      "metadata": {
        "id": "vux6V2rXm7jR"
      }
    },
    {
      "cell_type": "code",
      "source": [
        "element_count = my_tuple.count(3)\n",
        "print(element_count)"
      ],
      "metadata": {
        "colab": {
          "base_uri": "https://localhost:8080/"
        },
        "id": "91jpBpuZm62M",
        "outputId": "69cfe312-a202-4328-cd2b-f4531d692d4f"
      },
      "execution_count": null,
      "outputs": [
        {
          "output_type": "stream",
          "name": "stdout",
          "text": [
            "1\n"
          ]
        }
      ]
    },
    {
      "cell_type": "markdown",
      "source": [
        "###5. Find the index of the first occurrence of an element in a tuple."
      ],
      "metadata": {
        "id": "2o055uwXnopf"
      }
    },
    {
      "cell_type": "code",
      "source": [
        "my_tuple = (1, 2, 3, 4, 5, 3)\n",
        "index = my_tuple.index(3)\n",
        "print(index)"
      ],
      "metadata": {
        "colab": {
          "base_uri": "https://localhost:8080/"
        },
        "id": "3ADTYvkVm6WX",
        "outputId": "bd28c5b6-f04d-449e-8889-d3e427cb1cc0"
      },
      "execution_count": null,
      "outputs": [
        {
          "output_type": "stream",
          "name": "stdout",
          "text": [
            "2\n"
          ]
        }
      ]
    },
    {
      "cell_type": "markdown",
      "source": [
        "###6. Check if an element exists in a tuple."
      ],
      "metadata": {
        "id": "gBHdxtT7m56e"
      }
    },
    {
      "cell_type": "code",
      "source": [
        "my_tuple = (1, 2, 3, 4, 5)\n",
        "element = 3\n",
        "exists = element in my_tuple\n",
        "print(exists)"
      ],
      "metadata": {
        "colab": {
          "base_uri": "https://localhost:8080/"
        },
        "id": "d0Zt5LRmm5aU",
        "outputId": "7009dcda-f759-45d8-a545-a40fa6e4686b"
      },
      "execution_count": null,
      "outputs": [
        {
          "output_type": "stream",
          "name": "stdout",
          "text": [
            "True\n"
          ]
        }
      ]
    },
    {
      "cell_type": "markdown",
      "source": [
        "###7. Convert a tuple to a list."
      ],
      "metadata": {
        "id": "YZLPFD4Um4-k"
      }
    },
    {
      "cell_type": "code",
      "source": [
        "my_tuple = (1, 2, 3, 4, 5)\n",
        "my_list = list(my_tuple)\n",
        "print(my_list)"
      ],
      "metadata": {
        "colab": {
          "base_uri": "https://localhost:8080/"
        },
        "id": "bC0gYztttt-1",
        "outputId": "062accaf-87a3-45fb-e425-426274f60c24"
      },
      "execution_count": null,
      "outputs": [
        {
          "output_type": "stream",
          "name": "stdout",
          "text": [
            "[1, 2, 3, 4, 5]\n"
          ]
        }
      ]
    },
    {
      "cell_type": "markdown",
      "source": [
        "###8. Convert a list to a tuple."
      ],
      "metadata": {
        "id": "1i_wMpHYo0Ic"
      }
    },
    {
      "cell_type": "code",
      "source": [
        "my_list = [1, 2, 3, 4, 5]\n",
        "my_tuple = tuple(my_list)\n",
        "print(my_tuple)"
      ],
      "metadata": {
        "colab": {
          "base_uri": "https://localhost:8080/"
        },
        "id": "NoNizZlpozyo",
        "outputId": "49bc8cdd-cc88-4e28-907c-599775eeac3b"
      },
      "execution_count": null,
      "outputs": [
        {
          "output_type": "stream",
          "name": "stdout",
          "text": [
            "(1, 2, 3, 4, 5)\n"
          ]
        }
      ]
    },
    {
      "cell_type": "markdown",
      "source": [
        "###9. Unpack the elements of a tuple into variables."
      ],
      "metadata": {
        "id": "oe5cRfIbo0to"
      }
    },
    {
      "cell_type": "code",
      "source": [
        "my_tuple = (1, 2, 3)\n",
        "a, b, c = my_tuple\n",
        "print(a, b, c)\n"
      ],
      "metadata": {
        "colab": {
          "base_uri": "https://localhost:8080/"
        },
        "id": "CZMTjH6dozUR",
        "outputId": "6e19e095-c976-4879-9798-10e59740310b"
      },
      "execution_count": null,
      "outputs": [
        {
          "output_type": "stream",
          "name": "stdout",
          "text": [
            "1 2 3\n"
          ]
        }
      ]
    },
    {
      "cell_type": "markdown",
      "source": [
        "###10. Create a tuple of even numbers from 1 to 10.\n"
      ],
      "metadata": {
        "id": "dln3uac1oy5j"
      }
    },
    {
      "cell_type": "code",
      "source": [
        "even_numbers = tuple(range(2, 11, 2))\n",
        "print(even_numbers)"
      ],
      "metadata": {
        "colab": {
          "base_uri": "https://localhost:8080/"
        },
        "id": "ge4uW77foym4",
        "outputId": "d74a1e8a-c415-4a5f-b577-f8a6a80ac265"
      },
      "execution_count": null,
      "outputs": [
        {
          "output_type": "stream",
          "name": "stdout",
          "text": [
            "(2, 4, 6, 8, 10)\n"
          ]
        }
      ]
    },
    {
      "cell_type": "markdown",
      "source": [
        "###11. Create a tuple of odd numbers from 1 to 10."
      ],
      "metadata": {
        "id": "FPvvI8oDoyXo"
      }
    },
    {
      "cell_type": "code",
      "source": [
        "odd_numbers = tuple(range(1, 11, 2))\n",
        "print(odd_numbers)\n"
      ],
      "metadata": {
        "colab": {
          "base_uri": "https://localhost:8080/"
        },
        "id": "4KnM4cLroyD_",
        "outputId": "78ed2a62-619b-4fd2-968b-5ffdb65ae328"
      },
      "execution_count": null,
      "outputs": [
        {
          "output_type": "stream",
          "name": "stdout",
          "text": [
            "(1, 3, 5, 7, 9)\n"
          ]
        }
      ]
    },
    {
      "cell_type": "markdown",
      "source": [
        "###12. Concatenate two tuples."
      ],
      "metadata": {
        "id": "byoAX8_LoxwR"
      }
    },
    {
      "cell_type": "code",
      "source": [
        "tuple1 = (1, 2, 3)\n",
        "tuple2 = (4, 5, 6)\n",
        "concatenated_tuple = tuple1 + tuple2\n",
        "print(concatenated_tuple)"
      ],
      "metadata": {
        "colab": {
          "base_uri": "https://localhost:8080/"
        },
        "id": "RIc_PhWYoxVw",
        "outputId": "ceaefc7f-4da6-4d07-e679-b72e4e4b52e7"
      },
      "execution_count": null,
      "outputs": [
        {
          "output_type": "stream",
          "name": "stdout",
          "text": [
            "(1, 2, 3, 4, 5, 6)\n"
          ]
        }
      ]
    },
    {
      "cell_type": "markdown",
      "source": [
        "###13. Repeat a tuple three times.\n"
      ],
      "metadata": {
        "id": "1PBmbrfAoxEP"
      }
    },
    {
      "cell_type": "code",
      "source": [
        "my_tuple = (1, 2, 3)\n",
        "repeated_tuple = my_tuple * 3\n",
        "print(repeated_tuple)"
      ],
      "metadata": {
        "colab": {
          "base_uri": "https://localhost:8080/"
        },
        "id": "dDFmzp0Now0X",
        "outputId": "9637f39a-70df-4482-c19d-710fb2786ffd"
      },
      "execution_count": null,
      "outputs": [
        {
          "output_type": "stream",
          "name": "stdout",
          "text": [
            "(1, 2, 3, 1, 2, 3, 1, 2, 3)\n"
          ]
        }
      ]
    },
    {
      "cell_type": "markdown",
      "source": [
        "###14. Check if a tuple is empty."
      ],
      "metadata": {
        "id": "LPS2HuPiowlT"
      }
    },
    {
      "cell_type": "code",
      "source": [
        "empty_tuple = ()\n",
        "is_empty = len(empty_tuple) == 0\n",
        "print(is_empty)\n"
      ],
      "metadata": {
        "colab": {
          "base_uri": "https://localhost:8080/"
        },
        "id": "AqB9pRlUowS4",
        "outputId": "57b4d1c7-2f29-40fc-f63f-dbe7b0cce10a"
      },
      "execution_count": null,
      "outputs": [
        {
          "output_type": "stream",
          "name": "stdout",
          "text": [
            "True\n"
          ]
        }
      ]
    },
    {
      "cell_type": "markdown",
      "source": [
        "###15. Create a nested tuple."
      ],
      "metadata": {
        "id": "mRxTj1wyovcc"
      }
    },
    {
      "cell_type": "code",
      "source": [
        "nested_tuple = ((1, 2), (3, 4))\n",
        "print(nested_tuple)"
      ],
      "metadata": {
        "colab": {
          "base_uri": "https://localhost:8080/"
        },
        "id": "VNsfV_3aovM7",
        "outputId": "221d4e04-9850-49ba-cb4c-8d712ab76470"
      },
      "execution_count": null,
      "outputs": [
        {
          "output_type": "stream",
          "name": "stdout",
          "text": [
            "((1, 2), (3, 4))\n"
          ]
        }
      ]
    },
    {
      "cell_type": "markdown",
      "source": [
        "###16. Access the first element of a nested tuple."
      ],
      "metadata": {
        "id": "_ZHUprzwou6b"
      }
    },
    {
      "cell_type": "code",
      "source": [
        "nested_tuple = ((1, 2), (3, 4))\n",
        "first_element = nested_tuple[0]\n",
        "print(first_element)\n"
      ],
      "metadata": {
        "colab": {
          "base_uri": "https://localhost:8080/"
        },
        "id": "p1Pf4wqKoun4",
        "outputId": "d806f431-bbbd-4fe8-ff51-e4fede865ff7"
      },
      "execution_count": null,
      "outputs": [
        {
          "output_type": "stream",
          "name": "stdout",
          "text": [
            "(1, 2)\n"
          ]
        }
      ]
    },
    {
      "cell_type": "markdown",
      "source": [
        "###17. Create a tuple with a single element."
      ],
      "metadata": {
        "id": "F--Pib7AouYX"
      }
    },
    {
      "cell_type": "code",
      "source": [
        "single_element_tuple = (5,)\n",
        "print(single_element_tuple)"
      ],
      "metadata": {
        "colab": {
          "base_uri": "https://localhost:8080/"
        },
        "id": "OnynPgpuouI-",
        "outputId": "b319fc1f-e40f-431a-df8f-d564b8f76aee"
      },
      "execution_count": null,
      "outputs": [
        {
          "output_type": "stream",
          "name": "stdout",
          "text": [
            "(5,)\n"
          ]
        }
      ]
    },
    {
      "cell_type": "markdown",
      "source": [
        "###18. Compare two tuples."
      ],
      "metadata": {
        "id": "-nuOCZnHotzL"
      }
    },
    {
      "cell_type": "code",
      "source": [
        "tuple1 = (1, 2, 3)\n",
        "tuple2 = (1, 2, 3)\n",
        "are_equal = tuple1 == tuple2\n",
        "print(are_equal)"
      ],
      "metadata": {
        "colab": {
          "base_uri": "https://localhost:8080/"
        },
        "id": "bOfl8jfhotjH",
        "outputId": "6f898de6-ab94-400f-d719-d84dc11768e5"
      },
      "execution_count": null,
      "outputs": [
        {
          "output_type": "stream",
          "name": "stdout",
          "text": [
            "True\n"
          ]
        }
      ]
    },
    {
      "cell_type": "markdown",
      "source": [
        "###19. Delete a tuple."
      ],
      "metadata": {
        "id": "jhwcF0pFotS0"
      }
    },
    {
      "cell_type": "code",
      "source": [
        "my_tuple = (1, 2, 3)\n",
        "del my_tuple\n",
        "# my_tuple is no longer accessible after this point\n"
      ],
      "metadata": {
        "id": "cdHblpbYotCn"
      },
      "execution_count": null,
      "outputs": []
    },
    {
      "cell_type": "markdown",
      "source": [
        "###20. Slice a tuple."
      ],
      "metadata": {
        "id": "ZbVqX-ekosys"
      }
    },
    {
      "cell_type": "code",
      "source": [
        "my_tuple = (1, 2, 3, 4, 5)\n",
        "sliced_tuple = my_tuple[1:4]\n",
        "print(sliced_tuple)\n"
      ],
      "metadata": {
        "colab": {
          "base_uri": "https://localhost:8080/"
        },
        "id": "1JeyafPxorPQ",
        "outputId": "61335424-a74a-4c0f-e1f2-9fb92f1bc026"
      },
      "execution_count": null,
      "outputs": [
        {
          "output_type": "stream",
          "name": "stdout",
          "text": [
            "(2, 3, 4)\n"
          ]
        }
      ]
    },
    {
      "cell_type": "markdown",
      "source": [
        "###21. Find the maximum value in a tuple."
      ],
      "metadata": {
        "id": "d2aoh4j0oq-A"
      }
    },
    {
      "cell_type": "code",
      "source": [
        "my_tuple = (5, 8, 2, 10, 3)\n",
        "max_value = max(my_tuple)\n",
        "print(max_value)\n"
      ],
      "metadata": {
        "colab": {
          "base_uri": "https://localhost:8080/"
        },
        "id": "_VUqSE1foqu1",
        "outputId": "5c43213b-01ea-4b76-dee7-f49f6e0f1c71"
      },
      "execution_count": null,
      "outputs": [
        {
          "output_type": "stream",
          "name": "stdout",
          "text": [
            "10\n"
          ]
        }
      ]
    },
    {
      "cell_type": "markdown",
      "source": [
        "###22. Find the minimum value in a tuple."
      ],
      "metadata": {
        "id": "F-Piw5jZosD3"
      }
    },
    {
      "cell_type": "code",
      "source": [
        "my_tuple = (5, 8, 2, 10, 3)\n",
        "min_value = min(my_tuple)\n",
        "print(min_value)"
      ],
      "metadata": {
        "colab": {
          "base_uri": "https://localhost:8080/"
        },
        "id": "8aHkKmeroqSD",
        "outputId": "c5041908-d459-4d9d-ff2f-24be69ce16b0"
      },
      "execution_count": null,
      "outputs": [
        {
          "output_type": "stream",
          "name": "stdout",
          "text": [
            "2\n"
          ]
        }
      ]
    },
    {
      "cell_type": "markdown",
      "source": [
        "###23. Convert a string to a tuple of characters."
      ],
      "metadata": {
        "id": "tWV3kELYoqBI"
      }
    },
    {
      "cell_type": "code",
      "source": [
        "my_string = \"Hello\"\n",
        "char_tuple = tuple(my_string)\n",
        "print(char_tuple)"
      ],
      "metadata": {
        "colab": {
          "base_uri": "https://localhost:8080/"
        },
        "id": "Lx-0CO5WopzT",
        "outputId": "d92753ae-fa16-4dc0-8141-1923b7876006"
      },
      "execution_count": null,
      "outputs": [
        {
          "output_type": "stream",
          "name": "stdout",
          "text": [
            "('H', 'e', 'l', 'l', 'o')\n"
          ]
        }
      ]
    },
    {
      "cell_type": "markdown",
      "source": [
        "###24. Convert a tuple of characters to a string."
      ],
      "metadata": {
        "id": "_-szYM42oplJ"
      }
    },
    {
      "cell_type": "code",
      "source": [
        "char_tuple = ('H', 'e', 'l', 'l', 'o')\n",
        "my_string = ''.join(char_tuple)\n",
        "print(my_string)\n"
      ],
      "metadata": {
        "colab": {
          "base_uri": "https://localhost:8080/"
        },
        "id": "HzlGXYS2opYG",
        "outputId": "0d9d7c14-6451-48f7-e79b-13b402d8c32e"
      },
      "execution_count": null,
      "outputs": [
        {
          "output_type": "stream",
          "name": "stdout",
          "text": [
            "Hello\n"
          ]
        }
      ]
    },
    {
      "cell_type": "markdown",
      "source": [
        "###25. Create a tuple from multiple data types.\n"
      ],
      "metadata": {
        "id": "NZY_Yhm3opJH"
      }
    },
    {
      "cell_type": "code",
      "source": [
        "mixed_tuple = (1, \"two\", 3.0, [4, 5])\n",
        "print(mixed_tuple)\n"
      ],
      "metadata": {
        "colab": {
          "base_uri": "https://localhost:8080/"
        },
        "id": "3cjhYfGDoo4I",
        "outputId": "2639c885-c153-4d82-e123-00e2fd869f75"
      },
      "execution_count": null,
      "outputs": [
        {
          "output_type": "stream",
          "name": "stdout",
          "text": [
            "(1, 'two', 3.0, [4, 5])\n"
          ]
        }
      ]
    },
    {
      "cell_type": "markdown",
      "source": [
        "###26. Check if two tuples are identical."
      ],
      "metadata": {
        "id": "uewHXRHDoolV"
      }
    },
    {
      "cell_type": "code",
      "source": [
        "tuple1 = (1, 2, 3)\n",
        "tuple2 = (1, 2, 3)\n",
        "are_identical = tuple1 == tuple2\n",
        "print(are_identical)"
      ],
      "metadata": {
        "colab": {
          "base_uri": "https://localhost:8080/"
        },
        "id": "2wWr0w1KooH3",
        "outputId": "df0895be-0fb6-46e5-b750-fc4d5cea91d7"
      },
      "execution_count": null,
      "outputs": [
        {
          "output_type": "stream",
          "name": "stdout",
          "text": [
            "True\n"
          ]
        }
      ]
    },
    {
      "cell_type": "markdown",
      "source": [
        "###27. Sort the elements of a tuple.\n",
        "\n"
      ],
      "metadata": {
        "id": "StkpZs8xmsf6"
      }
    },
    {
      "cell_type": "code",
      "source": [
        "my_tuple = (3, 1, 4, 2, 5)\n",
        "sorted_tuple = tuple(sorted(my_tuple))\n",
        "print(sorted_tuple)"
      ],
      "metadata": {
        "id": "bQmEHtuHwn-e",
        "colab": {
          "base_uri": "https://localhost:8080/"
        },
        "outputId": "23189a5a-36f6-4b51-e061-c6b0699ca2cf"
      },
      "execution_count": 8,
      "outputs": [
        {
          "output_type": "stream",
          "name": "stdout",
          "text": [
            "(1, 2, 3, 4, 5)\n"
          ]
        }
      ]
    },
    {
      "cell_type": "markdown",
      "source": [
        "###28. Convert a tuple of integers to a tuple of strings"
      ],
      "metadata": {
        "id": "UzJHPH2EmfK8"
      }
    },
    {
      "cell_type": "code",
      "source": [
        "int_tuple = (1, 2, 3, 4, 5)\n",
        "str_tuple = tuple(str(x) for x in int_tuple)\n",
        "print(str_tuple)"
      ],
      "metadata": {
        "colab": {
          "base_uri": "https://localhost:8080/"
        },
        "id": "y6NgeKbome7G",
        "outputId": "545b4b58-fa3f-47e5-c61b-c788890dfc71"
      },
      "execution_count": 9,
      "outputs": [
        {
          "output_type": "stream",
          "name": "stdout",
          "text": [
            "('1', '2', '3', '4', '5')\n"
          ]
        }
      ]
    },
    {
      "cell_type": "markdown",
      "source": [
        "###29. Convert a tuple of strings to a tuple of integers."
      ],
      "metadata": {
        "id": "sSdtzokLmegf"
      }
    },
    {
      "cell_type": "code",
      "source": [
        "str_tuple = (\"1\", \"2\", \"3\", \"4\", \"5\")\n",
        "int_tuple = tuple(int(x) for x in str_tuple)\n",
        "print(int_tuple)\n"
      ],
      "metadata": {
        "colab": {
          "base_uri": "https://localhost:8080/"
        },
        "id": "QNrnDumomeQy",
        "outputId": "3f8de128-c157-4c8c-86a3-5091740b143b"
      },
      "execution_count": 10,
      "outputs": [
        {
          "output_type": "stream",
          "name": "stdout",
          "text": [
            "(1, 2, 3, 4, 5)\n"
          ]
        }
      ]
    },
    {
      "cell_type": "markdown",
      "source": [
        "###30. Merge two tuples."
      ],
      "metadata": {
        "id": "dIf091c5meA1"
      }
    },
    {
      "cell_type": "code",
      "source": [
        "tuple1 = (1, 2, 3)\n",
        "tuple2 = (4, 5, 6)\n",
        "merged_tuple = tuple1 + tuple2\n",
        "print(merged_tuple)"
      ],
      "metadata": {
        "colab": {
          "base_uri": "https://localhost:8080/"
        },
        "id": "ZEZzpZElmdqM",
        "outputId": "857feeb9-54c0-4dab-8910-cb6df417a26b"
      },
      "execution_count": 11,
      "outputs": [
        {
          "output_type": "stream",
          "name": "stdout",
          "text": [
            "(1, 2, 3, 4, 5, 6)\n"
          ]
        }
      ]
    },
    {
      "cell_type": "markdown",
      "source": [
        "###31. Flatten a nested tuple."
      ],
      "metadata": {
        "id": "jKLlNv5CmdVc"
      }
    },
    {
      "cell_type": "code",
      "source": [
        "nested_tuple = ((1, 2), (3, 4), (5, 6))\n",
        "flattened_tuple = tuple(item for sublist in nested_tuple for item in sublist)\n",
        "print(flattened_tuple)"
      ],
      "metadata": {
        "colab": {
          "base_uri": "https://localhost:8080/"
        },
        "id": "-nFVMAAmmdF5",
        "outputId": "d8bacdbd-2a12-4103-c08e-2fb399bfffa5"
      },
      "execution_count": 12,
      "outputs": [
        {
          "output_type": "stream",
          "name": "stdout",
          "text": [
            "(1, 2, 3, 4, 5, 6)\n"
          ]
        }
      ]
    },
    {
      "cell_type": "markdown",
      "source": [
        "###32. Create a tuple of the first 5 prime numbers."
      ],
      "metadata": {
        "id": "tv5c2wCjmc2N"
      }
    },
    {
      "cell_type": "code",
      "source": [
        "prime_numbers = (2, 3, 5, 7, 11)\n",
        "print(prime_numbers)"
      ],
      "metadata": {
        "colab": {
          "base_uri": "https://localhost:8080/"
        },
        "id": "5urt6nx6mcl0",
        "outputId": "dfb27dc9-87f6-456d-fe65-f864c3c0c2e6"
      },
      "execution_count": 13,
      "outputs": [
        {
          "output_type": "stream",
          "name": "stdout",
          "text": [
            "(2, 3, 5, 7, 11)\n"
          ]
        }
      ]
    },
    {
      "cell_type": "markdown",
      "source": [
        "###33. Check if a tuple is a palindrome."
      ],
      "metadata": {
        "id": "qpKb6WAOmcUu"
      }
    },
    {
      "cell_type": "code",
      "source": [
        "my_tuple = (1, 2, 3, 2, 1)\n",
        "is_palindrome = my_tuple == my_tuple[::-1]\n",
        "print(is_palindrome)"
      ],
      "metadata": {
        "colab": {
          "base_uri": "https://localhost:8080/"
        },
        "id": "gNKQkwuXmcD0",
        "outputId": "460707ed-973b-4a06-d9a8-13bd5eb9b2cb"
      },
      "execution_count": 14,
      "outputs": [
        {
          "output_type": "stream",
          "name": "stdout",
          "text": [
            "True\n"
          ]
        }
      ]
    },
    {
      "cell_type": "markdown",
      "source": [
        "###34. Create a tuple of squares of numbers from 1 to 5."
      ],
      "metadata": {
        "id": "y2P8wT9mmbzg"
      }
    },
    {
      "cell_type": "code",
      "source": [
        "squares_tuple = tuple(x**2 for x in range(1, 6))\n",
        "print(squares_tuple)"
      ],
      "metadata": {
        "colab": {
          "base_uri": "https://localhost:8080/"
        },
        "id": "g8BO4IHMmbhS",
        "outputId": "2f629401-443d-444c-83b4-cef561ba481d"
      },
      "execution_count": 15,
      "outputs": [
        {
          "output_type": "stream",
          "name": "stdout",
          "text": [
            "(1, 4, 9, 16, 25)\n"
          ]
        }
      ]
    },
    {
      "cell_type": "markdown",
      "source": [
        "###35. Filter out all even numbers from a tuple."
      ],
      "metadata": {
        "id": "wOyKp0m8mbRI"
      }
    },
    {
      "cell_type": "code",
      "source": [
        "my_tuple = (1, 2, 3, 4, 5, 6, 7, 8, 9, 10)\n",
        "filtered_tuple = tuple(x for x in my_tuple if x % 2 != 0)\n",
        "print(filtered_tuple)"
      ],
      "metadata": {
        "colab": {
          "base_uri": "https://localhost:8080/"
        },
        "id": "uVVM2qKxma7a",
        "outputId": "5149cb4f-30b7-4a20-f84b-4ca4186ce49b"
      },
      "execution_count": 16,
      "outputs": [
        {
          "output_type": "stream",
          "name": "stdout",
          "text": [
            "(1, 3, 5, 7, 9)\n"
          ]
        }
      ]
    },
    {
      "cell_type": "markdown",
      "source": [
        "###36. Multiply all elements in a tuple by 2."
      ],
      "metadata": {
        "id": "ZhAm-J7Pmaaj"
      }
    },
    {
      "cell_type": "code",
      "source": [
        "my_tuple = (1, 2, 3, 4, 5)\n",
        "doubled_tuple = tuple(x * 2 for x in my_tuple)\n",
        "print(doubled_tuple)\n"
      ],
      "metadata": {
        "colab": {
          "base_uri": "https://localhost:8080/"
        },
        "id": "QOBRzc2FqPrs",
        "outputId": "72582b05-310f-45e9-e2c9-59bd8da80e8d"
      },
      "execution_count": 17,
      "outputs": [
        {
          "output_type": "stream",
          "name": "stdout",
          "text": [
            "(2, 4, 6, 8, 10)\n"
          ]
        }
      ]
    },
    {
      "cell_type": "markdown",
      "source": [
        "###37. Create a tuple of random numbers."
      ],
      "metadata": {
        "id": "-AfpmGRuqXmU"
      }
    },
    {
      "cell_type": "code",
      "source": [
        "import random\n",
        "\n",
        "random_tuple = tuple(random.randint(1, 100) for _ in range(5))\n",
        "print(random_tuple)\n"
      ],
      "metadata": {
        "colab": {
          "base_uri": "https://localhost:8080/"
        },
        "id": "bWDLrdafqXXz",
        "outputId": "1c899b1b-e69d-49b5-e5c4-ee8e00a874aa"
      },
      "execution_count": 18,
      "outputs": [
        {
          "output_type": "stream",
          "name": "stdout",
          "text": [
            "(61, 13, 93, 100, 9)\n"
          ]
        }
      ]
    },
    {
      "cell_type": "markdown",
      "source": [
        "###38. Check if a tuple is sorted."
      ],
      "metadata": {
        "id": "pzFEdjjLqXH8"
      }
    },
    {
      "cell_type": "code",
      "source": [
        "def is_sorted_tuple(tup):\n",
        "    return all(tup[i] <= tup[i+1] for i in range(len(tup)-1))\n",
        "\n",
        "my_tuple = (1, 2, 3, 4, 5)\n",
        "is_sorted = is_sorted_tuple(my_tuple)\n",
        "print(is_sorted)"
      ],
      "metadata": {
        "colab": {
          "base_uri": "https://localhost:8080/"
        },
        "id": "5eGBBeuVqW5A",
        "outputId": "568c7de2-d510-4919-d2ff-e3f9301aeba7"
      },
      "execution_count": 19,
      "outputs": [
        {
          "output_type": "stream",
          "name": "stdout",
          "text": [
            "True\n"
          ]
        }
      ]
    },
    {
      "cell_type": "markdown",
      "source": [
        "###39. Rotate a tuple to the left by `n` positions."
      ],
      "metadata": {
        "id": "KKqr5edSqWkI"
      }
    },
    {
      "cell_type": "code",
      "source": [
        "def rotate_left_tuple(n, tup):\n",
        "    return tup[n:] + tup[:n]\n",
        "\n",
        "my_tuple = (1, 2, 3, 4, 5)\n",
        "rotated_tuple = rotate_left_tuple(2, my_tuple)\n",
        "print(rotated_tuple)"
      ],
      "metadata": {
        "colab": {
          "base_uri": "https://localhost:8080/"
        },
        "id": "bA5kk9gtqWNP",
        "outputId": "29a07dbf-a2a0-4c94-cdd4-ce9db5edbdbd"
      },
      "execution_count": 20,
      "outputs": [
        {
          "output_type": "stream",
          "name": "stdout",
          "text": [
            "(3, 4, 5, 1, 2)\n"
          ]
        }
      ]
    },
    {
      "cell_type": "markdown",
      "source": [
        "###40. Rotate a tuple to the right by `n` positions."
      ],
      "metadata": {
        "id": "QKFFbG__qV1P"
      }
    },
    {
      "cell_type": "code",
      "source": [
        "def rotate_right_tuple(n, tup):\n",
        "    return tup[-n:] + tup[:-n]\n",
        "\n",
        "my_tuple = (1, 2, 3, 4, 5)\n",
        "rotated_tuple = rotate_right_tuple(2, my_tuple)\n",
        "print(rotated_tuple)"
      ],
      "metadata": {
        "colab": {
          "base_uri": "https://localhost:8080/"
        },
        "id": "NTg1wRy7qVdt",
        "outputId": "697f2644-7f03-46df-f65e-7ff8864d168e"
      },
      "execution_count": 21,
      "outputs": [
        {
          "output_type": "stream",
          "name": "stdout",
          "text": [
            "(4, 5, 1, 2, 3)\n"
          ]
        }
      ]
    },
    {
      "cell_type": "markdown",
      "source": [
        "###41. Create a tuple of the first 5 Fibonacci numbers."
      ],
      "metadata": {
        "id": "eqKzGQVIqVJh"
      }
    },
    {
      "cell_type": "code",
      "source": [
        "def generate_fibonacci(n):\n",
        "    fibonacci_tuple = (0, 1)\n",
        "    while len(fibonacci_tuple) < n:\n",
        "        next_fibonacci = fibonacci_tuple[-1] + fibonacci_tuple[-2]\n",
        "        fibonacci_tuple += (next_fibonacci,)\n",
        "    return fibonacci_tuple[:n]\n",
        "\n",
        "fibonacci_numbers = generate_fibonacci(5)\n",
        "print(fibonacci_numbers)\n"
      ],
      "metadata": {
        "colab": {
          "base_uri": "https://localhost:8080/"
        },
        "id": "k47vSvm9qUZk",
        "outputId": "508dd5f6-1ebf-415b-890b-3c99bb2fc6db"
      },
      "execution_count": 22,
      "outputs": [
        {
          "output_type": "stream",
          "name": "stdout",
          "text": [
            "(0, 1, 1, 2, 3)\n"
          ]
        }
      ]
    },
    {
      "cell_type": "markdown",
      "source": [
        "###42. Create a tuple from user input."
      ],
      "metadata": {
        "id": "B5e3XacnqUI3"
      }
    },
    {
      "cell_type": "code",
      "source": [
        "user_input = input(\"Enter comma-separated values: \")\n",
        "user_tuple = tuple(map(int, user_input.split(',')))\n",
        "print(user_tuple)\n"
      ],
      "metadata": {
        "colab": {
          "base_uri": "https://localhost:8080/"
        },
        "id": "AB9FJEl5qTKo",
        "outputId": "e51628d4-9beb-4c79-9484-b54ec7d95e25"
      },
      "execution_count": 24,
      "outputs": [
        {
          "output_type": "stream",
          "name": "stdout",
          "text": [
            "Enter comma-separated values: 5,12,45,65,8,2,65,45,19\n",
            "(5, 12, 45, 65, 8, 2, 65, 45, 19)\n"
          ]
        }
      ]
    },
    {
      "cell_type": "markdown",
      "source": [
        "###43. Swap two elements in a tuple.\n"
      ],
      "metadata": {
        "id": "ztn6PsunqTyJ"
      }
    },
    {
      "cell_type": "code",
      "source": [
        "def swap_elements_tuple(tup, index1, index2):\n",
        "    tup_list = list(tup)\n",
        "    tup_list[index1], tup_list[index2] = tup_list[index2], tup_list[index1]\n",
        "    return tuple(tup_list)\n",
        "\n",
        "my_tuple = (1, 2, 3, 4, 5)\n",
        "swapped_tuple = swap_elements_tuple(my_tuple, 1, 3)\n",
        "print(swapped_tuple)\n"
      ],
      "metadata": {
        "colab": {
          "base_uri": "https://localhost:8080/"
        },
        "id": "43Tq_g6MqSuB",
        "outputId": "ec9ee7aa-b7a8-4f64-8fd0-5712d86143fb"
      },
      "execution_count": 25,
      "outputs": [
        {
          "output_type": "stream",
          "name": "stdout",
          "text": [
            "(1, 4, 3, 2, 5)\n"
          ]
        }
      ]
    },
    {
      "cell_type": "markdown",
      "source": [
        "###44. Reverse the elements of a tuple."
      ],
      "metadata": {
        "id": "-BZbLHbqqSY4"
      }
    },
    {
      "cell_type": "code",
      "source": [
        "my_tuple = (1, 2, 3, 4, 5)\n",
        "reversed_tuple = my_tuple[::-1]\n",
        "print(reversed_tuple)\n"
      ],
      "metadata": {
        "colab": {
          "base_uri": "https://localhost:8080/"
        },
        "id": "IdfAwezSqRPr",
        "outputId": "fbc3b4ba-2f50-4a86-9a2c-f3b0d01a917a"
      },
      "execution_count": 26,
      "outputs": [
        {
          "output_type": "stream",
          "name": "stdout",
          "text": [
            "(5, 4, 3, 2, 1)\n"
          ]
        }
      ]
    },
    {
      "cell_type": "markdown",
      "source": [
        "###45. Create a tuple of the first `n` powers of 2."
      ],
      "metadata": {
        "id": "BD6P3IRiqRxi"
      }
    },
    {
      "cell_type": "code",
      "source": [
        "n = 5\n",
        "powers_of_2 = tuple(2**i for i in range(n))\n",
        "print(powers_of_2)\n"
      ],
      "metadata": {
        "colab": {
          "base_uri": "https://localhost:8080/"
        },
        "id": "doZzVmsDqQyv",
        "outputId": "6d8475d3-ba31-42d9-d11d-69d7ec37f4e0"
      },
      "execution_count": 27,
      "outputs": [
        {
          "output_type": "stream",
          "name": "stdout",
          "text": [
            "(1, 2, 4, 8, 16)\n"
          ]
        }
      ]
    },
    {
      "cell_type": "markdown",
      "source": [
        "###46. Find the longest string in a tuple of strings."
      ],
      "metadata": {
        "id": "fu07lzQDqQh0"
      }
    },
    {
      "cell_type": "code",
      "source": [
        "string_tuple = (\"apple\", \"banana\", \"cherry\", \"date\")\n",
        "longest_string = max(string_tuple, key=len)\n",
        "print(longest_string)\n"
      ],
      "metadata": {
        "colab": {
          "base_uri": "https://localhost:8080/"
        },
        "id": "UdoawEISquWK",
        "outputId": "b5850b42-fc76-4343-ab4e-6ef040de8e43"
      },
      "execution_count": 28,
      "outputs": [
        {
          "output_type": "stream",
          "name": "stdout",
          "text": [
            "banana\n"
          ]
        }
      ]
    },
    {
      "cell_type": "markdown",
      "source": [
        "###47. Find the shortest string in a tuple of strings."
      ],
      "metadata": {
        "id": "T9EgmC8nq6sN"
      }
    },
    {
      "cell_type": "code",
      "source": [
        "string_tuple = (\"apple\", \"banana\", \"cherry\", \"date\")\n",
        "shortest_string = min(string_tuple, key=len)\n",
        "print(shortest_string)\n"
      ],
      "metadata": {
        "colab": {
          "base_uri": "https://localhost:8080/"
        },
        "id": "T4EQsdm9q7Jl",
        "outputId": "d58a40e0-c22f-460f-9329-f182a1bb7903"
      },
      "execution_count": 29,
      "outputs": [
        {
          "output_type": "stream",
          "name": "stdout",
          "text": [
            "date\n"
          ]
        }
      ]
    },
    {
      "cell_type": "markdown",
      "source": [
        "###48. Create a tuple of the first `n` triangular numbers."
      ],
      "metadata": {
        "id": "8hvkzA1Wq6So"
      }
    },
    {
      "cell_type": "code",
      "source": [
        "def triangular_number(n):\n",
        "    return n * (n + 1) // 2\n",
        "\n",
        "n = 5\n",
        "triangular_numbers = tuple(triangular_number(i) for i in range(1, n + 1))\n",
        "print(triangular_numbers)\n"
      ],
      "metadata": {
        "colab": {
          "base_uri": "https://localhost:8080/"
        },
        "id": "zEZ-A9__q6E2",
        "outputId": "3ec5c9ab-2671-46eb-b8fc-5166d13b4124"
      },
      "execution_count": 30,
      "outputs": [
        {
          "output_type": "stream",
          "name": "stdout",
          "text": [
            "(1, 3, 6, 10, 15)\n"
          ]
        }
      ]
    },
    {
      "cell_type": "markdown",
      "source": [
        "###49. Check if a tuple contains another tuple as a subsequence."
      ],
      "metadata": {
        "id": "nTPRHWq_q5y1"
      }
    },
    {
      "cell_type": "code",
      "source": [
        "def is_subsequence_tuple(subseq, seq):\n",
        "    i, j = 0, 0\n",
        "    while i < len(subseq) and j < len(seq):\n",
        "        if subseq[i] == seq[j]:\n",
        "            i += 1\n",
        "        j += 1\n",
        "    return i == len(subseq)\n",
        "\n",
        "tuple1 = (1, 2, 3, 4, 5, 6)\n",
        "tuple2 = (2, 4, 6)\n",
        "is_sub = is_subsequence_tuple(tuple2, tuple1)\n",
        "print(is_sub)\n"
      ],
      "metadata": {
        "colab": {
          "base_uri": "https://localhost:8080/"
        },
        "id": "6D_TSIhcq5a4",
        "outputId": "7a24d9e2-5ded-4822-d376-455d54159c48"
      },
      "execution_count": 31,
      "outputs": [
        {
          "output_type": "stream",
          "name": "stdout",
          "text": [
            "True\n"
          ]
        }
      ]
    },
    {
      "cell_type": "markdown",
      "source": [
        "###50. Create a tuple of alternating 1s and 0s of length `n`."
      ],
      "metadata": {
        "id": "6xhmWSuRq5Fh"
      }
    },
    {
      "cell_type": "code",
      "source": [
        "n = 6\n",
        "alternating_tuple = tuple(1 if i % 2 == 0 else 0 for i in range(n))\n",
        "print(alternating_tuple)\n"
      ],
      "metadata": {
        "colab": {
          "base_uri": "https://localhost:8080/"
        },
        "id": "rgaaYvfqq9U3",
        "outputId": "53eb670c-0da3-4be7-8240-dfefad161722"
      },
      "execution_count": 32,
      "outputs": [
        {
          "output_type": "stream",
          "name": "stdout",
          "text": [
            "(1, 0, 1, 0, 1, 0)\n"
          ]
        }
      ]
    },
    {
      "cell_type": "code",
      "source": [],
      "metadata": {
        "id": "yyf-zWFisrp4"
      },
      "execution_count": null,
      "outputs": []
    }
  ]
}