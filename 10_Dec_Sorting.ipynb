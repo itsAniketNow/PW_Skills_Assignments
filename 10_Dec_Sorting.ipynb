{
  "nbformat": 4,
  "nbformat_minor": 0,
  "metadata": {
    "colab": {
      "provenance": []
    },
    "kernelspec": {
      "name": "python3",
      "display_name": "Python 3"
    },
    "language_info": {
      "name": "python"
    }
  },
  "cells": [
    {
      "cell_type": "markdown",
      "source": [
        "# Sorting"
      ],
      "metadata": {
        "id": "1vgbAxlGhj4V"
      }
    },
    {
      "cell_type": "markdown",
      "source": [
        "##Problem 1.Given an array of n numbers, give an algorithm which gives the element appearing maximum number of times?"
      ],
      "metadata": {
        "id": "rQ1cKZbehj1e"
      }
    },
    {
      "cell_type": "markdown",
      "source": [
        "To solve this problem, we can use sorting along with counting. Here's the algorithm:\n",
        "\n",
        "Sort the array.\n",
        "Iterate through the sorted array and count the occurrences of each element.\n",
        "Keep track of the element with the maximum count."
      ],
      "metadata": {
        "id": "SmBLfkPkhtVO"
      }
    },
    {
      "cell_type": "code",
      "source": [
        "def find_max_occurrence(arr):\n",
        "    arr.sort()\n",
        "    max_count = 0\n",
        "    max_element = None\n",
        "    current_count = 1\n",
        "\n",
        "    for i in range(1, len(arr)):\n",
        "        if arr[i] == arr[i - 1]:\n",
        "            current_count += 1\n",
        "        else:\n",
        "            if current_count > max_count:\n",
        "                max_count = current_count\n",
        "                max_element = arr[i - 1]\n",
        "            current_count = 1\n",
        "\n",
        "    # Check the last element\n",
        "    if current_count > max_count:\n",
        "        max_count = current_count\n",
        "        max_element = arr[-1]\n",
        "\n",
        "    return max_element\n",
        "\n",
        "# Test the function\n",
        "arr = [3, 2, 3, 4, 2, 2, 4, 4, 2, 2, 2]\n",
        "print(\"Element appearing maximum number of times:\", find_max_occurrence(arr))"
      ],
      "metadata": {
        "colab": {
          "base_uri": "https://localhost:8080/"
        },
        "id": "6vh1WMFrhjQH",
        "outputId": "7174ed52-6a94-444a-dbab-371c8f69c191"
      },
      "execution_count": null,
      "outputs": [
        {
          "output_type": "stream",
          "name": "stdout",
          "text": [
            "Element appearing maximum number of times: 2\n"
          ]
        }
      ]
    },
    {
      "cell_type": "markdown",
      "source": [
        "##Problem 2 : We are given a list of n-1 integers and these integers are in the range of 1 to n . There are no duplicates in the list. One of the integers is missing in the list. Give an algorithm to find that element Ex: [1,2,4,6,3,7,8] 5 is the missing num."
      ],
      "metadata": {
        "id": "_sls2XdBhyS9"
      }
    },
    {
      "cell_type": "code",
      "source": [
        "# Sorting helps to solve this problem efficiently. Here's the algorithm:\n",
        "\n",
        "# Sort the list of integers.\n",
        "# Iterate through the sorted list to find the missing element.\n",
        "\n",
        "def find_missing_element(arr):\n",
        "    arr.sort()\n",
        "    for i in range(len(arr)):\n",
        "        if arr[i] != i + 1:\n",
        "            return i + 1\n",
        "    return -1  # Missing element not found\n",
        "\n",
        "# Test the function\n",
        "arr = [1, 2, 4, 6, 3, 7, 8]\n",
        "print(\"Missing element:\", find_missing_element(arr))"
      ],
      "metadata": {
        "colab": {
          "base_uri": "https://localhost:8080/"
        },
        "id": "PxCknmnlh6DY",
        "outputId": "f1a35ca0-49c4-44d4-9ca0-26f392118fe9"
      },
      "execution_count": null,
      "outputs": [
        {
          "output_type": "stream",
          "name": "stdout",
          "text": [
            "Missing element: 5\n"
          ]
        }
      ]
    },
    {
      "cell_type": "markdown",
      "source": [
        "##Problem 3 : Given an array of n positive numbers. All numbers occurs even number of times except 1 which occurs odd number of times. Find that number in O(n) time and O(1) space. Ex: [1,2,3,2,3,1,3]. 3 is repeats odd times."
      ],
      "metadata": {
        "id": "Jvri9vlUhyPt"
      }
    },
    {
      "cell_type": "markdown",
      "source": [
        "## Answer\n",
        "\n",
        "To find the number that occurs an odd number of times in the array while maintaining O(n) time complexity and O(1) space complexity, we can utilize the XOR operation.\n",
        "\n",
        "The property of the XOR operation is such that XORing a number with itself results in 0, and XORing any number with 0 results in the number itself.\n",
        "\n",
        "Here's how the algorithm works:\n",
        "\n",
        "Initialize a variable result to 0.\n",
        "Iterate through the array and XOR each element with the result.\n",
        "The result will be the number that occurs an odd number of times, as the even occurrences will cancel each other out due to the XOR operation."
      ],
      "metadata": {
        "id": "V0Jqd3aoiRoA"
      }
    },
    {
      "cell_type": "code",
      "source": [
        "def find_odd_occurrence(arr):\n",
        "    # Initialize the result\n",
        "    result = 0\n",
        "\n",
        "    # XOR all elements of the array\n",
        "    for num in arr:\n",
        "        result ^= num\n",
        "\n",
        "    return result\n",
        "\n",
        "# Test the function\n",
        "arr = [1, 2, 3, 2, 3, 1, 3]\n",
        "print(\"Number occurring odd number of times:\", find_odd_occurrence(arr))"
      ],
      "metadata": {
        "colab": {
          "base_uri": "https://localhost:8080/"
        },
        "id": "TM8z6oF3iIMB",
        "outputId": "5813ff9f-7734-4404-8d18-a20e3dcf9e28"
      },
      "execution_count": null,
      "outputs": [
        {
          "output_type": "stream",
          "name": "stdout",
          "text": [
            "Number occurring odd number of times: 3\n"
          ]
        }
      ]
    },
    {
      "cell_type": "markdown",
      "source": [
        "##Problem 4 : Given an array of n elements. Find two elements in the array such that their sum is equal to given element K."
      ],
      "metadata": {
        "id": "FuOW2j_HiHyx"
      }
    },
    {
      "cell_type": "code",
      "source": [
        "# Sorting the array allows us to efficiently find the two elements with the given sum.\n",
        "def find_two_elements_with_sum(arr, K):\n",
        "    arr.sort()\n",
        "    left = 0\n",
        "    right = len(arr) - 1\n",
        "\n",
        "    while left < right:\n",
        "        current_sum = arr[left] + arr[right]\n",
        "        if current_sum == K:\n",
        "            return arr[left], arr[right]\n",
        "        elif current_sum < K:\n",
        "            left += 1\n",
        "        else:\n",
        "            right -= 1\n",
        "\n",
        "    return None, None  # No such elements found\n",
        "\n",
        "# Test the function\n",
        "arr = [1, 4, 45, 6, 10, -8]\n",
        "K = 16\n",
        "result1, result2 = find_two_elements_with_sum(arr, K)\n",
        "print(\"Elements with sum equal to\", K, \"are:\", result1, \"and\", result2)"
      ],
      "metadata": {
        "colab": {
          "base_uri": "https://localhost:8080/"
        },
        "id": "yBuwavtmieKy",
        "outputId": "f4fd4748-e9f8-49ab-990e-81d0f67f09ad"
      },
      "execution_count": null,
      "outputs": [
        {
          "output_type": "stream",
          "name": "stdout",
          "text": [
            "Elements with sum equal to 16 are: 6 and 10\n"
          ]
        }
      ]
    },
    {
      "cell_type": "markdown",
      "source": [
        "##Problem 5 : Given an array of both positive and negative numbers, find two numbers such that their sum is closest to 0. Ex: [ 1 ,60 ,-10, 70, -80,85]. Ans : -80,85."
      ],
      "metadata": {
        "id": "2LMsr9lyid6s"
      }
    },
    {
      "cell_type": "code",
      "source": [
        "# Sorting the array enables us to efficiently find the two numbers whose sum is closest to 0.\n",
        "def find_two_numbers_closest_to_zero(arr):\n",
        "    arr.sort()\n",
        "    left = 0\n",
        "    right = len(arr) - 1\n",
        "    min_sum = float('inf')\n",
        "    pair = ()\n",
        "\n",
        "    while left < right:\n",
        "        current_sum = arr[left] + arr[right]\n",
        "        if abs(current_sum) < abs(min_sum):\n",
        "            min_sum = current_sum\n",
        "            pair = (arr[left], arr[right])\n",
        "\n",
        "        if current_sum < 0:\n",
        "            left += 1\n",
        "        else:\n",
        "            right -= 1\n",
        "\n",
        "    return pair\n",
        "\n",
        "# Test the function\n",
        "arr = [1, 60, -10, 70, -80, 85]\n",
        "result = find_two_numbers_closest_to_zero(arr)\n",
        "print(\"Two numbers closest to zero:\", result)"
      ],
      "metadata": {
        "colab": {
          "base_uri": "https://localhost:8080/"
        },
        "id": "fqBBdnyCimN_",
        "outputId": "885ce276-2b01-49b3-b369-561635eefce4"
      },
      "execution_count": null,
      "outputs": [
        {
          "output_type": "stream",
          "name": "stdout",
          "text": [
            "Two numbers closest to zero: (-80, 85)\n"
          ]
        }
      ]
    },
    {
      "cell_type": "markdown",
      "source": [
        "##Problem 6 : Given an array of n elements . Find three elements such that their sum is equal to the given number."
      ],
      "metadata": {
        "id": "o83bGY9fhxAW"
      }
    },
    {
      "cell_type": "code",
      "source": [
        "# Sorting helps to efficiently find the three elements with the given sum.\n",
        "\n",
        "def find_three_elements_with_sum(arr, target):\n",
        "    arr.sort()\n",
        "    n = len(arr)\n",
        "\n",
        "    for i in range(n - 2):\n",
        "        left = i + 1\n",
        "        right = n - 1\n",
        "\n",
        "        while left < right:\n",
        "            current_sum = arr[i] + arr[left] + arr[right]\n",
        "            if current_sum == target:\n",
        "                return arr[i], arr[left], arr[right]\n",
        "            elif current_sum < target:\n",
        "                left += 1\n",
        "            else:\n",
        "                right -= 1\n",
        "\n",
        "    return None, None, None  # No such elements found\n",
        "\n",
        "# Test the function\n",
        "arr = [1, 4, 45, 6, 10, 8]\n",
        "target = 22\n",
        "result1, result2, result3 = find_three_elements_with_sum(arr, target)\n",
        "print(\"Three elements with sum equal to\", target, \"are:\", result1, result2, result3)"
      ],
      "metadata": {
        "colab": {
          "base_uri": "https://localhost:8080/"
        },
        "id": "K3sOOtIShx4V",
        "outputId": "82219287-4c9e-4ec7-97e7-3525f6730688"
      },
      "execution_count": null,
      "outputs": [
        {
          "output_type": "stream",
          "name": "stdout",
          "text": [
            "Three elements with sum equal to 22 are: 4 8 10\n"
          ]
        }
      ]
    },
    {
      "cell_type": "markdown",
      "source": [
        "##Problem 7 : Given an array of n elements . Find three elements i, j, k in the array such that i * i + j * j = k*k."
      ],
      "metadata": {
        "id": "rY_dfQPwi2W8"
      }
    },
    {
      "cell_type": "markdown",
      "source": [
        "### Answer:\n",
        "To solve this problem efficiently, we can use a two-pointer approach along with sorting the array. The idea is to fix one element k at a time and then use two pointers to find i and j such that i * i + j * j = k * k.\n",
        "\n",
        "Here's the algorithm:\n",
        "\n",
        "Sort the array in non-decreasing order.\n",
        "Fix one element k at a time and use two pointers (left and right) to find i and j.\n",
        "Start with k = n - 1 (largest element) and search for i and j such that i * i + j * j = k * k.\n",
        "Move the pointers left and right towards each other to search for i and j.\n",
        "If i * i + j * j < k * k, increment left. If i * i + j * j > k * k, decrement right. If i * i + j * j == k * k, return the triplet (i, j, k).\n",
        "Repeat steps 3-5 until left < right."
      ],
      "metadata": {
        "id": "ad0-yFpejZgQ"
      }
    },
    {
      "cell_type": "code",
      "source": [
        "def find_pythagorean_triplet(arr):\n",
        "    # Sort the array in non-decreasing order\n",
        "    arr.sort()\n",
        "    n = len(arr)\n",
        "\n",
        "    # Fix one element k at a time\n",
        "    for k in range(n - 1, 1, -1):\n",
        "        left = 0\n",
        "        right = k - 1\n",
        "\n",
        "        # Use two pointers to find i and j\n",
        "        while left < right:\n",
        "            # Calculate squares of elements at left, right, and k\n",
        "            left_sq = arr[left] * arr[left]\n",
        "            right_sq = arr[right] * arr[right]\n",
        "            k_sq = arr[k] * arr[k]\n",
        "\n",
        "            # Check if i*i + j*j equals k*k\n",
        "            if left_sq + right_sq == k_sq:\n",
        "                return arr[left], arr[right], arr[k]\n",
        "            elif left_sq + right_sq < k_sq:\n",
        "                left += 1\n",
        "            else:\n",
        "                right -= 1\n",
        "\n",
        "    return None, None, None  # No such triplet found\n",
        "\n",
        "# Test the function\n",
        "arr = [3, 1, 4, 6, 5]\n",
        "result1, result2, result3 = find_pythagorean_triplet(arr)\n",
        "print(\"Pythagorean triplet:\", result1, result2, result3)"
      ],
      "metadata": {
        "colab": {
          "base_uri": "https://localhost:8080/"
        },
        "id": "FgMljEOci2A0",
        "outputId": "33bd9f1b-ce05-4520-e5d2-800ff7cbbaa3"
      },
      "execution_count": null,
      "outputs": [
        {
          "output_type": "stream",
          "name": "stdout",
          "text": [
            "Pythagorean triplet: 3 4 5\n"
          ]
        }
      ]
    },
    {
      "cell_type": "markdown",
      "source": [
        "##Problem 8 : An element is a majority if it appears more than n/2 times. Give an algorithm takes an array of n element as argument and identifies a majority (if it exists)."
      ],
      "metadata": {
        "id": "_aqWSCNMjGmH"
      }
    },
    {
      "cell_type": "code",
      "source": [
        "# Sorting the array allows us to efficiently identify the majority element.\n",
        "\n",
        "def find_majority_element(arr):\n",
        "    arr.sort()\n",
        "    n = len(arr)\n",
        "    candidate = arr[n // 2]\n",
        "\n",
        "    if arr.count(candidate) > n // 2:\n",
        "        return candidate\n",
        "    else:\n",
        "        return \"No majority element\"\n",
        "\n",
        "# Test the function\n",
        "arr = [2, 2, 3, 5, 2, 2, 6]\n",
        "print(\"Majority element:\", find_majority_element(arr))\n",
        "##"
      ],
      "metadata": {
        "colab": {
          "base_uri": "https://localhost:8080/"
        },
        "id": "fIO476WEhx1V",
        "outputId": "070bc66f-1108-4bcc-f6c3-74ea715e52ee"
      },
      "execution_count": null,
      "outputs": [
        {
          "output_type": "stream",
          "name": "stdout",
          "text": [
            "Majority element: 2\n"
          ]
        }
      ]
    },
    {
      "cell_type": "markdown",
      "source": [
        "##Problem 9 : Given n × n matrix, and in each row all 1’s are followed by 0’s. Find the row with the maximum number of 0’s."
      ],
      "metadata": {
        "id": "9b8keYYPhxcm"
      }
    },
    {
      "cell_type": "markdown",
      "source": [
        "To solve this problem, we can traverse the matrix row by row and count the number of 0's in each row. We then keep track of the row with the maximum number of 0's encountered so far."
      ],
      "metadata": {
        "id": "avwS_4y3keB9"
      }
    },
    {
      "cell_type": "code",
      "source": [
        "def max_zero_row(matrix):\n",
        "    max_zeros_row = -1\n",
        "    max_zeros_count = -1\n",
        "\n",
        "    for i in range(len(matrix)):\n",
        "        zeros_count = matrix[i].count(0)\n",
        "        if zeros_count > max_zeros_count:\n",
        "            max_zeros_count = zeros_count\n",
        "            max_zeros_row = i\n",
        "\n",
        "    return max_zeros_row\n",
        "\n",
        "# Test the function\n",
        "matrix = [\n",
        "    [1, 1, 1, 0],\n",
        "    [1, 1, 0, 0],\n",
        "    [1, 0, 0, 0],\n",
        "    [1, 1, 1, 1]\n",
        "]\n",
        "print(\"Row with the maximum number of zeros:\", max_zero_row(matrix))"
      ],
      "metadata": {
        "id": "fJPipty0hjCf",
        "colab": {
          "base_uri": "https://localhost:8080/"
        },
        "outputId": "4cc11503-86e4-4068-bbf9-53d03f41d8a3"
      },
      "execution_count": 11,
      "outputs": [
        {
          "output_type": "stream",
          "name": "stdout",
          "text": [
            "Row with the maximum number of zeros: 2\n"
          ]
        }
      ]
    },
    {
      "cell_type": "markdown",
      "source": [
        "##Problem 10 : Sort an array of 0’s, 1’s and 2’s [or R’s, G’s and B’s]: Given an array A[] consisting of 0’s, 1’s and 2’s, give an algorithm for sorting A[].The algorithm should put all 0’s first, then all 1’s and finally all 2’s at the end. Example Input = {0,1,1,0,1,2,1,2,0,0,0,1}, Output = {0,0,0,0,0,1,1,1,1,1,2,2}"
      ],
      "metadata": {
        "id": "8qbw_657klMB"
      }
    },
    {
      "cell_type": "markdown",
      "source": [
        "To sort an array of 0's, 1's, and 2's, we can use the Dutch National Flag algorithm. The idea is to partition the array into three parts: 0's, 1's, and 2's. We maintain three pointers: low for 0's, mid for 1's, and high for 2's."
      ],
      "metadata": {
        "id": "iPRZEpbdkt3S"
      }
    },
    {
      "cell_type": "code",
      "source": [
        "def sort_colors(nums):\n",
        "    low = 0\n",
        "    mid = 0\n",
        "    high = len(nums) - 1\n",
        "\n",
        "    while mid <= high:\n",
        "        if nums[mid] == 0:\n",
        "            nums[low], nums[mid] = nums[mid], nums[low]\n",
        "            low += 1\n",
        "            mid += 1\n",
        "        elif nums[mid] == 1:\n",
        "            mid += 1\n",
        "        else:\n",
        "            nums[mid], nums[high] = nums[high], nums[mid]\n",
        "            high -= 1\n",
        "\n",
        "# Test the function\n",
        "nums = [0, 1, 1, 0, 1, 2, 1, 2, 0, 0, 0, 1]\n",
        "sort_colors(nums)\n",
        "print(\"Sorted array:\", nums)"
      ],
      "metadata": {
        "colab": {
          "base_uri": "https://localhost:8080/"
        },
        "id": "gOUlktHekh0F",
        "outputId": "ad121d59-45a4-4884-8536-f92f098ced67"
      },
      "execution_count": 12,
      "outputs": [
        {
          "output_type": "stream",
          "name": "stdout",
          "text": [
            "Sorted array: [0, 0, 0, 0, 0, 1, 1, 1, 1, 1, 2, 2]\n"
          ]
        }
      ]
    }
  ]
}